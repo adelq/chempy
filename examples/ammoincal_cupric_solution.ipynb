{
 "cells": [
  {
   "cell_type": "code",
   "execution_count": 1,
   "metadata": {
    "collapsed": false
   },
   "outputs": [],
   "source": [
    "from aqchem.chemistry import Solute, elements\n",
    "from aqchem.equilibria import Equilibrium, EqSystem, charge_balance, atom_balance\n",
    "from IPython.display import Latex, display\n",
    "import periodictable"
   ]
  },
  {
   "cell_type": "code",
   "execution_count": 2,
   "metadata": {
    "collapsed": false
   },
   "outputs": [],
   "source": [
    "def show(s): display(Latex('$'+s+'$'))"
   ]
  },
  {
   "cell_type": "code",
   "execution_count": 3,
   "metadata": {
    "collapsed": false
   },
   "outputs": [],
   "source": [
    "substances = Hp, OHm, NH4p, NH3, Cupp, CuNH31pp, CuNH32pp, CuNH33pp, CuNH34pp, CuNH35pp, H2O, Cu2OH2pp, CuOH2, CuOH3m, CuOH4mm = [#, CuOHp, CuOH2, =\n",
    "    Solute(n, latex_name=l, formula=periodictable.formula(n)) for n, l in [\n",
    "        ('H{+}', 'H^+'), ('HO{-}', 'OH^-'), ('NH3 + H{+}', 'NH_4^+'),\n",
    "        ('NH3', 'NH_3'), ('Cu{2+}', 'Cu^{2+}'), ('Cu{2+}NH3', 'Cu(NH_3)^{2+}'),\n",
    "        ('Cu{2+}(NH3)2', 'Cu(NH_3)_2^{2+}'), ('Cu{2+}(NH3)3', 'Cu(NH_3)_3^{2+}'),\n",
    "        ('Cu{2+}(NH3)4', 'Cu(NH_3)_4^{2+}'), ('Cu{2+}(NH3)5', 'Cu(NH_3)_5^{2+}'), \n",
    "        ('H2O', 'H_2O'), ('2Cu{2+} + 2HO{-}', 'Cu_2(OH)_2^{2+}'),\n",
    "        ('Cu{2+} + 2HO{-}', 'Cu(OH_2)(s)'),\n",
    "        ('Cu{2+} + 3HO{-}', 'Cu(OH)_3^-'), ('Cu{2+} + 4HO{-}', 'Cu(OH)_4^{2-}'),\n",
    "    ]]\n",
    "CuOH2.solid = True"
   ]
  },
  {
   "cell_type": "code",
   "execution_count": 4,
   "metadata": {
    "collapsed": false
   },
   "outputs": [
    {
     "data": {
      "text/latex": [
       "$H^+, OH^-, NH_4^+, NH_3, Cu^{2+}, Cu(NH_3)^{2+}, Cu(NH_3)_2^{2+}, Cu(NH_3)_3^{2+}, Cu(NH_3)_4^{2+}, Cu(NH_3)_5^{2+}, H_2O, Cu_2(OH)_2^{2+}, Cu(OH_2)(s), Cu(OH)_3^-, Cu(OH)_4^{2-}$"
      ],
      "text/plain": [
       "<IPython.core.display.Latex object>"
      ]
     },
     "metadata": {},
     "output_type": "display_data"
    }
   ],
   "source": [
    "show(', '.join([s.latex_name for s in substances])) # + r'(\\mathrm{%s})' % (str(s.formula.atoms) + ', ' + str(s.charge))"
   ]
  },
  {
   "cell_type": "code",
   "execution_count": 5,
   "metadata": {
    "collapsed": false
   },
   "outputs": [],
   "source": [
    "init_conc = {Hp: 1e-7, OHm: 1e-7, NH4p: 0, NH3: 1.0, Cupp: 1e-2, \n",
    "            CuNH31pp: 0, CuNH32pp: 0, CuNH33pp: 0, CuNH34pp: 0, CuNH35pp: 0,\n",
    "            H2O: 55.5, Cu2OH2pp: 0, CuOH2: 0, CuOH3m: 0, CuOH4mm: 0}"
   ]
  },
  {
   "cell_type": "code",
   "execution_count": 6,
   "metadata": {
    "collapsed": false
   },
   "outputs": [],
   "source": [
    "H2O_c = init_conc[H2O]\n",
    "w_autop = Equilibrium({H2O: 1}, {Hp: 1, OHm: 1}, 10**-14/H2O_c)\n",
    "NH4p_pr = Equilibrium({NH4p: 1}, {Hp: 1, NH3: 1}, 10**-9.26)\n",
    "CuOH2_s = Equilibrium({CuOH2: 1}, {Cupp: 1, OHm: 2}, 10**-18.8)\n",
    "CuOH_B3 = Equilibrium({CuOH2: 1, OHm: 1}, {CuOH3m: 1}, 10**-3.6)\n",
    "CuOH_B4 = Equilibrium({CuOH2: 1, OHm: 2}, {CuOH4mm: 1}, 10**-2.7)\n",
    "Cu2OH2 = Equilibrium({Cupp: 2, H2O: 2}, {Cu2OH2pp: 1, Hp: 2}, 10**4.3 * H2O_c**2)\n",
    "CuNH3_B1 = Equilibrium({CuNH31pp: 1}, {Cupp: 1, NH3: 1}, 10**4.3)\n",
    "CuNH3_B2 = Equilibrium({CuNH32pp: 1}, {Cupp: 1, NH3: 2}, 10**7.9)\n",
    "CuNH3_B3 = Equilibrium({CuNH33pp: 1}, {Cupp: 1, NH3: 3}, 10**10.8)\n",
    "CuNH3_B4 = Equilibrium({CuNH34pp: 1}, {Cupp: 1, NH3: 4}, 10**13.0)\n",
    "CuNH3_B5 = Equilibrium({CuNH35pp: 1}, {Cupp: 1, NH3: 5}, 10**12.4)\n",
    "equilibria = w_autop, NH4p_pr, CuNH3_B1, CuNH3_B2, CuNH3_B3, CuNH3_B4, CuNH3_B5, Cu2OH2, CuOH2_s, CuOH_B3, CuOH_B4"
   ]
  },
  {
   "cell_type": "code",
   "execution_count": 7,
   "metadata": {
    "collapsed": false
   },
   "outputs": [
    {
     "data": {
      "text/latex": [
       "$H_2O \\rightleftharpoons H^+ + OH^-$"
      ],
      "text/plain": [
       "<IPython.core.display.Latex object>"
      ]
     },
     "metadata": {},
     "output_type": "display_data"
    },
    {
     "data": {
      "text/latex": [
       "$NH_4^+ \\rightleftharpoons H^+ + NH_3$"
      ],
      "text/plain": [
       "<IPython.core.display.Latex object>"
      ]
     },
     "metadata": {},
     "output_type": "display_data"
    },
    {
     "data": {
      "text/latex": [
       "$Cu(NH_3)^{2+} \\rightleftharpoons Cu^{2+} + NH_3$"
      ],
      "text/plain": [
       "<IPython.core.display.Latex object>"
      ]
     },
     "metadata": {},
     "output_type": "display_data"
    },
    {
     "data": {
      "text/latex": [
       "$Cu(NH_3)_2^{2+} \\rightleftharpoons Cu^{2+} + 2 NH_3$"
      ],
      "text/plain": [
       "<IPython.core.display.Latex object>"
      ]
     },
     "metadata": {},
     "output_type": "display_data"
    },
    {
     "data": {
      "text/latex": [
       "$Cu(NH_3)_3^{2+} \\rightleftharpoons Cu^{2+} + 3 NH_3$"
      ],
      "text/plain": [
       "<IPython.core.display.Latex object>"
      ]
     },
     "metadata": {},
     "output_type": "display_data"
    },
    {
     "data": {
      "text/latex": [
       "$Cu(NH_3)_4^{2+} \\rightleftharpoons Cu^{2+} + 4 NH_3$"
      ],
      "text/plain": [
       "<IPython.core.display.Latex object>"
      ]
     },
     "metadata": {},
     "output_type": "display_data"
    },
    {
     "data": {
      "text/latex": [
       "$Cu(NH_3)_5^{2+} \\rightleftharpoons Cu^{2+} + 5 NH_3$"
      ],
      "text/plain": [
       "<IPython.core.display.Latex object>"
      ]
     },
     "metadata": {},
     "output_type": "display_data"
    },
    {
     "data": {
      "text/latex": [
       "$2 H_2O + 2 Cu^{2+} \\rightleftharpoons Cu_2(OH)_2^{2+} + 2 H^+$"
      ],
      "text/plain": [
       "<IPython.core.display.Latex object>"
      ]
     },
     "metadata": {},
     "output_type": "display_data"
    },
    {
     "data": {
      "text/latex": [
       "$Cu(OH_2)(s) \\rightleftharpoons Cu^{2+} + 2 OH^-$"
      ],
      "text/plain": [
       "<IPython.core.display.Latex object>"
      ]
     },
     "metadata": {},
     "output_type": "display_data"
    },
    {
     "data": {
      "text/latex": [
       "$Cu(OH_2)(s) + OH^- \\rightleftharpoons Cu(OH)_3^-$"
      ],
      "text/plain": [
       "<IPython.core.display.Latex object>"
      ]
     },
     "metadata": {},
     "output_type": "display_data"
    },
    {
     "data": {
      "text/latex": [
       "$Cu(OH_2)(s) + 2 OH^- \\rightleftharpoons Cu(OH)_4^{2-}$"
      ],
      "text/plain": [
       "<IPython.core.display.Latex object>"
      ]
     },
     "metadata": {},
     "output_type": "display_data"
    }
   ],
   "source": [
    "for eq in equilibria:\n",
    "    show(eq.latex())"
   ]
  },
  {
   "cell_type": "code",
   "execution_count": 8,
   "metadata": {
    "collapsed": true
   },
   "outputs": [],
   "source": [
    "reaction_system = EqSystem(equilibria, substances)"
   ]
  },
  {
   "cell_type": "code",
   "execution_count": 9,
   "metadata": {
    "collapsed": false
   },
   "outputs": [],
   "source": [
    "import sympy as sp\n",
    "#sp.init_printing()\n",
    "y = sp.symbols('y:'+str(len(substances)))\n",
    "s = sp.symbols('s')"
   ]
  },
  {
   "cell_type": "markdown",
   "metadata": {},
   "source": [
    "ys = []\n",
    "class LatexSymbol(sp.Symbol):\n",
    "    def _print_latex(self):\n",
    "        return self.name\n",
    "  \n",
    "for sbs in reaction_system.substances:\n",
    "    ys.append(LatexSymbol('[' + sbs.latex_name + ']'))\n",
    "    print(ys[-1].name)\n",
    "ys"
   ]
  },
  {
   "cell_type": "code",
   "execution_count": 10,
   "metadata": {
    "collapsed": false
   },
   "outputs": [
    {
     "data": {
      "text/plain": [
       "[-1.8018018018018e-16*s + y0*y1/y10,\n",
       " -5.49540873857625e-10*s + y0*y3/y2,\n",
       " -19952.6231496888*s + y3*y4/y5,\n",
       " -79432823.4724282*s**2 + y3**2*y4/y6,\n",
       " -63095734448.0194*s**3 + y3**3*y4/y7,\n",
       " -10000000000000.0*s**4 + y3**4*y4/y8,\n",
       " -2511886431509.58*s**5 + y3**5*y4/y9,\n",
       " y0**2*y11/(y10**2*y4**2) - 61459067.4568289/s,\n",
       " -1.58489319246111e-19*s**3/y12 + y1**2*y4/y12,\n",
       " -0.000251188643150958/y12 + y13/(y1*y12),\n",
       " y14/(y1**2*y12) - 0.00199526231496888/(s*y12)]"
      ]
     },
     "execution_count": 10,
     "metadata": {},
     "output_type": "execute_result"
    }
   ],
   "source": [
    "qk = reaction_system.qk(y, scaling=s)\n",
    "qk"
   ]
  },
  {
   "cell_type": "code",
   "execution_count": 11,
   "metadata": {
    "collapsed": false
   },
   "outputs": [
    {
     "data": {
      "text/plain": [
       "y0 - y1 + 2*y11 - y13 - 2*y14 + y2 + 2*y4 + 2*y5 + 2*y6 + 2*y7 + 2*y8 + 2*y9"
      ]
     },
     "execution_count": 11,
     "metadata": {},
     "output_type": "execute_result"
    }
   ],
   "source": [
    "charge_balance(substances, y)"
   ]
  },
  {
   "cell_type": "code",
   "execution_count": 12,
   "metadata": {
    "collapsed": false
   },
   "outputs": [
    {
     "data": {
      "text/plain": [
       "y0 + y1 + 2*y10 + 2*y11 + 2*y12 + 3*y13 + 4*y14 + 4*y2 + 3*y3 + 3*y5 + 6*y6 + 9*y7 + 12*y8 + 15*y9"
      ]
     },
     "execution_count": 12,
     "metadata": {},
     "output_type": "execute_result"
    }
   ],
   "source": [
    "atom_balance(substances, y, 1)"
   ]
  },
  {
   "cell_type": "code",
   "execution_count": 13,
   "metadata": {
    "collapsed": false
   },
   "outputs": [
    {
     "data": {
      "text/plain": [
       "[y0*y1/y10,\n",
       " y0*y3/y2,\n",
       " y3*y4/y5,\n",
       " y3**2*y4/y6,\n",
       " y3**3*y4/y7,\n",
       " y3**4*y4/y8,\n",
       " y3**5*y4/y9,\n",
       " y0**2*y11/(y10**2*y4**2),\n",
       " y1**2*y4/y12,\n",
       " y13/(y1*y12),\n",
       " y14/(y1**2*y12)]"
      ]
     },
     "execution_count": 13,
     "metadata": {},
     "output_type": "execute_result"
    }
   ],
   "source": [
    "reaction_system.equilibrium_quotients(y)"
   ]
  },
  {
   "cell_type": "code",
   "execution_count": 14,
   "metadata": {
    "collapsed": false
   },
   "outputs": [
    {
     "data": {
      "text/plain": [
       "((4, 15),\n",
       " [1, 7, 8, 29],\n",
       " array([[ 1,  1,  4,  3,  0,  3,  6,  9, 12, 15,  2,  2,  2,  3,  4],\n",
       "        [ 0,  0,  1,  1,  0,  1,  2,  3,  4,  5,  0,  0,  0,  0,  0],\n",
       "        [ 0,  1,  0,  0,  0,  0,  0,  0,  0,  0,  1,  2,  2,  3,  4],\n",
       "        [ 0,  0,  0,  0,  1,  1,  1,  1,  1,  1,  0,  2,  1,  1,  1]]),\n",
       " [1, -1, 1, 0, 2, 2, 2, 2, 2, 2, 0, 2, 0, -1, -2])"
      ]
     },
     "execution_count": 14,
     "metadata": {},
     "output_type": "execute_result"
    }
   ],
   "source": [
    "chg_vec = reaction_system.charge_balance_vector()\n",
    "atm_vecs, atm_nrs = reaction_system.atom_balance_vectors()\n",
    "import numpy as np\n",
    "arr = np.array(atm_vecs)\n",
    "arr.shape, atm_nrs, arr, chg_vec"
   ]
  },
  {
   "cell_type": "code",
   "execution_count": 15,
   "metadata": {
    "collapsed": false
   },
   "outputs": [
    {
     "data": {
      "text/plain": [
       "(Matrix([\n",
       " [1, -1, 1, 0, 2, 2, 2, 2,  2,  2, 0, 2, 0, -1, -2],\n",
       " [1,  1, 4, 3, 0, 3, 6, 9, 12, 15, 2, 2, 2,  3,  4],\n",
       " [0,  0, 1, 1, 0, 1, 2, 3,  4,  5, 0, 0, 0,  0,  0],\n",
       " [0,  1, 0, 0, 0, 0, 0, 0,  0,  0, 1, 2, 2,  3,  4],\n",
       " [0,  0, 0, 0, 1, 1, 1, 1,  1,  1, 0, 2, 1,  1,  1]]), Matrix([\n",
       " [1, 0, 0, -1, 0, -1, -2, -3, -4, -5, 1, 0, 0, 0, 0],\n",
       " [0, 1, 0,  0, 0,  0,  0,  0,  0,  0, 1, 2, 2, 3, 4],\n",
       " [0, 0, 1,  1, 0,  1,  2,  3,  4,  5, 0, 0, 0, 0, 0],\n",
       " [0, 0, 0,  0, 1,  1,  1,  1,  1,  1, 0, 2, 1, 1, 1],\n",
       " [0, 0, 0,  0, 0,  0,  0,  0,  0,  0, 0, 0, 0, 0, 0]]), [0, 1, 2, 4])"
      ]
     },
     "execution_count": 15,
     "metadata": {},
     "output_type": "execute_result"
    }
   ],
   "source": [
    "import sympy\n",
    "M = sympy.Matrix([chg_vec] + atm_vecs)\n",
    "rref, pivot = M.rref()\n",
    "M, rref, pivot"
   ]
  },
  {
   "cell_type": "code",
   "execution_count": 16,
   "metadata": {
    "collapsed": false
   },
   "outputs": [
    {
     "data": {
      "text/plain": [
       "([[1, 0, 0, -1, 0, -1, -2, -3, -4, -5, 1, 0, 0, 0, 0],\n",
       "  [0, 1, 0, 0, 0, 0, 0, 0, 0, 0, 1, 2, 2, 3, 4],\n",
       "  [0, 0, 1, 1, 0, 1, 2, 3, 4, 5, 0, 0, 0, 0, 0],\n",
       "  [0, 0, 0, 0, 1, 1, 1, 1, 1, 1, 0, 2, 1, 1, 1]],\n",
       " [0, 1, 2, 4],\n",
       " [0, 1, 7, 29])"
      ]
     },
     "execution_count": 16,
     "metadata": {},
     "output_type": "execute_result"
    }
   ],
   "source": [
    "rref, pivot = reaction_system.rref()\n",
    "rref, pivot, reaction_system.independent_atoms_from_pivot(pivot)"
   ]
  },
  {
   "cell_type": "code",
   "execution_count": 17,
   "metadata": {
    "collapsed": false
   },
   "outputs": [
    {
     "data": {
      "text/plain": [
       "[-1.8018018018018e-16*s + y0*y1/y10,\n",
       " -5.49540873857625e-10*s + y0*y3/y2,\n",
       " -19952.6231496888*s + y3*y4/y5,\n",
       " -79432823.4724282*s**2 + y3**2*y4/y6,\n",
       " -63095734448.0194*s**3 + y3**3*y4/y7,\n",
       " -10000000000000.0*s**4 + y3**4*y4/y8,\n",
       " -2511886431509.58*s**5 + y3**5*y4/y9,\n",
       " y0**2*y11/(y10**2*y4**2) - 61459067.4568289/s,\n",
       " -1.58489319246111e-19*s**3/y12 + y1**2*y4/y12,\n",
       " -0.000251188643150958/y12 + y13/(y1*y12),\n",
       " y14/(y1**2*y12) - 0.00199526231496888/(s*y12)]"
      ]
     },
     "execution_count": 17,
     "metadata": {},
     "output_type": "execute_result"
    }
   ],
   "source": [
    "qk"
   ]
  },
  {
   "cell_type": "code",
   "execution_count": 18,
   "metadata": {
    "collapsed": false
   },
   "outputs": [
    {
     "data": {
      "text/plain": [
       "array([  1.00000000e-07,   1.00000000e-07,   0.00000000e+00,\n",
       "         1.00000000e+00,   1.00000000e-02,   0.00000000e+00,\n",
       "         0.00000000e+00,   0.00000000e+00,   0.00000000e+00,\n",
       "         0.00000000e+00,   5.55000000e+01,   0.00000000e+00,\n",
       "         0.00000000e+00,   0.00000000e+00,   0.00000000e+00])"
      ]
     },
     "execution_count": 18,
     "metadata": {},
     "output_type": "execute_result"
    }
   ],
   "source": [
    "c0arr = np.array([init_conc[k] for k in reaction_system.substances])\n",
    "scaling = 1.0\n",
    "logC = False\n",
    "f, j = reaction_system.num_cb_factory(c0arr*scaling, True, scaling=scaling, logC=logC)\n",
    "c0arr"
   ]
  },
  {
   "cell_type": "code",
   "execution_count": 19,
   "metadata": {
    "collapsed": false
   },
   "outputs": [
    {
     "data": {
      "text/plain": [
       "[3.603622618233721e-26,\n",
       " 10000000001.0,\n",
       " 999999999980048.38,\n",
       " 999999920567177.5,\n",
       " 999936904265553.0,\n",
       " 990000000000001.0,\n",
       " 997488113568491.38,\n",
       " -61459067.4568289,\n",
       " 9.9841510700754004,\n",
       " -25118854315095.801,\n",
       " -99526231516887.984,\n",
       " 0.0,\n",
       " 0.0,\n",
       " 0.0,\n",
       " 1.1449174941446927e-16]"
      ]
     },
     "execution_count": 19,
     "metadata": {},
     "output_type": "execute_result"
    }
   ],
   "source": [
    "x0 = c0arr+1e-17\n",
    "f(np.log(x0) if logC else x0)"
   ]
  },
  {
   "cell_type": "code",
   "execution_count": 20,
   "metadata": {
    "collapsed": false
   },
   "outputs": [
    {
     "data": {
      "text/plain": [
       "[[1.801801801981982e-09, 1.801801801981982e-09, 0.0, 0.0],\n",
       " [1e+17, 0.0, -1.0000000000999999e+27, 10000000001.0],\n",
       " [0.0, 0.0, 0.0, 1000000000000001.0],\n",
       " [0.0, 0.0, 0.0, 2000000000000002.0],\n",
       " [0.0, 0.0, 0.0, 3000000000000003.0],\n",
       " [0.0, 0.0, 0.0, 4000000000000004.0],\n",
       " [0.0, 0.0, 0.0, 5000000000000005.0]]"
      ]
     },
     "execution_count": 20,
     "metadata": {},
     "output_type": "execute_result"
    },
    {
     "data": {
      "image/png": "[encoded data removed]",
      "text/plain": [
       "<matplotlib.figure.Figure at 0x7f5398474910>"
      ]
     },
     "metadata": {},
     "output_type": "display_data"
    }
   ],
   "source": [
    "import matplotlib.pyplot as plt\n",
    "%matplotlib inline\n",
    "jmat = j(np.log(x0) if logC else x0)\n",
    "plt.imshow(jmat, cmap='binary', interpolation='None')\n",
    "jmat[:7, :4].tolist()"
   ]
  },
  {
   "cell_type": "code",
   "execution_count": 21,
   "metadata": {
    "collapsed": false
   },
   "outputs": [
    {
     "data": {
      "text/plain": [
       "15"
      ]
     },
     "execution_count": 21,
     "metadata": {},
     "output_type": "execute_result"
    }
   ],
   "source": [
    "len(substances)"
   ]
  },
  {
   "cell_type": "code",
   "execution_count": 22,
   "metadata": {
    "collapsed": false
   },
   "outputs": [
    {
     "data": {
      "text/plain": [
       "  status: 1\n",
       " success: True\n",
       "     qtf: array([ -1.80115885e+03,   2.16393943e+01,  -8.10622018e+04,\n",
       "         5.63927187e+12,  -8.62075028e+12,   2.00479626e+08,\n",
       "         7.03406415e+08,   8.62981176e+10,   9.06405256e+05,\n",
       "        -3.17536302e+05,  -1.08466885e+05,  -1.16791751e+05,\n",
       "         5.79285219e+04,   4.87840290e+04,   6.14585183e+07])\n",
       "    nfev: 4\n",
       "       r: array([  5.00816365e+01,  -1.65645006e-02,   9.08269205e+01,\n",
       "        -1.83396602e+00,   1.61553868e-09,  -1.99673986e-02,\n",
       "        -3.99347972e-02,  -5.99021958e-02,  -7.98695944e-02,\n",
       "        -9.98369931e-02,   1.32410958e-02,   1.31224758e-08,\n",
       "         0.00000000e+00,   0.00000000e+00,   0.00000000e+00,\n",
       "        -6.54109335e+01,  -2.30007813e-02,   4.64428949e-04,\n",
       "        -2.04853332e-01,   5.05649389e-06,   1.01129878e-05,\n",
       "         1.51694817e-05,   2.02259755e-05,   2.52824694e-05,\n",
       "        -4.12015917e-02,  -3.05759281e-02,  -1.04662749e+01,\n",
       "        -5.09319930e-02,   3.90207014e-02,  -2.19832695e+00,\n",
       "        -1.24505219e+00,   2.14341793e-03,  -1.27987215e+00,\n",
       "        -2.55974430e+00,  -3.83961645e+00,  -5.11948860e+00,\n",
       "        -6.39936075e+00,   5.47505287e-01,   3.20453747e-04,\n",
       "         1.09507141e-01,   5.32894177e-04,  -4.08268032e-04,\n",
       "         8.21073883e+08,   1.47767902e+08,   5.30595604e-02,\n",
       "        -1.64760040e-01,  -2.32212279e+02,  -1.89948753e+09,\n",
       "         3.28728301e+08,  -3.58097480e-10,   5.03250756e-13,\n",
       "         1.71973496e-10,   8.36873963e-13,  -6.41157101e-13,\n",
       "        -1.11506952e+07,  -2.72040360e+00,   3.13199365e+00,\n",
       "         1.91706336e+03,   5.46817366e+09,   1.14190351e+08,\n",
       "        -3.88328541e-09,  -1.78792564e-07,  -8.95315822e-08,\n",
       "        -8.87336250e-08,  -9.04059451e-08,  -1.18478958e+05,\n",
       "        -8.65308593e-05,  -4.41394137e-02,  -1.26405781e+05,\n",
       "        -2.47471510e+03,   2.52364342e-06,  -1.68840935e-05,\n",
       "        -9.62371578e-06,  -8.44607405e-06,  -8.43590324e-06,\n",
       "         3.56845032e+04,  -1.69242104e-01,  -4.88706393e+05,\n",
       "        -8.50459265e+03,  -1.67578977e-05,   5.60697493e-05,\n",
       "         3.58815813e-05,   2.80616171e-05,   2.79940797e-05,\n",
       "         7.68963813e+05,  -1.42060258e+07,  -1.85412356e+05,\n",
       "        -1.16649346e-06,   2.60296044e-06,   1.84768319e-06,\n",
       "         1.30334009e-06,   1.29864303e-06,  -5.22567324e+02,\n",
       "        -1.17048875e+01,   9.72820505e-03,  -1.99384167e+00,\n",
       "        -1.02193346e+00,  -9.90067131e-01,  -1.00736339e+00,\n",
       "         2.36132024e+00,  -4.96557474e-01,  -7.33713633e-04,\n",
       "         2.24645530e-01,   2.72821504e-03,  -5.08408477e-03,\n",
       "        -1.46284320e+00,  -1.37922889e+00,  -1.11447903e+00,\n",
       "        -2.05667706e+00,  -2.74062630e+00,   1.45649843e+00,\n",
       "         1.44553432e+00,   2.18865942e+00,   2.89235835e+00,\n",
       "         1.70445149e+00,  -6.38066126e-02,   1.29400647e+00,\n",
       "         7.96947270e-01,   1.50875344e-01,  -6.51195767e-04])\n",
       "     fun: array([ -1.29823406e+00,   1.60080725e+02,   1.24892466e+04,\n",
       "        -7.92655890e+07,  -6.31030263e+10,  -9.99405738e+12,\n",
       "        -2.49820047e+12,  -6.14590675e+07,  -2.07042724e+01,\n",
       "        -2.63005735e-01,  -1.65189307e+00,  -1.16496538e+02,\n",
       "        -4.24996393e+01,   6.39965368e+01,  -6.29118014e+01])\n",
       "       x: array([   3.19713815,   -0.63545859,   -1.7620717 ,  -88.2269396 ,\n",
       "       -100.68605011,    0.27381967,   -4.68647202,   -9.48272045,\n",
       "         -1.02658783,   39.32783702,    1.56493268,    6.19784754,\n",
       "          1.96373934,    0.32803867,   -1.30910075])\n",
       " message: 'The solution converged.'\n",
       "    fjac: array([[ -8.10798325e-03,   9.99767754e-01,   0.00000000e+00,\n",
       "          0.00000000e+00,   0.00000000e+00,   0.00000000e+00,\n",
       "          0.00000000e+00,   3.18730315e-05,   0.00000000e+00,\n",
       "          0.00000000e+00,   0.00000000e+00,   1.99673986e-02,\n",
       "          0.00000000e+00,   0.00000000e+00,   0.00000000e+00],\n",
       "       [ -3.12310513e-02,  -2.53178676e-04,   0.00000000e+00,\n",
       "          0.00000000e+00,   0.00000000e+00,   0.00000000e+00,\n",
       "          0.00000000e+00,  -8.07144646e-09,  -9.96213360e-01,\n",
       "          6.32435652e-03,   7.94341246e-02,  -5.05649389e-06,\n",
       "         -1.52879641e-02,   0.00000000e+00,   0.00000000e+00],\n",
       "       [ -3.34665783e-01,  -1.91906832e-02,   0.00000000e+00,\n",
       "          0.00000000e+00,   0.00000000e+00,   0.00000000e+00,\n",
       "          0.00000000e+00,   1.31687849e-03,   1.04232383e-02,\n",
       "         -6.61708400e-05,  -8.31107914e-04,   8.24980761e-01,\n",
       "          1.59955787e-04,  -4.54891389e-01,   0.00000000e+00],\n",
       "       [ -5.25569790e-10,  -5.81337191e-12,  -4.47839522e-07,\n",
       "         -4.61713140e-06,   3.01979811e-04,  -3.28136514e-01,\n",
       "         -9.44630265e-01,   2.06806787e-12,   1.63689848e-11,\n",
       "         -1.03916792e-13,  -1.30519830e-12,   7.76588299e-11,\n",
       "          2.51199655e-13,   5.28133325e-10,   0.00000000e+00],\n",
       "       [ -6.45537230e-09,  -7.60757334e-11,   2.29610688e-05,\n",
       "          8.77690157e-05,  -2.49303970e-03,   9.44627121e-01,\n",
       "         -3.28136219e-01,   2.31135030e-11,   7.95279216e-11,\n",
       "         -1.17576786e-10,  -1.47676827e-09,   1.18780009e-09,\n",
       "          2.84220168e-10,   6.91132971e-09,  -8.96805071e-08],\n",
       "       [  3.61660144e-06,   3.88158261e-08,   1.00000000e+00,\n",
       "         -2.01733820e-09,   5.73780964e-08,  -2.18366015e-05,\n",
       "          7.11131579e-06,  -1.42309877e-08,  -1.12639832e-07,\n",
       "          7.15084902e-10,   8.98148975e-09,  -4.74924849e-07,\n",
       "         -1.72858571e-09,  -3.52634093e-06,  -8.44031525e-06],\n",
       "       [ -2.40155308e-05,  -2.57751006e-07,   4.07548075e-10,\n",
       "          9.99999995e-01,   2.20205916e-07,  -8.44240403e-05,\n",
       "          2.44387103e-05,   9.44988632e-08,   7.47968916e-07,\n",
       "         -4.74839230e-09,  -5.96399626e-08,   3.15367126e-06,\n",
       "          1.14783616e-08,   2.34161685e-05,   2.80233768e-05],\n",
       "       [ -1.67168479e-06,  -1.79416410e-08,   2.28829370e-11,\n",
       "         -1.15499958e-10,  -9.99996847e-01,  -2.45409128e-03,\n",
       "          5.32799039e-04,   6.57792869e-09,   5.20652876e-08,\n",
       "         -3.30239178e-10,  -4.14781486e-09,   2.19521445e-07,\n",
       "          7.98292230e-10,   1.62996255e-06,   1.30068057e-06],\n",
       "       [  4.67033128e-03,  -2.03227878e-05,  -8.44815168e-06,\n",
       "          2.80793034e-05,  -1.30443149e-06,  -9.01000532e-08,\n",
       "          3.07465137e-08,  -4.23169497e-05,  -1.41712205e-03,\n",
       "         -1.21605851e-03,  -1.52737346e-02,   2.91406936e-03,\n",
       "          2.93959689e-03,   1.84628502e-03,  -9.99860425e-01],\n",
       "       [ -7.12788722e-01,  -7.64684278e-03,   5.06054503e-06,\n",
       "         -3.36513408e-05,   2.34352898e-06,  -4.15180138e-10,\n",
       "          1.84858309e-09,   2.79672444e-03,   2.17732821e-02,\n",
       "         -5.49263917e-04,  -6.89877275e-03,   9.34372430e-02,\n",
       "          1.32774409e-03,   6.94700522e-01,  -1.69517663e-03],\n",
       "       [ -4.49565046e-01,   4.46961831e-03,  -4.88046045e-08,\n",
       "          1.53870266e-07,  -6.76134923e-09,   8.47808035e-13,\n",
       "         -1.32650073e-11,   1.77284809e-03,   2.45596261e-02,\n",
       "         -2.45353726e-05,  -3.08165082e-04,  -4.06347506e-01,\n",
       "         -6.83540956e-01,  -4.06055971e-01,  -6.07385337e-03],\n",
       "       [ -4.20262623e-01,   4.19972379e-03,  -1.63261545e-08,\n",
       "          7.10496507e-08,  -4.07877104e-09,   6.45653757e-13,\n",
       "         -1.24672663e-11,   1.90465751e-03,   4.12163828e-04,\n",
       "         -1.55542683e-03,  -1.95362119e-02,  -3.80935523e-01,\n",
       "          7.29582065e-01,  -3.81536589e-01,  -1.33324005e-03],\n",
       "       [ -1.10614352e-02,   3.47271802e-05,  -1.04051981e-07,\n",
       "          2.59326844e-07,  -8.03667136e-09,   5.36545702e-13,\n",
       "         -9.16318375e-14,  -9.34760894e-04,   7.97564892e-02,\n",
       "          1.18062919e-01,   9.89471383e-01,  -6.22891622e-03,\n",
       "          1.54021834e-02,  -3.15489554e-03,  -1.54019910e-02],\n",
       "       [ -4.36537970e-04,   1.36177904e-06,  -4.07756808e-09,\n",
       "          1.01624546e-08,  -3.14940063e-10,   2.10261628e-14,\n",
       "         -3.59351332e-15,  -7.93457000e-04,   3.12566521e-03,\n",
       "         -9.92983631e-01,   1.18203699e-01,  -2.44178800e-04,\n",
       "          6.03733227e-04,  -1.23714929e-04,  -6.03569890e-04],\n",
       "       [ -4.02146020e-03,   1.09803850e-06,   2.62345414e-10,\n",
       "         -6.45256813e-10,   1.94661634e-11,  -1.19436078e-15,\n",
       "         -3.28896587e-15,  -9.99991084e-01,   4.19805810e-05,\n",
       "          6.72957291e-04,  -1.07621716e-03,  -9.16978809e-05,\n",
       "          1.66714481e-04,  -9.97546233e-05,   3.91391537e-05]])\n",
       "    njev: 2"
      ]
     },
     "execution_count": 22,
     "metadata": {},
     "output_type": "execute_result"
    }
   ],
   "source": [
    "from scipy.optimize import root\n",
    "x0 = [1]*len(substances)\n",
    "root(f, x0, jac=j)"
   ]
  },
  {
   "cell_type": "code",
   "execution_count": 23,
   "metadata": {
    "collapsed": false
   },
   "outputs": [
    {
     "name": "stderr",
     "output_type": "stream",
     "text": [
      "aqchem/equilibria.py:20: RuntimeWarning: divide by zero encountered in double_scalars\n",
      "  tot *= c[idx]**nr\n",
      "/usr/local/lib/python2.7/dist-packages/scipy/optimize/minpack.py:237: RuntimeWarning: The iteration is not making good progress, as measured by the \n",
      "  improvement from the last ten iterations.\n",
      "  warnings.warn(msg, RuntimeWarning)\n"
     ]
    },
    {
     "data": {
      "text/plain": [
       "(None,\n",
       "   status: 5\n",
       " success: False\n",
       "     qtf: array([  6.74582811e+07,   1.67360516e+04,  -1.70474108e-03,\n",
       "         1.88297140e+12,   9.96802346e+12,   1.39057538e+07,\n",
       "         1.45520018e+09,   9.12056592e+10,   6.04931426e+06,\n",
       "         2.15318644e+03,  -2.84753931e+03,   5.43698906e-01,\n",
       "         5.29863269e+04,   4.22339063e+01,  -3.11341694e+02])\n",
       "    nfev: 17\n",
       "       r: array([  2.75640660e+04,   1.11088067e-11,  -2.16242056e-11,\n",
       "        -2.91154761e+02,   3.07563805e+11,  -3.77296150e-05,\n",
       "        -2.02419082e+00,  -8.75943054e+05,  -1.81453131e+10,\n",
       "        -3.63042576e+12,   1.17406954e-02,  -2.33920682e+02,\n",
       "        -4.73931428e-04,   7.14530243e-12,  -3.93141779e-13,\n",
       "        -2.11237789e+02,   2.06832235e-27,  -7.15924916e-02,\n",
       "        -5.49125123e+11,  -3.56538503e-10,  -5.00189681e-04,\n",
       "        -2.17083622e+02,  -4.49802503e+06,  -8.92417220e+08,\n",
       "        -4.73400145e-03,  -9.46800292e-03,  -4.01787542e+11,\n",
       "        -1.42136740e-02,  -1.89360058e-02,  -1.00000000e+00,\n",
       "        -9.99999993e-01,  -7.04261446e+00,  -1.00000000e+00,\n",
       "        -2.00000000e+00,  -2.99997994e+00,  -3.58440440e+00,\n",
       "         7.81274128e+01,  -2.53883211e-13,   5.05834893e-09,\n",
       "         1.04771554e-10,  -1.63615425e-22,   9.00194592e-24,\n",
       "        -2.75884959e+10,   2.88885819e+19,  -7.35432480e-01,\n",
       "        -8.74297361e+04,  -2.55174578e+10,  -5.23865621e+14,\n",
       "        -3.56989709e+20,   3.58762634e-11,   3.23815093e-13,\n",
       "        -1.25731698e+01,   2.05281751e-07,  -1.12947588e-08,\n",
       "         4.61865694e+15,  -1.73595586e+04,  -2.85157971e+08,\n",
       "        -4.38502675e+12,  -3.02094952e+16,   2.28268259e+17,\n",
       "        -7.89652794e-07,  -1.12775566e-06,   3.48593429e+02,\n",
       "         1.01001236e-05,  -2.90037432e-06,   1.24245565e+10,\n",
       "        -3.98421345e+02,  -6.12646879e+06,  -4.22028411e+10,\n",
       "         2.98958323e+11,  -8.15890367e-11,   1.58712806e-10,\n",
       "         4.87192211e-04,   9.45953792e-11,   7.64334988e-11,\n",
       "         1.84304823e+12,  -6.77150018e+08,  -4.64782825e+12,\n",
       "         2.92656280e+13,  -1.23260862e-10,  -1.73411356e-10,\n",
       "         5.52501865e-02,   1.54176377e-09,  -4.47024013e-10,\n",
       "         2.72698058e+14,  -4.54495002e+14,   2.14620789e+15,\n",
       "        -1.26976336e-08,  -1.81344828e-08,   9.46674227e+00,\n",
       "         9.93681251e-08,  -4.31697656e-08,  -1.83374306e+10,\n",
       "         1.43382458e+11,   1.30117073e+00,   1.85834106e+00,\n",
       "        -1.76436729e+09,   2.78504255e+00,   3.71034134e+00,\n",
       "        -1.20030393e+10,  -5.54013967e-01,   7.39290743e-01,\n",
       "        -7.10592027e+08,   1.12166500e+00,   1.49432546e+00,\n",
       "         8.70983979e-07,   1.05792965e-02,   2.70446157e+09,\n",
       "        -2.83019934e+03,   6.71048426e-05,   1.99999969e+00,\n",
       "        -1.43033135e+07,   1.59682965e+01,   9.99999835e-01,\n",
       "        -1.39636856e+12,   2.27931079e+04,  -1.25440148e+03,\n",
       "        -1.81073861e+05,  -1.57900722e+02,  -5.92373995e-04])\n",
       "     fun: array([  6.20495746e-05,   8.54525622e-05,  -1.97286970e+04,\n",
       "        -7.93993193e+07,  -6.30903721e+10,  -9.99932723e+12,\n",
       "        -1.70992632e+12,  -6.14590634e+07,  -1.52478514e+04,\n",
       "        -6.61896088e+03,  -5.25762751e+04,  -2.40764916e+00,\n",
       "        -2.38260653e+00,   4.78567445e-04,   2.40086515e-02])\n",
       "       x: array([ -8.48649522e-05,  -1.44367606e+02,  -1.44358077e+02,\n",
       "         1.45358556e+02,  -2.77638266e-08,  -1.80225064e-08,\n",
       "        -1.75090268e-08,  -1.59019277e-08,  -1.84236193e-08,\n",
       "        -2.24661963e-09,   1.97450991e+02,   1.70043567e-02,\n",
       "         3.79498607e-08,   1.06820640e-11,   7.26600410e-17])\n",
       " message: 'The iteration is not making good progress, as measured by the \\n  improvement from the last ten iterations.'\n",
       "    fjac: array([[ -2.62063331e-05,  -3.65304313e-05,   1.75076978e-21,\n",
       "         -6.28390092e-13,  -2.83838512e-09,  -5.99932311e-07,\n",
       "         -5.21640876e-11,  -9.99999998e-01,  -1.00368564e-19,\n",
       "          2.14335855e-20,   1.70252786e-19,   3.62791179e-05,\n",
       "          1.62829126e-22,   2.17800431e-27,   3.13408541e-27],\n",
       "       [  2.01017962e-09,  -6.59566123e-17,   4.34308528e-25,\n",
       "         -1.55900251e-16,  -7.04188306e-13,  -1.48840027e-10,\n",
       "         -1.29416336e-14,  -5.25900381e-14,  -9.99988795e-01,\n",
       "          6.39342925e-11,  -6.02462267e-18,   1.90788635e-18,\n",
       "         -4.73400145e-03,   5.40100277e-31,   8.28069886e-31],\n",
       "       [  5.66691135e-16,  -5.91950459e-07,   7.66764783e-31,\n",
       "          1.43780826e-23,   6.49926306e-20,   1.37410639e-17,\n",
       "          1.19334699e-21,   2.16242056e-11,   1.05877052e-22,\n",
       "         -4.59756912e-31,  -3.88906427e-30,  -7.84507103e-16,\n",
       "         -9.79197937e-30,  -1.00000000e+00,  -8.46180905e-34],\n",
       "       [  2.76555529e-13,   3.85523454e-13,  -5.58378316e-11,\n",
       "         -3.39390412e-08,  -8.28363450e-05,  -1.73287587e-02,\n",
       "         -9.99849842e-01,   1.04484749e-08,   2.59218180e-12,\n",
       "          5.98284939e-16,   4.75232137e-15,   3.58641231e-11,\n",
       "          1.22893383e-14,  -2.41589020e-19,   1.75978134e-23],\n",
       "       [  1.54941547e-11,   2.12641239e-11,  -1.39700490e-06,\n",
       "         -1.53945931e-04,  -1.54623864e-02,  -9.99730280e-01,\n",
       "          1.73279676e-02,   5.99805255e-07,   2.81368532e-09,\n",
       "          1.07695280e-14,   2.51575948e-14,  -2.26737288e-07,\n",
       "         -5.62915595e-07,  -1.33554012e-17,   2.16513499e-16],\n",
       "       [  2.15688290e-17,  -1.80442928e-17,   1.00000000e+00,\n",
       "         -2.15092661e-10,  -2.16031005e-08,  -1.39662903e-06,\n",
       "          2.41514257e-08,   8.35011498e-13,   3.93124541e-15,\n",
       "          1.50403127e-20,   3.50957563e-20,  -8.08025668e-11,\n",
       "         -7.86504228e-13,  -1.93220357e-23,   8.04857701e-11],\n",
       "       [  2.36850047e-15,   3.24925822e-15,   2.94394306e-14,\n",
       "          9.99999988e-01,  -2.38869040e-06,  -1.53904870e-04,\n",
       "          2.63363464e-06,   9.17094446e-11,   4.35064620e-13,\n",
       "          1.63860871e-18,   3.67267767e-18,  -3.61661009e-11,\n",
       "         -8.70947751e-11,  -2.04081472e-21,   5.42579449e-13],\n",
       "       [  1.65095390e-13,   2.24625770e-13,   2.06653736e-12,\n",
       "          8.31708295e-09,   9.99880447e-01,  -1.54615002e-02,\n",
       "          1.85129963e-04,   6.43766584e-09,   4.44487901e-11,\n",
       "          1.51226256e-16,   2.30187568e-16,  -3.64586169e-09,\n",
       "         -9.05177340e-09,  -1.41227187e-19,   3.67369657e-15],\n",
       "       [  3.94238198e-07,   1.10013354e-06,   3.00684378e-11,\n",
       "          8.75742721e-13,   3.73737039e-10,  -6.06849228e-07,\n",
       "          1.05310341e-08,   1.35533042e-05,  -4.39123953e-03,\n",
       "         -1.25273540e-08,   1.18033777e-15,   3.73585552e-01,\n",
       "          9.27585334e-01,  -6.51224557e-13,  -8.25032391e-10],\n",
       "       [  1.57662512e-07,   4.37255511e-07,  -7.46582563e-11,\n",
       "         -1.00658850e-12,  -1.00830482e-14,   1.89342141e-14,\n",
       "         -3.36243927e-11,  -3.36523749e-05,  -1.76855455e-03,\n",
       "         -5.04534286e-09,   4.99600361e-16,  -9.27595727e-01,\n",
       "          3.73581367e-01,  -2.58833600e-13,  -1.83676436e-09],\n",
       "       [ -4.87567764e-01,  -8.72947443e-01,  -5.20827635e-15,\n",
       "         -3.55861373e-17,  -2.30077399e-17,  -2.48242041e-14,\n",
       "         -4.24544071e-15,   4.46665100e-05,  -6.85233803e-09,\n",
       "          1.55058403e-02,  -1.62545394e-09,   3.59576576e-09,\n",
       "          1.24063206e-06,   5.16741640e-07,   6.41973773e-05],\n",
       "       [ -4.86464340e-04,   3.43789437e-04,  -8.04857557e-11,\n",
       "         -5.42579295e-13,  -3.66633890e-15,  -3.18322074e-17,\n",
       "          7.64881602e-19,   1.89619462e-10,  -6.90032342e-12,\n",
       "         -8.20069488e-05,   8.59684020e-12,  -1.39691357e-09,\n",
       "          1.24991983e-09,  -2.03506315e-10,   9.99999819e-01],\n",
       "       [ -9.44308671e-04,  -1.69071408e-03,   8.14346036e-16,\n",
       "          5.28686381e-18,  -1.60330392e-16,  -2.54840531e-14,\n",
       "         -4.35793087e-15,   8.65093825e-08,  -1.32714283e-11,\n",
       "         -1.24876816e-01,  -9.92170364e-01,   6.97833957e-12,\n",
       "          7.15915560e-10,   1.00081898e-09,  -1.01188828e-05],\n",
       "       [  7.50181422e-03,   1.34314479e-02,  -6.46936390e-15,\n",
       "         -4.36046540e-17,  -4.46692104e-19,   3.82724732e-16,\n",
       "          6.54543591e-17,  -6.87251631e-07,   1.05431460e-10,\n",
       "          9.92051079e-01,  -1.24891831e-01,  -5.54391283e-11,\n",
       "         -5.68740973e-09,  -7.95075178e-09,   8.03868728e-05],\n",
       "       [ -8.73052272e-01,   4.87626271e-01,   4.76987973e-14,\n",
       "          3.21685987e-16,   3.60825895e-16,  -2.76371038e-15,\n",
       "         -4.73293396e-16,   5.06630060e-06,  -7.77044325e-10,\n",
       "         -3.24870722e-09,   6.34340212e-10,  -1.91173321e-09,\n",
       "         -2.06581353e-07,  -2.88650595e-07,  -5.92349666e-04]])\n",
       "    njev: 3)"
      ]
     },
     "execution_count": 23,
     "metadata": {},
     "output_type": "execute_result"
    }
   ],
   "source": [
    "reaction_system.root(init_conc, scaling=scaling, logC=logC, delta=1e-15)"
   ]
  },
  {
   "cell_type": "code",
   "execution_count": 24,
   "metadata": {
    "collapsed": false
   },
   "outputs": [
    {
     "data": {
      "text/plain": [
       "([-1.8018018018018e-16*s + (i1 + i10 + 2*i11 + 2*i12 + 3*i13 + 4*i14 - y10 - 2*y11 - 2*y12 - 3*y13 - 4*y14)*(i0 + i10 - i3 - i5 - 2*i6 - 3*i7 - 4*i8 - 5*i9 - y10 + y3 + y5 + 2*y6 + 3*y7 + 4*y8 + 5*y9)/y10,\n",
       "  -5.49540873857625e-10*s + y3*(i0 + i10 - i3 - i5 - 2*i6 - 3*i7 - 4*i8 - 5*i9 - y10 + y3 + y5 + 2*y6 + 3*y7 + 4*y8 + 5*y9)/(i2 + i3 + i5 + 2*i6 + 3*i7 + 4*i8 + 5*i9 - y3 - y5 - 2*y6 - 3*y7 - 4*y8 - 5*y9),\n",
       "  -19952.6231496888*s + y3*(2*i11 + i12 + i13 + i14 + i4 + i5 + i6 + i7 + i8 + i9 - 2*y11 - y12 - y13 - y14 - y5 - y6 - y7 - y8 - y9)/y5,\n",
       "  -79432823.4724282*s**2 + y3**2*(2*i11 + i12 + i13 + i14 + i4 + i5 + i6 + i7 + i8 + i9 - 2*y11 - y12 - y13 - y14 - y5 - y6 - y7 - y8 - y9)/y6,\n",
       "  -63095734448.0194*s**3 + y3**3*(2*i11 + i12 + i13 + i14 + i4 + i5 + i6 + i7 + i8 + i9 - 2*y11 - y12 - y13 - y14 - y5 - y6 - y7 - y8 - y9)/y7,\n",
       "  -10000000000000.0*s**4 + y3**4*(2*i11 + i12 + i13 + i14 + i4 + i5 + i6 + i7 + i8 + i9 - 2*y11 - y12 - y13 - y14 - y5 - y6 - y7 - y8 - y9)/y8,\n",
       "  -2511886431509.58*s**5 + y3**5*(2*i11 + i12 + i13 + i14 + i4 + i5 + i6 + i7 + i8 + i9 - 2*y11 - y12 - y13 - y14 - y5 - y6 - y7 - y8 - y9)/y9,\n",
       "  y11*(i0 + i10 - i3 - i5 - 2*i6 - 3*i7 - 4*i8 - 5*i9 - y10 + y3 + y5 + 2*y6 + 3*y7 + 4*y8 + 5*y9)**2/(y10**2*(2*i11 + i12 + i13 + i14 + i4 + i5 + i6 + i7 + i8 + i9 - 2*y11 - y12 - y13 - y14 - y5 - y6 - y7 - y8 - y9)**2) - 61459067.4568289/s,\n",
       "  -1.58489319246111e-19*s**3/y12 + (i1 + i10 + 2*i11 + 2*i12 + 3*i13 + 4*i14 - y10 - 2*y11 - 2*y12 - 3*y13 - 4*y14)**2*(2*i11 + i12 + i13 + i14 + i4 + i5 + i6 + i7 + i8 + i9 - 2*y11 - y12 - y13 - y14 - y5 - y6 - y7 - y8 - y9)/y12,\n",
       "  y13/(y12*(i1 + i10 + 2*i11 + 2*i12 + 3*i13 + 4*i14 - y10 - 2*y11 - 2*y12 - 3*y13 - 4*y14)) - 0.000251188643150958/y12,\n",
       "  y14/(y12*(i1 + i10 + 2*i11 + 2*i12 + 3*i13 + 4*i14 - y10 - 2*y11 - 2*y12 - 3*y13 - 4*y14)**2) - 0.00199526231496888/(s*y12)],\n",
       " [0, 1, 2, 4],\n",
       " [<function numpy.<lambda>>,\n",
       "  <function numpy.<lambda>>,\n",
       "  <function numpy.<lambda>>,\n",
       "  <function numpy.<lambda>>])"
      ]
     },
     "execution_count": 24,
     "metadata": {},
     "output_type": "execute_result"
    }
   ],
   "source": [
    "i = sp.symbols('i:'+str(len(y)))\n",
    "reaction_system.f(y, i, scaling=s, reduced=True)"
   ]
  },
  {
   "cell_type": "code",
   "execution_count": 25,
   "metadata": {
    "collapsed": false
   },
   "outputs": [
    {
     "name": "stdout",
     "output_type": "stream",
     "text": [
      "[0, 1, 2, 4]\n"
     ]
    }
   ],
   "source": [
    "f_elim, j_elim, elim, elm_cbs = reaction_system.num_cb_factory(c0arr*scaling, True, scaling=scaling, logC=logC, reduced=True)\n",
    "print(elim)"
   ]
  },
  {
   "cell_type": "code",
   "execution_count": 26,
   "metadata": {
    "collapsed": false
   },
   "outputs": [
    {
     "data": {
      "text/plain": [
       "[5.5468955441440531e-22,\n",
       " -62507.525329639,\n",
       " 99999980037.386826,\n",
       " 99920567166.547546,\n",
       " 36904265542.010567,\n",
       " -9900000000009.9609,\n",
       " -2411886431519.5303,\n",
       " -61459067.4568289,\n",
       " 0.00099839125598603028,\n",
       " -2501886312.2538395,\n",
       " 99982432505888.438]"
      ]
     },
     "execution_count": 26,
     "metadata": {},
     "output_type": "execute_result"
    }
   ],
   "source": [
    "c0arr_elim = np.array([x for idx, x in enumerate(c0arr) if idx not in elim]) + 1e-13\n",
    "x0elim = np.log(c0arr_elim) if logC else c0arr_elim\n",
    "f_elim(x0elim)"
   ]
  },
  {
   "cell_type": "code",
   "execution_count": 27,
   "metadata": {
    "collapsed": false
   },
   "outputs": [
    {
     "data": {
      "text/plain": [
       "array([  1.00000000e+00,   1.00000000e-13,   1.00000000e-13,\n",
       "         1.00000000e-13,   1.00000000e-13,   1.00000000e-13,\n",
       "         5.55000000e+01,   1.00000000e-13,   1.00000000e-13,\n",
       "         1.00000000e-13,   1.00000000e-13])"
      ]
     },
     "execution_count": 27,
     "metadata": {},
     "output_type": "execute_result"
    },
    {
     "data": {
      "image/png": "[encoded data removed]",
      "text/plain": [
       "<matplotlib.figure.Figure at 0x7f538f989b90>"
      ]
     },
     "metadata": {},
     "output_type": "display_data"
    }
   ],
   "source": [
    "jmat = j_elim(x0elim)\n",
    "plt.imshow(jmat, cmap='binary', interpolation='None')\n",
    "x0elim"
   ]
  },
  {
   "cell_type": "code",
   "execution_count": 28,
   "metadata": {
    "collapsed": false
   },
   "outputs": [
    {
     "data": {
      "text/plain": [
       "matrix([[  1.80178031e-09,   1.80178031e-09,   3.60356063e-09,\n",
       "           5.40534094e-09,   7.20712126e-09,   9.00890157e-09,\n",
       "          -3.60360915e-09,  -3.60365767e-09,  -3.60365767e-09,\n",
       "          -5.40548651e-09,  -7.20731535e-09],\n",
       "        [  3.90706959e+16,   3.90706959e+16,   7.81413919e+16,\n",
       "           1.17212088e+17,   1.56282784e+17,   1.95353480e+17,\n",
       "           6.25065875e+11,   0.00000000e+00,   0.00000000e+00,\n",
       "           0.00000000e+00,   0.00000000e+00],\n",
       "        [  1.00000000e+11,  -1.00000000e+24,  -1.00000000e+13,\n",
       "          -1.00000000e+13,  -1.00000000e+13,  -1.00000000e+13,\n",
       "           0.00000000e+00,  -2.00000000e+13,  -1.00000000e+13,\n",
       "          -1.00000000e+13,  -1.00000000e+13],\n",
       "        [  2.00000000e+11,  -1.00000000e+13,  -1.00000000e+24,\n",
       "          -1.00000000e+13,  -1.00000000e+13,  -1.00000000e+13,\n",
       "           0.00000000e+00,  -2.00000000e+13,  -1.00000000e+13,\n",
       "          -1.00000000e+13,  -1.00000000e+13],\n",
       "        [  3.00000000e+11,  -1.00000000e+13,  -1.00000000e+13,\n",
       "          -1.00000000e+24,  -1.00000000e+13,  -1.00000000e+13,\n",
       "           0.00000000e+00,  -2.00000000e+13,  -1.00000000e+13,\n",
       "          -1.00000000e+13,  -1.00000000e+13],\n",
       "        [  4.00000000e+11,  -1.00000000e+13,  -1.00000000e+13,\n",
       "          -1.00000000e+13,  -1.00000000e+24,  -1.00000000e+13,\n",
       "           0.00000000e+00,  -2.00000000e+13,  -1.00000000e+13,\n",
       "          -1.00000000e+13,  -1.00000000e+13],\n",
       "        [  5.00000000e+11,  -1.00000000e+13,  -1.00000000e+13,\n",
       "          -1.00000000e+13,  -1.00000000e+13,  -1.00000000e+24,\n",
       "           0.00000000e+00,  -2.00000000e+13,  -1.00000000e+13,\n",
       "          -1.00000000e+13,  -1.00000000e+13],\n",
       "        [  6.49307689e-20,   6.49314182e-20,   1.29862187e-19,\n",
       "           1.94792974e-19,   2.59723725e-19,   3.24654494e-19,\n",
       "          -6.49307690e-20,   3.24658716e-14,   6.49317431e-25,\n",
       "           6.49317431e-25,   6.49317431e-25],\n",
       "        [  0.00000000e+00,  -9.99976149e-02,  -9.99976149e-02,\n",
       "          -9.99976149e-02,  -9.99976149e-02,  -9.99976149e-02,\n",
       "          -1.99997615e+04,  -3.99997230e+04,  -9.98395256e+09,\n",
       "          -5.99993859e+04,  -7.99991460e+04],\n",
       "        [  0.00000000e+00,   0.00000000e+00,   0.00000000e+00,\n",
       "           0.00000000e+00,   0.00000000e+00,   0.00000000e+00,\n",
       "           1.00002385e+14,   2.00004770e+14,   2.50188633e+22,\n",
       "           1.00001493e+20,   4.00009541e+14],\n",
       "        [  0.00000000e+00,   0.00000000e+00,   0.00000000e+00,\n",
       "           0.00000000e+00,   0.00000000e+00,   0.00000000e+00,\n",
       "           2.00007155e+21,   4.00014311e+21,  -9.99820325e+26,\n",
       "           6.00021466e+21,   1.00003185e+27]])"
      ]
     },
     "execution_count": 28,
     "metadata": {},
     "output_type": "execute_result"
    }
   ],
   "source": [
    "jmat"
   ]
  },
  {
   "cell_type": "code",
   "execution_count": 30,
   "metadata": {
    "collapsed": false
   },
   "outputs": [
    {
     "name": "stderr",
     "output_type": "stream",
     "text": [
      "/usr/local/lib/python2.7/dist-packages/scipy/optimize/minpack.py:237: RuntimeWarning: The iteration is not making good progress, as measured by the \n",
      "  improvement from the last five Jacobian evaluations.\n",
      "  warnings.warn(msg, RuntimeWarning)\n"
     ]
    },
    {
     "data": {
      "text/plain": [
       "(None,\n",
       "   status: 4\n",
       " success: False\n",
       "     qtf: array([ -2.93768169e+19,  -1.55602414e+13,  -1.64042349e+07,\n",
       "         4.36699743e+30,   1.00000000e+33,   1.07690567e+17,\n",
       "         1.18688994e+17,  -3.98608023e+28,   7.79041519e+20,\n",
       "        -7.92182120e+17,   3.35136531e+12,   1.18808666e+13,\n",
       "         4.18245462e+09,  -2.15460489e+02,  -1.00934878e+02])\n",
       "    nfev: 51\n",
       "       r: array([  1.09275602e+12,  -6.20483748e-10,   9.55961834e-14,\n",
       "        -1.56338934e-12,   3.53801788e+25,  -9.15117353e-13,\n",
       "        -1.83023471e-12,  -2.74535206e-12,  -3.66046941e-12,\n",
       "        -4.57558677e-12,  -1.35007439e+11,  -5.53502467e+09,\n",
       "         0.00000000e+00,   0.00000000e+00,   0.00000000e+00,\n",
       "        -1.00760311e+00,   0.00000000e+00,   0.00000000e+00,\n",
       "        -2.17871756e+16,   5.63530878e-22,   1.12706176e-21,\n",
       "         1.69059258e-21,   2.25412351e-21,   2.81765434e-21,\n",
       "        -9.92456135e-01,   1.42356927e+00,  -1.98490853e+00,\n",
       "        -2.97736279e+00,  -3.96981705e+00,  -1.22549377e+00,\n",
       "         1.96094255e+00,   2.75987536e+12,  -8.75000000e-01,\n",
       "        -1.63199524e+00,  -2.44799286e+00,  -3.26399048e+00,\n",
       "        -4.07998810e+00,  -1.05314251e-02,  -4.31766564e-04,\n",
       "         1.83880688e-16,   2.81025203e-16,   3.74700271e-16,\n",
       "        -7.60978300e+31,  -1.51260390e+43,  -3.79669753e-16,\n",
       "         0.00000000e+00,  -1.70459521e+08,  -1.73122501e+16,\n",
       "         3.10267910e+49,   1.56432538e-32,   1.02588065e-34,\n",
       "        -1.49136647e-47,  -2.32315204e-47,  -3.18876642e-47,\n",
       "         2.27020399e+29,   1.01187374e-01,   2.98780722e-16,\n",
       "         7.57164662e+21,   2.88372511e+29,   1.86267257e+36,\n",
       "        -9.53936443e-14,  -2.16207576e-11,  -1.90491915e-13,\n",
       "        -2.85737873e-13,  -3.80983831e-13,  -9.39636397e+14,\n",
       "        -4.20717453e-15,   0.00000000e+00,   3.10526136e+13,\n",
       "         1.88043299e+20,   1.20216931e-15,  -2.37443591e-15,\n",
       "        -1.06304300e-15,  -1.06070474e-15,  -1.06646473e-15,\n",
       "        -2.51725873e+00,   1.12907394e+10,   3.42277996e+13,\n",
       "         2.19908008e+20,   8.99503299e-01,  -7.90210771e-01,\n",
       "        -3.97257535e-01,  -3.97257535e-01,  -3.97257535e-01,\n",
       "         1.89651988e+26,  -1.15129547e+25,  -4.64782185e+31,\n",
       "        -8.32667268e-17,   1.06581410e-14,   0.00000000e+00,\n",
       "         0.00000000e+00,   1.11022302e-16,   2.24671813e+17,\n",
       "         1.44259661e+24,   1.22303352e-01,   2.77509628e+01,\n",
       "         2.44562181e-01,   3.66813011e-01,   4.89063841e-01,\n",
       "        -1.11491824e+23,  -9.45741598e-03,  -2.14473906e+00,\n",
       "        -1.88969216e-02,  -2.83451398e-02,  -3.77933580e-02,\n",
       "        -6.73392468e-01,  -1.06116968e+00,  -5.30612303e-01,\n",
       "        -5.30599882e-01,  -5.30587460e-01,   1.49759220e+00,\n",
       "         7.48737168e-01,   7.48736084e-01,   7.48734998e-01,\n",
       "         2.66823306e-04,   2.65897426e-04,   2.68219530e-04,\n",
       "         1.15312882e-16,   2.35156262e-16,  -4.72755414e-17])\n",
       "     fun: array([ -3.46637998e+11,  -7.92851770e+06,  -2.04601698e+09,\n",
       "        -7.94328235e+17,  -6.30957721e+25,  -1.00000000e+33,\n",
       "         1.67976965e+30,   2.93734317e+19,  -3.69807759e+06,\n",
       "        -2.03943297e-13,   5.64506969e-21,  -5.06223902e+08,\n",
       "        -2.16130441e+13,   2.29115671e+07,  -6.96684327e+12])\n",
       "       x: array([ -5.37682350e+07,  -2.80559635e+12,   1.11917854e+07,\n",
       "         1.65031023e+06,   1.66058175e-06,  -5.39945453e-08,\n",
       "         5.08473577e+06,  -1.98371166e-07,  -6.69684405e-06,\n",
       "         8.09260225e-13,  -4.35185885e+08,   5.30607339e+09,\n",
       "        -3.53455398e+12,  -2.02311491e+12,  -1.41979162e+12])\n",
       " message: 'The iteration is not making good progress, as measured by the \\n  improvement from the last five Jacobian evaluations.'\n",
       "    fjac: array([[ -5.02222219e-09,   1.34946023e-13,   0.00000000e+00,\n",
       "          0.00000000e+00,   0.00000000e+00,   0.00000000e+00,\n",
       "          0.00000000e+00,  -1.00000000e+00,   0.00000000e+00,\n",
       "          0.00000000e+00,   0.00000000e+00,   9.15117353e-13,\n",
       "          0.00000000e+00,   0.00000000e+00,   0.00000000e+00],\n",
       "       [ -1.22615392e-01,  -1.06885953e-16,   0.00000000e+00,\n",
       "          0.00000000e+00,   0.00000000e+00,   0.00000000e+00,\n",
       "          0.00000000e+00,   6.15801743e-10,  -4.60982916e-06,\n",
       "          1.71103658e-25,   1.02547158e-37,  -5.63530866e-22,\n",
       "         -9.92454264e-01,   0.00000000e+00,   0.00000000e+00],\n",
       "       [  1.46648019e-17,  -5.78055259e-01,   0.00000000e+00,\n",
       "          0.00000000e+00,   0.00000000e+00,   0.00000000e+00,\n",
       "          0.00000000e+00,  -7.80062583e-14,   4.23516474e-22,\n",
       "          0.00000000e+00,  -1.04404871e-53,   7.13753365e-26,\n",
       "          0.00000000e+00,  -8.15997621e-01,   0.00000000e+00],\n",
       "       [  1.35323359e-48,   4.82326805e-32,   4.04060288e-31,\n",
       "          0.00000000e+00,   8.98801656e-19,   6.00343287e-14,\n",
       "         -1.00000000e+00,   1.85343465e-44,   0.00000000e+00,\n",
       "          0.00000000e+00,   0.00000000e+00,   1.31409792e-32,\n",
       "         -5.47382213e-48,  -3.41681813e-32,   0.00000000e+00],\n",
       "       [  7.70924883e-13,  -1.07897112e-17,  -1.07687797e-16,\n",
       "         -6.00343286e-14,  -3.99238980e-05,  -9.99999999e-01,\n",
       "         -6.00343286e-14,  -3.87175618e-21,   1.42705833e-17,\n",
       "          1.64208391e-38,   9.84146332e-51,  -1.41741644e-16,\n",
       "         -9.52459576e-14,   7.64346505e-18,   4.40489050e-30],\n",
       "       [ -4.76457071e-19,   3.35658564e-16,   1.00000000e+00,\n",
       "         -6.46480329e-30,  -1.07687797e-16,  -1.07683498e-16,\n",
       "         -6.06074300e-30,   3.41207485e-27,  -1.46737261e-22,\n",
       "          1.14442140e-41,  -3.09937018e-54,   1.06424145e-15,\n",
       "          5.88651521e-20,  -4.44089210e-16,  -1.06424145e-15],\n",
       "       [ -1.04500209e-18,   3.74766177e-01,  -1.44328993e-15,\n",
       "          6.95097995e-08,  -1.41107185e-17,  -1.18692330e-16,\n",
       "          0.00000000e+00,   7.77647734e-13,  -2.11758237e-22,\n",
       "          1.14794370e-41,   1.04404871e-53,   7.94515070e-01,\n",
       "          0.00000000e+00,  -2.65485529e-01,  -3.97257535e-01],\n",
       "       [ -8.69207930e-17,   9.11016168e-17,   7.59748509e-17,\n",
       "          4.59081491e-18,  -9.99999999e-01,   3.99238980e-05,\n",
       "          1.49800276e-18,   4.36506136e-25,  -3.93718669e-22,\n",
       "         -1.76390321e-41,  -3.87070001e-54,  -4.55518154e-17,\n",
       "          1.07388597e-17,  -6.45366694e-17,   2.27787371e-17],\n",
       "       [ -9.89503481e-01,  -4.32413332e-05,  -1.23971742e-17,\n",
       "          7.70557285e-02,  -1.60780636e-16,  -7.79102744e-13,\n",
       "          0.00000000e+00,   4.96950647e-09,  -1.83166899e-05,\n",
       "         -2.10766033e-26,  -1.26317915e-38,   6.08863103e-05,\n",
       "          1.22250830e-01,   3.06322953e-05,   6.05215129e-05],\n",
       "       [  7.64742852e-02,   1.28507982e-05,   4.31986803e-20,\n",
       "          9.97026787e-01,  -1.59912690e-17,   1.90919807e-21,\n",
       "          0.00000000e+00,  -3.84070858e-10,   1.41561244e-06,\n",
       "          5.26366839e-26,   9.76252707e-40,  -9.43331916e-06,\n",
       "         -9.44821823e-03,  -9.10354551e-06,  -4.85093394e-07],\n",
       "       [ -1.00539439e-04,   4.82581922e-01,  -2.22044605e-16,\n",
       "         -7.51517316e-06,   4.54481471e-17,   8.75270468e-22,\n",
       "          0.00000000e+00,   1.44119336e-14,   3.44742884e-06,\n",
       "         -1.11022303e-16,  -4.62065788e-38,  -6.07181112e-01,\n",
       "          1.24213954e-05,  -3.41862539e-01,  -5.30637146e-01],\n",
       "       [  8.77276719e-06,   5.40848481e-01,   4.99600361e-16,\n",
       "         -1.08717326e-05,   1.30055973e-16,  -2.17645965e-21,\n",
       "          0.00000000e+00,   2.09018272e-14,   3.48267451e-04,\n",
       "          4.44089210e-16,   2.22044605e-16,  -8.76908072e-03,\n",
       "         -1.08547243e-06,  -3.83138751e-01,   7.48739340e-01],\n",
       "       [  1.88006322e-05,   1.90024411e-04,   1.49077799e-19,\n",
       "         -3.81454621e-09,   1.78394675e-20,   5.47666877e-25,\n",
       "          0.00000000e+00,  -9.44000229e-14,  -9.99999939e-01,\n",
       "         -1.09019391e-12,  -1.98476652e-13,  -5.14832797e-06,\n",
       "          2.32210397e-06,  -1.34613885e-04,   2.58931114e-04],\n",
       "       [  4.39814104e-18,  -3.52398740e-18,   5.20001085e-32,\n",
       "          3.19777845e-16,  -3.66574392e-32,   1.63686414e-36,\n",
       "          0.00000000e+00,  -2.20414824e-26,   1.07133548e-12,\n",
       "         -9.05561985e-01,  -4.24213968e-01,   5.18340854e-17,\n",
       "         -5.51960293e-18,   2.49640366e-18,   9.86754194e-17],\n",
       "       [  8.57353236e-19,  -1.00224358e-16,  -4.93038066e-32,\n",
       "          8.04083840e-17,  -1.87029226e-32,   2.33663327e-37,\n",
       "          0.00000000e+00,  -4.28693854e-27,   2.82717134e-13,\n",
       "         -4.24213968e-01,   9.05561985e-01,   3.54104163e-17,\n",
       "         -1.41911070e-18,   7.09992480e-17,  -7.11776494e-17]])\n",
       "    njev: 12)"
      ]
     },
     "execution_count": 30,
     "metadata": {},
     "output_type": "execute_result"
    }
   ],
   "source": [
    "reaction_system.root(init_conc, scaling=1e5, delta=1)"
   ]
  },
  {
   "cell_type": "code",
   "execution_count": null,
   "metadata": {
    "collapsed": true
   },
   "outputs": [],
   "source": []
  }
 ],
 "metadata": {
  "kernelspec": {
   "display_name": "Python 2",
   "language": "python",
   "name": "python2"
  },
  "language_info": {
   "codemirror_mode": {
    "name": "ipython",
    "version": 2
   },
   "file_extension": ".py",
   "mimetype": "text/x-python",
   "name": "python",
   "nbconvert_exporter": "python",
   "pygments_lexer": "ipython2",
   "version": "2.7.6"
  }
 },
 "nbformat": 4,
 "nbformat_minor": 0
}
