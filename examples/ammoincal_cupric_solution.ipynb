{
 "cells": [
  {
   "cell_type": "code",
   "execution_count": 1,
   "metadata": {
    "collapsed": false
   },
   "outputs": [],
   "source": [
    "from aqchem.chemistry import Solute, elements\n",
    "from aqchem.equilibria import Equilibrium, EqSystem, charge_balance, atom_balance\n",
    "from IPython.display import Latex, display\n",
    "import periodictable"
   ]
  },
  {
   "cell_type": "code",
   "execution_count": 2,
   "metadata": {
    "collapsed": false
   },
   "outputs": [],
   "source": [
    "def show(s): display(Latex('$'+s+'$'))"
   ]
  },
  {
   "cell_type": "code",
   "execution_count": 3,
   "metadata": {
    "collapsed": false
   },
   "outputs": [],
   "source": [
    "substances = H2O, Hp, OHm, NH4p, NH3, Cupp, CuNH31pp, CuNH32pp, CuNH33pp, CuNH34pp, CuNH35pp, Cu2OH2pp, CuOH3m, CuOH4mm, CuOH2 = [#, CuOHp, CuOH2, =\n",
    "    Solute(n, latex_name=l, formula=periodictable.formula(n)) for n, l in [\n",
    "        ('H2O', 'H_2O'), ('H{+}', 'H^+'), ('HO{-}', 'OH^-'), ('NH3 + H{+}', 'NH_4^+'),\n",
    "        ('NH3', 'NH_3'), ('Cu{2+}', 'Cu^{2+}'), ('Cu{2+}NH3', 'Cu(NH_3)^{2+}'),\n",
    "        ('Cu{2+}(NH3)2', 'Cu(NH_3)_2^{2+}'), ('Cu{2+}(NH3)3', 'Cu(NH_3)_3^{2+}'),\n",
    "        ('Cu{2+}(NH3)4', 'Cu(NH_3)_4^{2+}'), ('Cu{2+}(NH3)5', 'Cu(NH_3)_5^{2+}'), \n",
    "        ('2Cu{2+} + 2HO{-}', 'Cu_2(OH)_2^{2+}'),\n",
    "        ('Cu{2+} + 3HO{-}', 'Cu(OH)_3^-'), ('Cu{2+} + 4HO{-}', 'Cu(OH)_4^{2-}'),\n",
    "        ('Cu{2+} + 2HO{-}', 'Cu(OH_2)(s)'),\n",
    "    ]]\n",
    "CuOH2.solid = True"
   ]
  },
  {
   "cell_type": "code",
   "execution_count": 4,
   "metadata": {
    "collapsed": false
   },
   "outputs": [
    {
     "data": {
      "text/latex": [
       "$H_2O, H^+, OH^-, NH_4^+, NH_3, Cu^{2+}, Cu(NH_3)^{2+}, Cu(NH_3)_2^{2+}, Cu(NH_3)_3^{2+}, Cu(NH_3)_4^{2+}, Cu(NH_3)_5^{2+}, Cu_2(OH)_2^{2+}, Cu(OH)_3^-, Cu(OH)_4^{2-}, Cu(OH_2)(s)$"
      ],
      "text/plain": [
       "<IPython.core.display.Latex object>"
      ]
     },
     "metadata": {},
     "output_type": "display_data"
    }
   ],
   "source": [
    "show(', '.join([s.latex_name for s in substances])) # + r'(\\mathrm{%s})' % (str(s.formula.atoms) + ', ' + str(s.charge))"
   ]
  },
  {
   "cell_type": "code",
   "execution_count": 5,
   "metadata": {
    "collapsed": false
   },
   "outputs": [],
   "source": [
    "init_conc = {Hp: 1e-7, OHm: 1e-7, NH4p: 0, NH3: 1.0, Cupp: 1e-2, \n",
    "            CuNH31pp: 0, CuNH32pp: 0, CuNH33pp: 0, CuNH34pp: 0, CuNH35pp: 0,\n",
    "            H2O: 55.5, Cu2OH2pp: 0, CuOH2: 0, CuOH3m: 0, CuOH4mm: 0}"
   ]
  },
  {
   "cell_type": "code",
   "execution_count": 6,
   "metadata": {
    "collapsed": false
   },
   "outputs": [],
   "source": [
    "H2O_c = init_conc[H2O]\n",
    "w_autop = Equilibrium({H2O: 1}, {Hp: 1, OHm: 1}, 10**-14/H2O_c)\n",
    "NH4p_pr = Equilibrium({NH4p: 1}, {Hp: 1, NH3: 1}, 10**-9.26)\n",
    "CuOH2_s = Equilibrium({CuOH2: 1}, {Cupp: 1, OHm: 2}, 10**-18.8)\n",
    "CuOH_B3 = Equilibrium({CuOH2: 1, OHm: 1}, {CuOH3m: 1}, 10**-3.6)\n",
    "CuOH_B4 = Equilibrium({CuOH2: 1, OHm: 2}, {CuOH4mm: 1}, 10**-2.7)\n",
    "Cu2OH2 = Equilibrium({Cupp: 2, H2O: 2}, {Cu2OH2pp: 1, Hp: 2}, 10**4.3 * H2O_c**2)\n",
    "CuNH3_B1 = Equilibrium({CuNH31pp: 1}, {Cupp: 1, NH3: 1}, 10**4.3)\n",
    "CuNH3_B2 = Equilibrium({CuNH32pp: 1}, {Cupp: 1, NH3: 2}, 10**7.9)\n",
    "CuNH3_B3 = Equilibrium({CuNH33pp: 1}, {Cupp: 1, NH3: 3}, 10**10.8)\n",
    "CuNH3_B4 = Equilibrium({CuNH34pp: 1}, {Cupp: 1, NH3: 4}, 10**13.0)\n",
    "CuNH3_B5 = Equilibrium({CuNH35pp: 1}, {Cupp: 1, NH3: 5}, 10**12.4)\n",
    "equilibria = w_autop, NH4p_pr, CuNH3_B1, CuNH3_B2, CuNH3_B3, CuNH3_B4, CuNH3_B5, Cu2OH2, CuOH_B3, CuOH_B4, CuOH2_s\n",
    "skip_subs, skip_eq = (4, 4) # (0, 0), (1, 1), (3, 3), (4, 4), (11, 9)\n",
    "simpl_subs = substances[:-skip_subs]\n",
    "simpl_eq = equilibria[:-skip_eq]\n",
    "simpl_c0 = {k: init_conc[k] for k in simpl_subs}"
   ]
  },
  {
   "cell_type": "code",
   "execution_count": 7,
   "metadata": {
    "collapsed": false
   },
   "outputs": [
    {
     "data": {
      "text/latex": [
       "$H_2O, H^+, OH^-, NH_4^+, NH_3, Cu^{2+}, Cu(NH_3)^{2+}, Cu(NH_3)_2^{2+}, Cu(NH_3)_3^{2+}, Cu(NH_3)_4^{2+}, Cu(NH_3)_5^{2+}$"
      ],
      "text/plain": [
       "<IPython.core.display.Latex object>"
      ]
     },
     "metadata": {},
     "output_type": "display_data"
    },
    {
     "data": {
      "text/latex": [
       "$~$"
      ],
      "text/plain": [
       "<IPython.core.display.Latex object>"
      ]
     },
     "metadata": {},
     "output_type": "display_data"
    },
    {
     "data": {
      "text/latex": [
       "$H_2O \\rightleftharpoons H^+ + OH^-~~~~~~~~~~~~~~~~~~~~~~~~~~~~~~~~~~~~~lgK =      -15.744$"
      ],
      "text/plain": [
       "<IPython.core.display.Latex object>"
      ]
     },
     "metadata": {},
     "output_type": "display_data"
    },
    {
     "data": {
      "text/latex": [
       "$NH_4^+ \\rightleftharpoons H^+ + NH_3~~~~~~~~~~~~~~~~~~~~~~~~~~~~~~~~~~~~~lgK =        -9.26$"
      ],
      "text/plain": [
       "<IPython.core.display.Latex object>"
      ]
     },
     "metadata": {},
     "output_type": "display_data"
    },
    {
     "data": {
      "text/latex": [
       "$Cu(NH_3)^{2+} \\rightleftharpoons Cu^{2+} + NH_3~~~~~~~~~~~~~~~~~~~~~~~~~~~~~~~~~~~~~lgK =          4.3$"
      ],
      "text/plain": [
       "<IPython.core.display.Latex object>"
      ]
     },
     "metadata": {},
     "output_type": "display_data"
    },
    {
     "data": {
      "text/latex": [
       "$Cu(NH_3)_2^{2+} \\rightleftharpoons Cu^{2+} + 2 NH_3~~~~~~~~~~~~~~~~~~~~~~~~~~~~~~~~~~~~~lgK =          7.9$"
      ],
      "text/plain": [
       "<IPython.core.display.Latex object>"
      ]
     },
     "metadata": {},
     "output_type": "display_data"
    },
    {
     "data": {
      "text/latex": [
       "$Cu(NH_3)_3^{2+} \\rightleftharpoons Cu^{2+} + 3 NH_3~~~~~~~~~~~~~~~~~~~~~~~~~~~~~~~~~~~~~lgK =         10.8$"
      ],
      "text/plain": [
       "<IPython.core.display.Latex object>"
      ]
     },
     "metadata": {},
     "output_type": "display_data"
    },
    {
     "data": {
      "text/latex": [
       "$Cu(NH_3)_4^{2+} \\rightleftharpoons Cu^{2+} + 4 NH_3~~~~~~~~~~~~~~~~~~~~~~~~~~~~~~~~~~~~~lgK =           13$"
      ],
      "text/plain": [
       "<IPython.core.display.Latex object>"
      ]
     },
     "metadata": {},
     "output_type": "display_data"
    },
    {
     "data": {
      "text/latex": [
       "$Cu(NH_3)_5^{2+} \\rightleftharpoons Cu^{2+} + 5 NH_3~~~~~~~~~~~~~~~~~~~~~~~~~~~~~~~~~~~~~lgK =         12.4$"
      ],
      "text/plain": [
       "<IPython.core.display.Latex object>"
      ]
     },
     "metadata": {},
     "output_type": "display_data"
    },
    {
     "data": {
      "text/plain": [
       "{'Cu{2+}': 0.01,\n",
       " 'Cu{2+}(NH3)2': 0,\n",
       " 'Cu{2+}(NH3)3': 0,\n",
       " 'Cu{2+}(NH3)4': 0,\n",
       " 'Cu{2+}(NH3)5': 0,\n",
       " 'Cu{2+}NH3': 0,\n",
       " 'H2O': 55.5,\n",
       " 'HO{-}': 1e-07,\n",
       " 'H{+}': 1e-07,\n",
       " 'NH3': 1.0,\n",
       " 'NH3 + H{+}': 0}"
      ]
     },
     "execution_count": 7,
     "metadata": {},
     "output_type": "execute_result"
    }
   ],
   "source": [
    "show(', '.join([s.latex_name for s in simpl_subs]))\n",
    "show('~')\n",
    "from math import log10\n",
    "for eq in simpl_eq:\n",
    "    ltx = eq.latex()\n",
    "    show(ltx + '~~~~~~~~~~~~~~~~~~~~~~~~~~~~~~~~~~~~~lgK = {0:12.5g}'.format(log10(eq.params)))\n",
    "{k.name: v for k, v in simpl_c0.items()}"
   ]
  },
  {
   "cell_type": "code",
   "execution_count": 8,
   "metadata": {
    "collapsed": false
   },
   "outputs": [
    {
     "data": {
      "image/png": "[encoded data removed]",
      "text/latex": [
       "$$\\left [ 5.55 \\cdot 10^{15} e^{- x_{0} + x_{1} + x_{2}} - 1, \\quad 1819700858.60998 e^{x_{1} - x_{3} + x_{4}} - 1, \\quad 5.01187233627272 \\cdot 10^{-5} e^{x_{4} + x_{5} - x_{6}} - 1, \\quad 1.25892541179417 \\cdot 10^{-8} e^{2 x_{4} + x_{5} - x_{7}} - 1, \\quad 1.58489319246111 \\cdot 10^{-11} e^{3 x_{4} + x_{5} - x_{8}} - 1, \\quad 1.0 \\cdot 10^{-13} e^{4 x_{4} + x_{5} - x_{9}} - 1, \\quad 3.98107170553497 \\cdot 10^{-13} e^{- x_{10} + 5 x_{4} + x_{5}} - 1, \\quad - i_{0} - i_{2} + e^{x_{0}} + e^{x_{2}}, \\quad - i_{1} + 5 i_{10} + i_{2} + i_{4} + i_{6} + 2 i_{7} + 3 i_{8} + 4 i_{9} + e^{x_{1}} - 5 e^{x_{10}} - e^{x_{2}} - e^{x_{4}} - e^{x_{6}} - 2 e^{x_{7}} - 3 e^{x_{8}} - 4 e^{x_{9}}, \\quad - 5 i_{10} - i_{3} - i_{4} - i_{6} - 2 i_{7} - 3 i_{8} - 4 i_{9} + 5 e^{x_{10}} + e^{x_{3}} + e^{x_{4}} + e^{x_{6}} + 2 e^{x_{7}} + 3 e^{x_{8}} + 4 e^{x_{9}}, \\quad - i_{10} - i_{5} - i_{6} - i_{7} - i_{8} - i_{9} + e^{x_{10}} + e^{x_{5}} + e^{x_{6}} + e^{x_{7}} + e^{x_{8}} + e^{x_{9}}\\right ]$$"
      ],
      "text/plain": [
       "⎡          -x₀ + x₁ + x₂                        x₁ - x₃ + x₄                  \n",
       "⎣5.55e+15⋅ℯ              - 1, 1819700858.60998⋅ℯ             - 1, 5.0118723362\n",
       "\n",
       "         x₄ + x₅ - x₆                           2⋅x₄ + x₅ - x₇                \n",
       "7272e-5⋅ℯ             - 1, 1.25892541179417e-8⋅ℯ               - 1, 1.58489319\n",
       "\n",
       "            3⋅x₄ + x₅ - x₈               4⋅x₄ + x₅ - x₉                       \n",
       "246111e-11⋅ℯ               - 1, 1.0e-13⋅ℯ               - 1, 3.98107170553497e\n",
       "\n",
       "     -x₁₀ + 5⋅x₄ + x₅                  x₀    x₂                               \n",
       "-13⋅ℯ                 - 1, -i₀ - i₂ + ℯ   + ℯ  , -i₁ + 5⋅i₁₀ + i₂ + i₄ + i₆ + \n",
       "\n",
       "                      x₁      x₁₀    x₂    x₄    x₆      x₇      x₈      x₉   \n",
       "2⋅i₇ + 3⋅i₈ + 4⋅i₉ + ℯ   - 5⋅ℯ    - ℯ   - ℯ   - ℯ   - 2⋅ℯ   - 3⋅ℯ   - 4⋅ℯ  , -\n",
       "\n",
       "                                               x₁₀    x₃    x₄    x₆      x₇  \n",
       "5⋅i₁₀ - i₃ - i₄ - i₆ - 2⋅i₇ - 3⋅i₈ - 4⋅i₉ + 5⋅ℯ    + ℯ   + ℯ   + ℯ   + 2⋅ℯ   +\n",
       "\n",
       "    x₈      x₉                                   x₁₀    x₅    x₆    x₇    x₈  \n",
       " 3⋅ℯ   + 4⋅ℯ  , -i₁₀ - i₅ - i₆ - i₇ - i₈ - i₉ + ℯ    + ℯ   + ℯ   + ℯ   + ℯ   +\n",
       "\n",
       "  x₉⎤\n",
       " ℯ  ⎦"
      ]
     },
     "execution_count": 8,
     "metadata": {},
     "output_type": "execute_result"
    }
   ],
   "source": [
    "eqsys = EqSystem(simpl_eq, simpl_subs)\n",
    "import sympy as sp\n",
    "sp.init_printing()\n",
    "x, i = sp.symarray('x', eqsys.ns), sp.symarray('i', eqsys.ns)\n",
    "f = eqsys.f(x, i, norm=True)\n",
    "subs = [(_, sp.exp(_)) for _ in x]\n",
    "[_.subs(subs).powsimp() for _ in f]"
   ]
  },
  {
   "cell_type": "code",
   "execution_count": 9,
   "metadata": {
    "collapsed": false
   },
   "outputs": [
    {
     "data": {
      "image/png": "[encoded data removed]",
      "text/latex": [
       "$$\\left[\\begin{array}{ccccccccccc}- \\frac{x_{1} x_{2}}{x_{0}^{2}} 5.55 \\cdot 10^{15} & \\frac{x_{2}}{x_{0}} 5.55 \\cdot 10^{15} & \\frac{x_{1}}{x_{0}} 5.55 \\cdot 10^{15} & 0 & 0 & 0 & 0 & 0 & 0 & 0 & 0\\\\0 & \\frac{1819700858.60998 x_{4}}{x_{3}} & 0 & - \\frac{1819700858.60998 x_{1}}{x_{3}^{2}} x_{4} & \\frac{1819700858.60998 x_{1}}{x_{3}} & 0 & 0 & 0 & 0 & 0 & 0\\\\0 & 0 & 0 & 0 & \\frac{x_{5}}{x_{6}} 5.01187233627272 \\cdot 10^{-5} & \\frac{x_{4}}{x_{6}} 5.01187233627272 \\cdot 10^{-5} & - \\frac{x_{4} x_{5}}{x_{6}^{2}} 5.01187233627272 \\cdot 10^{-5} & 0 & 0 & 0 & 0\\\\0 & 0 & 0 & 0 & \\frac{x_{4} x_{5}}{x_{7}} 2.51785082358833 \\cdot 10^{-8} & \\frac{x_{4}^{2}}{x_{7}} 1.25892541179417 \\cdot 10^{-8} & 0 & - \\frac{x_{4}^{2} x_{5}}{x_{7}^{2}} 1.25892541179417 \\cdot 10^{-8} & 0 & 0 & 0\\\\0 & 0 & 0 & 0 & \\frac{x_{4}^{2} x_{5}}{x_{8}} 4.75467957738333 \\cdot 10^{-11} & \\frac{x_{4}^{3}}{x_{8}} 1.58489319246111 \\cdot 10^{-11} & 0 & 0 & - \\frac{x_{4}^{3} x_{5}}{x_{8}^{2}} 1.58489319246111 \\cdot 10^{-11} & 0 & 0\\\\0 & 0 & 0 & 0 & \\frac{x_{4}^{3} x_{5}}{x_{9}} 4.0 \\cdot 10^{-13} & \\frac{x_{4}^{4}}{x_{9}} 1.0 \\cdot 10^{-13} & 0 & 0 & 0 & - \\frac{x_{4}^{4} x_{5}}{x_{9}^{2}} 1.0 \\cdot 10^{-13} & 0\\\\0 & 0 & 0 & 0 & \\frac{x_{4}^{4} x_{5}}{x_{10}} 1.99053585276748 \\cdot 10^{-12} & \\frac{x_{4}^{5}}{x_{10}} 3.98107170553497 \\cdot 10^{-13} & 0 & 0 & 0 & 0 & - \\frac{x_{4}^{5} x_{5}}{x_{10}^{2}} 3.98107170553497 \\cdot 10^{-13}\\\\1 & 0 & 1 & 0 & 0 & 0 & 0 & 0 & 0 & 0 & 0\\\\0 & 1 & -1 & 0 & -1 & 0 & -1 & -2 & -3 & -4 & -5\\\\0 & 0 & 0 & 1 & 1 & 0 & 1 & 2 & 3 & 4 & 5\\\\0 & 0 & 0 & 0 & 0 & 1 & 1 & 1 & 1 & 1 & 1\\end{array}\\right]$$"
      ],
      "text/plain": [
       "⎡-5.55e+15⋅x₁⋅x₂       5.55e+15⋅x₂      5.55e+15⋅x₁                           \n",
       "⎢────────────────      ───────────      ───────────             0             \n",
       "⎢        2                  x₀               x₀                               \n",
       "⎢      x₀                                                                     \n",
       "⎢                                                                             \n",
       "⎢                  1819700858.60998⋅x₄               -1819700858.60998⋅x₁⋅x₄  \n",
       "⎢       0          ───────────────────       0       ──────────────────────── \n",
       "⎢                           x₃                                   2            \n",
       "⎢                                                              x₃             \n",
       "⎢                                                                             \n",
       "⎢                                                                             \n",
       "⎢       0                   0                0                  0             \n",
       "⎢                                                                             \n",
       "⎢                                                                             \n",
       "⎢                                                                             \n",
       "⎢                                                                             \n",
       "⎢                                                                             \n",
       "⎢       0                   0                0                  0             \n",
       "⎢                                                                             \n",
       "⎢                                                                             \n",
       "⎢                                                                             \n",
       "⎢                                                                             \n",
       "⎢                                                                             \n",
       "⎢       0                   0                0                  0             \n",
       "⎢                                                                             \n",
       "⎢                                                                             \n",
       "⎢                                                                             \n",
       "⎢                                                                             \n",
       "⎢                                                                             \n",
       "⎢       0                   0                0                  0             \n",
       "⎢                                                                             \n",
       "⎢                                                                             \n",
       "⎢                                                                             \n",
       "⎢                                                                             \n",
       "⎢                                                                             \n",
       "⎢       0                   0                0                  0             \n",
       "⎢                                                                             \n",
       "⎢                                                                             \n",
       "⎢                                                                             \n",
       "⎢       1                   0                1                  0             \n",
       "⎢                                                                             \n",
       "⎢       0                   1               -1                  0             \n",
       "⎢                                                                             \n",
       "⎢       0                   0                0                  1             \n",
       "⎢                                                                             \n",
       "⎣       0                   0                0                  0             \n",
       "\n",
       "                                                                              \n",
       "              0                          0                           0        \n",
       "                                                                              \n",
       "                                                                              \n",
       "                                                                              \n",
       "     1819700858.60998⋅x₁                                                      \n",
       "     ───────────────────                 0                           0        \n",
       "              x₃                                                              \n",
       "                                                                              \n",
       "                                                                              \n",
       "   5.01187233627272e-5⋅x₅      5.01187233627272e-5⋅x₄   -5.01187233627272e-5⋅x\n",
       "   ──────────────────────      ──────────────────────   ──────────────────────\n",
       "             x₆                          x₆                           2       \n",
       "                                                                    x₆        \n",
       "                                                                              \n",
       "                                                    2                         \n",
       "  2.51785082358833e-8⋅x₄⋅x₅   1.25892541179417e-8⋅x₄                          \n",
       "  ─────────────────────────   ───────────────────────                0        \n",
       "              x₇                         x₇                                   \n",
       "                                                                              \n",
       "                                                                              \n",
       "                        2                            3                        \n",
       " 4.75467957738333e-11⋅x₄ ⋅x₅  1.58489319246111e-11⋅x₄                         \n",
       " ───────────────────────────  ────────────────────────               0        \n",
       "              x₈                         x₈                                   \n",
       "                                                                              \n",
       "                                                                              \n",
       "                 3                            4                               \n",
       "       4.0e-13⋅x₄ ⋅x₅               1.0e-13⋅x₄                                \n",
       "       ──────────────               ───────────                      0        \n",
       "             x₉                          x₉                                   \n",
       "                                                                              \n",
       "                                                                              \n",
       "                        4                            5                        \n",
       " 1.99053585276748e-12⋅x₄ ⋅x₅  3.98107170553497e-13⋅x₄                         \n",
       " ───────────────────────────  ────────────────────────               0        \n",
       "             x₁₀                        x₁₀                                   \n",
       "                                                                              \n",
       "                                                                              \n",
       "              0                          0                           0        \n",
       "                                                                              \n",
       "             -1                          0                          -1        \n",
       "                                                                              \n",
       "              1                          0                           1        \n",
       "                                                                              \n",
       "              0                          1                           1        \n",
       "\n",
       "                                                                              \n",
       "                    0                              0                       0  \n",
       "                                                                              \n",
       "                                                                              \n",
       "                                                                              \n",
       "                                                                              \n",
       "                    0                              0                       0  \n",
       "                                                                              \n",
       "                                                                              \n",
       "                                                                              \n",
       "₄⋅x₅                                                                          \n",
       "─────               0                              0                       0  \n",
       "                                                                              \n",
       "                                                                              \n",
       "                                                                              \n",
       "                              2                                               \n",
       "       -1.25892541179417e-8⋅x₄ ⋅x₅                                            \n",
       "       ────────────────────────────                0                       0  \n",
       "                     2                                                        \n",
       "                   x₇                                                         \n",
       "                                                                              \n",
       "                                                             3                \n",
       "                                     -1.58489319246111e-11⋅x₄ ⋅x₅             \n",
       "                    0                ─────────────────────────────         0  \n",
       "                                                    2                         \n",
       "                                                  x₈                          \n",
       "                                                                              \n",
       "                                                                              \n",
       "                                                                    -1.0e-13⋅x\n",
       "                    0                              0                ──────────\n",
       "                                                                            2 \n",
       "                                                                          x₉  \n",
       "                                                                              \n",
       "                                                                              \n",
       "                                                                              \n",
       "                    0                              0                       0  \n",
       "                                                                              \n",
       "                                                                              \n",
       "                                                                              \n",
       "                    0                              0                       0  \n",
       "                                                                              \n",
       "                    -2                            -3                       -4 \n",
       "                                                                              \n",
       "                    2                              3                       4  \n",
       "                                                                              \n",
       "                    1                              1                       1  \n",
       "\n",
       "                                     ⎤\n",
       "                      0              ⎥\n",
       "                                     ⎥\n",
       "                                     ⎥\n",
       "                                     ⎥\n",
       "                                     ⎥\n",
       "                      0              ⎥\n",
       "                                     ⎥\n",
       "                                     ⎥\n",
       "                                     ⎥\n",
       "                                     ⎥\n",
       "                      0              ⎥\n",
       "                                     ⎥\n",
       "                                     ⎥\n",
       "                                     ⎥\n",
       "                                     ⎥\n",
       "                                     ⎥\n",
       "                      0              ⎥\n",
       "                                     ⎥\n",
       "                                     ⎥\n",
       "                                     ⎥\n",
       "                                     ⎥\n",
       "                                     ⎥\n",
       "                      0              ⎥\n",
       "                                     ⎥\n",
       "                                     ⎥\n",
       "                                     ⎥\n",
       " 4                                   ⎥\n",
       "₄ ⋅x₅                                ⎥\n",
       "──────                0              ⎥\n",
       "                                     ⎥\n",
       "                                     ⎥\n",
       "                                     ⎥\n",
       "                                5    ⎥\n",
       "        -3.98107170553497e-13⋅x₄ ⋅x₅ ⎥\n",
       "        ─────────────────────────────⎥\n",
       "                        2            ⎥\n",
       "                     x₁₀             ⎥\n",
       "                                     ⎥\n",
       "                      0              ⎥\n",
       "                                     ⎥\n",
       "                     -5              ⎥\n",
       "                                     ⎥\n",
       "                      5              ⎥\n",
       "                                     ⎥\n",
       "                      1              ⎦"
      ]
     },
     "execution_count": 9,
     "metadata": {},
     "output_type": "execute_result"
    }
   ],
   "source": [
    "sp.Matrix(1, len(f), lambda _, q: f[q]).jacobian(x)"
   ]
  },
  {
   "cell_type": "code",
   "execution_count": 10,
   "metadata": {
    "collapsed": false,
    "scrolled": true
   },
   "outputs": [
    {
     "name": "stderr",
     "output_type": "stream",
     "text": [
      "aqchem/equilibria.py:23: RuntimeWarning: divide by zero encountered in double_scalars\n",
      "  tot *= conc**nr\n"
     ]
    },
    {
     "data": {
      "text/plain": [
       "(array([  5.55000015e+01,   9.83288339e-09,   5.90433193e-07,\n",
       "          1.58061115e-06,   1.00985112e+00,   1.03217731e-02,\n",
       "          5.24281724e-07,   4.59413913e-08,   4.57929663e-08,\n",
       "          4.12088912e-08,   4.46633114e-08]),\n",
       "   status: 1\n",
       "   cov_x: array([[  2.71611779e+00,  -4.46584236e-03,  -1.71611779e+00,\n",
       "         -7.17872884e-01,  -1.19119474e-02,   6.20864982e+03,\n",
       "          3.25335979e-01,   2.85083353e-02,   2.84342711e-02,\n",
       "          2.84342705e-02,   2.84342700e-02],\n",
       "       [  2.55028265e-05,   3.83031349e-05,  -2.55028265e-05,\n",
       "          6.15713171e-03,   2.33576289e-05,   3.47072439e-01,\n",
       "          1.81867609e-05,   1.59365908e-06,   1.58951988e-06,\n",
       "          1.58952095e-06,   1.58952202e-06],\n",
       "       [ -1.71611779e+00,   4.46584236e-03,   1.71611779e+00,\n",
       "          7.17872884e-01,   1.19119474e-02,  -6.20864982e+03,\n",
       "         -3.25335979e-01,  -2.85083353e-02,  -2.84342711e-02,\n",
       "         -2.84342705e-02,  -2.84342700e-02],\n",
       "       [ -1.68678631e-02,   6.28676208e-03,   1.68678631e-02,\n",
       "          1.01058110e+00,  -4.19078917e-03,  -5.48329298e+01,\n",
       "         -2.87327187e-03,  -2.51777446e-04,  -2.51123530e-04,\n",
       "         -2.51123722e-04,  -2.51123914e-04],\n",
       "       [  4.97164134e-03,  -3.07370898e-05,  -4.97164134e-03,\n",
       "         -4.94090424e-03,   3.30094925e-03,   1.40717971e+01,\n",
       "          7.37370096e-04,   6.46139530e-05,   6.44462395e-05,\n",
       "          6.44463908e-05,   6.44465420e-05],\n",
       "       [  1.49226048e-04,  -9.22586290e-07,  -1.49226048e-04,\n",
       "         -1.48303461e-04,  -3.03497334e-05,   1.53296156e+00,\n",
       "          8.03278449e-05,   7.03891629e-06,   7.02062805e-06,\n",
       "          7.02062666e-06,   7.02062527e-06],\n",
       "       [  1.04260142e-08,  -6.44585928e-11,  -1.04260142e-08,\n",
       "         -1.03615556e-08,   1.40263301e-10,   8.77053417e-05,\n",
       "          4.59579861e-09,   4.02717746e-10,   4.01671506e-10,\n",
       "          4.01671513e-10,   4.01671519e-10],\n",
       "       [  1.14200523e-09,  -7.06042255e-12,  -1.14200523e-09,\n",
       "         -1.13494481e-09,   1.63939065e-10,   8.33185755e-06,\n",
       "          4.36593092e-10,   3.82575114e-11,   3.81581273e-11,\n",
       "          3.81581348e-11,   3.81581423e-11],\n",
       "       [  1.36684602e-09,  -8.45049695e-12,  -1.36684602e-09,\n",
       "         -1.35839552e-09,   3.14767342e-10,   8.95500143e-06,\n",
       "          4.69246184e-10,   4.11188229e-11,   4.10120121e-11,\n",
       "          4.10120265e-11,   4.10120410e-11],\n",
       "       [  1.59465369e-09,  -9.85891408e-12,  -1.59465369e-09,\n",
       "         -1.58479477e-09,   4.66021526e-10,   9.59979116e-06,\n",
       "          5.03033530e-10,   4.40795260e-11,   4.39650304e-11,\n",
       "          4.39650517e-11,   4.39650731e-11],\n",
       "       [  1.82246136e-09,  -1.12673312e-11,  -1.82246136e-09,\n",
       "         -1.81119402e-09,   6.17275711e-10,   1.02445809e-05,\n",
       "          5.36820875e-10,   4.70402291e-11,   4.69180486e-11,\n",
       "          4.69180769e-11,   4.69181052e-11]])\n",
       " success: True\n",
       "     qtf: array([ -2.51188621e+12,  -9.99999978e+12,  -6.30955161e+10,\n",
       "         7.92150336e+07,   8.68542099e+02,  -5.87687046e-03,\n",
       "        -1.56538479e+01,  -2.52906708e-06,   2.63876510e+00,\n",
       "        -1.66386810e-06,   1.81395680e-11])\n",
       "    nfev: 6\n",
       "    ipvt: array([11, 10,  9,  8,  7,  2,  5,  3,  6,  4,  1], dtype=int32)\n",
       "     fun: array([ -7.55736832e-17,   6.28222029e-03,  -7.12242597e+01,\n",
       "        -7.92037025e+07,  -6.30955023e+10,  -9.99999974e+12,\n",
       "        -2.51188619e+12,   1.99998921e-06,  -9.85283975e-03,\n",
       "         9.85383976e-03,   3.22474982e-04])\n",
       "       x: array([  5.55000015e+01,   9.83288339e-09,   5.90433193e-07,\n",
       "         1.58061115e-06,   1.00985112e+00,   1.03217731e-02,\n",
       "         5.24281724e-07,   4.59413913e-08,   4.57929663e-08,\n",
       "         4.12088912e-08,   4.46633114e-08])\n",
       " message: 'Both actual and predicted relative reductions in the sum of squares\\n  are at most 0.000000'\n",
       "    fjac: array([[ -4.76553047e+12,   4.03390313e-16,   3.05002432e-16,\n",
       "          2.06614551e-16,   1.08226669e-16,  -4.91939406e-17,\n",
       "         -5.11920668e+01,   4.91939406e-17,  -1.02331436e+03,\n",
       "          4.91939406e-17,   0.00000000e+00],\n",
       "       [ -8.60344935e-12,  -4.76546254e+12,   2.45973209e-16,\n",
       "          1.67261782e-16,   8.85503552e-17,  -8.88135353e-41,\n",
       "         -4.09530697e+01,   3.93557134e-17,  -1.02329977e+03,\n",
       "          4.26435186e-17,  -1.86738429e-62],\n",
       "       [ -6.50504707e-12,  -5.24608048e-12,  -4.76539462e+12,\n",
       "          1.27907892e-16,   2.45218279e-40,  -2.95172058e-17,\n",
       "         -3.07143645e+01,   2.95172058e-17,  -1.02328519e+03,\n",
       "          2.95172058e-17,  -1.49390743e-62],\n",
       "       [ -4.40664479e-12,  -3.56733472e-12,  -2.72800073e-12,\n",
       "          4.74059857e+12,   4.94526628e-17,  -1.97810651e-17,\n",
       "         -2.04227554e+01,   1.97810651e-17,  -1.02061218e+03,\n",
       "          1.97810651e-17,   2.10080732e-62],\n",
       "       [ -2.30824251e-12,  -1.88858897e-12,   0.00000000e+00,\n",
       "          1.05471913e-12,   3.64004316e+10,  -1.28809035e-15,\n",
       "         -8.94783405e-01,   1.28809035e-15,  -8.94322855e+01,\n",
       "          1.28809035e-15,  -6.72258343e-61],\n",
       "       [  1.04920114e-12,   0.00000000e+00,   6.29538630e-13,\n",
       "         -4.21887652e-13,  -2.74722017e-11,  -6.32675695e+05,\n",
       "          2.91607274e-07,  -7.41091287e-11,  -1.36745737e-15,\n",
       "         -1.84539721e-01,  -1.48604198e-36],\n",
       "       [  1.09181688e+06,   8.73441056e+05,   6.55071455e+05,\n",
       "         -4.35573527e+05,  -1.90838090e+04,  -6.21935711e-03,\n",
       "          1.41421781e+00,   2.92236330e-11,   1.94939167e+03,\n",
       "         -6.86305070e-10,   1.15567565e-40],\n",
       "       [ -1.04920114e-12,  -8.39372876e-13,  -6.29538630e-13,\n",
       "          4.21887652e-13,   2.74722017e-11,   1.58058861e-06,\n",
       "          7.07106785e-01,  -1.22474487e+00,  -1.88872725e-12,\n",
       "         -4.53419734e-16,   3.31541472e-05],\n",
       "       [  2.18250984e+07,   2.18247873e+07,   2.18244762e+07,\n",
       "         -2.17674668e+07,  -1.90739865e+06,   1.84413718e-10,\n",
       "          1.65638795e-04,   4.76055462e-07,  -1.00007073e+00,\n",
       "         -2.05846468e-19,  -4.70297580e-27],\n",
       "       [ -1.04920114e-12,  -9.09494702e-13,  -6.29538630e-13,\n",
       "          4.21887652e-13,   2.74722017e-11,   3.93583607e+03,\n",
       "          7.02707910e-01,   4.10787978e-01,   7.74921287e-07,\n",
       "         -5.80941933e-01,  -1.86171774e-24],\n",
       "       [  0.00000000e+00,   3.98272978e-58,   3.18618382e-58,\n",
       "          4.48057100e-58,  -1.43378272e-56,   3.16940850e-32,\n",
       "          2.79645028e-30,  -8.16496582e-01,  -3.88670167e-07,\n",
       "         -5.77350267e-01,   2.45027554e-10]])\n",
       "    njev: 1)"
      ]
     },
     "execution_count": 10,
     "metadata": {},
     "output_type": "execute_result"
    }
   ],
   "source": [
    "eqsys.root(simpl_c0, delta=1e-6, method='lm')\n",
    "#eqsys.root({H2O: 55.5, Hp: 1e-10, OHm: 1e-3, NH3: 1.0, NH4p: 1e-3}, delta=1e-6, method='lm')"
   ]
  },
  {
   "cell_type": "code",
   "execution_count": 39,
   "metadata": {
    "collapsed": false
   },
   "outputs": [
    {
     "data": {
      "image/png": "[encoded data removed]",
      "text/plain": [
       "<matplotlib.figure.Figure at 0x7f29104c3350>"
      ]
     },
     "metadata": {},
     "output_type": "display_data"
    }
   ],
   "source": [
    "%matplotlib inline\n",
    "import numpy as np\n",
    "x, inits_out, success = eqsys.plot(simpl_c0, NH3, np.logspace(-3, 1), delta=1e-6, method='lm',\n",
    "                                   carry=False)#, pres1st=True, norm=True, scaling=1)"
   ]
  },
  {
   "cell_type": "code",
   "execution_count": 12,
   "metadata": {
    "collapsed": false
   },
   "outputs": [
    {
     "data": {
      "image/png": "[encoded data removed]",
      "text/plain": [
       "<matplotlib.figure.Figure at 0x7f292b02e250>"
      ]
     },
     "metadata": {},
     "output_type": "display_data"
    }
   ],
   "source": [
    "eqsys.plot_errors(x, inits_out, NH3)"
   ]
  },
  {
   "cell_type": "code",
   "execution_count": 13,
   "metadata": {
    "collapsed": false,
    "scrolled": false
   },
   "outputs": [
    {
     "data": {
      "text/latex": [
       "$H_2O \\rightleftharpoons H^+ + OH^-$"
      ],
      "text/plain": [
       "<IPython.core.display.Latex object>"
      ]
     },
     "metadata": {},
     "output_type": "display_data"
    },
    {
     "data": {
      "text/latex": [
       "$NH_4^+ \\rightleftharpoons H^+ + NH_3$"
      ],
      "text/plain": [
       "<IPython.core.display.Latex object>"
      ]
     },
     "metadata": {},
     "output_type": "display_data"
    },
    {
     "data": {
      "text/latex": [
       "$Cu(NH_3)^{2+} \\rightleftharpoons Cu^{2+} + NH_3$"
      ],
      "text/plain": [
       "<IPython.core.display.Latex object>"
      ]
     },
     "metadata": {},
     "output_type": "display_data"
    },
    {
     "data": {
      "text/latex": [
       "$Cu(NH_3)_2^{2+} \\rightleftharpoons Cu^{2+} + 2 NH_3$"
      ],
      "text/plain": [
       "<IPython.core.display.Latex object>"
      ]
     },
     "metadata": {},
     "output_type": "display_data"
    },
    {
     "data": {
      "text/latex": [
       "$Cu(NH_3)_3^{2+} \\rightleftharpoons Cu^{2+} + 3 NH_3$"
      ],
      "text/plain": [
       "<IPython.core.display.Latex object>"
      ]
     },
     "metadata": {},
     "output_type": "display_data"
    },
    {
     "data": {
      "text/latex": [
       "$Cu(NH_3)_4^{2+} \\rightleftharpoons Cu^{2+} + 4 NH_3$"
      ],
      "text/plain": [
       "<IPython.core.display.Latex object>"
      ]
     },
     "metadata": {},
     "output_type": "display_data"
    },
    {
     "data": {
      "text/latex": [
       "$Cu(NH_3)_5^{2+} \\rightleftharpoons Cu^{2+} + 5 NH_3$"
      ],
      "text/plain": [
       "<IPython.core.display.Latex object>"
      ]
     },
     "metadata": {},
     "output_type": "display_data"
    },
    {
     "data": {
      "text/latex": [
       "$2 H_2O + 2 Cu^{2+} \\rightleftharpoons Cu_2(OH)_2^{2+} + 2 H^+$"
      ],
      "text/plain": [
       "<IPython.core.display.Latex object>"
      ]
     },
     "metadata": {},
     "output_type": "display_data"
    },
    {
     "data": {
      "text/latex": [
       "$Cu(OH_2)(s) + OH^- \\rightleftharpoons Cu(OH)_3^-$"
      ],
      "text/plain": [
       "<IPython.core.display.Latex object>"
      ]
     },
     "metadata": {},
     "output_type": "display_data"
    },
    {
     "data": {
      "text/latex": [
       "$Cu(OH_2)(s) + 2 OH^- \\rightleftharpoons Cu(OH)_4^{2-}$"
      ],
      "text/plain": [
       "<IPython.core.display.Latex object>"
      ]
     },
     "metadata": {},
     "output_type": "display_data"
    },
    {
     "data": {
      "text/latex": [
       "$Cu(OH_2)(s) \\rightleftharpoons Cu^{2+} + 2 OH^-$"
      ],
      "text/plain": [
       "<IPython.core.display.Latex object>"
      ]
     },
     "metadata": {},
     "output_type": "display_data"
    }
   ],
   "source": [
    "for eq in equilibria:\n",
    "    show(eq.latex())"
   ]
  },
  {
   "cell_type": "code",
   "execution_count": 14,
   "metadata": {
    "collapsed": true
   },
   "outputs": [],
   "source": [
    "reaction_system = EqSystem(equilibria, substances)"
   ]
  },
  {
   "cell_type": "code",
   "execution_count": 15,
   "metadata": {
    "collapsed": false
   },
   "outputs": [],
   "source": [
    "import sympy as sp\n",
    "#sp.init_printing()\n",
    "y = sp.symbols('y:'+str(len(substances)))\n",
    "s = sp.symbols('s')"
   ]
  },
  {
   "cell_type": "markdown",
   "metadata": {},
   "source": [
    "ys = []\n",
    "class LatexSymbol(sp.Symbol):\n",
    "    def _print_latex(self):\n",
    "        return self.name\n",
    "  \n",
    "for sbs in reaction_system.substances:\n",
    "    ys.append(LatexSymbol('[' + sbs.latex_name + ']'))\n",
    "    print(ys[-1].name)\n",
    "ys"
   ]
  },
  {
   "cell_type": "code",
   "execution_count": 16,
   "metadata": {
    "collapsed": false
   },
   "outputs": [
    {
     "data": {
      "image/png": "[encoded data removed]",
      "text/latex": [
       "$$\\left [ - 1.8018018018018 \\cdot 10^{-16} s + \\frac{y_{1} y_{2}}{y_{0}}, \\quad - 5.49540873857625 \\cdot 10^{-10} s + \\frac{y_{1} y_{4}}{y_{3}}, \\quad - 19952.6231496888 s + \\frac{y_{4} y_{5}}{y_{6}}, \\quad - 79432823.4724282 s^{2} + \\frac{y_{4}^{2} y_{5}}{y_{7}}, \\quad - 63095734448.0194 s^{3} + \\frac{y_{4}^{3} y_{5}}{y_{8}}, \\quad - 10000000000000.0 s^{4} + \\frac{y_{4}^{4} y_{5}}{y_{9}}, \\quad - 2511886431509.58 s^{5} + \\frac{y_{4}^{5} y_{5}}{y_{10}}, \\quad \\frac{y_{1}^{2} y_{11}}{y_{0}^{2} y_{5}^{2}} - \\frac{61459067.4568289}{s}, \\quad \\frac{y_{12}}{y_{14} y_{2}} - \\frac{0.000251188643150958}{y_{14}}, \\quad \\frac{y_{13}}{y_{14} y_{2}^{2}} - \\frac{0.00199526231496888}{s y_{14}}, \\quad - \\frac{s^{3}}{y_{14}} 1.58489319246111 \\cdot 10^{-19} + \\frac{y_{2}^{2} y_{5}}{y_{14}}\\right ]$$"
      ],
      "text/plain": [
       "⎡                                                                             \n",
       "⎢                            y₁⋅y₂                               y₁⋅y₄        \n",
       "⎢-- -1.8018018018018e-16⋅s + ─────, -- -5.49540873857625e-10⋅s + ─────, --1995\n",
       "⎢                              y₀                                  y₃         \n",
       "⎣                                                                             \n",
       "\n",
       "                                                             2                \n",
       "                      y₄⋅y₅                            2   y₄ ⋅y₅             \n",
       "2.6231496888⋅(-1)⋅s + ─────, - -79432823.4724282⋅(-1)⋅s  + ──────, - -63095734\n",
       "                        y₆                                   y₇               \n",
       "                                                                              \n",
       "\n",
       "                     3                                     4                  \n",
       "               3   y₄ ⋅y₅                            4   y₄ ⋅y₅               \n",
       "448.0194⋅(-1)⋅s  + ──────, - -10000000000000.0⋅(-1)⋅s  + ──────, - -2511886431\n",
       "                     y₈                                    y₉                 \n",
       "                                                                              \n",
       "\n",
       "                   5       2                                                  \n",
       "             5   y₄ ⋅y₅  y₁ ⋅y₁₁   -61459067.4568289⋅(-1)   y₁₂     - -0.00025\n",
       "509.58⋅(-1)⋅s  + ──────, ─────── - ──────────────────────, ────── - ──────────\n",
       "                  y₁₀      2   2             s             y₁₄⋅y₂             \n",
       "                         y₀ ⋅y₅                                               \n",
       "\n",
       "                                                                              \n",
       "1188643150958     y₁₃     - -0.00199526231496888     - -1.58489319246111e-19⋅s\n",
       "──────────────, ─────── - ───────────────────────, - ─────────────────────────\n",
       "y₁₄                   2            s⋅y₁₄                         y₁₄          \n",
       "                y₁₄⋅y₂                                                        \n",
       "\n",
       "3      2   ⎤\n",
       "     y₂ ⋅y₅⎥\n",
       "── + ──────⎥\n",
       "      y₁₄  ⎥\n",
       "           ⎦"
      ]
     },
     "execution_count": 16,
     "metadata": {},
     "output_type": "execute_result"
    }
   ],
   "source": [
    "qk = reaction_system.qk(y, scaling=s)\n",
    "qk"
   ]
  },
  {
   "cell_type": "code",
   "execution_count": 17,
   "metadata": {
    "collapsed": false
   },
   "outputs": [
    {
     "data": {
      "image/png": "[encoded data removed]",
      "text/latex": [
       "$$y_{1} + 2 y_{10} + 2 y_{11} - y_{12} - 2 y_{13} - y_{2} + y_{3} + 2 y_{5} + 2 y_{6} + 2 y_{7} + 2 y_{8} + 2 y_{9}$$"
      ],
      "text/plain": [
       "y₁ + 2⋅y₁₀ + 2⋅y₁₁ - y₁₂ - 2⋅y₁₃ - y₂ + y₃ + 2⋅y₅ + 2⋅y₆ + 2⋅y₇ + 2⋅y₈ + 2⋅y₉"
      ]
     },
     "execution_count": 17,
     "metadata": {},
     "output_type": "execute_result"
    }
   ],
   "source": [
    "charge_balance(substances, y)"
   ]
  },
  {
   "cell_type": "code",
   "execution_count": 18,
   "metadata": {
    "collapsed": false
   },
   "outputs": [
    {
     "data": {
      "image/png": "[encoded data removed]",
      "text/latex": [
       "$$2 y_{0} + y_{1} + 15 y_{10} + 2 y_{11} + 3 y_{12} + 4 y_{13} + 2 y_{14} + y_{2} + 4 y_{3} + 3 y_{4} + 3 y_{6} + 6 y_{7} + 9 y_{8} + 12 y_{9}$$"
      ],
      "text/plain": [
       "2⋅y₀ + y₁ + 15⋅y₁₀ + 2⋅y₁₁ + 3⋅y₁₂ + 4⋅y₁₃ + 2⋅y₁₄ + y₂ + 4⋅y₃ + 3⋅y₄ + 3⋅y₆ +\n",
       " 6⋅y₇ + 9⋅y₈ + 12⋅y₉"
      ]
     },
     "execution_count": 18,
     "metadata": {},
     "output_type": "execute_result"
    }
   ],
   "source": [
    "atom_balance(substances, y, 1)"
   ]
  },
  {
   "cell_type": "code",
   "execution_count": 19,
   "metadata": {
    "collapsed": false
   },
   "outputs": [
    {
     "data": {
      "image/png": "[encoded data removed]",
      "text/latex": [
       "$$\\left [ \\frac{y_{1} y_{2}}{y_{0}}, \\quad \\frac{y_{1} y_{4}}{y_{3}}, \\quad \\frac{y_{4} y_{5}}{y_{6}}, \\quad \\frac{y_{4}^{2} y_{5}}{y_{7}}, \\quad \\frac{y_{4}^{3} y_{5}}{y_{8}}, \\quad \\frac{y_{4}^{4} y_{5}}{y_{9}}, \\quad \\frac{y_{4}^{5} y_{5}}{y_{10}}, \\quad \\frac{y_{1}^{2} y_{11}}{y_{0}^{2} y_{5}^{2}}, \\quad \\frac{y_{12}}{y_{14} y_{2}}, \\quad \\frac{y_{13}}{y_{14} y_{2}^{2}}, \\quad \\frac{y_{2}^{2} y_{5}}{y_{14}}\\right ]$$"
      ],
      "text/plain": [
       "⎡                       2       3       4       5       2                     \n",
       "⎢y₁⋅y₂  y₁⋅y₄  y₄⋅y₅  y₄ ⋅y₅  y₄ ⋅y₅  y₄ ⋅y₅  y₄ ⋅y₅  y₁ ⋅y₁₁   y₁₂      y₁₃  \n",
       "⎢─────, ─────, ─────, ──────, ──────, ──────, ──────, ───────, ──────, ───────\n",
       "⎢  y₀     y₃     y₆     y₇      y₈      y₉     y₁₀      2   2  y₁₄⋅y₂        2\n",
       "⎣                                                     y₀ ⋅y₅           y₁₄⋅y₂ \n",
       "\n",
       "    2   ⎤\n",
       "  y₂ ⋅y₅⎥\n",
       ", ──────⎥\n",
       "   y₁₄  ⎥\n",
       "        ⎦"
      ]
     },
     "execution_count": 19,
     "metadata": {},
     "output_type": "execute_result"
    }
   ],
   "source": [
    "reaction_system.equilibrium_quotients(y)"
   ]
  },
  {
   "cell_type": "code",
   "execution_count": 20,
   "metadata": {
    "collapsed": false
   },
   "outputs": [
    {
     "data": {
      "text/plain": [
       "((4, 15),\n",
       " [1, 7, 8, 29],\n",
       " array([[ 2,  1,  1,  4,  3,  0,  3,  6,  9, 12, 15,  2,  3,  4,  2],\n",
       "        [ 0,  0,  0,  1,  1,  0,  1,  2,  3,  4,  5,  0,  0,  0,  0],\n",
       "        [ 1,  0,  1,  0,  0,  0,  0,  0,  0,  0,  0,  2,  3,  4,  2],\n",
       "        [ 0,  0,  0,  0,  0,  1,  1,  1,  1,  1,  1,  2,  1,  1,  1]]),\n",
       " [0, 1, -1, 1, 0, 2, 2, 2, 2, 2, 2, 2, -1, -2, 0])"
      ]
     },
     "execution_count": 20,
     "metadata": {},
     "output_type": "execute_result"
    }
   ],
   "source": [
    "chg_vec = reaction_system.charge_balance_vector()\n",
    "atm_vecs, atm_nrs = reaction_system.atom_balance_vectors()\n",
    "import numpy as np\n",
    "arr = np.array(atm_vecs)\n",
    "arr.shape, atm_nrs, arr, chg_vec"
   ]
  },
  {
   "cell_type": "code",
   "execution_count": 21,
   "metadata": {
    "collapsed": false
   },
   "outputs": [
    {
     "data": {
      "image/png": "[encoded data removed]",
      "text/latex": [
       "$$\\left ( \\left[\\begin{array}{ccccccccccccccc}0 & 1 & -1 & 1 & 0 & 2 & 2 & 2 & 2 & 2 & 2 & 2 & -1 & -2 & 0\\\\2 & 1 & 1 & 4 & 3 & 0 & 3 & 6 & 9 & 12 & 15 & 2 & 3 & 4 & 2\\\\0 & 0 & 0 & 1 & 1 & 0 & 1 & 2 & 3 & 4 & 5 & 0 & 0 & 0 & 0\\\\1 & 0 & 1 & 0 & 0 & 0 & 0 & 0 & 0 & 0 & 0 & 2 & 3 & 4 & 2\\\\0 & 0 & 0 & 0 & 0 & 1 & 1 & 1 & 1 & 1 & 1 & 2 & 1 & 1 & 1\\end{array}\\right], \\quad \\left[\\begin{array}{ccccccccccccccc}1 & 0 & 1 & 0 & 0 & 0 & 0 & 0 & 0 & 0 & 0 & 2 & 3 & 4 & 2\\\\0 & 1 & -1 & 0 & -1 & 0 & -1 & -2 & -3 & -4 & -5 & -2 & -3 & -4 & -2\\\\0 & 0 & 0 & 1 & 1 & 0 & 1 & 2 & 3 & 4 & 5 & 0 & 0 & 0 & 0\\\\0 & 0 & 0 & 0 & 0 & 1 & 1 & 1 & 1 & 1 & 1 & 2 & 1 & 1 & 1\\\\0 & 0 & 0 & 0 & 0 & 0 & 0 & 0 & 0 & 0 & 0 & 0 & 0 & 0 & 0\\end{array}\\right], \\quad \\left [ 0, \\quad 1, \\quad 3, \\quad 5\\right ]\\right )$$"
      ],
      "text/plain": [
       "⎛⎡0  1  -1  1  0  2  2  2  2  2   2   2  -1  -2  0⎤, ⎡1  0  1   0  0   0  0   \n",
       "⎜⎢                                                ⎥  ⎢                        \n",
       "⎜⎢2  1  1   4  3  0  3  6  9  12  15  2  3   4   2⎥  ⎢0  1  -1  0  -1  0  -1  \n",
       "⎜⎢                                                ⎥  ⎢                        \n",
       "⎜⎢0  0  0   1  1  0  1  2  3  4   5   0  0   0   0⎥  ⎢0  0  0   1  1   0  1   \n",
       "⎜⎢                                                ⎥  ⎢                        \n",
       "⎜⎢1  0  1   0  0  0  0  0  0  0   0   2  3   4   2⎥  ⎢0  0  0   0  0   1  1   \n",
       "⎜⎢                                                ⎥  ⎢                        \n",
       "⎝⎣0  0  0   0  0  1  1  1  1  1   1   2  1   1   1⎦  ⎣0  0  0   0  0   0  0   \n",
       "\n",
       "0   0   0   0   2   3   4   2 ⎤, [0, 1, 3, 5]⎞\n",
       "                              ⎥              ⎟\n",
       "-2  -3  -4  -5  -2  -3  -4  -2⎥              ⎟\n",
       "                              ⎥              ⎟\n",
       "2   3   4   5   0   0   0   0 ⎥              ⎟\n",
       "                              ⎥              ⎟\n",
       "1   1   1   1   2   1   1   1 ⎥              ⎟\n",
       "                              ⎥              ⎟\n",
       "0   0   0   0   0   0   0   0 ⎦              ⎠"
      ]
     },
     "execution_count": 21,
     "metadata": {},
     "output_type": "execute_result"
    }
   ],
   "source": [
    "import sympy\n",
    "M = sympy.Matrix([chg_vec] + atm_vecs)\n",
    "rref, pivot = M.rref()\n",
    "M, rref, pivot"
   ]
  },
  {
   "cell_type": "code",
   "execution_count": 22,
   "metadata": {
    "collapsed": false
   },
   "outputs": [
    {
     "data": {
      "image/png": "[encoded data removed]",
      "text/latex": [
       "$$\\left [ 0, \\quad 1, \\quad 7, \\quad 8, \\quad 29\\right ]$$"
      ],
      "text/plain": [
       "[0, 1, 7, 8, 29]"
      ]
     },
     "execution_count": 22,
     "metadata": {},
     "output_type": "execute_result"
    }
   ],
   "source": [
    "rref, pivot = reaction_system.rref()\n",
    "atm_nrs = reaction_system.atom_balance_vectors()[1]\n",
    "[0] + atm_nrs\n",
    "#reaction_system.independent_atoms_from_pivot(pivot)"
   ]
  },
  {
   "cell_type": "code",
   "execution_count": 23,
   "metadata": {
    "collapsed": false
   },
   "outputs": [
    {
     "data": {
      "image/png": "[encoded data removed]",
      "text/latex": [
       "$$\\left [ - 1.8018018018018 \\cdot 10^{-16} s + \\frac{y_{1} y_{2}}{y_{0}}, \\quad - 5.49540873857625 \\cdot 10^{-10} s + \\frac{y_{1} y_{4}}{y_{3}}, \\quad - 19952.6231496888 s + \\frac{y_{4} y_{5}}{y_{6}}, \\quad - 79432823.4724282 s^{2} + \\frac{y_{4}^{2} y_{5}}{y_{7}}, \\quad - 63095734448.0194 s^{3} + \\frac{y_{4}^{3} y_{5}}{y_{8}}, \\quad - 10000000000000.0 s^{4} + \\frac{y_{4}^{4} y_{5}}{y_{9}}, \\quad - 2511886431509.58 s^{5} + \\frac{y_{4}^{5} y_{5}}{y_{10}}, \\quad \\frac{y_{1}^{2} y_{11}}{y_{0}^{2} y_{5}^{2}} - \\frac{61459067.4568289}{s}, \\quad \\frac{y_{12}}{y_{14} y_{2}} - \\frac{0.000251188643150958}{y_{14}}, \\quad \\frac{y_{13}}{y_{14} y_{2}^{2}} - \\frac{0.00199526231496888}{s y_{14}}, \\quad - \\frac{s^{3}}{y_{14}} 1.58489319246111 \\cdot 10^{-19} + \\frac{y_{2}^{2} y_{5}}{y_{14}}\\right ]$$"
      ],
      "text/plain": [
       "⎡                                                                             \n",
       "⎢                            y₁⋅y₂                               y₁⋅y₄        \n",
       "⎢-- -1.8018018018018e-16⋅s + ─────, -- -5.49540873857625e-10⋅s + ─────, --1995\n",
       "⎢                              y₀                                  y₃         \n",
       "⎣                                                                             \n",
       "\n",
       "                                                             2                \n",
       "                      y₄⋅y₅                            2   y₄ ⋅y₅             \n",
       "2.6231496888⋅(-1)⋅s + ─────, - -79432823.4724282⋅(-1)⋅s  + ──────, - -63095734\n",
       "                        y₆                                   y₇               \n",
       "                                                                              \n",
       "\n",
       "                     3                                     4                  \n",
       "               3   y₄ ⋅y₅                            4   y₄ ⋅y₅               \n",
       "448.0194⋅(-1)⋅s  + ──────, - -10000000000000.0⋅(-1)⋅s  + ──────, - -2511886431\n",
       "                     y₈                                    y₉                 \n",
       "                                                                              \n",
       "\n",
       "                   5       2                                                  \n",
       "             5   y₄ ⋅y₅  y₁ ⋅y₁₁   -61459067.4568289⋅(-1)   y₁₂     - -0.00025\n",
       "509.58⋅(-1)⋅s  + ──────, ─────── - ──────────────────────, ────── - ──────────\n",
       "                  y₁₀      2   2             s             y₁₄⋅y₂             \n",
       "                         y₀ ⋅y₅                                               \n",
       "\n",
       "                                                                              \n",
       "1188643150958     y₁₃     - -0.00199526231496888     - -1.58489319246111e-19⋅s\n",
       "──────────────, ─────── - ───────────────────────, - ─────────────────────────\n",
       "y₁₄                   2            s⋅y₁₄                         y₁₄          \n",
       "                y₁₄⋅y₂                                                        \n",
       "\n",
       "3      2   ⎤\n",
       "     y₂ ⋅y₅⎥\n",
       "── + ──────⎥\n",
       "      y₁₄  ⎥\n",
       "           ⎦"
      ]
     },
     "execution_count": 23,
     "metadata": {},
     "output_type": "execute_result"
    }
   ],
   "source": [
    "qk"
   ]
  },
  {
   "cell_type": "code",
   "execution_count": 24,
   "metadata": {
    "collapsed": false
   },
   "outputs": [
    {
     "data": {
      "text/plain": [
       "array([  5.55000000e+01,   1.00000000e-07,   1.00000000e-07,\n",
       "         0.00000000e+00,   1.00000000e+00,   1.00000000e-02,\n",
       "         0.00000000e+00,   0.00000000e+00,   0.00000000e+00,\n",
       "         0.00000000e+00,   0.00000000e+00,   0.00000000e+00,\n",
       "         0.00000000e+00,   0.00000000e+00,   0.00000000e+00])"
      ]
     },
     "execution_count": 24,
     "metadata": {},
     "output_type": "execute_result"
    }
   ],
   "source": [
    "c0arr = np.array([init_conc[k] for k in reaction_system.substances])\n",
    "scaling = 1.0\n",
    "logC = False\n",
    "f, j = reaction_system.num_cb_factory(c0arr*scaling, True, scaling=scaling, logC=logC)\n",
    "c0arr"
   ]
  },
  {
   "cell_type": "code",
   "execution_count": 25,
   "metadata": {
    "collapsed": false
   },
   "outputs": [
    {
     "data": {
      "image/png": "[encoded data removed]",
      "text/latex": [
       "$$\\left [ 3.60362261823e-26, \\quad 10000000001.0, \\quad 9.9999999998e+14, \\quad 9.99999920567e+14, \\quad 9.99936904266e+14, \\quad 9.9e+14, \\quad 9.97488113568e+14, \\quad -61459067.4568, \\quad -2.51188543151e+13, \\quad -9.95262315169e+13, \\quad 9.98415107008, \\quad 0.0, \\quad 0.0, \\quad 0.0, \\quad 1.14491749414e-16\\right ]$$"
      ],
      "text/plain": [
       "[3.60362261823e-26, 10000000001.0, 9.9999999998e+14, 9.99999920567e+14, 9.9993\n",
       "6904266e+14, 9.9e+14, 9.97488113568e+14, -61459067.4568, -2.51188543151e+13, -\n",
       "9.95262315169e+13, 9.98415107008, 0.0, 0.0, 0.0, 1.14491749414e-16]"
      ]
     },
     "execution_count": 25,
     "metadata": {},
     "output_type": "execute_result"
    }
   ],
   "source": [
    "x0 = c0arr+1e-17\n",
    "f(np.log(x0) if logC else x0)"
   ]
  },
  {
   "cell_type": "code",
   "execution_count": 26,
   "metadata": {
    "collapsed": false
   },
   "outputs": [
    {
     "data": {
      "image/png": "[encoded data removed]",
      "text/latex": [
       "$$\\left [ \\left [ -3.24648973363e-18, \\quad 1.80180180198e-09, \\quad 1.80180180198e-09, \\quad 0.0\\right ], \\quad \\left [ 0.0, \\quad 1e+17, \\quad 0.0, \\quad -1.0000000001e+27\\right ], \\quad \\left [ 0.0, \\quad 0.0, \\quad 0.0, \\quad 0.0\\right ], \\quad \\left [ 0.0, \\quad 0.0, \\quad 0.0, \\quad 0.0\\right ], \\quad \\left [ 0.0, \\quad 0.0, \\quad 0.0, \\quad 0.0\\right ], \\quad \\left [ 0.0, \\quad 0.0, \\quad 0.0, \\quad 0.0\\right ], \\quad \\left [ 0.0, \\quad 0.0, \\quad 0.0, \\quad 0.0\\right ]\\right ]$$"
      ],
      "text/plain": [
       "[[-3.24648973363e-18, 1.80180180198e-09, 1.80180180198e-09, 0.0], [0.0, 1e+17,\n",
       " 0.0, -1.0000000001e+27], [0.0, 0.0, 0.0, 0.0], [0.0, 0.0, 0.0, 0.0], [0.0, 0.\n",
       "0, 0.0, 0.0], [0.0, 0.0, 0.0, 0.0], [0.0, 0.0, 0.0, 0.0]]"
      ]
     },
     "execution_count": 26,
     "metadata": {},
     "output_type": "execute_result"
    },
    {
     "data": {
      "image/png": "[encoded data removed]",
      "text/plain": [
       "<matplotlib.figure.Figure at 0x7f2919fb2890>"
      ]
     },
     "metadata": {},
     "output_type": "display_data"
    }
   ],
   "source": [
    "import matplotlib.pyplot as plt\n",
    "%matplotlib inline\n",
    "jmat = j(np.log(x0) if logC else x0)\n",
    "plt.imshow(jmat, cmap='binary', interpolation='None')\n",
    "jmat[:7, :4].tolist()"
   ]
  },
  {
   "cell_type": "code",
   "execution_count": 27,
   "metadata": {
    "collapsed": false
   },
   "outputs": [
    {
     "data": {
      "image/png": "[encoded data removed]",
      "text/latex": [
       "$$15$$"
      ],
      "text/plain": [
       "15"
      ]
     },
     "execution_count": 27,
     "metadata": {},
     "output_type": "execute_result"
    }
   ],
   "source": [
    "len(substances)"
   ]
  },
  {
   "cell_type": "code",
   "execution_count": 28,
   "metadata": {
    "collapsed": false
   },
   "outputs": [
    {
     "name": "stderr",
     "output_type": "stream",
     "text": [
      "/usr/local/lib/python2.7/dist-packages/scipy/optimize/minpack.py:237: RuntimeWarning: The iteration is not making good progress, as measured by the \n",
      "  improvement from the last ten iterations.\n",
      "  warnings.warn(msg, RuntimeWarning)\n"
     ]
    },
    {
     "data": {
      "text/plain": [
       "  status: 5\n",
       " success: False\n",
       "     qtf: array([ -2.62994617e+05,   2.04636999e+03,   6.28696379e+03,\n",
       "        -2.61702101e+04,  -2.72150272e+12,   9.93044797e+12,\n",
       "        -7.04977559e+09,  -1.78219819e+10,  -5.27610754e+11,\n",
       "         6.59216706e+07,   6.36301090e+06,   1.12792268e+05,\n",
       "        -5.96415482e+05,   1.56676628e+06,  -6.14357787e+07])\n",
       "    nfev: 11\n",
       "       r: array([ -2.91605114e+00,   1.01177853e+00,  -2.73185689e+00,\n",
       "         7.86688655e-23,  -3.97572785e-04,  -8.48862408e-05,\n",
       "        -7.23163418e-14,   2.15355548e-13,   1.97760887e-11,\n",
       "         5.58409334e-05,  -6.05410104e-05,  -6.85854069e-01,\n",
       "        -1.02878854e+00,  -1.37171805e+00,  -6.85859027e-01,\n",
       "        -1.66358680e+01,   5.86180778e-02,  -1.96807452e+01,\n",
       "         1.24558169e+00,   7.00577962e-07,   6.01110806e-02,\n",
       "         1.20222161e-01,   1.80333242e-01,   2.40443880e-01,\n",
       "         3.00555912e-01,   7.85087918e-02,   1.17763248e-01,\n",
       "         1.57017664e-01,   7.85088320e-02,  -1.16798541e+02,\n",
       "        -9.87724204e-03,  -7.93372120e-03,  -1.80174915e+00,\n",
       "        -8.53158267e-03,  -1.70631653e-02,  -2.55947481e-02,\n",
       "        -3.41273996e-02,  -4.26577349e-02,  -1.81658332e-02,\n",
       "        -2.72197662e-02,  -3.62202406e-02,  -4.56765811e+01,\n",
       "        -1.61151085e+00,  -1.29494441e+00,   1.10348372e-02,\n",
       "        -1.35459627e+00,  -2.70919255e+00,  -4.06378882e+00,\n",
       "        -5.41837955e+00,  -6.77298737e+00,  -9.58685510e-01,\n",
       "        -1.43802918e+00,  -1.91737269e+00,  -6.78837300e-01,\n",
       "        -1.71190325e+08,  -3.48637042e+07,   2.43636552e-02,\n",
       "         2.48300389e-02,   2.86925857e+01,   3.99872427e+04,\n",
       "        -3.56702539e+07,  -3.85727417e-09,  -5.78616594e-09,\n",
       "        -7.71487503e-09,  -3.85827532e-09,   1.83647654e+05,\n",
       "        -1.84987685e+01,  -7.06899507e+00,  -3.62773810e+03,\n",
       "        -1.87588556e+06,  -7.50982537e+05,   1.00371900e-05,\n",
       "         4.16565716e-06,   3.73985366e-06,   4.61081910e-06,\n",
       "        -2.60672414e+04,   4.96583206e-03,   2.57441514e+00,\n",
       "         1.33127054e+03,   4.99599012e+02,  -1.03450902e-04,\n",
       "        -7.84439350e-05,  -9.18031845e-05,  -6.46835626e-05,\n",
       "        -3.92515215e+03,   6.53305037e+00,   3.37861249e+03,\n",
       "         1.12683930e+03,  -8.64440212e-04,  -7.87105714e-04,\n",
       "        -9.64548613e-04,  -6.04334892e-04,  -7.77438690e+04,\n",
       "         8.75569451e+04,   2.18896745e+04,  -5.31464160e-05,\n",
       "        -5.34405614e-05,  -6.68742762e-05,  -3.96037899e-05,\n",
       "        -1.35649188e+01,  -6.00086247e+00,  -2.30937413e+00,\n",
       "        -1.50656263e+00,  -1.68259299e+00,  -1.32615434e+00,\n",
       "         9.28765270e-01,   1.30654907e+00,   2.36962596e+00,\n",
       "         3.22774489e+00,   1.48295229e+00,  -1.88779074e+00,\n",
       "        -2.82382647e+00,  -3.76371921e+00,  -1.61180763e+00,\n",
       "        -1.47924317e-01,  -3.42732176e-03,  -3.27283587e-02,\n",
       "         7.16680022e-02,   1.60251227e-01,  -9.82258324e-04])\n",
       "     fun: array([ -5.86301019e+00,   9.03323501e+01,  -3.21201896e+04,\n",
       "        -7.93916495e+07,  -6.30973326e+10,  -9.99993144e+12,\n",
       "        -2.50928339e+12,  -6.14590674e+07,   5.25789980e-02,\n",
       "        -2.34879887e-01,  -1.34573181e+02,  -4.24999737e+01,\n",
       "        -6.43585650e+01,   5.43578694e+01,  -4.77428464e+01])\n",
       "       x: array([  2.13861655,   5.44114699,  -2.30442784,  -4.58043273,\n",
       "       -76.04302068, -74.68741647,  -0.46677015, -10.48921454,\n",
       "       -20.54992222, -36.42624978,  72.95625756,  11.50320725,\n",
       "        -0.35767943,  -3.66550342,   2.94723758])\n",
       " message: 'The iteration is not making good progress, as measured by the \\n  improvement from the last ten iterations.'\n",
       "    fjac: array([[ -9.39351408e-01,   1.00054222e-22,   2.75491508e-18,\n",
       "          7.14293900e-18,  -3.81820509e-14,   2.37444877e-11,\n",
       "          1.88531482e-13,   4.27563897e-03,   1.72337433e-21,\n",
       "          8.09766422e-21,   1.94861470e-23,  -3.42929513e-01,\n",
       "          2.71017593e-23,  -7.91109554e-22,  -1.18098344e-21],\n",
       "       [  7.61399579e-03,  -9.97944730e-01,  -2.14352053e-20,\n",
       "         -5.55793328e-20,   2.97095306e-16,  -1.84756338e-13,\n",
       "         -1.46696725e-15,  -3.46565693e-05,  -1.47546851e-23,\n",
       "         -6.30046958e-23,  -1.51221289e-25,  -2.08566646e-02,\n",
       "         -6.01110806e-02,   6.16377112e-24,   9.19000704e-24],\n",
       "       [  2.00799322e-04,  -5.00841890e-04,  -6.58570510e-20,\n",
       "         -1.70754062e-19,   9.12753178e-16,  -5.67618976e-13,\n",
       "         -4.50690064e-15,  -1.00022357e-04,  -1.95665911e-04,\n",
       "          1.74029037e-03,  -9.99961769e-01,  -5.51275927e-04,\n",
       "          8.53158266e-03,   1.89116804e-23,   2.82317605e-23],\n",
       "       [ -9.29879527e-02,  -5.02490340e-02,  -5.93252181e-19,\n",
       "          7.10781258e-19,  -3.79942791e-15,   2.36277177e-12,\n",
       "          1.87604324e-14,   4.23860041e-04,   1.19927183e-06,\n",
       "         -1.06665550e-05,   6.12894690e-03,   2.54717582e-01,\n",
       "          7.34060583e-01,  -6.20535692e-01,  -1.17580937e-22],\n",
       "       [  7.59238676e-10,   5.81865101e-11,  -9.34646363e-07,\n",
       "          6.32566028e-06,  -3.68831007e-04,   2.12812472e-02,\n",
       "          9.99773461e-01,  -3.45255239e-12,   1.78124973e-14,\n",
       "          8.38285318e-14,  -1.86522979e-14,  -2.07772396e-09,\n",
       "         -1.49006941e-10,  -1.14750748e-09,  -1.22209658e-14],\n",
       "       [  1.51591323e-07,   9.15534745e-09,   7.09655806e-04,\n",
       "         -1.80093934e-03,   4.66176617e-02,  -9.98684339e-01,\n",
       "          2.12752741e-02,   2.82446115e-10,  -1.91979627e-09,\n",
       "          1.70741598e-08,   3.81916505e-10,  -4.15304080e-07,\n",
       "          1.13076917e-08,  -1.80555316e-07,   5.44520981e-06],\n",
       "       [  4.84954663e-06,   3.10110368e-07,   9.99999747e-01,\n",
       "          1.27805292e-06,  -3.30828378e-05,   7.08742007e-04,\n",
       "         -1.41636864e-05,  -2.20734655e-08,   3.08134610e-12,\n",
       "         -2.74062884e-11,   8.78500290e-09,  -1.32841375e-05,\n",
       "          7.51107104e-08,  -6.11577272e-06,  -3.83661898e-05],\n",
       "       [  6.44135963e-05,   4.11900445e-06,  -1.29283665e-08,\n",
       "         -9.99998325e-01,  -8.39583499e-05,   1.79870695e-03,\n",
       "         -3.19912917e-05,  -2.93181084e-07,   2.62900654e-11,\n",
       "         -2.33827394e-10,   1.16686701e-07,  -1.76445169e-04,\n",
       "          9.97718478e-07,  -8.12320310e-05,  -2.54777049e-04],\n",
       "       [  4.87671519e-06,   3.11872439e-07,  -7.43023296e-10,\n",
       "          6.19681331e-09,   9.98912733e-01,   4.66150352e-02,\n",
       "         -6.23737398e-04,  -2.22418091e-08,   9.13148422e-11,\n",
       "         -8.12124372e-10,   8.82928889e-09,  -1.33585566e-05,\n",
       "          7.51197562e-08,  -6.15052299e-06,  -1.31395189e-05],\n",
       "       [  6.43103506e-02,   4.18724380e-03,  -4.07062758e-05,\n",
       "          2.91308675e-04,  -1.57495307e-05,  -6.52531236e-06,\n",
       "          1.30696813e-07,  -4.27479348e-04,   2.66088096e-04,\n",
       "         -2.36663964e-03,   1.01710925e-04,  -1.76164033e-01,\n",
       "         -2.45714581e-04,  -8.25777981e-02,  -9.78768499e-01],\n",
       "       [ -3.09012600e-01,  -1.93421840e-02,   7.22222571e-06,\n",
       "         -1.48131996e-04,   1.25226651e-05,  -7.28172107e-07,\n",
       "          2.34946937e-08,   1.32306442e-03,   1.64540524e-04,\n",
       "         -1.46345407e-03,  -6.21768103e-04,   8.46462804e-01,\n",
       "         -1.17254042e-02,   3.81452584e-01,  -2.04914440e-01],\n",
       "       [  9.62720396e-02,  -3.44883270e-02,  -8.09840292e-10,\n",
       "         -9.86276969e-07,   9.97539843e-08,  -6.20472243e-09,\n",
       "          4.37396023e-10,  -9.44670474e-04,  -2.10358054e-04,\n",
       "          1.87096683e-03,   5.95518697e-03,  -2.63719836e-01,\n",
       "          6.76261475e-01,   6.80153878e-01,  -3.91351386e-03],\n",
       "       [  1.15615699e-04,  -7.03989114e-06,   1.26121426e-08,\n",
       "         -6.97625283e-08,   2.81251977e-09,  -8.73387925e-11,\n",
       "          3.06299625e-12,   9.71556123e-03,   9.99330343e-01,\n",
       "         -3.52725309e-02,  -2.56113174e-04,  -1.95560706e-04,\n",
       "          1.93770527e-04,   1.38835649e-04,   3.83698723e-04],\n",
       "       [ -5.96315191e-04,   4.67097541e-05,  -8.52020849e-08,\n",
       "          4.71260693e-07,  -1.89977039e-08,   5.89191293e-10,\n",
       "         -2.08518809e-11,  -2.55689674e-02,   3.55128289e-02,\n",
       "          9.99034922e-01,   1.72239155e-03,   1.31463121e-03,\n",
       "         -1.29238708e-03,  -9.21176037e-04,  -2.59219491e-03],\n",
       "       [  4.56869324e-03,  -1.72799986e-05,  -7.18790076e-09,\n",
       "          3.91473488e-08,  -1.54121396e-09,   4.58914881e-11,\n",
       "         -1.48819627e-12,   9.99615195e-01,  -8.80473963e-03,\n",
       "          2.58998208e-02,  -4.96155761e-05,  -5.13654913e-05,\n",
       "          3.07074403e-04,   3.40783652e-04,  -2.21078040e-04]])\n",
       "    njev: 2"
      ]
     },
     "execution_count": 28,
     "metadata": {},
     "output_type": "execute_result"
    }
   ],
   "source": [
    "from scipy.optimize import root\n",
    "x0 = [1]*len(substances)\n",
    "root(f, x0, jac=j)"
   ]
  },
  {
   "cell_type": "code",
   "execution_count": 29,
   "metadata": {
    "collapsed": false
   },
   "outputs": [
    {
     "data": {
      "text/plain": [
       "(None,\n",
       "   status: 5\n",
       " success: False\n",
       "     qtf: array([ -3.12747802e+06,  -3.25106685e+08,   2.55432232e+12,\n",
       "        -6.11127609e+05,  -8.89104590e+09,  -1.76079941e+12,\n",
       "        -3.84819583e+07,   1.05906132e+11,   9.83097031e+12,\n",
       "        -3.65700034e+08,   1.86221862e+04,  -1.18862331e+05,\n",
       "        -6.14588487e+07,   5.64319806e+03,  -3.82930783e+03])\n",
       "    nfev: 11\n",
       "       r: array([  1.00000000e+00,  -2.87119187e-08,  -2.65611699e+14,\n",
       "        -6.95917459e-12,  -7.56221972e+09,  -1.20616193e+12,\n",
       "         1.31922486e+02,   8.38884552e+12,   7.21902801e+18,\n",
       "         1.14592104e+21,   2.86206413e+20,   1.99999999e+00,\n",
       "        -1.20965457e+07,   6.51005127e+20,  -1.23375798e+13,\n",
       "        -1.79487046e+02,  -2.76107901e+16,   9.62999327e+01,\n",
       "        -7.86105665e+11,  -1.25382594e+14,   1.37135735e+04,\n",
       "         8.72034831e+14,   7.50430301e+20,   1.19120451e+23,\n",
       "         2.97516458e+22,   1.11418225e-02,  -1.25745691e+09,\n",
       "         6.76730956e+22,  -1.28251251e+15,   2.16939306e+20,\n",
       "         1.22621866e-02,   6.17619822e+15,   9.85093719e+17,\n",
       "        -1.07743711e+08,  -6.85133650e+18,  -5.89590798e+24,\n",
       "        -9.35893926e+26,  -2.33749826e+26,   7.98381259e-03,\n",
       "         9.87949994e+12,  -5.31744570e+26,   1.00766647e+19,\n",
       "        -1.13484619e+00,  -2.93699929e+09,  -4.68459574e+11,\n",
       "         4.76986574e+01,   3.05916844e+12,   2.79852043e+18,\n",
       "         4.45045205e+20,   1.11151234e+20,   9.45550705e-01,\n",
       "        -4.31670930e+06,  -3.65228901e+20,  -1.05643555e+12,\n",
       "        -4.09732376e+13,  -6.53534565e+15,   6.71144002e+05,\n",
       "         4.26796589e+16,   3.90414368e+22,   6.20869843e+24,\n",
       "         1.55063906e+24,  -1.20742978e-04,  -6.02190707e+10,\n",
       "        -5.09520105e+24,  -1.47380370e+16,   2.34220032e+11,\n",
       "        -1.45657020e+06,  -6.37979109e+16,  -9.19818877e+20,\n",
       "         4.74547552e+20,   1.76521631e+20,  -1.40152304e-08,\n",
       "        -1.11790984e+11,  -1.53566262e+22,   3.29744097e+13,\n",
       "         6.68916927e+10,  -1.38963359e+12,  -2.00528330e+16,\n",
       "         8.81713486e+15,   3.46648061e+15,   6.52941994e-11,\n",
       "        -2.52962784e+06,  -2.98853713e+17,   6.45152662e+08,\n",
       "        -1.06573622e+18,   5.52094791e+19,  -1.62735730e+19,\n",
       "        -7.55450553e+18,   6.04265846e-10,   7.07381303e+09,\n",
       "         6.27267557e+20,  -1.36722281e+12,  -1.69655720e+20,\n",
       "         3.15278306e+20,  -1.53642692e+20,   2.05887868e-08,\n",
       "         6.71147786e+11,   1.40967455e+22,  -3.17982531e+13,\n",
       "        -9.09819102e+15,   6.06637095e+15,   1.80438395e-04,\n",
       "         1.85831880e+16,   8.10156808e+18,   3.39683205e+11,\n",
       "         3.60856938e+11,   1.75791627e+00,  -1.91495825e+12,\n",
       "        -9.19988105e+14,  -3.48140121e+07,   2.00388167e+00,\n",
       "         6.59500626e+09,   3.08078918e+12,   1.20089274e+05,\n",
       "         2.72467620e+07,   1.12674084e+09,   4.67243726e+02,\n",
       "        -4.45490061e+05,   1.15624411e-03,  -2.84529481e-04])\n",
       "     fun: array([  1.07502337e-13,   5.33572371e-01,  -1.00088604e+04,\n",
       "        -3.98167321e+07,  -6.19225334e+10,  -9.99883330e+12,\n",
       "        -2.51072620e+12,  -6.14590675e+07,  -9.37987252e+03,\n",
       "         1.37416340e+09,  -5.69571803e-12,   4.26325641e-14,\n",
       "        -2.68673972e-14,   1.66533454e-14,   1.09912079e-14])\n",
       "       x: array([  5.54914866e+01,   2.97280874e-03,   2.01003948e-09,\n",
       "         5.54064859e-03,   9.94459203e-01,   1.48642276e-03,\n",
       "         1.48654673e-07,   3.71060448e-11,   1.24603671e-12,\n",
       "         1.24603671e-12,   1.24603671e-12,   4.25670089e-03,\n",
       "         1.48643628e-16,   1.48643628e-16,   2.67716530e-08])\n",
       " message: 'The iteration is not making good progress, as measured by the \\n  improvement from the last ten iterations.'\n",
       "    fjac: array([[ -1.99840144e-15,  -3.94459031e-21,  -1.25966811e-16,\n",
       "         -3.00968398e-11,   2.07247215e-08,   5.25827777e-09,\n",
       "          1.22419972e-06,  -1.99284395e-07,  -8.02794614e-19,\n",
       "          9.74939906e-14,  -8.25274925e-32,   1.00000000e+00,\n",
       "         -6.96437840e-25,  -2.21959632e-24,  -1.89871697e-26],\n",
       "       [ -2.01811133e-13,  -9.99984471e-01,  -1.30946636e-14,\n",
       "         -3.12861952e-09,   2.15437015e-06,   5.46606873e-07,\n",
       "          1.27257653e-04,  -2.07252403e-05,  -5.06269834e-17,\n",
       "          6.14798186e-12,  -4.09894169e-30,  -1.59966523e-10,\n",
       "         -5.57143273e-03,  -2.30718799e-22,  -1.97384720e-24],\n",
       "       [ -2.56879084e-17,  -1.27272286e-04,   9.12439748e-11,\n",
       "          2.44853595e-05,  -1.69303883e-02,  -4.30002383e-03,\n",
       "         -9.99825408e-01,  -2.63803366e-09,   2.60404688e-09,\n",
       "         -6.63390352e-03,   3.11536176e-22,   1.22435947e-06,\n",
       "         -7.09099989e-07,   2.48842321e-18,   1.19215633e-20],\n",
       "       [ -1.71251391e-11,   2.63411986e-03,  -1.25761705e-13,\n",
       "         -1.04092038e-09,  -3.67114600e-08,  -5.73350472e-08,\n",
       "          4.76464814e-07,  -1.75868704e-03,   2.81285695e-11,\n",
       "         -7.16793027e-05,   3.36526686e-24,  -3.51061101e-10,\n",
       "         -4.72776497e-01,  -8.81176683e-01,  -3.87458452e-23],\n",
       "       [  1.22770124e-15,   6.55508812e-07,  -1.99922118e-09,\n",
       "         -1.64752501e-05,  -5.96325604e-04,  -9.14089366e-04,\n",
       "          6.64893988e-03,   1.26081802e-07,   3.92528102e-07,\n",
       "         -9.99977297e-01,   4.69636038e-20,  -8.12234300e-09,\n",
       "          3.38937575e-05,   6.31635536e-05,  -5.40887214e-19],\n",
       "       [  6.56728439e-19,   6.27220119e-11,   2.17890267e-05,\n",
       "          5.98114819e-02,   9.82706237e-01,   1.74379231e-01,\n",
       "         -1.73832851e-02,   1.34515842e-11,  -6.01592355e-06,\n",
       "         -8.61996490e-04,  -8.25834151e-19,  -8.34475034e-13,\n",
       "          4.29789691e-09,   6.05565193e-09,   4.26950817e-12],\n",
       "       [ -9.00874433e-23,   1.00578793e-13,  -1.00000000e+00,\n",
       "          1.30266827e-06,   2.14100049e-05,   3.81218579e-06,\n",
       "         -3.78886277e-07,  -1.04733388e-14,  -1.36128505e-10,\n",
       "         -1.67938266e-08,  -1.86876083e-23,  -1.62077138e-17,\n",
       "         -1.77501803e-11,   9.68618069e-12,   1.49496324e-11],\n",
       "       [ -3.86969764e-20,  -2.48116006e-12,  -5.67415360e-10,\n",
       "          9.98209689e-01,  -5.88731719e-02,  -1.04989650e-02,\n",
       "          1.06628465e-03,  -5.60044984e-13,   3.80663650e-07,\n",
       "          3.53492831e-05,   5.22581494e-20,   3.41523276e-14,\n",
       "         -1.91311779e-10,  -2.39566751e-10,  -2.55605035e-13],\n",
       "       [ -3.30218545e-18,  -3.93317828e-11,  -1.28219762e-08,\n",
       "         -5.11659608e-05,   1.74743833e-01,  -9.84612781e-01,\n",
       "          1.27026245e-03,  -1.50147054e-11,   3.61159003e-05,\n",
       "          8.04284866e-04,   4.95825531e-18,   7.93678436e-13,\n",
       "         -7.73609512e-09,  -3.80196502e-09,  -2.32328599e-11],\n",
       "       [ -8.79219313e-14,   5.05901548e-07,  -4.58123162e-12,\n",
       "         -1.83065329e-08,  -3.76456206e-07,   3.66135961e-05,\n",
       "         -1.50865387e-07,  -5.56604568e-08,   9.99999994e-01,\n",
       "          3.58289832e-07,   1.37300488e-13,  -1.11251871e-14,\n",
       "         -9.08011565e-05,   4.87190416e-05,  -5.81922542e-07],\n",
       "       [ -5.21190465e-12,   4.90942001e-03,   2.02084797e-11,\n",
       "          2.19621811e-12,   7.28479059e-11,   1.33060188e-09,\n",
       "         -6.94722243e-12,  -5.19253066e-04,  -1.03047886e-04,\n",
       "         -4.17888575e-11,  -8.26943859e-14,  -1.03479033e-10,\n",
       "         -8.81161678e-01,   4.72784158e-01,  -2.20320774e-03],\n",
       "       [  1.26557813e-11,   1.07902718e-05,   1.49940678e-11,\n",
       "         -7.24112374e-15,  -2.09808033e-13,   6.15235477e-13,\n",
       "          9.09963555e-16,   1.93390807e-03,   3.54891002e-07,\n",
       "          1.38803540e-13,   7.24448286e-14,   3.85397701e-10,\n",
       "         -1.94387790e-03,   1.03911859e-03,   9.99995701e-01],\n",
       "       [  5.95230712e-05,  -1.35640105e-05,  -2.92399618e-14,\n",
       "          6.03721400e-17,   1.95494173e-15,  -5.93490689e-15,\n",
       "         -7.87181369e-18,   9.99996442e-01,   1.46620501e-09,\n",
       "          3.42720651e-16,  -9.36493463e-05,   1.99283686e-07,\n",
       "         -1.28537255e-03,  -1.30623358e-03,  -1.93505064e-03],\n",
       "       [ -3.00119603e-02,   1.24546126e-09,   2.68484053e-18,\n",
       "         -5.53914302e-21,  -1.79435846e-19,   5.45339809e-19,\n",
       "          7.19951853e-22,  -9.18204310e-05,   2.79092115e-17,\n",
       "         -2.51214680e-20,  -9.99549535e-01,  -1.82984526e-11,\n",
       "          1.18024335e-07,   1.19939698e-07,   1.77678269e-07],\n",
       "       [ -9.99549538e-01,  -8.44999689e-10,  -1.82166126e-18,\n",
       "          3.77393657e-21,   1.21802125e-19,  -3.69783810e-19,\n",
       "         -4.90402319e-22,   6.23066374e-05,  -1.66985912e-16,\n",
       "          1.72108814e-21,   3.00119546e-02,   1.24148996e-11,\n",
       "         -8.00748690e-08,  -8.13746769e-08,  -1.20554268e-07]])\n",
       "    njev: 2)"
      ]
     },
     "execution_count": 29,
     "metadata": {},
     "output_type": "execute_result"
    }
   ],
   "source": [
    "reaction_system.root(init_conc, scaling=scaling, logC=logC, delta=1e-15)"
   ]
  },
  {
   "cell_type": "code",
   "execution_count": 30,
   "metadata": {
    "collapsed": false
   },
   "outputs": [
    {
     "name": "stdout",
     "output_type": "stream",
     "text": [
      "[i_0 i_1 i_2 i_3 i_4 i_5 i_6 i_7 i_8 i_9 i_10 i_11 i_12 i_13 i_14]\n"
     ]
    },
    {
     "data": {
      "text/plain": [
       "([-1.8018018018018e-16*s + y2*(i_1*s - 5*i_10*s - 2*i_11*s - 3*i_12*s - 4*i_13*s - 2*i_14*s - i_2*s - i_4*s - i_6*s - 2*i_7*s - 3*i_8*s - 4*i_9*s + 5*y10 + 2*y11 + 3*y12 + 4*y13 + 2*y14 + y2 + y4 + y6 + 2*y7 + 3*y8 + 4*y9)/(i_0*s + 2*i_11*s + 3*i_12*s + 4*i_13*s + 2*i_14*s + i_2*s - 2*y11 - 3*y12 - 4*y13 - 2*y14 - y2),\n",
       "  -5.49540873857625e-10*s + y4*(i_1*s - 5*i_10*s - 2*i_11*s - 3*i_12*s - 4*i_13*s - 2*i_14*s - i_2*s - i_4*s - i_6*s - 2*i_7*s - 3*i_8*s - 4*i_9*s + 5*y10 + 2*y11 + 3*y12 + 4*y13 + 2*y14 + y2 + y4 + y6 + 2*y7 + 3*y8 + 4*y9)/(5*i_10*s + i_3*s + i_4*s + i_6*s + 2*i_7*s + 3*i_8*s + 4*i_9*s - 5*y10 - y4 - y6 - 2*y7 - 3*y8 - 4*y9),\n",
       "  -19952.6231496888*s + y4*(i_10*s + 2*i_11*s + i_12*s + i_13*s + i_14*s + i_5*s + i_6*s + i_7*s + i_8*s + i_9*s - y10 - 2*y11 - y12 - y13 - y14 - y6 - y7 - y8 - y9)/y6,\n",
       "  -79432823.4724282*s**2 + y4**2*(i_10*s + 2*i_11*s + i_12*s + i_13*s + i_14*s + i_5*s + i_6*s + i_7*s + i_8*s + i_9*s - y10 - 2*y11 - y12 - y13 - y14 - y6 - y7 - y8 - y9)/y7,\n",
       "  -63095734448.0194*s**3 + y4**3*(i_10*s + 2*i_11*s + i_12*s + i_13*s + i_14*s + i_5*s + i_6*s + i_7*s + i_8*s + i_9*s - y10 - 2*y11 - y12 - y13 - y14 - y6 - y7 - y8 - y9)/y8,\n",
       "  -10000000000000.0*s**4 + y4**4*(i_10*s + 2*i_11*s + i_12*s + i_13*s + i_14*s + i_5*s + i_6*s + i_7*s + i_8*s + i_9*s - y10 - 2*y11 - y12 - y13 - y14 - y6 - y7 - y8 - y9)/y9,\n",
       "  -2511886431509.58*s**5 + y4**5*(i_10*s + 2*i_11*s + i_12*s + i_13*s + i_14*s + i_5*s + i_6*s + i_7*s + i_8*s + i_9*s - y10 - 2*y11 - y12 - y13 - y14 - y6 - y7 - y8 - y9)/y10,\n",
       "  y11*(i_1*s - 5*i_10*s - 2*i_11*s - 3*i_12*s - 4*i_13*s - 2*i_14*s - i_2*s - i_4*s - i_6*s - 2*i_7*s - 3*i_8*s - 4*i_9*s + 5*y10 + 2*y11 + 3*y12 + 4*y13 + 2*y14 + y2 + y4 + y6 + 2*y7 + 3*y8 + 4*y9)**2/((i_0*s + 2*i_11*s + 3*i_12*s + 4*i_13*s + 2*i_14*s + i_2*s - 2*y11 - 3*y12 - 4*y13 - 2*y14 - y2)**2*(i_10*s + 2*i_11*s + i_12*s + i_13*s + i_14*s + i_5*s + i_6*s + i_7*s + i_8*s + i_9*s - y10 - 2*y11 - y12 - y13 - y14 - y6 - y7 - y8 - y9)**2) - 61459067.4568289/s,\n",
       "  y12/(y14*y2) - 0.000251188643150958/y14,\n",
       "  y13/(y14*y2**2) - 0.00199526231496888/(s*y14),\n",
       "  -1.58489319246111e-19*s**3/y14 + y2**2*(i_10*s + 2*i_11*s + i_12*s + i_13*s + i_14*s + i_5*s + i_6*s + i_7*s + i_8*s + i_9*s - y10 - 2*y11 - y12 - y13 - y14 - y6 - y7 - y8 - y9)/y14],\n",
       " [0, 1, 3, 5],\n",
       " [<function numpy.<lambda>>,\n",
       "  <function numpy.<lambda>>,\n",
       "  <function numpy.<lambda>>,\n",
       "  <function numpy.<lambda>>])"
      ]
     },
     "execution_count": 30,
     "metadata": {},
     "output_type": "execute_result"
    }
   ],
   "source": [
    "i = sp.symarray('i', len(y))\n",
    "print(i)\n",
    "reaction_system.f(y, i, scaling=s, reduced=True)"
   ]
  },
  {
   "cell_type": "code",
   "execution_count": 31,
   "metadata": {
    "collapsed": false
   },
   "outputs": [
    {
     "name": "stdout",
     "output_type": "stream",
     "text": [
      "[0, 1, 3, 5]\n"
     ]
    }
   ],
   "source": [
    "f_elim, j_elim, elim, elm_cbs = reaction_system.num_cb_factory(c0arr*scaling, True, scaling=scaling, logC=logC, reduced=True)\n",
    "print(elim)"
   ]
  },
  {
   "cell_type": "code",
   "execution_count": 32,
   "metadata": {
    "collapsed": false
   },
   "outputs": [
    {
     "data": {
      "image/png": "[encoded data removed]",
      "text/latex": [
       "$$\\left [ 5.22490380595e-21, \\quad -62508.3375434, \\quad 99999980037.4, \\quad 99920567166.5, \\quad 36904265542.0, \\quad -9.90000000001e+12, \\quad -2.41188643152e+12, \\quad -61459067.4568, \\quad -2501886441.51, \\quad 9.99798473772e+13, \\quad 0.000998417106709\\right ]$$"
      ],
      "text/plain": [
       "[5.22490380595e-21, -62508.3375434, 99999980037.4, 99920567166.5, 36904265542.\n",
       "0, -9.90000000001e+12, -2.41188643152e+12, -61459067.4568, -2501886441.51, 9.9\n",
       "9798473772e+13, 0.000998417106709]"
      ]
     },
     "execution_count": 32,
     "metadata": {},
     "output_type": "execute_result"
    }
   ],
   "source": [
    "c0arr_elim = np.array([x for idx, x in enumerate(c0arr) if idx not in elim]) + 1e-13\n",
    "x0elim = np.log(c0arr_elim) if logC else c0arr_elim\n",
    "f_elim(x0elim)"
   ]
  },
  {
   "cell_type": "code",
   "execution_count": 33,
   "metadata": {
    "collapsed": false
   },
   "outputs": [
    {
     "data": {
      "text/plain": [
       "array([  1.00000100e-07,   1.00000000e+00,   1.00000000e-13,\n",
       "         1.00000000e-13,   1.00000000e-13,   1.00000000e-13,\n",
       "         1.00000000e-13,   1.00000000e-13,   1.00000000e-13,\n",
       "         1.00000000e-13,   1.00000000e-13])"
      ]
     },
     "execution_count": 33,
     "metadata": {},
     "output_type": "execute_result"
    },
    {
     "data": {
      "image/png": "[encoded data removed]",
      "text/plain": [
       "<matplotlib.figure.Figure at 0x7f292471ad90>"
      ]
     },
     "metadata": {},
     "output_type": "display_data"
    }
   ],
   "source": [
    "jmat = j_elim(x0elim)\n",
    "plt.imshow(jmat, cmap='binary', interpolation='None')\n",
    "x0elim"
   ]
  },
  {
   "cell_type": "code",
   "execution_count": 34,
   "metadata": {
    "collapsed": false
   },
   "outputs": [
    {
     "data": {
      "text/plain": [
       "matrix([[  3.60365586e-09,   1.80180360e-09,   1.80180360e-09,\n",
       "           3.60360721e-09,   5.40541081e-09,   7.20721441e-09,\n",
       "           9.00901802e-09,   3.60360721e-09,   5.40541082e-09,\n",
       "           7.20721443e-09,   3.60360721e-09],\n",
       "        [ -6.25065875e+11,   3.90712036e+16,   3.90712036e+16,\n",
       "           7.81424072e+16,   1.17213611e+17,   1.56284814e+17,\n",
       "           1.95356018e+17,  -1.25013175e+12,  -1.87519762e+12,\n",
       "          -2.50026350e+12,  -1.25013175e+12],\n",
       "        [  0.00000000e+00,   1.00000000e+11,  -1.00000000e+24,\n",
       "          -1.00000000e+13,  -1.00000000e+13,  -1.00000000e+13,\n",
       "          -1.00000000e+13,  -2.00000000e+13,  -1.00000000e+13,\n",
       "          -1.00000000e+13,  -1.00000000e+13],\n",
       "        [  0.00000000e+00,   2.00000000e+11,  -1.00000000e+13,\n",
       "          -1.00000000e+24,  -1.00000000e+13,  -1.00000000e+13,\n",
       "          -1.00000000e+13,  -2.00000000e+13,  -1.00000000e+13,\n",
       "          -1.00000000e+13,  -1.00000000e+13],\n",
       "        [  0.00000000e+00,   3.00000000e+11,  -1.00000000e+13,\n",
       "          -1.00000000e+13,  -1.00000000e+24,  -1.00000000e+13,\n",
       "          -1.00000000e+13,  -2.00000000e+13,  -1.00000000e+13,\n",
       "          -1.00000000e+13,  -1.00000000e+13],\n",
       "        [  0.00000000e+00,   4.00000000e+11,  -1.00000000e+13,\n",
       "          -1.00000000e+13,  -1.00000000e+13,  -1.00000000e+24,\n",
       "          -1.00000000e+13,  -2.00000000e+13,  -1.00000000e+13,\n",
       "          -1.00000000e+13,  -1.00000000e+13],\n",
       "        [  0.00000000e+00,   5.00000000e+11,  -1.00000000e+13,\n",
       "          -1.00000000e+13,  -1.00000000e+13,  -1.00000000e+13,\n",
       "          -1.00000000e+24,  -2.00000000e+13,  -1.00000000e+13,\n",
       "          -1.00000000e+13,  -1.00000000e+13],\n",
       "        [  6.49316127e-20,   6.49316126e-20,   6.49322619e-20,\n",
       "           1.29863875e-19,   1.94795488e-19,   2.59727100e-19,\n",
       "           3.24658713e-19,   3.24668451e-14,   1.94795488e-19,\n",
       "           2.59727100e-19,   1.29863875e-19],\n",
       "        [ -9.99998000e+13,   0.00000000e+00,   0.00000000e+00,\n",
       "           0.00000000e+00,   0.00000000e+00,   0.00000000e+00,\n",
       "           0.00000000e+00,   0.00000000e+00,   9.99999000e+19,\n",
       "           0.00000000e+00,   2.50188644e+22],\n",
       "        [ -1.99999400e+21,   0.00000000e+00,   0.00000000e+00,\n",
       "           0.00000000e+00,   0.00000000e+00,   0.00000000e+00,\n",
       "           0.00000000e+00,   0.00000000e+00,   0.00000000e+00,\n",
       "           9.99998000e+26,  -9.99798474e+26],\n",
       "        [  2.00000200e+04,   0.00000000e+00,  -1.00000200e-01,\n",
       "          -1.00000200e-01,  -1.00000200e-01,  -1.00000200e-01,\n",
       "          -1.00000200e-01,  -2.00000400e-01,  -1.00000200e-01,\n",
       "          -1.00000200e-01,  -9.98417107e+09]])"
      ]
     },
     "execution_count": 34,
     "metadata": {},
     "output_type": "execute_result"
    }
   ],
   "source": [
    "jmat"
   ]
  },
  {
   "cell_type": "code",
   "execution_count": 35,
   "metadata": {
    "collapsed": false
   },
   "outputs": [
    {
     "data": {
      "text/plain": [
       "(None,\n",
       "   status: 5\n",
       " success: False\n",
       "     qtf: array([  1.25492429e+28,   1.27445376e+26,  -9.21137068e+31,\n",
       "        -7.05329318e+24,   2.50270361e+52,   1.02469896e+45,\n",
       "         5.12762637e+14,   2.34409914e+23,   9.44737285e+35,\n",
       "         8.67316394e+21,  -7.98097666e+20,  -1.56411199e+11,\n",
       "        -1.05013344e+15,  -7.23432483e+14,  -4.05324571e+14])\n",
       "    nfev: 11\n",
       "       r: array([  1.00000000e+00,  -2.53005845e-49,   1.00000000e+00,\n",
       "        -1.83608233e-52,   3.05069429e+24,  -1.76264253e+30,\n",
       "        -7.21161282e-41,  -4.12919828e-16,  -2.53716048e+10,\n",
       "        -7.95883941e+27,   3.13618227e+39,   2.00000000e+00,\n",
       "         3.00000000e+00,   4.00000000e+00,   2.00000000e+00,\n",
       "        -9.90849712e+01,   1.00923479e-02,   7.19845293e-02,\n",
       "         3.09817002e+22,  -1.79007325e+28,   1.00923479e-02,\n",
       "         2.01846958e-02,  -2.57664445e+08,  -8.08269701e+25,\n",
       "         3.18498838e+37,   2.01846958e-02,   3.02770437e-02,\n",
       "         4.03693915e-02,   2.01846958e-02,  -2.63551887e+03,\n",
       "         2.75654604e-07,  -2.23926464e+28,   1.29381142e+34,\n",
       "         5.29345548e-37,  -7.58786553e-04,   1.86232211e+14,\n",
       "         5.84193344e+31,  -2.30201444e+43,  -7.58786556e-04,\n",
       "         1.00767966e-02,  -6.13288068e-04,  -2.20998152e+09,\n",
       "        -1.00000026e+00,  -1.71464056e+21,   9.90692001e+26,\n",
       "        -9.99273244e-01,   2.32081533e-19,   1.42601049e+07,\n",
       "         4.47326489e+24,  -1.76268927e+36,   1.45298523e-03,\n",
       "         2.17948094e-03,   2.90597071e-03,  -6.09189969e+02,\n",
       "         6.08401932e+48,  -3.51524938e+54,  -1.43821660e-16,\n",
       "        -8.23488678e+08,  -5.05987552e+34,  -1.58723648e+52,\n",
       "         6.25450854e+63,   1.89819456e-24,  -5.62528353e-19,\n",
       "        -1.95543006e-24,   1.42683013e-10,  -3.77472695e+45,\n",
       "         8.82037187e-19,   8.33710082e+06,   7.49881324e+31,\n",
       "         1.30183627e+50,   2.49454274e+55,  -1.17022430e-23,\n",
       "        -1.75380267e-20,  -9.47731129e-24,   9.10062031e-18,\n",
       "         5.52115010e+12,   3.12884701e+05,   4.91520000e+04,\n",
       "         8.80692103e+19,   2.93817172e+24,   7.24712727e-13,\n",
       "         7.24824640e-13,   9.06060188e-13,   4.31911177e-07,\n",
       "        -8.78889681e+27,   4.85150270e+18,   1.23492379e+29,\n",
       "         2.96497120e+33,   2.24245736e-19,  -1.77977165e-19,\n",
       "         5.18164672e-20,   3.46827652e-14,   2.06288371e+41,\n",
       "        -4.73242545e+40,   5.24193687e+45,  -1.37747079e-19,\n",
       "         1.13686838e-13,  -2.41616148e-19,   3.63797881e-12,\n",
       "         1.03616268e+27,  -1.16816070e+32,   1.47094504e+00,\n",
       "         5.23775920e+02,   1.19147045e+00,  -5.94905404e+05,\n",
       "        -1.70242963e+32,   1.35495745e+00,  -5.64184654e+02,\n",
       "         1.09280812e+00,  -5.91772260e+05,   2.00000023e+00,\n",
       "         1.00000022e+00,   3.38294183e+00,   1.00002223e+00,\n",
       "        -5.11271852e-04,  -4.10325047e+03,  -1.77163338e-03,\n",
       "         2.88976590e+03,   4.46321241e-02,  -1.31095744e-02])\n",
       "     fun: array([  2.05055010e-09,   7.19306501e+04,  -1.79584971e+12,\n",
       "        -7.15164850e+23,  -5.92796859e+34,  -9.99046161e+44,\n",
       "        -2.50270361e+52,  -6.14590675e-01,  -2.37723209e-02,\n",
       "         3.64186728e-05,  -1.87150931e+07,   1.28364563e-03,\n",
       "        -2.70004570e-03,   1.70005858e-03,   1.09999650e-03])\n",
       "       x: array([  5.54900008e+09,   7.25986672e+02,   1.53391915e-01,\n",
       "         9.99201389e+05,   9.90007986e+07,   7.27506623e+01,\n",
       "         3.61179463e-02,   9.00720383e-06,   1.84986122e-08,\n",
       "         7.32684082e-09,   7.53449871e-09,   4.99963603e+05,\n",
       "         7.65030133e-06,   7.25705591e-09,   8.46843811e-03])\n",
       " message: 'The iteration is not making good progress, as measured by the \\n  improvement from the last ten iterations.'\n",
       "    fjac: array([[ -1.97354805e-62,  -1.58798505e-61,  -7.12572587e-56,\n",
       "         -1.40497297e-53,  -5.26043865e-41,  -1.71300293e-32,\n",
       "         -5.01427450e-25,  -5.82783953e-22,  -2.66925852e-55,\n",
       "         -5.78374957e-62,   5.47410604e-52,   1.00000000e+00,\n",
       "          8.49268755e-59,  -6.17048635e-62,  -1.20939884e-65],\n",
       "       [ -2.78984420e-13,  -9.99949071e-01,  -7.23661424e-58,\n",
       "         -1.42683698e-55,  -5.34230234e-43,  -1.73966044e-34,\n",
       "         -5.09230799e-27,  -4.49558155e-17,  -2.71079735e-57,\n",
       "         -5.87375656e-64,   5.55930458e-54,  -2.55342301e-51,\n",
       "         -1.00923479e-02,  -6.26651377e-64,  -1.22821956e-67],\n",
       "       [ -4.96418314e-11,  -3.82916396e-06,   5.22987259e-52,\n",
       "          1.03120054e-49,   3.86127184e-37,   1.25728475e-28,\n",
       "          3.68056794e-21,  -1.72373083e-22,   1.45681416e-05,\n",
       "          1.80182914e-07,  -9.99999928e-01,   1.84553835e-45,\n",
       "          3.79393278e-04,   4.52884780e-58,   8.87629497e-62],\n",
       "       [ -2.00962409e-14,   7.33238965e-06,   5.29395592e-23,\n",
       "          7.89457816e-57,   2.95666759e-44,   9.62543664e-36,\n",
       "          2.81826947e-28,  -3.23612237e-18,   4.01577424e-12,\n",
       "          4.96682367e-14,  -2.75654512e-07,   1.41315918e-52,\n",
       "         -7.26492616e-04,  -9.99999736e-01,   6.79490935e-69],\n",
       "       [ -1.82710130e-31,  -9.00144735e-27,   6.76853183e-32,\n",
       "          8.97131990e-31,  -1.09598256e-16,   1.02500330e-09,\n",
       "         -1.00000000e+00,  -4.61839975e-38,   5.36192183e-26,\n",
       "          6.63175453e-28,  -3.68056768e-21,  -5.01427450e-25,\n",
       "          1.39643392e-24,  -2.81826868e-28,   1.01211001e-41],\n",
       "       [ -1.93805216e-30,  -5.90850565e-26,  -5.90701914e-24,\n",
       "         -9.48597940e-22,  -3.63519823e-10,  -1.00000000e+00,\n",
       "         -1.02500330e-09,   3.76619712e-30,  -1.66729986e-23,\n",
       "          2.77506822e-27,   1.84885370e-27,  -1.76439941e-32,\n",
       "          5.85414298e-24,  -4.25342657e-27,  -7.51552661e-34],\n",
       "       [  2.55162381e-28,   1.82917658e-15,  -1.00000000e+00,\n",
       "         -5.62104211e-23,  -9.40395481e-38,   1.59756977e-31,\n",
       "          1.72084360e-42,  -5.03529308e-31,  -1.69406589e-21,\n",
       "          0.00000000e+00,   0.00000000e+00,   4.65077300e-63,\n",
       "         -1.81234678e-13,   1.31679036e-16,   1.81121683e-13],\n",
       "       [ -3.15733305e-30,   1.09421439e-21,  -4.11359966e-23,\n",
       "          1.00000000e+00,   3.27641071e-24,  -9.48597940e-22,\n",
       "         -7.51840223e-32,   3.23628719e-18,   5.99275022e-28,\n",
       "          7.41200374e-30,  -4.11359937e-23,   1.88605595e-39,\n",
       "         -1.08414680e-19,  -1.11022302e-16,  -1.13779916e-28],\n",
       "       [ -9.50973487e-28,  -1.21982730e-22,   1.11022800e-16,\n",
       "         -5.50268978e-24,  -1.00000000e+00,   3.63519823e-10,\n",
       "          5.13139141e-21,  -2.67949469e-23,   3.32935537e-17,\n",
       "          6.46536799e-24,   4.89611069e-22,   8.76512943e-42,\n",
       "          1.20860397e-20,  -8.78131662e-24,  -5.04870979e-29],\n",
       "       [  2.43494734e-07,   7.42302257e-03,   1.33306796e-13,\n",
       "          8.46244087e-20,  -2.17584188e-16,  -2.74674959e-24,\n",
       "          3.70269694e-34,  -2.62515713e-07,   6.77513537e-01,\n",
       "         -3.48779084e-04,  -2.69191723e-04,   1.17517868e-55,\n",
       "         -7.35472519e-01,   5.34370001e-04,   9.47078923e-11],\n",
       "       [ -1.23340826e-08,   6.83769920e-03,   1.22795233e-13,\n",
       "          7.79764654e-20,   2.36176757e-16,  -5.65836784e-24,\n",
       "          3.38872519e-34,   2.20677129e-07,  -7.35510304e-01,\n",
       "         -3.22215890e-04,  -2.67772152e-04,   3.14539231e-56,\n",
       "         -6.77478723e-01,   4.92233627e-04,  -7.96118077e-11],\n",
       "       [ -1.70727604e-07,   2.27524079e-09,   1.81121704e-13,\n",
       "          2.33890228e-20,   9.20845779e-26,  -1.15753974e-33,\n",
       "         -8.02897276e-44,   4.35690287e-08,  -4.50562415e-10,\n",
       "          4.74811856e-04,   1.08290957e-14,  -1.24874585e-65,\n",
       "         -2.25430686e-07,   1.63790479e-10,   9.99999887e-01],\n",
       "       [  2.62726472e-01,  -3.91874813e-06,  -5.10930256e-20,\n",
       "          1.76367472e-17,  -7.18789697e-23,   1.32115120e-30,\n",
       "          8.36255113e-41,  -5.12366344e-01,   3.44578742e-07,\n",
       "         -8.17591113e-01,  -2.21739259e-12,   2.90968913e-63,\n",
       "          3.88269263e-04,  -2.82103607e-07,   3.88269263e-04],\n",
       "       [  3.73051852e-01,   2.75838741e-06,   3.59441132e-20,\n",
       "         -1.66090447e-18,   1.45581089e-22,  -1.84640219e-30,\n",
       "         -1.31210350e-40,  -7.27521715e-01,  -7.10030051e-07,\n",
       "          5.75798854e-01,   2.11934110e-11,  -2.43025582e-62,\n",
       "         -2.73300828e-04,   1.98571332e-07,  -2.73300828e-04],\n",
       "       [ -8.89835443e-01,   1.33290709e-09,   8.97525614e-24,\n",
       "          4.50733386e-18,  -2.30245887e-23,   1.12200918e-30,\n",
       "          7.43654690e-41,  -4.56281584e-01,  -3.43036546e-10,\n",
       "         -7.89284749e-11,  -5.93204258e-12,   6.99287627e-63,\n",
       "         -1.32039734e-07,   9.59535763e-11,  -1.32039735e-07]])\n",
       "    njev: 2)"
      ]
     },
     "execution_count": 35,
     "metadata": {},
     "output_type": "execute_result"
    }
   ],
   "source": [
    "reaction_system.root(init_conc, scaling=1e8, init_iter=100)"
   ]
  },
  {
   "cell_type": "code",
   "execution_count": null,
   "metadata": {
    "collapsed": true
   },
   "outputs": [],
   "source": []
  },
  {
   "cell_type": "code",
   "execution_count": null,
   "metadata": {
    "collapsed": true
   },
   "outputs": [],
   "source": []
  },
  {
   "cell_type": "code",
   "execution_count": null,
   "metadata": {
    "collapsed": true
   },
   "outputs": [],
   "source": []
  }
 ],
 "metadata": {
  "kernelspec": {
   "display_name": "Python 2",
   "language": "python",
   "name": "python2"
  },
  "language_info": {
   "codemirror_mode": {
    "name": "ipython",
    "version": 2
   },
   "file_extension": ".py",
   "mimetype": "text/x-python",
   "name": "python",
   "nbconvert_exporter": "python",
   "pygments_lexer": "ipython2",
   "version": "2.7.6"
  }
 },
 "nbformat": 4,
 "nbformat_minor": 0
}
