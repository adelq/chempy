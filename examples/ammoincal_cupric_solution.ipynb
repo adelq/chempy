{
 "cells": [
  {
   "cell_type": "code",
   "execution_count": 1,
   "metadata": {
    "collapsed": false
   },
   "outputs": [],
   "source": [
    "from aqchem.chemistry import Solute, elements\n",
    "from aqchem.equilibria import Equilibrium, EqSystem, charge_balance, atom_balance\n",
    "from IPython.display import Latex, display\n",
    "import periodictable\n",
    "%matplotlib inline"
   ]
  },
  {
   "cell_type": "code",
   "execution_count": 2,
   "metadata": {
    "collapsed": false
   },
   "outputs": [],
   "source": [
    "def show(s): display(Latex('$'+s+'$'))"
   ]
  },
  {
   "cell_type": "code",
   "execution_count": 3,
   "metadata": {
    "collapsed": false
   },
   "outputs": [],
   "source": [
    "substances = Hp, OHm, NH4p, NH3, H2O, Cupp, CuNH31pp, CuNH32pp, CuNH33pp, CuNH34pp, CuNH35pp, Cu2OH2pp, CuOH3m, CuOH4mm, CuOH2 = [#, CuOHp, CuOH2, =\n",
    "    Solute(n, latex_name=l, formula=periodictable.formula(n)) for n, l in [\n",
    "        ('H{+}', 'H^+'), ('HO{-}', 'OH^-'), ('NH3 + H{+}', 'NH_4^+'),\n",
    "        ('NH3', 'NH_3'), ('H2O', 'H_2O'), ('Cu{2+}', 'Cu^{2+}'), ('Cu{2+}NH3', 'Cu(NH_3)^{2+}'),\n",
    "        ('Cu{2+}(NH3)2', 'Cu(NH_3)_2^{2+}'), ('Cu{2+}(NH3)3', 'Cu(NH_3)_3^{2+}'),\n",
    "        ('Cu{2+}(NH3)4', 'Cu(NH_3)_4^{2+}'), ('Cu{2+}(NH3)5', 'Cu(NH_3)_5^{2+}'), \n",
    "        ('2Cu{2+} + 2HO{-}', 'Cu_2(OH)_2^{2+}'),\n",
    "        ('Cu{2+} + 3HO{-}', 'Cu(OH)_3^-'), ('Cu{2+} + 4HO{-}', 'Cu(OH)_4^{2-}'),\n",
    "        ('Cu{2+} + 2HO{-}', 'Cu(OH_2)(s)'),\n",
    "    ]]\n",
    "CuOH2.solid = True"
   ]
  },
  {
   "cell_type": "code",
   "execution_count": 4,
   "metadata": {
    "collapsed": false
   },
   "outputs": [
    {
     "data": {
      "text/latex": [
       "$H^+, OH^-, NH_4^+, NH_3, H_2O, Cu^{2+}, Cu(NH_3)^{2+}, Cu(NH_3)_2^{2+}, Cu(NH_3)_3^{2+}, Cu(NH_3)_4^{2+}, Cu(NH_3)_5^{2+}, Cu_2(OH)_2^{2+}, Cu(OH)_3^-, Cu(OH)_4^{2-}, Cu(OH_2)(s)$"
      ],
      "text/plain": [
       "<IPython.core.display.Latex object>"
      ]
     },
     "metadata": {},
     "output_type": "display_data"
    }
   ],
   "source": [
    "show(', '.join([s.latex_name for s in substances])) # + r'(\\mathrm{%s})' % (str(s.formula.atoms) + ', ' + str(s.charge))"
   ]
  },
  {
   "cell_type": "code",
   "execution_count": 5,
   "metadata": {
    "collapsed": false
   },
   "outputs": [],
   "source": [
    "init_conc = {Hp: 1e-7, OHm: 1e-7, NH4p: 0, NH3: 1.0, Cupp: 1e-2, \n",
    "            CuNH31pp: 0, CuNH32pp: 0, CuNH33pp: 0, CuNH34pp: 0, CuNH35pp: 0,\n",
    "            H2O: 55.5, Cu2OH2pp: 0, CuOH2: 0, CuOH3m: 0, CuOH4mm: 0}"
   ]
  },
  {
   "cell_type": "code",
   "execution_count": 6,
   "metadata": {
    "collapsed": false
   },
   "outputs": [],
   "source": [
    "H2O_c = init_conc[H2O]\n",
    "w_autop = Equilibrium({H2O: 1}, {Hp: 1, OHm: 1}, 10**-14/H2O_c)\n",
    "NH4p_pr = Equilibrium({NH4p: 1}, {Hp: 1, NH3: 1}, 10**-9.26)\n",
    "CuOH2_s = Equilibrium({CuOH2: 1}, {Cupp: 1, OHm: 2}, 10**-18.8)\n",
    "CuOH_B3 = Equilibrium({CuOH2: 1, OHm: 1}, {CuOH3m: 1}, 10**-3.6)\n",
    "CuOH_B4 = Equilibrium({CuOH2: 1, OHm: 2}, {CuOH4mm: 1}, 10**-2.7)\n",
    "Cu2OH2 = Equilibrium({Cupp: 2, H2O: 2}, {Cu2OH2pp: 1, Hp: 2}, 10**4.3 * H2O_c**2)\n",
    "CuNH3_B1 = Equilibrium({CuNH31pp: 1}, {Cupp: 1, NH3: 1}, 10**4.3)\n",
    "CuNH3_B2 = Equilibrium({CuNH32pp: 1}, {Cupp: 1, NH3: 2}, 10**7.9)\n",
    "CuNH3_B3 = Equilibrium({CuNH33pp: 1}, {Cupp: 1, NH3: 3}, 10**10.8)\n",
    "CuNH3_B4 = Equilibrium({CuNH34pp: 1}, {Cupp: 1, NH3: 4}, 10**13.0)\n",
    "CuNH3_B5 = Equilibrium({CuNH35pp: 1}, {Cupp: 1, NH3: 5}, 10**12.4)\n",
    "equilibria = w_autop, NH4p_pr, CuNH3_B1, CuNH3_B2, CuNH3_B3, CuNH3_B4, CuNH3_B5, Cu2OH2, CuOH_B3, CuOH_B4, CuOH2_s\n",
    "skip_subs, skip_eq = (4, 4) # (0, 0), (1, 1), (3, 3), (4, 4), (11, 9)\n",
    "simpl_subs = substances[:-skip_subs]\n",
    "simpl_eq = equilibria[:-skip_eq]\n",
    "simpl_c0 = {k: init_conc[k] for k in simpl_subs}"
   ]
  },
  {
   "cell_type": "code",
   "execution_count": 7,
   "metadata": {
    "collapsed": false
   },
   "outputs": [
    {
     "data": {
      "text/latex": [
       "$H^+, OH^-, NH_4^+, NH_3, H_2O, Cu^{2+}, Cu(NH_3)^{2+}, Cu(NH_3)_2^{2+}, Cu(NH_3)_3^{2+}, Cu(NH_3)_4^{2+}, Cu(NH_3)_5^{2+}$"
      ],
      "text/plain": [
       "<IPython.core.display.Latex object>"
      ]
     },
     "metadata": {},
     "output_type": "display_data"
    },
    {
     "data": {
      "text/latex": [
       "$~$"
      ],
      "text/plain": [
       "<IPython.core.display.Latex object>"
      ]
     },
     "metadata": {},
     "output_type": "display_data"
    },
    {
     "data": {
      "text/latex": [
       "$H_2O \\rightleftharpoons H^+ + OH^-~~~~~~~~~~~~~~~~~~~~~~~~~~~~~~~~~~~~~lgK =      -15.744$"
      ],
      "text/plain": [
       "<IPython.core.display.Latex object>"
      ]
     },
     "metadata": {},
     "output_type": "display_data"
    },
    {
     "data": {
      "text/latex": [
       "$NH_4^+ \\rightleftharpoons H^+ + NH_3~~~~~~~~~~~~~~~~~~~~~~~~~~~~~~~~~~~~~lgK =        -9.26$"
      ],
      "text/plain": [
       "<IPython.core.display.Latex object>"
      ]
     },
     "metadata": {},
     "output_type": "display_data"
    },
    {
     "data": {
      "text/latex": [
       "$Cu(NH_3)^{2+} \\rightleftharpoons Cu^{2+} + NH_3~~~~~~~~~~~~~~~~~~~~~~~~~~~~~~~~~~~~~lgK =          4.3$"
      ],
      "text/plain": [
       "<IPython.core.display.Latex object>"
      ]
     },
     "metadata": {},
     "output_type": "display_data"
    },
    {
     "data": {
      "text/latex": [
       "$Cu(NH_3)_2^{2+} \\rightleftharpoons Cu^{2+} + 2 NH_3~~~~~~~~~~~~~~~~~~~~~~~~~~~~~~~~~~~~~lgK =          7.9$"
      ],
      "text/plain": [
       "<IPython.core.display.Latex object>"
      ]
     },
     "metadata": {},
     "output_type": "display_data"
    },
    {
     "data": {
      "text/latex": [
       "$Cu(NH_3)_3^{2+} \\rightleftharpoons Cu^{2+} + 3 NH_3~~~~~~~~~~~~~~~~~~~~~~~~~~~~~~~~~~~~~lgK =         10.8$"
      ],
      "text/plain": [
       "<IPython.core.display.Latex object>"
      ]
     },
     "metadata": {},
     "output_type": "display_data"
    },
    {
     "data": {
      "text/latex": [
       "$Cu(NH_3)_4^{2+} \\rightleftharpoons Cu^{2+} + 4 NH_3~~~~~~~~~~~~~~~~~~~~~~~~~~~~~~~~~~~~~lgK =           13$"
      ],
      "text/plain": [
       "<IPython.core.display.Latex object>"
      ]
     },
     "metadata": {},
     "output_type": "display_data"
    },
    {
     "data": {
      "text/latex": [
       "$Cu(NH_3)_5^{2+} \\rightleftharpoons Cu^{2+} + 5 NH_3~~~~~~~~~~~~~~~~~~~~~~~~~~~~~~~~~~~~~lgK =         12.4$"
      ],
      "text/plain": [
       "<IPython.core.display.Latex object>"
      ]
     },
     "metadata": {},
     "output_type": "display_data"
    },
    {
     "data": {
      "text/plain": [
       "{'Cu{2+}': 0.01,\n",
       " 'Cu{2+}(NH3)2': 0,\n",
       " 'Cu{2+}(NH3)3': 0,\n",
       " 'Cu{2+}(NH3)4': 0,\n",
       " 'Cu{2+}(NH3)5': 0,\n",
       " 'Cu{2+}NH3': 0,\n",
       " 'H2O': 55.5,\n",
       " 'HO{-}': 1e-07,\n",
       " 'H{+}': 1e-07,\n",
       " 'NH3': 1.0,\n",
       " 'NH3 + H{+}': 0}"
      ]
     },
     "execution_count": 7,
     "metadata": {},
     "output_type": "execute_result"
    }
   ],
   "source": [
    "show(', '.join([s.latex_name for s in simpl_subs]))\n",
    "show('~')\n",
    "from math import log10\n",
    "for eq in simpl_eq:\n",
    "    ltx = eq.latex()\n",
    "    show(ltx + '~~~~~~~~~~~~~~~~~~~~~~~~~~~~~~~~~~~~~lgK = {0:12.5g}'.format(log10(eq.params)))\n",
    "{k.name: v for k, v in simpl_c0.items()}"
   ]
  },
  {
   "cell_type": "code",
   "execution_count": 8,
   "metadata": {
    "collapsed": false
   },
   "outputs": [
    {
     "data": {
      "image/png": "[encoded data removed]",
      "text/latex": [
       "$$\\left [ \\frac{x_{0} x_{1}}{x_{4}} 5.55 \\cdot 10^{15} - 1, \\quad \\frac{1819700858.60998 x_{0}}{x_{2}} x_{3} - 1, \\quad \\frac{x_{3} x_{5}}{x_{6}} 5.01187233627272 \\cdot 10^{-5} - 1, \\quad \\frac{x_{3}^{2} x_{5}}{x_{7}} 1.25892541179417 \\cdot 10^{-8} - 1, \\quad \\frac{x_{3}^{3} x_{5}}{x_{8}} 1.58489319246111 \\cdot 10^{-11} - 1, \\quad \\frac{x_{3}^{4} x_{5}}{x_{9}} 1.0 \\cdot 10^{-13} - 1, \\quad -1 + \\frac{x_{3}^{5} x_{5}}{x_{10}} 3.98107170553497 \\cdot 10^{-13}, \\quad -1 + \\frac{x_{0} - x_{1} + 2 x_{10} + x_{2} + 2 x_{5} + 2 x_{6} + 2 x_{7} + 2 x_{8} + 2 x_{9}}{i_{0} - i_{1} + 2 i_{10} + i_{2} + 2 i_{5} + 2 i_{6} + 2 i_{7} + 2 i_{8} + 2 i_{9}}, \\quad -1 + \\frac{x_{0} + x_{1} + 15 x_{10} + 4 x_{2} + 3 x_{3} + 2 x_{4} + 3 x_{6} + 6 x_{7} + 9 x_{8} + 12 x_{9}}{i_{0} + i_{1} + 15 i_{10} + 4 i_{2} + 3 i_{3} + 2 i_{4} + 3 i_{6} + 6 i_{7} + 9 i_{8} + 12 i_{9}}, \\quad -1 + \\frac{5 x_{10} + x_{2} + x_{3} + x_{6} + 2 x_{7} + 3 x_{8} + 4 x_{9}}{5 i_{10} + i_{2} + i_{3} + i_{6} + 2 i_{7} + 3 i_{8} + 4 i_{9}}, \\quad -1 + \\frac{x_{1} + x_{4}}{i_{1} + i_{4}}, \\quad -1 + \\frac{x_{10} + x_{5} + x_{6} + x_{7} + x_{8} + x_{9}}{i_{10} + i_{5} + i_{6} + i_{7} + i_{8} + i_{9}}\\right ]$$"
      ],
      "text/plain": [
       "⎡                                                                             \n",
       "⎢5.55e+15⋅x₀⋅x₁      1819700858.60998⋅x₀⋅x₃      5.01187233627272e-5⋅x₃⋅x₅    \n",
       "⎢────────────── - 1, ────────────────────── - 1, ───────────────────────── - 1\n",
       "⎣      x₄                      x₂                            x₆               \n",
       "\n",
       "                        2                                3                   4\n",
       "  1.25892541179417e-8⋅x₃ ⋅x₅      1.58489319246111e-11⋅x₃ ⋅x₅      1.0e-13⋅x₃ \n",
       ", ────────────────────────── - 1, ─────────────────────────── - 1, ───────────\n",
       "              x₇                               x₈                        x₉   \n",
       "\n",
       "                                     5                                        \n",
       "⋅x₅           3.98107170553497e-13⋅x₃ ⋅x₅       x₀ - x₁ + 2⋅x₁₀ + x₂ + 2⋅x₅ + \n",
       "─── - 1, -1 + ───────────────────────────, -1 + ──────────────────────────────\n",
       "                          x₁₀                   i₀ - i₁ + 2⋅i₁₀ + i₂ + 2⋅i₅ + \n",
       "\n",
       "                                                                              \n",
       "2⋅x₆ + 2⋅x₇ + 2⋅x₈ + 2⋅x₉       x₀ + x₁ + 15⋅x₁₀ + 4⋅x₂ + 3⋅x₃ + 2⋅x₄ + 3⋅x₆ +\n",
       "─────────────────────────, -1 + ──────────────────────────────────────────────\n",
       "2⋅i₆ + 2⋅i₇ + 2⋅i₈ + 2⋅i₉       i₀ + i₁ + 15⋅i₁₀ + 4⋅i₂ + 3⋅i₃ + 2⋅i₄ + 3⋅i₆ +\n",
       "\n",
       "                                                                              \n",
       " 6⋅x₇ + 9⋅x₈ + 12⋅x₉       5⋅x₁₀ + x₂ + x₃ + x₆ + 2⋅x₇ + 3⋅x₈ + 4⋅x₉       x₁ \n",
       "────────────────────, -1 + ─────────────────────────────────────────, -1 + ───\n",
       " 6⋅i₇ + 9⋅i₈ + 12⋅i₉       5⋅i₁₀ + i₂ + i₃ + i₆ + 2⋅i₇ + 3⋅i₈ + 4⋅i₉       i₁ \n",
       "\n",
       "                                       ⎤\n",
       "+ x₄       x₁₀ + x₅ + x₆ + x₇ + x₈ + x₉⎥\n",
       "────, -1 + ────────────────────────────⎥\n",
       "+ i₄       i₁₀ + i₅ + i₆ + i₇ + i₈ + i₉⎦"
      ]
     },
     "execution_count": 8,
     "metadata": {},
     "output_type": "execute_result"
    }
   ],
   "source": [
    "eqsys = EqSystem(simpl_eq, simpl_subs)\n",
    "import sympy as sp\n",
    "sp.init_printing()\n",
    "x, i = sp.symarray('x', eqsys.ns), sp.symarray('i', eqsys.ns)\n",
    "f, piv, cbs = eqsys.f(x, i, norm=True)\n",
    "#subs = [(_, sp.exp(_)) for _ in x]\n",
    "#[_.subs(subs).powsimp() for _ in f]\n",
    "f"
   ]
  },
  {
   "cell_type": "code",
   "execution_count": 9,
   "metadata": {
    "collapsed": false
   },
   "outputs": [
    {
     "data": {
      "image/png": "[encoded data removed]",
      "text/latex": [
       "$$\\left[\\begin{array}{ccccccccccc}\\frac{x_{1}}{x_{4}} 5.55 \\cdot 10^{15} & \\frac{x_{0}}{x_{4}} 5.55 \\cdot 10^{15} & 0 & 0 & - \\frac{x_{0} x_{1}}{x_{4}^{2}} 5.55 \\cdot 10^{15} & 0 & 0 & 0 & 0 & 0 & 0\\\\\\frac{1819700858.60998 x_{3}}{x_{2}} & 0 & - \\frac{1819700858.60998 x_{0}}{x_{2}^{2}} x_{3} & \\frac{1819700858.60998 x_{0}}{x_{2}} & 0 & 0 & 0 & 0 & 0 & 0 & 0\\\\0 & 0 & 0 & \\frac{x_{5}}{x_{6}} 5.01187233627272 \\cdot 10^{-5} & 0 & \\frac{x_{3}}{x_{6}} 5.01187233627272 \\cdot 10^{-5} & - \\frac{x_{3} x_{5}}{x_{6}^{2}} 5.01187233627272 \\cdot 10^{-5} & 0 & 0 & 0 & 0\\\\0 & 0 & 0 & \\frac{x_{3} x_{5}}{x_{7}} 2.51785082358833 \\cdot 10^{-8} & 0 & \\frac{x_{3}^{2}}{x_{7}} 1.25892541179417 \\cdot 10^{-8} & 0 & - \\frac{x_{3}^{2} x_{5}}{x_{7}^{2}} 1.25892541179417 \\cdot 10^{-8} & 0 & 0 & 0\\\\0 & 0 & 0 & \\frac{x_{3}^{2} x_{5}}{x_{8}} 4.75467957738333 \\cdot 10^{-11} & 0 & \\frac{x_{3}^{3}}{x_{8}} 1.58489319246111 \\cdot 10^{-11} & 0 & 0 & - \\frac{x_{3}^{3} x_{5}}{x_{8}^{2}} 1.58489319246111 \\cdot 10^{-11} & 0 & 0\\\\0 & 0 & 0 & \\frac{x_{3}^{3} x_{5}}{x_{9}} 4.0 \\cdot 10^{-13} & 0 & \\frac{x_{3}^{4}}{x_{9}} 1.0 \\cdot 10^{-13} & 0 & 0 & 0 & - \\frac{x_{3}^{4} x_{5}}{x_{9}^{2}} 1.0 \\cdot 10^{-13} & 0\\\\0 & 0 & 0 & \\frac{x_{3}^{4} x_{5}}{x_{10}} 1.99053585276748 \\cdot 10^{-12} & 0 & \\frac{x_{3}^{5}}{x_{10}} 3.98107170553497 \\cdot 10^{-13} & 0 & 0 & 0 & 0 & - \\frac{x_{3}^{5} x_{5}}{x_{10}^{2}} 3.98107170553497 \\cdot 10^{-13}\\\\\\frac{1}{i_{0} - i_{1} + 2 i_{10} + i_{2} + 2 i_{5} + 2 i_{6} + 2 i_{7} + 2 i_{8} + 2 i_{9}} & - \\frac{1}{i_{0} - i_{1} + 2 i_{10} + i_{2} + 2 i_{5} + 2 i_{6} + 2 i_{7} + 2 i_{8} + 2 i_{9}} & \\frac{1}{i_{0} - i_{1} + 2 i_{10} + i_{2} + 2 i_{5} + 2 i_{6} + 2 i_{7} + 2 i_{8} + 2 i_{9}} & 0 & 0 & \\frac{2}{i_{0} - i_{1} + 2 i_{10} + i_{2} + 2 i_{5} + 2 i_{6} + 2 i_{7} + 2 i_{8} + 2 i_{9}} & \\frac{2}{i_{0} - i_{1} + 2 i_{10} + i_{2} + 2 i_{5} + 2 i_{6} + 2 i_{7} + 2 i_{8} + 2 i_{9}} & \\frac{2}{i_{0} - i_{1} + 2 i_{10} + i_{2} + 2 i_{5} + 2 i_{6} + 2 i_{7} + 2 i_{8} + 2 i_{9}} & \\frac{2}{i_{0} - i_{1} + 2 i_{10} + i_{2} + 2 i_{5} + 2 i_{6} + 2 i_{7} + 2 i_{8} + 2 i_{9}} & \\frac{2}{i_{0} - i_{1} + 2 i_{10} + i_{2} + 2 i_{5} + 2 i_{6} + 2 i_{7} + 2 i_{8} + 2 i_{9}} & \\frac{2}{i_{0} - i_{1} + 2 i_{10} + i_{2} + 2 i_{5} + 2 i_{6} + 2 i_{7} + 2 i_{8} + 2 i_{9}}\\\\\\frac{1}{i_{0} + i_{1} + 15 i_{10} + 4 i_{2} + 3 i_{3} + 2 i_{4} + 3 i_{6} + 6 i_{7} + 9 i_{8} + 12 i_{9}} & \\frac{1}{i_{0} + i_{1} + 15 i_{10} + 4 i_{2} + 3 i_{3} + 2 i_{4} + 3 i_{6} + 6 i_{7} + 9 i_{8} + 12 i_{9}} & \\frac{4}{i_{0} + i_{1} + 15 i_{10} + 4 i_{2} + 3 i_{3} + 2 i_{4} + 3 i_{6} + 6 i_{7} + 9 i_{8} + 12 i_{9}} & \\frac{3}{i_{0} + i_{1} + 15 i_{10} + 4 i_{2} + 3 i_{3} + 2 i_{4} + 3 i_{6} + 6 i_{7} + 9 i_{8} + 12 i_{9}} & \\frac{2}{i_{0} + i_{1} + 15 i_{10} + 4 i_{2} + 3 i_{3} + 2 i_{4} + 3 i_{6} + 6 i_{7} + 9 i_{8} + 12 i_{9}} & 0 & \\frac{3}{i_{0} + i_{1} + 15 i_{10} + 4 i_{2} + 3 i_{3} + 2 i_{4} + 3 i_{6} + 6 i_{7} + 9 i_{8} + 12 i_{9}} & \\frac{6}{i_{0} + i_{1} + 15 i_{10} + 4 i_{2} + 3 i_{3} + 2 i_{4} + 3 i_{6} + 6 i_{7} + 9 i_{8} + 12 i_{9}} & \\frac{9}{i_{0} + i_{1} + 15 i_{10} + 4 i_{2} + 3 i_{3} + 2 i_{4} + 3 i_{6} + 6 i_{7} + 9 i_{8} + 12 i_{9}} & \\frac{12}{i_{0} + i_{1} + 15 i_{10} + 4 i_{2} + 3 i_{3} + 2 i_{4} + 3 i_{6} + 6 i_{7} + 9 i_{8} + 12 i_{9}} & \\frac{15}{i_{0} + i_{1} + 15 i_{10} + 4 i_{2} + 3 i_{3} + 2 i_{4} + 3 i_{6} + 6 i_{7} + 9 i_{8} + 12 i_{9}}\\\\0 & 0 & \\frac{1}{5 i_{10} + i_{2} + i_{3} + i_{6} + 2 i_{7} + 3 i_{8} + 4 i_{9}} & \\frac{1}{5 i_{10} + i_{2} + i_{3} + i_{6} + 2 i_{7} + 3 i_{8} + 4 i_{9}} & 0 & 0 & \\frac{1}{5 i_{10} + i_{2} + i_{3} + i_{6} + 2 i_{7} + 3 i_{8} + 4 i_{9}} & \\frac{2}{5 i_{10} + i_{2} + i_{3} + i_{6} + 2 i_{7} + 3 i_{8} + 4 i_{9}} & \\frac{3}{5 i_{10} + i_{2} + i_{3} + i_{6} + 2 i_{7} + 3 i_{8} + 4 i_{9}} & \\frac{4}{5 i_{10} + i_{2} + i_{3} + i_{6} + 2 i_{7} + 3 i_{8} + 4 i_{9}} & \\frac{5}{5 i_{10} + i_{2} + i_{3} + i_{6} + 2 i_{7} + 3 i_{8} + 4 i_{9}}\\\\0 & \\frac{1}{i_{1} + i_{4}} & 0 & 0 & \\frac{1}{i_{1} + i_{4}} & 0 & 0 & 0 & 0 & 0 & 0\\\\0 & 0 & 0 & 0 & 0 & \\frac{1}{i_{10} + i_{5} + i_{6} + i_{7} + i_{8} + i_{9}} & \\frac{1}{i_{10} + i_{5} + i_{6} + i_{7} + i_{8} + i_{9}} & \\frac{1}{i_{10} + i_{5} + i_{6} + i_{7} + i_{8} + i_{9}} & \\frac{1}{i_{10} + i_{5} + i_{6} + i_{7} + i_{8} + i_{9}} & \\frac{1}{i_{10} + i_{5} + i_{6} + i_{7} + i_{8} + i_{9}} & \\frac{1}{i_{10} + i_{5} + i_{6} + i_{7} + i_{8} + i_{9}}\\end{array}\\right]$$"
      ],
      "text/plain": [
       "⎡                           5.55e+15⋅x₁                                       \n",
       "⎢                           ───────────                                       \n",
       "⎢                                x₄                                           \n",
       "⎢                                                                             \n",
       "⎢                                                                             \n",
       "⎢                       1819700858.60998⋅x₃                                   \n",
       "⎢                       ───────────────────                                   \n",
       "⎢                                x₂                                           \n",
       "⎢                                                                             \n",
       "⎢                                                                             \n",
       "⎢                                                                             \n",
       "⎢                                0                                            \n",
       "⎢                                                                             \n",
       "⎢                                                                             \n",
       "⎢                                                                             \n",
       "⎢                                                                             \n",
       "⎢                                                                             \n",
       "⎢                                0                                            \n",
       "⎢                                                                             \n",
       "⎢                                                                             \n",
       "⎢                                                                             \n",
       "⎢                                                                             \n",
       "⎢                                                                             \n",
       "⎢                                0                                            \n",
       "⎢                                                                             \n",
       "⎢                                                                             \n",
       "⎢                                                                             \n",
       "⎢                                                                             \n",
       "⎢                                                                             \n",
       "⎢                                0                                            \n",
       "⎢                                                                             \n",
       "⎢                                                                             \n",
       "⎢                                                                             \n",
       "⎢                                                                             \n",
       "⎢                                                                             \n",
       "⎢                                0                                            \n",
       "⎢                                                                             \n",
       "⎢                                                                             \n",
       "⎢                                                                             \n",
       "⎢                                1                                            \n",
       "⎢     ───────────────────────────────────────────────────────             ────\n",
       "⎢     i₀ - i₁ + 2⋅i₁₀ + i₂ + 2⋅i₅ + 2⋅i₆ + 2⋅i₇ + 2⋅i₈ + 2⋅i₉             i₀ -\n",
       "⎢                                                                             \n",
       "⎢                                1                                            \n",
       "⎢──────────────────────────────────────────────────────────────────  ─────────\n",
       "⎢i₀ + i₁ + 15⋅i₁₀ + 4⋅i₂ + 3⋅i₃ + 2⋅i₄ + 3⋅i₆ + 6⋅i₇ + 9⋅i₈ + 12⋅i₉  i₀ + i₁ +\n",
       "⎢                                                                             \n",
       "⎢                                                                             \n",
       "⎢                                0                                            \n",
       "⎢                                                                             \n",
       "⎢                                                                             \n",
       "⎢                                                                             \n",
       "⎢                                0                                            \n",
       "⎢                                                                             \n",
       "⎢                                                                             \n",
       "⎢                                                                             \n",
       "⎢                                0                                            \n",
       "⎣                                                                             \n",
       "\n",
       "                  5.55e+15⋅x₀                                                 \n",
       "                  ───────────                                                 \n",
       "                       x₄                                                     \n",
       "                                                                              \n",
       "                                                                              \n",
       "                                                                              \n",
       "                       0                                                      \n",
       "                                                                              \n",
       "                                                                              \n",
       "                                                                              \n",
       "                                                                              \n",
       "                       0                                                      \n",
       "                                                                              \n",
       "                                                                              \n",
       "                                                                              \n",
       "                                                                              \n",
       "                                                                              \n",
       "                       0                                                      \n",
       "                                                                              \n",
       "                                                                              \n",
       "                                                                              \n",
       "                                                                              \n",
       "                                                                              \n",
       "                       0                                                      \n",
       "                                                                              \n",
       "                                                                              \n",
       "                                                                              \n",
       "                                                                              \n",
       "                                                                              \n",
       "                       0                                                      \n",
       "                                                                              \n",
       "                                                                              \n",
       "                                                                              \n",
       "                                                                              \n",
       "                                                                              \n",
       "                       0                                                      \n",
       "                                                                              \n",
       "                                                                              \n",
       "                                                                              \n",
       "                      -1                                                      \n",
       "───────────────────────────────────────────────────             ──────────────\n",
       " i₁ + 2⋅i₁₀ + i₂ + 2⋅i₅ + 2⋅i₆ + 2⋅i₇ + 2⋅i₈ + 2⋅i₉             i₀ - i₁ + 2⋅i₁\n",
       "                                                                              \n",
       "                       1                                                      \n",
       "─────────────────────────────────────────────────────────  ───────────────────\n",
       " 15⋅i₁₀ + 4⋅i₂ + 3⋅i₃ + 2⋅i₄ + 3⋅i₆ + 6⋅i₇ + 9⋅i₈ + 12⋅i₉  i₀ + i₁ + 15⋅i₁₀ + \n",
       "                                                                              \n",
       "                                                                              \n",
       "                       0                                               ───────\n",
       "                                                                       5⋅i₁₀ +\n",
       "                                                                              \n",
       "                       1                                                      \n",
       "                    ───────                                                   \n",
       "                    i₁ + i₄                                                   \n",
       "                                                                              \n",
       "                                                                              \n",
       "                       0                                                      \n",
       "                                                                              \n",
       "\n",
       "                                                                              \n",
       "             0                                                                \n",
       "                                                                              \n",
       "                                                                              \n",
       "                                                                              \n",
       "  -1819700858.60998⋅x₀⋅x₃                                               181970\n",
       "  ────────────────────────                                              ──────\n",
       "              2                                                               \n",
       "            x₂                                                                \n",
       "                                                                              \n",
       "                                                                       5.01187\n",
       "             0                                                         ───────\n",
       "                                                                              \n",
       "                                                                              \n",
       "                                                                              \n",
       "                                                                              \n",
       "                                                                     2.5178508\n",
       "             0                                                       ─────────\n",
       "                                                                              \n",
       "                                                                              \n",
       "                                                                              \n",
       "                                                                              \n",
       "                                                                    4.75467957\n",
       "             0                                                      ──────────\n",
       "                                                                              \n",
       "                                                                              \n",
       "                                                                              \n",
       "                                                                              \n",
       "                                                                           4.0\n",
       "             0                                                             ───\n",
       "                                                                              \n",
       "                                                                              \n",
       "                                                                              \n",
       "                                                                              \n",
       "                                                                    1.99053585\n",
       "             0                                                      ──────────\n",
       "                                                                              \n",
       "                                                                              \n",
       "                                                                              \n",
       "             1                                                                \n",
       "─────────────────────────────────────────                                     \n",
       "₀ + i₂ + 2⋅i₅ + 2⋅i₆ + 2⋅i₇ + 2⋅i₈ + 2⋅i₉                                     \n",
       "                                                                              \n",
       "             4                                                                \n",
       "───────────────────────────────────────────────  ─────────────────────────────\n",
       "4⋅i₂ + 3⋅i₃ + 2⋅i₄ + 3⋅i₆ + 6⋅i₇ + 9⋅i₈ + 12⋅i₉  i₀ + i₁ + 15⋅i₁₀ + 4⋅i₂ + 3⋅i\n",
       "                                                                              \n",
       "             1                                                                \n",
       "──────────────────────────────────                           ─────────────────\n",
       " i₂ + i₃ + i₆ + 2⋅i₇ + 3⋅i₈ + 4⋅i₉                           5⋅i₁₀ + i₂ + i₃ +\n",
       "                                                                              \n",
       "                                                                              \n",
       "             0                                                                \n",
       "                                                                              \n",
       "                                                                              \n",
       "                                                                              \n",
       "             0                                                                \n",
       "                                                                              \n",
       "\n",
       "                                                                -5.55e+15⋅x₀⋅x\n",
       "   0                                                            ──────────────\n",
       "                                                                        2     \n",
       "                                                                      x₄      \n",
       "                                                                              \n",
       "0858.60998⋅x₀                                                                 \n",
       "─────────────                                                          0      \n",
       "   x₂                                                                         \n",
       "                                                                              \n",
       "                                                                              \n",
       "233627272e-5⋅x₅                                                               \n",
       "───────────────                                                        0      \n",
       "   x₆                                                                         \n",
       "                                                                              \n",
       "                                                                              \n",
       "                                                                              \n",
       "2358833e-8⋅x₃⋅x₅                                                              \n",
       "────────────────                                                       0      \n",
       "   x₇                                                                         \n",
       "                                                                              \n",
       "                                                                              \n",
       "             2                                                                \n",
       "738333e-11⋅x₃ ⋅x₅                                                             \n",
       "─────────────────                                                      0      \n",
       "   x₈                                                                         \n",
       "                                                                              \n",
       "                                                                              \n",
       "       3                                                                      \n",
       "e-13⋅x₃ ⋅x₅                                                                   \n",
       "───────────                                                            0      \n",
       "   x₉                                                                         \n",
       "                                                                              \n",
       "                                                                              \n",
       "             4                                                                \n",
       "276748e-12⋅x₃ ⋅x₅                                                             \n",
       "─────────────────                                                      0      \n",
       "  x₁₀                                                                         \n",
       "                                                                              \n",
       "                                                                              \n",
       "                                                                              \n",
       "   0                                                                   0      \n",
       "                                                                              \n",
       "                                                                              \n",
       "   3                                                                   2      \n",
       "─────────────────────────────────────  ───────────────────────────────────────\n",
       "₃ + 2⋅i₄ + 3⋅i₆ + 6⋅i₇ + 9⋅i₈ + 12⋅i₉  i₀ + i₁ + 15⋅i₁₀ + 4⋅i₂ + 3⋅i₃ + 2⋅i₄ +\n",
       "                                                                              \n",
       "   1                                                                          \n",
       "────────────────────────                                               0      \n",
       " i₆ + 2⋅i₇ + 3⋅i₈ + 4⋅i₉                                                      \n",
       "                                                                              \n",
       "                                                                       1      \n",
       "   0                                                                ───────   \n",
       "                                                                    i₁ + i₄   \n",
       "                                                                              \n",
       "                                                                              \n",
       "   0                                                                   0      \n",
       "                                                                              \n",
       "\n",
       "₁                                                                             \n",
       "──                                                      0                     \n",
       "                                                                              \n",
       "                                                                              \n",
       "                                                                              \n",
       "                                                                              \n",
       "                                                        0                     \n",
       "                                                                              \n",
       "                                                                              \n",
       "                                                                              \n",
       "                                             5.01187233627272e-5⋅x₃           \n",
       "                                             ──────────────────────           \n",
       "                                                       x₆                     \n",
       "                                                                              \n",
       "                                                                              \n",
       "                                                                   2          \n",
       "                                             1.25892541179417e-8⋅x₃           \n",
       "                                             ───────────────────────          \n",
       "                                                        x₇                    \n",
       "                                                                              \n",
       "                                                                              \n",
       "                                                                   3          \n",
       "                                            1.58489319246111e-11⋅x₃           \n",
       "                                            ────────────────────────          \n",
       "                                                       x₈                     \n",
       "                                                                              \n",
       "                                                                              \n",
       "                                                             4                \n",
       "                                                   1.0e-13⋅x₃                 \n",
       "                                                   ───────────                \n",
       "                                                        x₉                    \n",
       "                                                                              \n",
       "                                                                              \n",
       "                                                                   5          \n",
       "                                            3.98107170553497e-13⋅x₃           \n",
       "                                            ────────────────────────          \n",
       "                                                      x₁₀                     \n",
       "                                                                              \n",
       "                                                                              \n",
       "                                                        2                     \n",
       "                             ─────────────────────────────────────────────────\n",
       "                             i₀ - i₁ + 2⋅i₁₀ + i₂ + 2⋅i₅ + 2⋅i₆ + 2⋅i₇ + 2⋅i₈ \n",
       "                                                                              \n",
       "                                                                              \n",
       "───────────────────────────                             0                     \n",
       " 3⋅i₆ + 6⋅i₇ + 9⋅i₈ + 12⋅i₉                                                   \n",
       "                                                                              \n",
       "                                                                              \n",
       "                                                        0                     \n",
       "                                                                              \n",
       "                                                                              \n",
       "                                                                              \n",
       "                                                        0                     \n",
       "                                                                              \n",
       "                                                                              \n",
       "                                                       1                      \n",
       "                                          ────────────────────────────        \n",
       "                                          i₁₀ + i₅ + i₆ + i₇ + i₈ + i₉        \n",
       "\n",
       "                                                                              \n",
       "                                        0                                     \n",
       "                                                                              \n",
       "                                                                              \n",
       "                                                                              \n",
       "                                                                              \n",
       "                                        0                                     \n",
       "                                                                              \n",
       "                                                                              \n",
       "                                                                              \n",
       "                           -5.01187233627272e-5⋅x₃⋅x₅                         \n",
       "                           ───────────────────────────                        \n",
       "                                         2                                    \n",
       "                                       x₆                                     \n",
       "                                                                              \n",
       "                                                                              \n",
       "                                                                              \n",
       "                                        0                                     \n",
       "                                                                              \n",
       "                                                                              \n",
       "                                                                              \n",
       "                                                                              \n",
       "                                                                              \n",
       "                                        0                                     \n",
       "                                                                              \n",
       "                                                                              \n",
       "                                                                              \n",
       "                                                                              \n",
       "                                                                              \n",
       "                                        0                                     \n",
       "                                                                              \n",
       "                                                                              \n",
       "                                                                              \n",
       "                                                                              \n",
       "                                                                              \n",
       "                                        0                                     \n",
       "                                                                              \n",
       "                                                                              \n",
       "                                                                              \n",
       "                                        2                                     \n",
       "──────       ───────────────────────────────────────────────────────          \n",
       "+ 2⋅i₉       i₀ - i₁ + 2⋅i₁₀ + i₂ + 2⋅i₅ + 2⋅i₆ + 2⋅i₇ + 2⋅i₈ + 2⋅i₉          \n",
       "                                                                              \n",
       "                                        3                                     \n",
       "        ──────────────────────────────────────────────────────────────────  ──\n",
       "        i₀ + i₁ + 15⋅i₁₀ + 4⋅i₂ + 3⋅i₃ + 2⋅i₄ + 3⋅i₆ + 6⋅i₇ + 9⋅i₈ + 12⋅i₉  i₀\n",
       "                                                                              \n",
       "                                        1                                     \n",
       "                    ─────────────────────────────────────────                 \n",
       "                    5⋅i₁₀ + i₂ + i₃ + i₆ + 2⋅i₇ + 3⋅i₈ + 4⋅i₉                 \n",
       "                                                                              \n",
       "                                                                              \n",
       "                                        0                                     \n",
       "                                                                              \n",
       "                                                                              \n",
       "                                        1                                     \n",
       "                           ────────────────────────────                       \n",
       "                           i₁₀ + i₅ + i₆ + i₇ + i₈ + i₉                       \n",
       "\n",
       "                                                                              \n",
       "                              0                                               \n",
       "                                                                              \n",
       "                                                                              \n",
       "                                                                              \n",
       "                                                                              \n",
       "                              0                                               \n",
       "                                                                              \n",
       "                                                                              \n",
       "                                                                              \n",
       "                                                                              \n",
       "                              0                                               \n",
       "                                                                              \n",
       "                                                                              \n",
       "                                                                              \n",
       "                                        2                                     \n",
       "                 -1.25892541179417e-8⋅x₃ ⋅x₅                                  \n",
       "                 ────────────────────────────                                 \n",
       "                               2                                              \n",
       "                             x₇                                               \n",
       "                                                                              \n",
       "                                                                              \n",
       "                                                                              \n",
       "                              0                                               \n",
       "                                                                              \n",
       "                                                                              \n",
       "                                                                              \n",
       "                                                                              \n",
       "                                                                              \n",
       "                              0                                               \n",
       "                                                                              \n",
       "                                                                              \n",
       "                                                                              \n",
       "                                                                              \n",
       "                                                                              \n",
       "                              0                                               \n",
       "                                                                              \n",
       "                                                                              \n",
       "                                                                              \n",
       "                              2                                               \n",
       "   ───────────────────────────────────────────────────────             ───────\n",
       "   i₀ - i₁ + 2⋅i₁₀ + i₂ + 2⋅i₅ + 2⋅i₆ + 2⋅i₇ + 2⋅i₈ + 2⋅i₉             i₀ - i₁\n",
       "                                                                              \n",
       "                              6                                               \n",
       "────────────────────────────────────────────────────────────────  ────────────\n",
       " + i₁ + 15⋅i₁₀ + 4⋅i₂ + 3⋅i₃ + 2⋅i₄ + 3⋅i₆ + 6⋅i₇ + 9⋅i₈ + 12⋅i₉  i₀ + i₁ + 15\n",
       "                                                                              \n",
       "                              2                                               \n",
       "          ─────────────────────────────────────────                           \n",
       "          5⋅i₁₀ + i₂ + i₃ + i₆ + 2⋅i₇ + 3⋅i₈ + 4⋅i₉                           \n",
       "                                                                              \n",
       "                                                                              \n",
       "                              0                                               \n",
       "                                                                              \n",
       "                                                                              \n",
       "                              1                                               \n",
       "                 ────────────────────────────                                 \n",
       "                 i₁₀ + i₅ + i₆ + i₇ + i₈ + i₉                                 \n",
       "\n",
       "                                                                              \n",
       "                    0                                                         \n",
       "                                                                              \n",
       "                                                                              \n",
       "                                                                              \n",
       "                                                                              \n",
       "                    0                                                         \n",
       "                                                                              \n",
       "                                                                              \n",
       "                                                                              \n",
       "                                                                              \n",
       "                    0                                                         \n",
       "                                                                              \n",
       "                                                                              \n",
       "                                                                              \n",
       "                                                                              \n",
       "                                                                              \n",
       "                    0                                                         \n",
       "                                                                              \n",
       "                                                                              \n",
       "                                                                              \n",
       "                              3                                               \n",
       "      -1.58489319246111e-11⋅x₃ ⋅x₅                                            \n",
       "      ─────────────────────────────                                           \n",
       "                     2                                                        \n",
       "                   x₈                                                         \n",
       "                                                                              \n",
       "                                                                              \n",
       "                                                                              \n",
       "                    0                                                         \n",
       "                                                                              \n",
       "                                                                              \n",
       "                                                                              \n",
       "                                                                              \n",
       "                                                                              \n",
       "                    0                                                         \n",
       "                                                                              \n",
       "                                                                              \n",
       "                                                                              \n",
       "                    2                                                         \n",
       "────────────────────────────────────────────────             ─────────────────\n",
       " + 2⋅i₁₀ + i₂ + 2⋅i₅ + 2⋅i₆ + 2⋅i₇ + 2⋅i₈ + 2⋅i₉             i₀ - i₁ + 2⋅i₁₀ +\n",
       "                                                                              \n",
       "                    9                                                         \n",
       "──────────────────────────────────────────────────────  ──────────────────────\n",
       "⋅i₁₀ + 4⋅i₂ + 3⋅i₃ + 2⋅i₄ + 3⋅i₆ + 6⋅i₇ + 9⋅i₈ + 12⋅i₉  i₀ + i₁ + 15⋅i₁₀ + 4⋅i\n",
       "                                                                              \n",
       "                    3                                                         \n",
       "─────────────────────────────────────────                           ──────────\n",
       "5⋅i₁₀ + i₂ + i₃ + i₆ + 2⋅i₇ + 3⋅i₈ + 4⋅i₉                           5⋅i₁₀ + i₂\n",
       "                                                                              \n",
       "                                                                              \n",
       "                    0                                                         \n",
       "                                                                              \n",
       "                                                                              \n",
       "                    1                                                         \n",
       "       ────────────────────────────                                        ───\n",
       "       i₁₀ + i₅ + i₆ + i₇ + i₈ + i₉                                        i₁₀\n",
       "\n",
       "                                                                              \n",
       "          0                                                                   \n",
       "                                                                              \n",
       "                                                                              \n",
       "                                                                              \n",
       "                                                                              \n",
       "          0                                                                   \n",
       "                                                                              \n",
       "                                                                              \n",
       "                                                                              \n",
       "                                                                              \n",
       "          0                                                                   \n",
       "                                                                              \n",
       "                                                                              \n",
       "                                                                              \n",
       "                                                                              \n",
       "                                                                              \n",
       "          0                                                                   \n",
       "                                                                              \n",
       "                                                                              \n",
       "                                                                              \n",
       "                                                                              \n",
       "                                                                              \n",
       "          0                                                                   \n",
       "                                                                              \n",
       "                                                                              \n",
       "                                                                              \n",
       "              4                                                               \n",
       "   -1.0e-13⋅x₃ ⋅x₅                                                            \n",
       "   ────────────────                                                           \n",
       "           2                                                                  \n",
       "         x₉                                                                   \n",
       "                                                                              \n",
       "                                                                              \n",
       "                                                                -3.98107170553\n",
       "          0                                                     ──────────────\n",
       "                                                                              \n",
       "                                                                             x\n",
       "                                                                              \n",
       "          2                                                                   \n",
       "──────────────────────────────────────             ───────────────────────────\n",
       " i₂ + 2⋅i₅ + 2⋅i₆ + 2⋅i₇ + 2⋅i₈ + 2⋅i₉             i₀ - i₁ + 2⋅i₁₀ + i₂ + 2⋅i₅\n",
       "                                                                              \n",
       "          12                                                                  \n",
       "────────────────────────────────────────────  ────────────────────────────────\n",
       "₂ + 3⋅i₃ + 2⋅i₄ + 3⋅i₆ + 6⋅i₇ + 9⋅i₈ + 12⋅i₉  i₀ + i₁ + 15⋅i₁₀ + 4⋅i₂ + 3⋅i₃ +\n",
       "                                                                              \n",
       "          4                                                                   \n",
       "───────────────────────────────                           ────────────────────\n",
       " + i₃ + i₆ + 2⋅i₇ + 3⋅i₈ + 4⋅i₉                           5⋅i₁₀ + i₂ + i₃ + i₆\n",
       "                                                                              \n",
       "                                                                              \n",
       "          0                                                                   \n",
       "                                                                              \n",
       "                                                                              \n",
       "          1                                                                   \n",
       "─────────────────────────                                        ─────────────\n",
       " + i₅ + i₆ + i₇ + i₈ + i₉                                        i₁₀ + i₅ + i₆\n",
       "\n",
       "                                  ⎤\n",
       "0                                 ⎥\n",
       "                                  ⎥\n",
       "                                  ⎥\n",
       "                                  ⎥\n",
       "                                  ⎥\n",
       "0                                 ⎥\n",
       "                                  ⎥\n",
       "                                  ⎥\n",
       "                                  ⎥\n",
       "                                  ⎥\n",
       "0                                 ⎥\n",
       "                                  ⎥\n",
       "                                  ⎥\n",
       "                                  ⎥\n",
       "                                  ⎥\n",
       "                                  ⎥\n",
       "0                                 ⎥\n",
       "                                  ⎥\n",
       "                                  ⎥\n",
       "                                  ⎥\n",
       "                                  ⎥\n",
       "                                  ⎥\n",
       "0                                 ⎥\n",
       "                                  ⎥\n",
       "                                  ⎥\n",
       "                                  ⎥\n",
       "                                  ⎥\n",
       "                                  ⎥\n",
       "0                                 ⎥\n",
       "                                  ⎥\n",
       "                                  ⎥\n",
       "                                  ⎥\n",
       "          5                       ⎥\n",
       "497e-13⋅x₃ ⋅x₅                    ⎥\n",
       "───────────────                   ⎥\n",
       "  2                               ⎥\n",
       "₁₀                                ⎥\n",
       "                                  ⎥\n",
       "2                                 ⎥\n",
       "────────────────────────────      ⎥\n",
       " + 2⋅i₆ + 2⋅i₇ + 2⋅i₈ + 2⋅i₉      ⎥\n",
       "                                  ⎥\n",
       "15                                ⎥\n",
       "──────────────────────────────────⎥\n",
       " 2⋅i₄ + 3⋅i₆ + 6⋅i₇ + 9⋅i₈ + 12⋅i₉⎥\n",
       "                                  ⎥\n",
       "5                                 ⎥\n",
       "─────────────────────             ⎥\n",
       " + 2⋅i₇ + 3⋅i₈ + 4⋅i₉             ⎥\n",
       "                                  ⎥\n",
       "                                  ⎥\n",
       "0                                 ⎥\n",
       "                                  ⎥\n",
       "                                  ⎥\n",
       "1                                 ⎥\n",
       "───────────────                   ⎥\n",
       " + i₇ + i₈ + i₉                   ⎦"
      ]
     },
     "execution_count": 9,
     "metadata": {},
     "output_type": "execute_result"
    }
   ],
   "source": [
    "sp.Matrix(1, len(f), lambda _, q: f[q]).jacobian(x)"
   ]
  },
  {
   "cell_type": "code",
   "execution_count": 10,
   "metadata": {
    "collapsed": false
   },
   "outputs": [
    {
     "data": {
      "image/png": "[encoded data removed]",
      "text/latex": [
       "$$\\left ( 12, \\quad 11\\right )$$"
      ],
      "text/plain": [
       "(12, 11)"
      ]
     },
     "execution_count": 10,
     "metadata": {},
     "output_type": "execute_result"
    }
   ],
   "source": [
    "len(f), eqsys.ns"
   ]
  },
  {
   "cell_type": "code",
   "execution_count": 11,
   "metadata": {
    "collapsed": false,
    "scrolled": true
   },
   "outputs": [
    {
     "name": "stderr",
     "output_type": "stream",
     "text": [
      "aqchem/equilibria.py:25: RuntimeWarning: divide by zero encountered in double_scalars\n",
      "  tot *= conc**nr\n"
     ]
    },
    {
     "data": {
      "text/plain": [
       "(array([  9.83288339e-09,   5.90444021e-07,   1.58061115e-06,\n",
       "          1.00985112e+00,   5.55000015e+01,   1.03217731e-02,\n",
       "          5.24281724e-07,   4.59413913e-08,   4.57929663e-08,\n",
       "          4.12088912e-08,   4.46633114e-08]),\n",
       "   status: 1\n",
       "   cov_x: array([[  3.86993804e-05,   3.85888387e-05,   6.22082713e-03,\n",
       "          5.90788930e-08,  -3.85888387e-05,   4.41582661e-04,\n",
       "          2.31391569e-08,   2.02762615e-09,   2.02236116e-09,\n",
       "          2.02236387e-09,   2.02236657e-09],\n",
       "       [  2.09008128e-05,   1.99715972e+00,   3.35975482e-03,\n",
       "          1.53118779e-03,  -9.97159718e-01,   1.14121845e+01,\n",
       "          5.98004298e-04,   5.24016135e-05,   5.22655462e-05,\n",
       "          5.22656163e-05,   5.22656865e-05],\n",
       "       [  6.22082708e-03,   6.20304952e-03,   9.99982220e-01,\n",
       "          9.50660182e-06,  -6.20304952e-03,   7.09699393e-02,\n",
       "          3.71886107e-06,   3.25874447e-07,   3.25028273e-07,\n",
       "          3.25028708e-07,   3.25029144e-07],\n",
       "       [ -1.63960795e-05,  -2.65201412e-03,  -2.63561804e-03,\n",
       "          6.49906630e-03,   2.65201412e-03,  -3.31510697e+01,\n",
       "         -1.73712725e-03,  -1.52219591e-04,  -1.51823833e-04,\n",
       "         -1.51823535e-04,  -1.51823237e-04],\n",
       "       [ -2.09008128e-05,  -9.97159718e-01,  -3.35975482e-03,\n",
       "         -1.53118779e-03,   9.97159718e-01,  -1.14121845e+01,\n",
       "         -5.98004298e-04,  -5.24016135e-05,  -5.22655462e-05,\n",
       "         -5.22656163e-05,  -5.22656865e-05],\n",
       "       [ -1.11185874e-06,  -1.79840188e-04,  -1.78728329e-04,\n",
       "          9.55745579e-05,   1.79840188e-04,   7.13511065e-01,\n",
       "          3.73883442e-05,   3.27624661e-06,   3.26773942e-06,\n",
       "          3.26774380e-06,   3.26774818e-06],\n",
       "       [ -6.68579300e-11,  -1.08140878e-08,  -1.07472299e-08,\n",
       "          8.41544205e-09,   1.08140878e-08,   2.00080418e-05,\n",
       "          1.04843462e-09,   9.18719534e-11,   9.16336590e-11,\n",
       "          9.16340446e-11,   9.16344302e-11],\n",
       "       [ -6.61183305e-12,  -1.06944564e-09,  -1.06283380e-09,\n",
       "          1.03599517e-09,   1.06944564e-09,   2.30266283e-07,\n",
       "          1.20665978e-11,   1.05741181e-12,   1.05471217e-12,\n",
       "          1.05475964e-12,   1.05480711e-12],\n",
       "       [ -7.34594741e-12,  -1.18818631e-09,  -1.18084036e-09,\n",
       "          1.33110015e-09,   1.18818631e-09,  -1.28936105e-06,\n",
       "         -6.75623893e-11,  -5.92025325e-12,  -5.90481165e-12,\n",
       "         -5.90475066e-12,  -5.90468967e-12],\n",
       "       [ -8.09723906e-12,  -1.30970537e-09,  -1.30160813e-09,\n",
       "          1.62889660e-09,   1.30970537e-09,  -2.80839017e-06,\n",
       "         -1.47160028e-10,  -1.28951712e-11,  -1.28615954e-11,\n",
       "         -1.28615207e-11,  -1.28614461e-11],\n",
       "       [ -8.84853072e-12,  -1.43122442e-09,  -1.42237589e-09,\n",
       "          1.92669305e-09,   1.43122442e-09,  -4.32741928e-06,\n",
       "         -2.26757666e-10,  -1.98700891e-11,  -1.98183791e-11,\n",
       "         -1.98182908e-11,  -1.98182025e-11]])\n",
       " success: True\n",
       "     qtf: array([ -2.51188621e+12,  -9.99999978e+12,  -6.30955161e+10,\n",
       "         7.92150336e+07,   8.68542099e+02,  -5.87687046e-03,\n",
       "        -1.56538493e+01,  -1.55341592e-06,  -2.63876510e+00,\n",
       "        -5.09167538e-07,   1.81389503e-11])\n",
       "    nfev: 6\n",
       "    ipvt: array([11, 10,  9,  8,  7,  1,  4,  5,  6,  3,  2], dtype=int32)\n",
       "     fun: array([ -7.55717648e-17,   6.28222029e-03,  -7.12242588e+01,\n",
       "        -7.92037025e+07,  -6.30955023e+10,  -9.99999974e+12,\n",
       "        -2.51188619e+12,  -9.85083976e-03,   2.00001087e-06,\n",
       "         9.85383977e-03,   3.22474983e-04])\n",
       "       x: array([  9.83288339e-09,   5.90444021e-07,   1.58061115e-06,\n",
       "         1.00985112e+00,   5.55000015e+01,   1.03217731e-02,\n",
       "         5.24281724e-07,   4.59413913e-08,   4.57929663e-08,\n",
       "         4.12088912e-08,   4.46633114e-08])\n",
       " message: 'Both actual and predicted relative reductions in the sum of squares\\n  are at most 0.000000'\n",
       "    fjac: array([[ -4.76553047e+12,   4.03390313e-16,   3.05002432e-16,\n",
       "          2.06614551e-16,   1.08226669e-16,  -4.91939407e-17,\n",
       "         -5.11920668e+01,  -4.91939407e-17,  -1.02331436e+03,\n",
       "          4.91939407e-17,   0.00000000e+00],\n",
       "       [ -8.60344935e-12,  -4.76546254e+12,   2.45973209e-16,\n",
       "          1.67261782e-16,   8.85503553e-17,  -8.88135354e-41,\n",
       "         -4.09530697e+01,  -3.93557135e-17,  -1.02329977e+03,\n",
       "          4.26435186e-17,   2.13040665e-54],\n",
       "       [ -6.50504707e-12,  -5.24608048e-12,  -4.76539462e+12,\n",
       "          1.27907892e-16,   2.45218279e-40,  -2.95172058e-17,\n",
       "         -3.07143645e+01,  -2.95172058e-17,  -1.02328519e+03,\n",
       "          2.95172058e-17,   1.81711155e-54],\n",
       "       [ -4.40664479e-12,  -3.56733472e-12,  -2.72800073e-12,\n",
       "          4.74059857e+12,   4.94526629e-17,  -1.97810651e-17,\n",
       "         -2.04227554e+01,  -1.97810651e-17,  -1.02061218e+03,\n",
       "          1.97810651e-17,  -3.13295095e-55],\n",
       "       [ -2.30824251e-12,  -1.88858897e-12,   0.00000000e+00,\n",
       "          1.05471913e-12,   3.64004316e+10,  -1.28809035e-15,\n",
       "         -8.94783405e-01,  -1.28809035e-15,  -8.94322855e+01,\n",
       "          1.28809035e-15,   1.54203846e-52],\n",
       "       [  1.04920114e-12,   0.00000000e+00,   6.29538630e-13,\n",
       "         -4.21887652e-13,  -2.74722017e-11,  -6.32675695e+05,\n",
       "          2.91607274e-07,   7.41091288e-11,  -1.36745737e-15,\n",
       "         -1.84539721e-01,   1.39683575e-28],\n",
       "       [  1.09181688e+06,   8.73441056e+05,   6.55071455e+05,\n",
       "         -4.35573527e+05,  -1.90838090e+04,  -6.21935711e-03,\n",
       "          1.41421781e+00,  -2.92236330e-11,   1.94939167e+03,\n",
       "         -6.86305070e-10,  -1.08642609e-32],\n",
       "       [  1.04920114e-12,   8.39372876e-13,   6.29538630e-13,\n",
       "         -4.21887652e-13,  -2.74722017e-11,  -1.58058861e-06,\n",
       "         -7.07106785e-01,  -1.22474487e+00,   1.88872725e-12,\n",
       "          4.53424940e-16,   3.31541472e-05],\n",
       "       [  2.18250984e+07,   2.18247873e+07,   2.18244762e+07,\n",
       "         -2.17674668e+07,  -1.90739865e+06,   1.84413718e-10,\n",
       "          1.65638795e-04,  -4.76055462e-07,   1.00007073e+00,\n",
       "         -2.05846468e-19,   4.70297580e-27],\n",
       "       [ -1.04920114e-12,  -9.09494702e-13,  -6.29538630e-13,\n",
       "          4.21887652e-13,   2.74722017e-11,   3.93583607e+03,\n",
       "          7.02707910e-01,  -4.10787978e-01,  -7.74921287e-07,\n",
       "         -5.80941933e-01,   4.12241573e-24],\n",
       "       [  0.00000000e+00,  -4.54370001e-50,  -3.87550883e-50,\n",
       "         -6.68191178e-51,   3.28883698e-48,  -2.97915076e-24,\n",
       "         -2.62888338e-22,  -8.16496582e-01,  -3.88670166e-07,\n",
       "          5.77350267e-01,  -2.45027221e-10]])\n",
       "    njev: 1)"
      ]
     },
     "execution_count": 11,
     "metadata": {},
     "output_type": "execute_result"
    }
   ],
   "source": [
    "eqsys.root(simpl_c0, delta=1e-6, method='lm')\n",
    "#eqsys.root({H2O: 55.5, Hp: 1e-10, OHm: 1e-3, NH3: 1.0, NH4p: 1e-3}, delta=1e-6, method='lm')"
   ]
  },
  {
   "cell_type": "code",
   "execution_count": 27,
   "metadata": {
    "collapsed": false
   },
   "outputs": [
    {
     "data": {
      "text/plain": [
       "False"
      ]
     },
     "execution_count": 27,
     "metadata": {},
     "output_type": "execute_result"
    },
    {
     "data": {
      "image/png": "[encoded data removed]",
      "text/plain": [
       "<matplotlib.figure.Figure at 0x7faff9907cd0>"
      ]
     },
     "metadata": {},
     "output_type": "display_data"
    }
   ],
   "source": [
    "import numpy as np\n",
    "_1, _2, success = eqsys.plot(simpl_c0, NH3, np.logspace(-3, 1, 10), method='lm', norm=True)\n",
    "all(success)"
   ]
  },
  {
   "cell_type": "code",
   "execution_count": 28,
   "metadata": {
    "collapsed": false,
    "scrolled": true
   },
   "outputs": [
    {
     "name": "stderr",
     "output_type": "stream",
     "text": [
      "/home/bjorn/.local/lib/python2.7/site-packages/numpy/__init__.py:1: RuntimeWarning: overflow encountered in exp\n",
      "  \"\"\"\n",
      "/home/bjorn/.local/lib/python2.7/site-packages/numpy/__init__.py:1: RuntimeWarning: overflow encountered in exp\n",
      "  \"\"\"\n",
      "/home/bjorn/.local/lib/python2.7/site-packages/numpy/__init__.py:1: RuntimeWarning: overflow encountered in exp\n",
      "  \"\"\"\n",
      "/home/bjorn/.local/lib/python2.7/site-packages/numpy/__init__.py:1: RuntimeWarning: overflow encountered in exp\n",
      "  \"\"\"\n",
      "/home/bjorn/.local/lib/python2.7/site-packages/numpy/__init__.py:1: RuntimeWarning: overflow encountered in exp\n",
      "  \"\"\"\n",
      "/home/bjorn/.local/lib/python2.7/site-packages/numpy/__init__.py:1: RuntimeWarning: overflow encountered in exp\n",
      "  \"\"\"\n",
      "/home/bjorn/.local/lib/python2.7/site-packages/numpy/__init__.py:1: RuntimeWarning: overflow encountered in exp\n",
      "  \"\"\"\n",
      "/home/bjorn/.local/lib/python2.7/site-packages/numpy/__init__.py:1: RuntimeWarning: overflow encountered in exp\n",
      "  \"\"\"\n",
      "/home/bjorn/.local/lib/python2.7/site-packages/numpy/__init__.py:1: RuntimeWarning: overflow encountered in exp\n",
      "  \"\"\"\n",
      "/home/bjorn/.local/lib/python2.7/site-packages/numpy/__init__.py:1: RuntimeWarning: overflow encountered in exp\n",
      "  \"\"\"\n"
     ]
    },
    {
     "data": {
      "text/plain": [
       "True"
      ]
     },
     "execution_count": 28,
     "metadata": {},
     "output_type": "execute_result"
    },
    {
     "data": {
      "image/png": "[encoded data removed]",
      "text/plain": [
       "<matplotlib.figure.Figure at 0x7faff9907e50>"
      ]
     },
     "metadata": {},
     "output_type": "display_data"
    }
   ],
   "source": [
    "import numpy as np\n",
    "x, inits_out, success = eqsys.plot(simpl_c0, NH3, np.logspace(-3, 1, 10), delta=1e-4, method='lm',\n",
    "                                   carry=False, logC=True, pres1st=True, presw=100) #, init_iter=50)#, pres1st=True, norm=True, scaling=1)\n",
    "all(success)"
   ]
  },
  {
   "cell_type": "code",
   "execution_count": 14,
   "metadata": {
    "collapsed": false
   },
   "outputs": [
    {
     "name": "stderr",
     "output_type": "stream",
     "text": [
      "aqchem/equilibria.py:25: RuntimeWarning: divide by zero encountered in reciprocal\n",
      "  tot *= conc**nr\n",
      "aqchem/equilibria.py:25: RuntimeWarning: invalid value encountered in multiply\n",
      "  tot *= conc**nr\n"
     ]
    },
    {
     "data": {
      "image/png": "[encoded data removed]",
      "text/plain": [
       "<matplotlib.figure.Figure at 0x7faff9e47dd0>"
      ]
     },
     "metadata": {},
     "output_type": "display_data"
    }
   ],
   "source": [
    "eqsys.plot_errors(x, inits_out, NH3)"
   ]
  },
  {
   "cell_type": "code",
   "execution_count": 15,
   "metadata": {
    "collapsed": false,
    "scrolled": false
   },
   "outputs": [
    {
     "data": {
      "text/latex": [
       "$H_2O \\rightleftharpoons H^+ + OH^-$"
      ],
      "text/plain": [
       "<IPython.core.display.Latex object>"
      ]
     },
     "metadata": {},
     "output_type": "display_data"
    },
    {
     "data": {
      "text/latex": [
       "$NH_4^+ \\rightleftharpoons H^+ + NH_3$"
      ],
      "text/plain": [
       "<IPython.core.display.Latex object>"
      ]
     },
     "metadata": {},
     "output_type": "display_data"
    },
    {
     "data": {
      "text/latex": [
       "$Cu(NH_3)^{2+} \\rightleftharpoons Cu^{2+} + NH_3$"
      ],
      "text/plain": [
       "<IPython.core.display.Latex object>"
      ]
     },
     "metadata": {},
     "output_type": "display_data"
    },
    {
     "data": {
      "text/latex": [
       "$Cu(NH_3)_2^{2+} \\rightleftharpoons Cu^{2+} + 2 NH_3$"
      ],
      "text/plain": [
       "<IPython.core.display.Latex object>"
      ]
     },
     "metadata": {},
     "output_type": "display_data"
    },
    {
     "data": {
      "text/latex": [
       "$Cu(NH_3)_3^{2+} \\rightleftharpoons Cu^{2+} + 3 NH_3$"
      ],
      "text/plain": [
       "<IPython.core.display.Latex object>"
      ]
     },
     "metadata": {},
     "output_type": "display_data"
    },
    {
     "data": {
      "text/latex": [
       "$Cu(NH_3)_4^{2+} \\rightleftharpoons Cu^{2+} + 4 NH_3$"
      ],
      "text/plain": [
       "<IPython.core.display.Latex object>"
      ]
     },
     "metadata": {},
     "output_type": "display_data"
    },
    {
     "data": {
      "text/latex": [
       "$Cu(NH_3)_5^{2+} \\rightleftharpoons Cu^{2+} + 5 NH_3$"
      ],
      "text/plain": [
       "<IPython.core.display.Latex object>"
      ]
     },
     "metadata": {},
     "output_type": "display_data"
    },
    {
     "data": {
      "text/latex": [
       "$2 Cu^{2+} + 2 H_2O \\rightleftharpoons Cu_2(OH)_2^{2+} + 2 H^+$"
      ],
      "text/plain": [
       "<IPython.core.display.Latex object>"
      ]
     },
     "metadata": {},
     "output_type": "display_data"
    },
    {
     "data": {
      "text/latex": [
       "$Cu(OH_2)(s) + OH^- \\rightleftharpoons Cu(OH)_3^-$"
      ],
      "text/plain": [
       "<IPython.core.display.Latex object>"
      ]
     },
     "metadata": {},
     "output_type": "display_data"
    },
    {
     "data": {
      "text/latex": [
       "$Cu(OH_2)(s) + 2 OH^- \\rightleftharpoons Cu(OH)_4^{2-}$"
      ],
      "text/plain": [
       "<IPython.core.display.Latex object>"
      ]
     },
     "metadata": {},
     "output_type": "display_data"
    },
    {
     "data": {
      "text/latex": [
       "$Cu(OH_2)(s) \\rightleftharpoons Cu^{2+} + 2 OH^-$"
      ],
      "text/plain": [
       "<IPython.core.display.Latex object>"
      ]
     },
     "metadata": {},
     "output_type": "display_data"
    }
   ],
   "source": [
    "for eq in equilibria:\n",
    "    show(eq.latex())"
   ]
  },
  {
   "cell_type": "code",
   "execution_count": 16,
   "metadata": {
    "collapsed": true
   },
   "outputs": [],
   "source": [
    "reaction_system = EqSystem(equilibria, substances)"
   ]
  },
  {
   "cell_type": "code",
   "execution_count": 17,
   "metadata": {
    "collapsed": false
   },
   "outputs": [],
   "source": [
    "import sympy as sp\n",
    "#sp.init_printing()\n",
    "y = sp.symarray('y', len(substances))\n",
    "s = sp.symbols('s')"
   ]
  },
  {
   "cell_type": "markdown",
   "metadata": {},
   "source": [
    "ys = []\n",
    "class LatexSymbol(sp.Symbol):\n",
    "    def _print_latex(self):\n",
    "        return self.name\n",
    "  \n",
    "for sbs in reaction_system.substances:\n",
    "    ys.append(LatexSymbol('[' + sbs.latex_name + ']'))\n",
    "    print(ys[-1].name)\n",
    "ys"
   ]
  },
  {
   "cell_type": "code",
   "execution_count": 29,
   "metadata": {
    "collapsed": false
   },
   "outputs": [
    {
     "data": {
      "image/png": "[encoded data removed]",
      "text/latex": [
       "$$\\left [ -1 + \\frac{5.55 \\cdot 10^{15} y_{0}}{s y_{4}} y_{1}, \\quad -1 + \\frac{1819700858.60998 y_{0} y_{3}}{s y_{2}}, \\quad -1 + \\frac{5.01187233627272 \\cdot 10^{-5} y_{3}}{s y_{6}} y_{5}, \\quad -1 + \\frac{1.25892541179417 \\cdot 10^{-8} y_{5}}{s^{2} y_{7}} y_{3}^{2}, \\quad -1 + \\frac{1.58489319246111 \\cdot 10^{-11} y_{5}}{s^{3} y_{8}} y_{3}^{3}, \\quad -1 + \\frac{1.0 \\cdot 10^{-13} y_{5}}{s^{4} y_{9}} y_{3}^{4}, \\quad -1 + \\frac{3.98107170553497 \\cdot 10^{-13} y_{5}}{s^{5} y_{10}} y_{3}^{5}, \\quad \\frac{1.62709920826969 \\cdot 10^{-8} s}{y_{4}^{2} y_{5}^{2}} y_{0}^{2} y_{11} - 1, \\quad -1 + \\frac{3981.07170553497 y_{12}}{y_{1}}, \\quad \\frac{501.187233627272 s}{y_{1}^{2}} y_{13} - 1, \\quad -1 + \\frac{y_{1}^{2} y_{5}}{s^{3}} 6.30957344480194 \\cdot 10^{18}\\right ]$$"
      ],
      "text/plain": [
       "⎡                                                                             \n",
       "⎢     5.55e+15⋅y₀⋅y₁       1819700858.60998⋅y₀⋅y₃       5.01187233627272e-5⋅y₃\n",
       "⎢-1 + ──────────────, -1 + ──────────────────────, -1 + ──────────────────────\n",
       "⎢          s⋅y₄                     s⋅y₂                           s⋅y₆       \n",
       "⎣                                                                             \n",
       "\n",
       "                                2                                 3           \n",
       "⋅y₅       1.25892541179417e-8⋅y₃ ⋅y₅       1.58489319246111e-11⋅y₃ ⋅y₅       1\n",
       "───, -1 + ──────────────────────────, -1 + ───────────────────────────, -1 + ─\n",
       "                     2                                 3                      \n",
       "                    s ⋅y₇                             s ⋅y₈                   \n",
       "\n",
       "         4                                 5                             2    \n",
       ".0e-13⋅y₃ ⋅y₅       3.98107170553497e-13⋅y₃ ⋅y₅  1.62709920826969e-8⋅s⋅y₀ ⋅y₁₁\n",
       "─────────────, -1 + ───────────────────────────, ─────────────────────────────\n",
       "    4                           5                             2   2           \n",
       "   s ⋅y₉                       s ⋅y₁₀                       y₄ ⋅y₅            \n",
       "\n",
       "                                                                              \n",
       "           3981.07170553497⋅y₁₂  501.187233627272⋅s⋅y₁₃           6.3095734448\n",
       " - 1, -1 + ────────────────────, ────────────────────── - 1, -1 + ────────────\n",
       "                    y₁                      2                                 \n",
       "                                          y₁                                  \n",
       "\n",
       "           2   ⎤\n",
       "0194e+18⋅y₁ ⋅y₅⎥\n",
       "───────────────⎥\n",
       "  3            ⎥\n",
       " s             ⎦"
      ]
     },
     "execution_count": 29,
     "metadata": {},
     "output_type": "execute_result"
    }
   ],
   "source": [
    "qk = reaction_system.qk(y, scaling=s, norm=True)\n",
    "qk"
   ]
  },
  {
   "cell_type": "code",
   "execution_count": 19,
   "metadata": {
    "collapsed": false
   },
   "outputs": [
    {
     "data": {
      "image/png": "[encoded data removed]",
      "text/latex": [
       "$$y_{0} - y_{1} + 2 y_{10} + 2 y_{11} - y_{12} - 2 y_{13} + y_{2} + 2 y_{5} + 2 y_{6} + 2 y_{7} + 2 y_{8} + 2 y_{9}$$"
      ],
      "text/plain": [
       "y₀ - y₁ + 2⋅y₁₀ + 2⋅y₁₁ - y₁₂ - 2⋅y₁₃ + y₂ + 2⋅y₅ + 2⋅y₆ + 2⋅y₇ + 2⋅y₈ + 2⋅y₉"
      ]
     },
     "execution_count": 19,
     "metadata": {},
     "output_type": "execute_result"
    }
   ],
   "source": [
    "charge_balance(substances, y)"
   ]
  },
  {
   "cell_type": "code",
   "execution_count": 20,
   "metadata": {
    "collapsed": false
   },
   "outputs": [
    {
     "data": {
      "image/png": "[encoded data removed]",
      "text/latex": [
       "$$y_{0} + y_{1} + 15 y_{10} + 2 y_{11} + 3 y_{12} + 4 y_{13} + 2 y_{14} + 4 y_{2} + 3 y_{3} + 2 y_{4} + 3 y_{6} + 6 y_{7} + 9 y_{8} + 12 y_{9}$$"
      ],
      "text/plain": [
       "y₀ + y₁ + 15⋅y₁₀ + 2⋅y₁₁ + 3⋅y₁₂ + 4⋅y₁₃ + 2⋅y₁₄ + 4⋅y₂ + 3⋅y₃ + 2⋅y₄ + 3⋅y₆ +\n",
       " 6⋅y₇ + 9⋅y₈ + 12⋅y₉"
      ]
     },
     "execution_count": 20,
     "metadata": {},
     "output_type": "execute_result"
    }
   ],
   "source": [
    "atom_balance(substances, y, 1)"
   ]
  },
  {
   "cell_type": "code",
   "execution_count": 21,
   "metadata": {
    "collapsed": false
   },
   "outputs": [
    {
     "data": {
      "image/png": "[encoded data removed]",
      "text/latex": [
       "$$\\left [ \\frac{y_{0} y_{1}}{y_{4}}, \\quad \\frac{y_{0} y_{3}}{y_{2}}, \\quad \\frac{y_{3} y_{5}}{y_{6}}, \\quad \\frac{y_{3}^{2} y_{5}}{y_{7}}, \\quad \\frac{y_{3}^{3} y_{5}}{y_{8}}, \\quad \\frac{y_{3}^{4} y_{5}}{y_{9}}, \\quad \\frac{y_{3}^{5} y_{5}}{y_{10}}, \\quad \\frac{y_{0}^{2} y_{11}}{y_{4}^{2} y_{5}^{2}}, \\quad \\frac{y_{12}}{y_{1} y_{14}}, \\quad \\frac{y_{13}}{y_{1}^{2} y_{14}}, \\quad \\frac{y_{1}^{2} y_{5}}{y_{14}}\\right ]$$"
      ],
      "text/plain": [
       "⎡                       2       3       4       5       2                     \n",
       "⎢y₀⋅y₁  y₀⋅y₃  y₃⋅y₅  y₃ ⋅y₅  y₃ ⋅y₅  y₃ ⋅y₅  y₃ ⋅y₅  y₀ ⋅y₁₁   y₁₂      y₁₃  \n",
       "⎢─────, ─────, ─────, ──────, ──────, ──────, ──────, ───────, ──────, ───────\n",
       "⎢  y₄     y₂     y₆     y₇      y₈      y₉     y₁₀      2   2  y₁⋅y₁₄    2    \n",
       "⎣                                                     y₄ ⋅y₅           y₁ ⋅y₁₄\n",
       "\n",
       "    2   ⎤\n",
       "  y₁ ⋅y₅⎥\n",
       ", ──────⎥\n",
       "   y₁₄  ⎥\n",
       "        ⎦"
      ]
     },
     "execution_count": 21,
     "metadata": {},
     "output_type": "execute_result"
    }
   ],
   "source": [
    "reaction_system.equilibrium_quotients(y)"
   ]
  },
  {
   "cell_type": "code",
   "execution_count": 22,
   "metadata": {
    "collapsed": false
   },
   "outputs": [
    {
     "data": {
      "text/plain": [
       "((4, 15),\n",
       " [1, 7, 8, 29],\n",
       " array([[ 1,  1,  4,  3,  2,  0,  3,  6,  9, 12, 15,  2,  3,  4,  2],\n",
       "        [ 0,  0,  1,  1,  0,  0,  1,  2,  3,  4,  5,  0,  0,  0,  0],\n",
       "        [ 0,  1,  0,  0,  1,  0,  0,  0,  0,  0,  0,  2,  3,  4,  2],\n",
       "        [ 0,  0,  0,  0,  0,  1,  1,  1,  1,  1,  1,  2,  1,  1,  1]]),\n",
       " [1, -1, 1, 0, 0, 2, 2, 2, 2, 2, 2, 2, -1, -2, 0])"
      ]
     },
     "execution_count": 22,
     "metadata": {},
     "output_type": "execute_result"
    }
   ],
   "source": [
    "chg_vec = reaction_system.charge_balance_vector()\n",
    "atm_vecs, atm_nrs = reaction_system.atom_balance_vectors()\n",
    "import numpy as np\n",
    "arr = np.array(atm_vecs)\n",
    "arr.shape, atm_nrs, arr, chg_vec"
   ]
  },
  {
   "cell_type": "code",
   "execution_count": 23,
   "metadata": {
    "collapsed": false
   },
   "outputs": [
    {
     "data": {
      "image/png": "[encoded data removed]",
      "text/latex": [
       "$$\\left ( \\left[\\begin{array}{ccccccccccccccc}1 & -1 & 1 & 0 & 0 & 2 & 2 & 2 & 2 & 2 & 2 & 2 & -1 & -2 & 0\\\\1 & 1 & 4 & 3 & 2 & 0 & 3 & 6 & 9 & 12 & 15 & 2 & 3 & 4 & 2\\\\0 & 0 & 1 & 1 & 0 & 0 & 1 & 2 & 3 & 4 & 5 & 0 & 0 & 0 & 0\\\\0 & 1 & 0 & 0 & 1 & 0 & 0 & 0 & 0 & 0 & 0 & 2 & 3 & 4 & 2\\\\0 & 0 & 0 & 0 & 0 & 1 & 1 & 1 & 1 & 1 & 1 & 2 & 1 & 1 & 1\\end{array}\\right], \\quad \\left[\\begin{array}{ccccccccccccccc}1 & 0 & 0 & -1 & 1 & 0 & -1 & -2 & -3 & -4 & -5 & 0 & 0 & 0 & 0\\\\0 & 1 & 0 & 0 & 1 & 0 & 0 & 0 & 0 & 0 & 0 & 2 & 3 & 4 & 2\\\\0 & 0 & 1 & 1 & 0 & 0 & 1 & 2 & 3 & 4 & 5 & 0 & 0 & 0 & 0\\\\0 & 0 & 0 & 0 & 0 & 1 & 1 & 1 & 1 & 1 & 1 & 2 & 1 & 1 & 1\\\\0 & 0 & 0 & 0 & 0 & 0 & 0 & 0 & 0 & 0 & 0 & 0 & 0 & 0 & 0\\end{array}\\right], \\quad \\left [ 0, \\quad 1, \\quad 2, \\quad 5\\right ]\\right )$$"
      ],
      "text/plain": [
       "⎛⎡1  -1  1  0  0  2  2  2  2  2   2   2  -1  -2  0⎤, ⎡1  0  0  -1  1  0  -1  -\n",
       "⎜⎢                                                ⎥  ⎢                        \n",
       "⎜⎢1  1   4  3  2  0  3  6  9  12  15  2  3   4   2⎥  ⎢0  1  0  0   1  0  0   0\n",
       "⎜⎢                                                ⎥  ⎢                        \n",
       "⎜⎢0  0   1  1  0  0  1  2  3  4   5   0  0   0   0⎥  ⎢0  0  1  1   0  0  1   2\n",
       "⎜⎢                                                ⎥  ⎢                        \n",
       "⎜⎢0  1   0  0  1  0  0  0  0  0   0   2  3   4   2⎥  ⎢0  0  0  0   0  1  1   1\n",
       "⎜⎢                                                ⎥  ⎢                        \n",
       "⎝⎣0  0   0  0  0  1  1  1  1  1   1   2  1   1   1⎦  ⎣0  0  0  0   0  0  0   0\n",
       "\n",
       "2  -3  -4  -5  0  0  0  0⎤, [0, 1, 2, 5]⎞\n",
       "                         ⎥              ⎟\n",
       "   0   0   0   2  3  4  2⎥              ⎟\n",
       "                         ⎥              ⎟\n",
       "   3   4   5   0  0  0  0⎥              ⎟\n",
       "                         ⎥              ⎟\n",
       "   1   1   1   2  1  1  1⎥              ⎟\n",
       "                         ⎥              ⎟\n",
       "   0   0   0   0  0  0  0⎦              ⎠"
      ]
     },
     "execution_count": 23,
     "metadata": {},
     "output_type": "execute_result"
    }
   ],
   "source": [
    "import sympy\n",
    "M = sympy.Matrix([chg_vec] + atm_vecs)\n",
    "rref, pivot = M.rref()\n",
    "M, rref, pivot"
   ]
  },
  {
   "cell_type": "code",
   "execution_count": 24,
   "metadata": {
    "collapsed": false
   },
   "outputs": [
    {
     "data": {
      "image/png": "[encoded data removed]",
      "text/latex": [
       "$$\\left [ 0, \\quad 1, \\quad 7, \\quad 8, \\quad 29\\right ]$$"
      ],
      "text/plain": [
       "[0, 1, 7, 8, 29]"
      ]
     },
     "execution_count": 24,
     "metadata": {},
     "output_type": "execute_result"
    }
   ],
   "source": [
    "rref, pivot = reaction_system.rref()\n",
    "atm_nrs = reaction_system.atom_balance_vectors()[1]\n",
    "[0] + atm_nrs\n",
    "#reaction_system.independent_atoms_from_pivot(pivot)"
   ]
  },
  {
   "cell_type": "code",
   "execution_count": 25,
   "metadata": {
    "collapsed": false
   },
   "outputs": [
    {
     "data": {
      "image/png": "[encoded data removed]",
      "text/latex": [
       "$$\\left [ - 1.8018018018018 \\cdot 10^{-16} s + \\frac{y_{0} y_{1}}{y_{4}}, \\quad - 5.49540873857625 \\cdot 10^{-10} s + \\frac{y_{0} y_{3}}{y_{2}}, \\quad - 19952.6231496888 s + \\frac{y_{3} y_{5}}{y_{6}}, \\quad - 79432823.4724282 s^{2} + \\frac{y_{3}^{2} y_{5}}{y_{7}}, \\quad - 63095734448.0194 s^{3} + \\frac{y_{3}^{3} y_{5}}{y_{8}}, \\quad - 10000000000000.0 s^{4} + \\frac{y_{3}^{4} y_{5}}{y_{9}}, \\quad - 2511886431509.58 s^{5} + \\frac{y_{3}^{5} y_{5}}{y_{10}}, \\quad \\frac{y_{0}^{2} y_{11}}{y_{4}^{2} y_{5}^{2}} - \\frac{61459067.4568289}{s}, \\quad - \\frac{0.000251188643150958}{y_{14}} + \\frac{y_{12}}{y_{1} y_{14}}, \\quad \\frac{y_{13}}{y_{1}^{2} y_{14}} - \\frac{0.00199526231496888}{s y_{14}}, \\quad - \\frac{s^{3}}{y_{14}} 1.58489319246111 \\cdot 10^{-19} + \\frac{y_{1}^{2} y_{5}}{y_{14}}\\right ]$$"
      ],
      "text/plain": [
       "⎡                                                                             \n",
       "⎢                         y₀⋅y₁                            y₀⋅y₃              \n",
       "⎢-1.8018018018018e-16⋅s + ─────, -5.49540873857625e-10⋅s + ─────, -19952.62314\n",
       "⎢                           y₄                               y₂               \n",
       "⎣                                                                             \n",
       "\n",
       "                                           2                               3  \n",
       "          y₃⋅y₅                      2   y₃ ⋅y₅                      3   y₃ ⋅y\n",
       "96888⋅s + ─────, - 79432823.4724282⋅s  + ──────, - 63095734448.0194⋅s  + ─────\n",
       "            y₆                             y₇                              y₈ \n",
       "                                                                              \n",
       "\n",
       "                             4                               5       2        \n",
       "₅                      4   y₃ ⋅y₅                      5   y₃ ⋅y₅  y₀ ⋅y₁₁   6\n",
       "─, - 10000000000000.0⋅s  + ──────, - 2511886431509.58⋅s  + ──────, ─────── - ─\n",
       "                             y₉                             y₁₀      2   2    \n",
       "                                                                   y₄ ⋅y₅     \n",
       "\n",
       "                                                                              \n",
       "1459067.4568289    0.000251188643150958    y₁₂      y₁₃     0.0019952623149688\n",
       "───────────────, - ──────────────────── + ──────, ─────── - ──────────────────\n",
       "      s                    y₁₄            y₁⋅y₁₄    2              s⋅y₁₄      \n",
       "                                                  y₁ ⋅y₁₄                     \n",
       "\n",
       "                           3     2   ⎤\n",
       "8    1.58489319246111e-19⋅s    y₁ ⋅y₅⎥\n",
       "─, - ─────────────────────── + ──────⎥\n",
       "               y₁₄              y₁₄  ⎥\n",
       "                                     ⎦"
      ]
     },
     "execution_count": 25,
     "metadata": {},
     "output_type": "execute_result"
    }
   ],
   "source": [
    "qk"
   ]
  },
  {
   "cell_type": "code",
   "execution_count": 26,
   "metadata": {
    "collapsed": false
   },
   "outputs": [
    {
     "ename": "ValueError",
     "evalue": "too many values to unpack",
     "output_type": "error",
     "traceback": [
      "\u001b[1;31m---------------------------------------------------------------------------\u001b[0m",
      "\u001b[1;31mValueError\u001b[0m                                Traceback (most recent call last)",
      "\u001b[1;32m<ipython-input-26-a0ca6caa4249>\u001b[0m in \u001b[0;36m<module>\u001b[1;34m()\u001b[0m\n\u001b[0;32m      2\u001b[0m \u001b[0mscaling\u001b[0m \u001b[1;33m=\u001b[0m \u001b[1;36m1.0\u001b[0m\u001b[1;33m\u001b[0m\u001b[0m\n\u001b[0;32m      3\u001b[0m \u001b[0mlogC\u001b[0m \u001b[1;33m=\u001b[0m \u001b[0mFalse\u001b[0m\u001b[1;33m\u001b[0m\u001b[0m\n\u001b[1;32m----> 4\u001b[1;33m \u001b[0mf\u001b[0m\u001b[1;33m,\u001b[0m \u001b[0mj\u001b[0m \u001b[1;33m=\u001b[0m \u001b[0mreaction_system\u001b[0m\u001b[1;33m.\u001b[0m\u001b[0mnum_cb_factory\u001b[0m\u001b[1;33m(\u001b[0m\u001b[0mc0arr\u001b[0m\u001b[1;33m*\u001b[0m\u001b[0mscaling\u001b[0m\u001b[1;33m,\u001b[0m \u001b[0mTrue\u001b[0m\u001b[1;33m,\u001b[0m \u001b[0mscaling\u001b[0m\u001b[1;33m=\u001b[0m\u001b[0mscaling\u001b[0m\u001b[1;33m,\u001b[0m \u001b[0mlogC\u001b[0m\u001b[1;33m=\u001b[0m\u001b[0mlogC\u001b[0m\u001b[1;33m)\u001b[0m\u001b[1;33m\u001b[0m\u001b[0m\n\u001b[0m\u001b[0;32m      5\u001b[0m \u001b[0mc0arr\u001b[0m\u001b[1;33m\u001b[0m\u001b[0m\n",
      "\u001b[1;31mValueError\u001b[0m: too many values to unpack"
     ]
    }
   ],
   "source": [
    "c0arr = np.array([init_conc[k] for k in reaction_system.substances])\n",
    "scaling = 1.0\n",
    "logC = False\n",
    "f, j = reaction_system.num_cb_factory(c0arr*scaling, True, scaling=scaling, logC=logC)\n",
    "c0arr"
   ]
  },
  {
   "cell_type": "code",
   "execution_count": null,
   "metadata": {
    "collapsed": false
   },
   "outputs": [],
   "source": [
    "x0 = c0arr+1e-17\n",
    "f(np.log(x0) if logC else x0)"
   ]
  },
  {
   "cell_type": "code",
   "execution_count": null,
   "metadata": {
    "collapsed": false
   },
   "outputs": [],
   "source": [
    "import matplotlib.pyplot as plt\n",
    "%matplotlib inline\n",
    "jmat = j(np.log(x0) if logC else x0)\n",
    "plt.imshow(jmat, cmap='binary', interpolation='None')\n",
    "jmat[:7, :4].tolist()"
   ]
  },
  {
   "cell_type": "code",
   "execution_count": null,
   "metadata": {
    "collapsed": false
   },
   "outputs": [],
   "source": [
    "len(substances)"
   ]
  },
  {
   "cell_type": "code",
   "execution_count": null,
   "metadata": {
    "collapsed": false
   },
   "outputs": [],
   "source": [
    "from scipy.optimize import root\n",
    "x0 = [1]*len(substances)\n",
    "root(f, x0, jac=j)"
   ]
  },
  {
   "cell_type": "code",
   "execution_count": null,
   "metadata": {
    "collapsed": false
   },
   "outputs": [],
   "source": [
    "reaction_system.root(init_conc, scaling=scaling, logC=logC, delta=1e-15)"
   ]
  },
  {
   "cell_type": "code",
   "execution_count": null,
   "metadata": {
    "collapsed": false
   },
   "outputs": [],
   "source": [
    "i = sp.symarray('i', len(y))\n",
    "print(i)\n",
    "reaction_system.f(y, i, scaling=s, reduced=True)"
   ]
  },
  {
   "cell_type": "code",
   "execution_count": null,
   "metadata": {
    "collapsed": false
   },
   "outputs": [],
   "source": [
    "f_elim, j_elim, elim, elm_cbs = reaction_system.num_cb_factory(c0arr*scaling, True, scaling=scaling, logC=logC, reduced=True)\n",
    "print(elim)"
   ]
  },
  {
   "cell_type": "code",
   "execution_count": null,
   "metadata": {
    "collapsed": false
   },
   "outputs": [],
   "source": [
    "c0arr_elim = np.array([x for idx, x in enumerate(c0arr) if idx not in elim]) + 1e-13\n",
    "x0elim = np.log(c0arr_elim) if logC else c0arr_elim\n",
    "f_elim(x0elim)"
   ]
  },
  {
   "cell_type": "code",
   "execution_count": null,
   "metadata": {
    "collapsed": false
   },
   "outputs": [],
   "source": [
    "jmat = j_elim(x0elim)\n",
    "plt.imshow(jmat, cmap='binary', interpolation='None')\n",
    "x0elim"
   ]
  },
  {
   "cell_type": "code",
   "execution_count": null,
   "metadata": {
    "collapsed": false
   },
   "outputs": [],
   "source": [
    "jmat"
   ]
  },
  {
   "cell_type": "code",
   "execution_count": null,
   "metadata": {
    "collapsed": false
   },
   "outputs": [],
   "source": [
    "reaction_system.root(init_conc, scaling=1e8, init_iter=100)"
   ]
  },
  {
   "cell_type": "code",
   "execution_count": null,
   "metadata": {
    "collapsed": true
   },
   "outputs": [],
   "source": []
  },
  {
   "cell_type": "code",
   "execution_count": null,
   "metadata": {
    "collapsed": true
   },
   "outputs": [],
   "source": []
  },
  {
   "cell_type": "code",
   "execution_count": null,
   "metadata": {
    "collapsed": true
   },
   "outputs": [],
   "source": []
  }
 ],
 "metadata": {
  "kernelspec": {
   "display_name": "Python 2",
   "language": "python",
   "name": "python2"
  },
  "language_info": {
   "codemirror_mode": {
    "name": "ipython",
    "version": 2
   },
   "file_extension": ".py",
   "mimetype": "text/x-python",
   "name": "python",
   "nbconvert_exporter": "python",
   "pygments_lexer": "ipython2",
   "version": "2.7.6"
  }
 },
 "nbformat": 4,
 "nbformat_minor": 0
}
