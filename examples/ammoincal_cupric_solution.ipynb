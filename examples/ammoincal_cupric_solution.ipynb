{
 "cells": [
  {
   "cell_type": "code",
   "execution_count": 1,
   "metadata": {
    "collapsed": false
   },
   "outputs": [],
   "source": [
    "from aqchem.chemistry import Solute, elements\n",
    "from aqchem.equilibria import Equilibrium, EqSystem, charge_balance, atom_balance\n",
    "from IPython.display import Latex, display\n",
    "import periodictable"
   ]
  },
  {
   "cell_type": "code",
   "execution_count": 2,
   "metadata": {
    "collapsed": false
   },
   "outputs": [],
   "source": [
    "def show(s): display(Latex('$'+s+'$'))"
   ]
  },
  {
   "cell_type": "code",
   "execution_count": 3,
   "metadata": {
    "collapsed": false
   },
   "outputs": [],
   "source": [
    "substances = H2O, Hp, OHm, NH4p, NH3, Cupp, CuNH31pp, CuNH32pp, CuNH33pp, CuNH34pp, CuNH35pp, Cu2OH2pp, CuOH3m, CuOH4mm, CuOH2 = [#, CuOHp, CuOH2, =\n",
    "    Solute(n, latex_name=l, formula=periodictable.formula(n)) for n, l in [\n",
    "        ('H2O', 'H_2O'), ('H{+}', 'H^+'), ('HO{-}', 'OH^-'), ('NH3 + H{+}', 'NH_4^+'),\n",
    "        ('NH3', 'NH_3'), ('Cu{2+}', 'Cu^{2+}'), ('Cu{2+}NH3', 'Cu(NH_3)^{2+}'),\n",
    "        ('Cu{2+}(NH3)2', 'Cu(NH_3)_2^{2+}'), ('Cu{2+}(NH3)3', 'Cu(NH_3)_3^{2+}'),\n",
    "        ('Cu{2+}(NH3)4', 'Cu(NH_3)_4^{2+}'), ('Cu{2+}(NH3)5', 'Cu(NH_3)_5^{2+}'), \n",
    "        ('2Cu{2+} + 2HO{-}', 'Cu_2(OH)_2^{2+}'),\n",
    "        ('Cu{2+} + 3HO{-}', 'Cu(OH)_3^-'), ('Cu{2+} + 4HO{-}', 'Cu(OH)_4^{2-}'),\n",
    "        ('Cu{2+} + 2HO{-}', 'Cu(OH_2)(s)'),\n",
    "    ]]\n",
    "CuOH2.solid = True"
   ]
  },
  {
   "cell_type": "code",
   "execution_count": 4,
   "metadata": {
    "collapsed": false
   },
   "outputs": [
    {
     "data": {
      "text/latex": [
       "$H_2O, H^+, OH^-, NH_4^+, NH_3, Cu^{2+}, Cu(NH_3)^{2+}, Cu(NH_3)_2^{2+}, Cu(NH_3)_3^{2+}, Cu(NH_3)_4^{2+}, Cu(NH_3)_5^{2+}, Cu_2(OH)_2^{2+}, Cu(OH)_3^-, Cu(OH)_4^{2-}, Cu(OH_2)(s)$"
      ],
      "text/plain": [
       "<IPython.core.display.Latex object>"
      ]
     },
     "metadata": {},
     "output_type": "display_data"
    }
   ],
   "source": [
    "show(', '.join([s.latex_name for s in substances])) # + r'(\\mathrm{%s})' % (str(s.formula.atoms) + ', ' + str(s.charge))"
   ]
  },
  {
   "cell_type": "code",
   "execution_count": 5,
   "metadata": {
    "collapsed": false
   },
   "outputs": [],
   "source": [
    "init_conc = {Hp: 1e-7, OHm: 1e-7, NH4p: 0, NH3: 1.0, Cupp: 1e-2, \n",
    "            CuNH31pp: 0, CuNH32pp: 0, CuNH33pp: 0, CuNH34pp: 0, CuNH35pp: 0,\n",
    "            H2O: 55.5, Cu2OH2pp: 0, CuOH2: 0, CuOH3m: 0, CuOH4mm: 0}"
   ]
  },
  {
   "cell_type": "code",
   "execution_count": 6,
   "metadata": {
    "collapsed": false
   },
   "outputs": [],
   "source": [
    "H2O_c = init_conc[H2O]\n",
    "w_autop = Equilibrium({H2O: 1}, {Hp: 1, OHm: 1}, 10**-14/H2O_c)\n",
    "NH4p_pr = Equilibrium({NH4p: 1}, {Hp: 1, NH3: 1}, 10**-9.26)\n",
    "CuOH2_s = Equilibrium({CuOH2: 1}, {Cupp: 1, OHm: 2}, 10**-18.8)\n",
    "CuOH_B3 = Equilibrium({CuOH2: 1, OHm: 1}, {CuOH3m: 1}, 10**-3.6)\n",
    "CuOH_B4 = Equilibrium({CuOH2: 1, OHm: 2}, {CuOH4mm: 1}, 10**-2.7)\n",
    "Cu2OH2 = Equilibrium({Cupp: 2, H2O: 2}, {Cu2OH2pp: 1, Hp: 2}, 10**4.3 * H2O_c**2)\n",
    "CuNH3_B1 = Equilibrium({CuNH31pp: 1}, {Cupp: 1, NH3: 1}, 10**4.3)\n",
    "CuNH3_B2 = Equilibrium({CuNH32pp: 1}, {Cupp: 1, NH3: 2}, 10**7.9)\n",
    "CuNH3_B3 = Equilibrium({CuNH33pp: 1}, {Cupp: 1, NH3: 3}, 10**10.8)\n",
    "CuNH3_B4 = Equilibrium({CuNH34pp: 1}, {Cupp: 1, NH3: 4}, 10**13.0)\n",
    "CuNH3_B5 = Equilibrium({CuNH35pp: 1}, {Cupp: 1, NH3: 5}, 10**12.4)\n",
    "equilibria = w_autop, NH4p_pr, CuNH3_B1, CuNH3_B2, CuNH3_B3, CuNH3_B4, CuNH3_B5, Cu2OH2, CuOH_B3, CuOH_B4, CuOH2_s\n",
    "skip_subs, skip_eq = (4, 4) # (0, 0), (1, 1), (3, 3), (4, 4), (11, 9)\n",
    "simpl_subs = substances[:-skip_subs]\n",
    "simpl_eq = equilibria[:-skip_eq]\n",
    "simpl_c0 = {k: init_conc[k] for k in simpl_subs}"
   ]
  },
  {
   "cell_type": "code",
   "execution_count": 7,
   "metadata": {
    "collapsed": false
   },
   "outputs": [
    {
     "data": {
      "text/latex": [
       "$H_2O, H^+, OH^-, NH_4^+, NH_3, Cu^{2+}, Cu(NH_3)^{2+}, Cu(NH_3)_2^{2+}, Cu(NH_3)_3^{2+}, Cu(NH_3)_4^{2+}, Cu(NH_3)_5^{2+}$"
      ],
      "text/plain": [
       "<IPython.core.display.Latex object>"
      ]
     },
     "metadata": {},
     "output_type": "display_data"
    },
    {
     "data": {
      "text/latex": [
       "$~$"
      ],
      "text/plain": [
       "<IPython.core.display.Latex object>"
      ]
     },
     "metadata": {},
     "output_type": "display_data"
    },
    {
     "data": {
      "text/latex": [
       "$H_2O \\rightleftharpoons H^+ + OH^-~~~~~~~~~~~~~~~~~~~~~~~~~~~~~~~~~~~~~lgK =      -15.744$"
      ],
      "text/plain": [
       "<IPython.core.display.Latex object>"
      ]
     },
     "metadata": {},
     "output_type": "display_data"
    },
    {
     "data": {
      "text/latex": [
       "$NH_4^+ \\rightleftharpoons H^+ + NH_3~~~~~~~~~~~~~~~~~~~~~~~~~~~~~~~~~~~~~lgK =        -9.26$"
      ],
      "text/plain": [
       "<IPython.core.display.Latex object>"
      ]
     },
     "metadata": {},
     "output_type": "display_data"
    },
    {
     "data": {
      "text/latex": [
       "$Cu(NH_3)^{2+} \\rightleftharpoons NH_3 + Cu^{2+}~~~~~~~~~~~~~~~~~~~~~~~~~~~~~~~~~~~~~lgK =          4.3$"
      ],
      "text/plain": [
       "<IPython.core.display.Latex object>"
      ]
     },
     "metadata": {},
     "output_type": "display_data"
    },
    {
     "data": {
      "text/latex": [
       "$Cu(NH_3)_2^{2+} \\rightleftharpoons 2 NH_3 + Cu^{2+}~~~~~~~~~~~~~~~~~~~~~~~~~~~~~~~~~~~~~lgK =          7.9$"
      ],
      "text/plain": [
       "<IPython.core.display.Latex object>"
      ]
     },
     "metadata": {},
     "output_type": "display_data"
    },
    {
     "data": {
      "text/latex": [
       "$Cu(NH_3)_3^{2+} \\rightleftharpoons 3 NH_3 + Cu^{2+}~~~~~~~~~~~~~~~~~~~~~~~~~~~~~~~~~~~~~lgK =         10.8$"
      ],
      "text/plain": [
       "<IPython.core.display.Latex object>"
      ]
     },
     "metadata": {},
     "output_type": "display_data"
    },
    {
     "data": {
      "text/latex": [
       "$Cu(NH_3)_4^{2+} \\rightleftharpoons 4 NH_3 + Cu^{2+}~~~~~~~~~~~~~~~~~~~~~~~~~~~~~~~~~~~~~lgK =           13$"
      ],
      "text/plain": [
       "<IPython.core.display.Latex object>"
      ]
     },
     "metadata": {},
     "output_type": "display_data"
    },
    {
     "data": {
      "text/latex": [
       "$Cu(NH_3)_5^{2+} \\rightleftharpoons 5 NH_3 + Cu^{2+}~~~~~~~~~~~~~~~~~~~~~~~~~~~~~~~~~~~~~lgK =         12.4$"
      ],
      "text/plain": [
       "<IPython.core.display.Latex object>"
      ]
     },
     "metadata": {},
     "output_type": "display_data"
    },
    {
     "data": {
      "text/plain": [
       "{'Cu{2+}': 0.01,\n",
       " 'Cu{2+}(NH3)2': 0,\n",
       " 'Cu{2+}(NH3)3': 0,\n",
       " 'Cu{2+}(NH3)4': 0,\n",
       " 'Cu{2+}(NH3)5': 0,\n",
       " 'Cu{2+}NH3': 0,\n",
       " 'H2O': 55.5,\n",
       " 'HO{-}': 1e-07,\n",
       " 'H{+}': 1e-07,\n",
       " 'NH3': 1.0,\n",
       " 'NH3 + H{+}': 0}"
      ]
     },
     "execution_count": 7,
     "metadata": {},
     "output_type": "execute_result"
    }
   ],
   "source": [
    "show(', '.join([s.latex_name for s in simpl_subs]))\n",
    "show('~')\n",
    "from math import log10\n",
    "for eq in simpl_eq:\n",
    "    ltx = eq.latex()\n",
    "    show(ltx + '~~~~~~~~~~~~~~~~~~~~~~~~~~~~~~~~~~~~~lgK = {0:12.5g}'.format(log10(eq.params)))\n",
    "{k.name: v for k, v in simpl_c0.items()}"
   ]
  },
  {
   "cell_type": "code",
   "execution_count": 8,
   "metadata": {
    "collapsed": false
   },
   "outputs": [
    {
     "data": {
      "image/png": "[encoded data removed]",
      "text/latex": [
       "$$\\left [ -1.8018018018018 \\cdot 10^{-16} + \\frac{x_{1} x_{2}}{x_{0}}, \\quad \\frac{x_{1} x_{4}}{x_{3}} - 5.49540873857625 \\cdot 10^{-10}, \\quad \\frac{x_{4} x_{5}}{x_{6}} - 19952.6231496888, \\quad \\frac{x_{4}^{2} x_{5}}{x_{7}} - 79432823.4724282, \\quad \\frac{x_{4}^{3} x_{5}}{x_{8}} - 63095734448.0194, \\quad \\frac{x_{4}^{4} x_{5}}{x_{9}} - 10000000000000.0, \\quad -2511886431509.58 + \\frac{x_{4}^{5} x_{5}}{x_{10}}, \\quad - i_{0} - i_{2} + x_{0} + x_{2}, \\quad - i_{1} + 5 i_{10} + i_{2} + i_{4} + i_{6} + 2 i_{7} + 3 i_{8} + 4 i_{9} + x_{1} - 5 x_{10} - x_{2} - x_{4} - x_{6} - 2 x_{7} - 3 x_{8} - 4 x_{9}, \\quad - 5 i_{10} - i_{3} - i_{4} - i_{6} - 2 i_{7} - 3 i_{8} - 4 i_{9} + 5 x_{10} + x_{3} + x_{4} + x_{6} + 2 x_{7} + 3 x_{8} + 4 x_{9}, \\quad - i_{10} - i_{5} - i_{6} - i_{7} - i_{8} - i_{9} + x_{10} + x_{5} + x_{6} + x_{7} + x_{8} + x_{9}\\right ]$$"
      ],
      "text/plain": [
       "⎡                                                                             \n",
       "⎢                       x₁⋅x₂  x₁⋅x₄                         x₄⋅x₅            \n",
       "⎢-1.8018018018018e-16 + ─────, ───── - 5.49540873857625e-10, ───── - 19952.623\n",
       "⎣                         x₀     x₃                            x₆             \n",
       "\n",
       "           2                          3                          4            \n",
       "         x₄ ⋅x₅                     x₄ ⋅x₅                     x₄ ⋅x₅         \n",
       "1496888, ────── - 79432823.4724282, ────── - 63095734448.0194, ────── - 100000\n",
       "           x₇                         x₈                         x₉           \n",
       "\n",
       "                                  5                                           \n",
       "                                x₄ ⋅x₅                                        \n",
       "00000000.0, -2511886431509.58 + ──────, -i₀ - i₂ + x₀ + x₂, -i₁ + 5⋅i₁₀ + i₂ +\n",
       "                                 x₁₀                                          \n",
       "\n",
       "                                                                              \n",
       "                                                                              \n",
       " i₄ + i₆ + 2⋅i₇ + 3⋅i₈ + 4⋅i₉ + x₁ - 5⋅x₁₀ - x₂ - x₄ - x₆ - 2⋅x₇ - 3⋅x₈ - 4⋅x₉\n",
       "                                                                              \n",
       "\n",
       "                                                                              \n",
       "                                                                              \n",
       ", -5⋅i₁₀ - i₃ - i₄ - i₆ - 2⋅i₇ - 3⋅i₈ - 4⋅i₉ + 5⋅x₁₀ + x₃ + x₄ + x₆ + 2⋅x₇ + 3\n",
       "                                                                              \n",
       "\n",
       "                                                                        ⎤\n",
       "                                                                        ⎥\n",
       "⋅x₈ + 4⋅x₉, -i₁₀ - i₅ - i₆ - i₇ - i₈ - i₉ + x₁₀ + x₅ + x₆ + x₇ + x₈ + x₉⎥\n",
       "                                                                        ⎦"
      ]
     },
     "execution_count": 8,
     "metadata": {},
     "output_type": "execute_result"
    }
   ],
   "source": [
    "eqsys = EqSystem(simpl_eq, simpl_subs)\n",
    "import sympy as sp\n",
    "sp.init_printing()\n",
    "x, i = sp.symarray('x', eqsys.ns), sp.symarray('i', eqsys.ns)\n",
    "f = eqsys.f(x, i)\n",
    "f"
   ]
  },
  {
   "cell_type": "code",
   "execution_count": 9,
   "metadata": {
    "collapsed": false
   },
   "outputs": [
    {
     "data": {
      "image/png": "[encoded data removed]",
      "text/latex": [
       "$$\\left[\\begin{array}{ccccccccccc}- \\frac{x_{1} x_{2}}{x_{0}^{2}} & \\frac{x_{2}}{x_{0}} & \\frac{x_{1}}{x_{0}} & 0 & 0 & 0 & 0 & 0 & 0 & 0 & 0\\\\0 & \\frac{x_{4}}{x_{3}} & 0 & - \\frac{x_{1} x_{4}}{x_{3}^{2}} & \\frac{x_{1}}{x_{3}} & 0 & 0 & 0 & 0 & 0 & 0\\\\0 & 0 & 0 & 0 & \\frac{x_{5}}{x_{6}} & \\frac{x_{4}}{x_{6}} & - \\frac{x_{4} x_{5}}{x_{6}^{2}} & 0 & 0 & 0 & 0\\\\0 & 0 & 0 & 0 & \\frac{2 x_{4}}{x_{7}} x_{5} & \\frac{x_{4}^{2}}{x_{7}} & 0 & - \\frac{x_{4}^{2} x_{5}}{x_{7}^{2}} & 0 & 0 & 0\\\\0 & 0 & 0 & 0 & \\frac{3 x_{5}}{x_{8}} x_{4}^{2} & \\frac{x_{4}^{3}}{x_{8}} & 0 & 0 & - \\frac{x_{4}^{3} x_{5}}{x_{8}^{2}} & 0 & 0\\\\0 & 0 & 0 & 0 & \\frac{4 x_{5}}{x_{9}} x_{4}^{3} & \\frac{x_{4}^{4}}{x_{9}} & 0 & 0 & 0 & - \\frac{x_{4}^{4} x_{5}}{x_{9}^{2}} & 0\\\\0 & 0 & 0 & 0 & \\frac{5 x_{5}}{x_{10}} x_{4}^{4} & \\frac{x_{4}^{5}}{x_{10}} & 0 & 0 & 0 & 0 & - \\frac{x_{4}^{5} x_{5}}{x_{10}^{2}}\\\\1 & 0 & 1 & 0 & 0 & 0 & 0 & 0 & 0 & 0 & 0\\\\0 & 1 & -1 & 0 & -1 & 0 & -1 & -2 & -3 & -4 & -5\\\\0 & 0 & 0 & 1 & 1 & 0 & 1 & 2 & 3 & 4 & 5\\\\0 & 0 & 0 & 0 & 0 & 1 & 1 & 1 & 1 & 1 & 1\\end{array}\\right]$$"
      ],
      "text/plain": [
       "⎡-x₁⋅x₂   x₂  x₁                                                              \n",
       "⎢───────  ──  ──     0        0       0      0        0         0         0   \n",
       "⎢    2    x₀  x₀                                                              \n",
       "⎢  x₀                                                                         \n",
       "⎢                                                                             \n",
       "⎢         x₄      -x₁⋅x₄      x₁                                              \n",
       "⎢   0     ──  0   ───────     ──      0      0        0         0         0   \n",
       "⎢         x₃          2       x₃                                              \n",
       "⎢                   x₃                                                        \n",
       "⎢                                                                             \n",
       "⎢                             x₅     x₄   -x₄⋅x₅                              \n",
       "⎢   0     0   0      0        ──     ──   ───────     0         0         0   \n",
       "⎢                             x₆     x₆       2                               \n",
       "⎢                                           x₆                                \n",
       "⎢                                                                             \n",
       "⎢                                      2              2                       \n",
       "⎢                          2⋅x₄⋅x₅   x₄            -x₄ ⋅x₅                    \n",
       "⎢   0     0   0      0     ───────   ───     0     ────────     0         0   \n",
       "⎢                             x₇      x₇               2                      \n",
       "⎢                                                    x₇                       \n",
       "⎢                                                                             \n",
       "⎢                              2       3                        3             \n",
       "⎢                          3⋅x₄ ⋅x₅  x₄                      -x₄ ⋅x₅          \n",
       "⎢   0     0   0      0     ────────  ───     0        0      ────────     0   \n",
       "⎢                             x₈      x₈                         2            \n",
       "⎢                                                              x₈             \n",
       "⎢                                                                             \n",
       "⎢                              3       4                                  4   \n",
       "⎢                          4⋅x₄ ⋅x₅  x₄                                -x₄ ⋅x₅\n",
       "⎢   0     0   0      0     ────────  ───     0        0         0      ───────\n",
       "⎢                             x₉      x₉                                   2  \n",
       "⎢                                                                        x₉   \n",
       "⎢                                                                             \n",
       "⎢                              4       5                                      \n",
       "⎢                          5⋅x₄ ⋅x₅  x₄                                       \n",
       "⎢   0     0   0      0     ────────  ───     0        0         0         0   \n",
       "⎢                            x₁₀     x₁₀                                      \n",
       "⎢                                                                             \n",
       "⎢                                                                             \n",
       "⎢   1     0   1      0        0       0      0        0         0         0   \n",
       "⎢                                                                             \n",
       "⎢   0     1   -1     0        -1      0     -1        -2        -3        -4  \n",
       "⎢                                                                             \n",
       "⎢   0     0   0      1        1       0      1        2         3         4   \n",
       "⎢                                                                             \n",
       "⎣   0     0   0      0        0       1      1        1         1         1   \n",
       "\n",
       "           ⎤\n",
       "      0    ⎥\n",
       "           ⎥\n",
       "           ⎥\n",
       "           ⎥\n",
       "           ⎥\n",
       "      0    ⎥\n",
       "           ⎥\n",
       "           ⎥\n",
       "           ⎥\n",
       "           ⎥\n",
       "      0    ⎥\n",
       "           ⎥\n",
       "           ⎥\n",
       "           ⎥\n",
       "           ⎥\n",
       "           ⎥\n",
       "      0    ⎥\n",
       "           ⎥\n",
       "           ⎥\n",
       "           ⎥\n",
       "           ⎥\n",
       "           ⎥\n",
       "      0    ⎥\n",
       "           ⎥\n",
       "           ⎥\n",
       "           ⎥\n",
       "           ⎥\n",
       "           ⎥\n",
       "─     0    ⎥\n",
       "           ⎥\n",
       "           ⎥\n",
       "           ⎥\n",
       "      5    ⎥\n",
       "   -x₄ ⋅x₅ ⎥\n",
       "   ────────⎥\n",
       "        2  ⎥\n",
       "     x₁₀   ⎥\n",
       "           ⎥\n",
       "      0    ⎥\n",
       "           ⎥\n",
       "      -5   ⎥\n",
       "           ⎥\n",
       "      5    ⎥\n",
       "           ⎥\n",
       "      1    ⎦"
      ]
     },
     "execution_count": 9,
     "metadata": {},
     "output_type": "execute_result"
    }
   ],
   "source": [
    "sp.Matrix(1, len(f), lambda _, q: f[q]).jacobian(x)"
   ]
  },
  {
   "cell_type": "code",
   "execution_count": 10,
   "metadata": {
    "collapsed": false,
    "scrolled": true
   },
   "outputs": [
    {
     "name": "stderr",
     "output_type": "stream",
     "text": [
      "aqchem/equilibria.py:23: RuntimeWarning: divide by zero encountered in double_scalars\n",
      "  tot *= conc**nr\n"
     ]
    },
    {
     "data": {
      "text/plain": [
       "(array([  5.55000015e+01,   9.83288339e-09,   5.90433193e-07,\n",
       "          1.58061115e-06,   1.00985112e+00,   1.03217731e-02,\n",
       "          5.24281724e-07,   4.59413913e-08,   4.57929663e-08,\n",
       "          4.12088912e-08,   4.46633114e-08]),\n",
       "   status: 1\n",
       "   cov_x: array([[  2.71611779e+00,  -4.46584236e-03,  -1.71611779e+00,\n",
       "         -7.17872884e-01,  -1.19119474e-02,   6.20864982e+03,\n",
       "          3.25335979e-01,   2.85083353e-02,   2.84342711e-02,\n",
       "          2.84342705e-02,   2.84342700e-02],\n",
       "       [  2.55028265e-05,   3.83031349e-05,  -2.55028265e-05,\n",
       "          6.15713171e-03,   2.33576289e-05,   3.47072439e-01,\n",
       "          1.81867609e-05,   1.59365908e-06,   1.58951988e-06,\n",
       "          1.58952095e-06,   1.58952202e-06],\n",
       "       [ -1.71611779e+00,   4.46584236e-03,   1.71611779e+00,\n",
       "          7.17872884e-01,   1.19119474e-02,  -6.20864982e+03,\n",
       "         -3.25335979e-01,  -2.85083353e-02,  -2.84342711e-02,\n",
       "         -2.84342705e-02,  -2.84342700e-02],\n",
       "       [ -1.68678631e-02,   6.28676208e-03,   1.68678631e-02,\n",
       "          1.01058110e+00,  -4.19078917e-03,  -5.48329298e+01,\n",
       "         -2.87327187e-03,  -2.51777446e-04,  -2.51123530e-04,\n",
       "         -2.51123722e-04,  -2.51123914e-04],\n",
       "       [  4.97164134e-03,  -3.07370898e-05,  -4.97164134e-03,\n",
       "         -4.94090424e-03,   3.30094925e-03,   1.40717971e+01,\n",
       "          7.37370096e-04,   6.46139530e-05,   6.44462395e-05,\n",
       "          6.44463908e-05,   6.44465420e-05],\n",
       "       [  1.49226048e-04,  -9.22586290e-07,  -1.49226048e-04,\n",
       "         -1.48303461e-04,  -3.03497334e-05,   1.53296156e+00,\n",
       "          8.03278449e-05,   7.03891629e-06,   7.02062805e-06,\n",
       "          7.02062666e-06,   7.02062527e-06],\n",
       "       [  1.04260142e-08,  -6.44585928e-11,  -1.04260142e-08,\n",
       "         -1.03615556e-08,   1.40263301e-10,   8.77053417e-05,\n",
       "          4.59579861e-09,   4.02717746e-10,   4.01671506e-10,\n",
       "          4.01671513e-10,   4.01671519e-10],\n",
       "       [  1.14200523e-09,  -7.06042255e-12,  -1.14200523e-09,\n",
       "         -1.13494481e-09,   1.63939065e-10,   8.33185755e-06,\n",
       "          4.36593092e-10,   3.82575114e-11,   3.81581273e-11,\n",
       "          3.81581348e-11,   3.81581423e-11],\n",
       "       [  1.36684602e-09,  -8.45049695e-12,  -1.36684602e-09,\n",
       "         -1.35839552e-09,   3.14767342e-10,   8.95500143e-06,\n",
       "          4.69246184e-10,   4.11188229e-11,   4.10120121e-11,\n",
       "          4.10120265e-11,   4.10120410e-11],\n",
       "       [  1.59465369e-09,  -9.85891408e-12,  -1.59465369e-09,\n",
       "         -1.58479477e-09,   4.66021526e-10,   9.59979116e-06,\n",
       "          5.03033530e-10,   4.40795260e-11,   4.39650304e-11,\n",
       "          4.39650517e-11,   4.39650731e-11],\n",
       "       [  1.82246136e-09,  -1.12673312e-11,  -1.82246136e-09,\n",
       "         -1.81119402e-09,   6.17275711e-10,   1.02445809e-05,\n",
       "          5.36820875e-10,   4.70402291e-11,   4.69180486e-11,\n",
       "          4.69180769e-11,   4.69181052e-11]])\n",
       " success: True\n",
       "     qtf: array([ -2.51188621e+12,  -9.99999978e+12,  -6.30955161e+10,\n",
       "         7.92150336e+07,   8.68542099e+02,  -5.87687046e-03,\n",
       "        -1.56538479e+01,  -2.52906708e-06,   2.63876510e+00,\n",
       "        -1.66386810e-06,   1.81395680e-11])\n",
       "    nfev: 6\n",
       "    ipvt: array([11, 10,  9,  8,  7,  2,  5,  3,  6,  4,  1], dtype=int32)\n",
       "     fun: array([ -7.55736832e-17,   6.28222029e-03,  -7.12242597e+01,\n",
       "        -7.92037025e+07,  -6.30955023e+10,  -9.99999974e+12,\n",
       "        -2.51188619e+12,   1.99998921e-06,  -9.85283975e-03,\n",
       "         9.85383976e-03,   3.22474982e-04])\n",
       "       x: array([  5.55000015e+01,   9.83288339e-09,   5.90433193e-07,\n",
       "         1.58061115e-06,   1.00985112e+00,   1.03217731e-02,\n",
       "         5.24281724e-07,   4.59413913e-08,   4.57929663e-08,\n",
       "         4.12088912e-08,   4.46633114e-08])\n",
       " message: 'Both actual and predicted relative reductions in the sum of squares\\n  are at most 0.000000'\n",
       "    fjac: array([[ -4.76553047e+12,   4.03390313e-16,   3.05002432e-16,\n",
       "          2.06614551e-16,   1.08226669e-16,  -4.91939406e-17,\n",
       "         -5.11920668e+01,   4.91939406e-17,  -1.02331436e+03,\n",
       "          4.91939406e-17,   0.00000000e+00],\n",
       "       [ -8.60344935e-12,  -4.76546254e+12,   2.45973209e-16,\n",
       "          1.67261782e-16,   8.85503552e-17,  -8.88135353e-41,\n",
       "         -4.09530697e+01,   3.93557134e-17,  -1.02329977e+03,\n",
       "          4.26435186e-17,  -1.86738429e-62],\n",
       "       [ -6.50504707e-12,  -5.24608048e-12,  -4.76539462e+12,\n",
       "          1.27907892e-16,   2.45218279e-40,  -2.95172058e-17,\n",
       "         -3.07143645e+01,   2.95172058e-17,  -1.02328519e+03,\n",
       "          2.95172058e-17,  -1.49390743e-62],\n",
       "       [ -4.40664479e-12,  -3.56733472e-12,  -2.72800073e-12,\n",
       "          4.74059857e+12,   4.94526628e-17,  -1.97810651e-17,\n",
       "         -2.04227554e+01,   1.97810651e-17,  -1.02061218e+03,\n",
       "          1.97810651e-17,   2.10080732e-62],\n",
       "       [ -2.30824251e-12,  -1.88858897e-12,   0.00000000e+00,\n",
       "          1.05471913e-12,   3.64004316e+10,  -1.28809035e-15,\n",
       "         -8.94783405e-01,   1.28809035e-15,  -8.94322855e+01,\n",
       "          1.28809035e-15,  -6.72258343e-61],\n",
       "       [  1.04920114e-12,   0.00000000e+00,   6.29538630e-13,\n",
       "         -4.21887652e-13,  -2.74722017e-11,  -6.32675695e+05,\n",
       "          2.91607274e-07,  -7.41091287e-11,  -1.36745737e-15,\n",
       "         -1.84539721e-01,  -1.48604198e-36],\n",
       "       [  1.09181688e+06,   8.73441056e+05,   6.55071455e+05,\n",
       "         -4.35573527e+05,  -1.90838090e+04,  -6.21935711e-03,\n",
       "          1.41421781e+00,   2.92236330e-11,   1.94939167e+03,\n",
       "         -6.86305070e-10,   1.15567565e-40],\n",
       "       [ -1.04920114e-12,  -8.39372876e-13,  -6.29538630e-13,\n",
       "          4.21887652e-13,   2.74722017e-11,   1.58058861e-06,\n",
       "          7.07106785e-01,  -1.22474487e+00,  -1.88872725e-12,\n",
       "         -4.53419734e-16,   3.31541472e-05],\n",
       "       [  2.18250984e+07,   2.18247873e+07,   2.18244762e+07,\n",
       "         -2.17674668e+07,  -1.90739865e+06,   1.84413718e-10,\n",
       "          1.65638795e-04,   4.76055462e-07,  -1.00007073e+00,\n",
       "         -2.05846468e-19,  -4.70297580e-27],\n",
       "       [ -1.04920114e-12,  -9.09494702e-13,  -6.29538630e-13,\n",
       "          4.21887652e-13,   2.74722017e-11,   3.93583607e+03,\n",
       "          7.02707910e-01,   4.10787978e-01,   7.74921287e-07,\n",
       "         -5.80941933e-01,  -1.86171774e-24],\n",
       "       [  0.00000000e+00,   3.98272978e-58,   3.18618382e-58,\n",
       "          4.48057100e-58,  -1.43378272e-56,   3.16940850e-32,\n",
       "          2.79645028e-30,  -8.16496582e-01,  -3.88670167e-07,\n",
       "         -5.77350267e-01,   2.45027554e-10]])\n",
       "    njev: 1)"
      ]
     },
     "execution_count": 10,
     "metadata": {},
     "output_type": "execute_result"
    }
   ],
   "source": [
    "eqsys.root(simpl_c0, delta=1e-6, method='lm')\n",
    "#eqsys.root({H2O: 55.5, Hp: 1e-10, OHm: 1e-3, NH3: 1.0, NH4p: 1e-3}, delta=1e-6, method='lm')"
   ]
  },
  {
   "cell_type": "code",
   "execution_count": 15,
   "metadata": {
    "collapsed": false
   },
   "outputs": [
    {
     "data": {
      "image/png": "[encoded data removed]",
      "text/plain": [
       "<matplotlib.figure.Figure at 0x7faa52b34d90>"
      ]
     },
     "metadata": {},
     "output_type": "display_data"
    }
   ],
   "source": [
    "%matplotlib inline\n",
    "import numpy as np\n",
    "x, inits_out, success = eqsys.plot(simpl_c0, NH3, np.logspace(-3, 1), delta=1e-6, method='lm', carry=False)"
   ]
  },
  {
   "cell_type": "code",
   "execution_count": 16,
   "metadata": {
    "collapsed": false
   },
   "outputs": [
    {
     "data": {
      "image/png": "[encoded data removed]",
      "text/plain": [
       "<matplotlib.figure.Figure at 0x7faa52833690>"
      ]
     },
     "metadata": {},
     "output_type": "display_data"
    }
   ],
   "source": [
    "eqsys.plot_errors(x, inits_out, NH3)"
   ]
  },
  {
   "cell_type": "code",
   "execution_count": 7,
   "metadata": {
    "collapsed": false,
    "scrolled": false
   },
   "outputs": [
    {
     "data": {
      "text/latex": [
       "$H_2O \\rightleftharpoons H^+ + OH^-$"
      ],
      "text/plain": [
       "<IPython.core.display.Latex object>"
      ]
     },
     "metadata": {},
     "output_type": "display_data"
    },
    {
     "data": {
      "text/latex": [
       "$NH_4^+ \\rightleftharpoons H^+ + NH_3$"
      ],
      "text/plain": [
       "<IPython.core.display.Latex object>"
      ]
     },
     "metadata": {},
     "output_type": "display_data"
    },
    {
     "data": {
      "text/latex": [
       "$Cu(NH_3)^{2+} \\rightleftharpoons Cu^{2+} + NH_3$"
      ],
      "text/plain": [
       "<IPython.core.display.Latex object>"
      ]
     },
     "metadata": {},
     "output_type": "display_data"
    },
    {
     "data": {
      "text/latex": [
       "$Cu(NH_3)_2^{2+} \\rightleftharpoons Cu^{2+} + 2 NH_3$"
      ],
      "text/plain": [
       "<IPython.core.display.Latex object>"
      ]
     },
     "metadata": {},
     "output_type": "display_data"
    },
    {
     "data": {
      "text/latex": [
       "$Cu(NH_3)_3^{2+} \\rightleftharpoons Cu^{2+} + 3 NH_3$"
      ],
      "text/plain": [
       "<IPython.core.display.Latex object>"
      ]
     },
     "metadata": {},
     "output_type": "display_data"
    },
    {
     "data": {
      "text/latex": [
       "$Cu(NH_3)_4^{2+} \\rightleftharpoons Cu^{2+} + 4 NH_3$"
      ],
      "text/plain": [
       "<IPython.core.display.Latex object>"
      ]
     },
     "metadata": {},
     "output_type": "display_data"
    },
    {
     "data": {
      "text/latex": [
       "$Cu(NH_3)_5^{2+} \\rightleftharpoons Cu^{2+} + 5 NH_3$"
      ],
      "text/plain": [
       "<IPython.core.display.Latex object>"
      ]
     },
     "metadata": {},
     "output_type": "display_data"
    },
    {
     "data": {
      "text/latex": [
       "$2 Cu^{2+} + 2 H_2O \\rightleftharpoons 2 H^+ + Cu_2(OH)_2^{2+}$"
      ],
      "text/plain": [
       "<IPython.core.display.Latex object>"
      ]
     },
     "metadata": {},
     "output_type": "display_data"
    },
    {
     "data": {
      "text/latex": [
       "$Cu(OH_2)(s) \\rightleftharpoons Cu^{2+} + 2 OH^-$"
      ],
      "text/plain": [
       "<IPython.core.display.Latex object>"
      ]
     },
     "metadata": {},
     "output_type": "display_data"
    },
    {
     "data": {
      "text/latex": [
       "$OH^- + Cu(OH_2)(s) \\rightleftharpoons Cu(OH)_3^-$"
      ],
      "text/plain": [
       "<IPython.core.display.Latex object>"
      ]
     },
     "metadata": {},
     "output_type": "display_data"
    },
    {
     "data": {
      "text/latex": [
       "$2 OH^- + Cu(OH_2)(s) \\rightleftharpoons Cu(OH)_4^{2-}$"
      ],
      "text/plain": [
       "<IPython.core.display.Latex object>"
      ]
     },
     "metadata": {},
     "output_type": "display_data"
    }
   ],
   "source": [
    "for eq in equilibria:\n",
    "    show(eq.latex())"
   ]
  },
  {
   "cell_type": "code",
   "execution_count": 8,
   "metadata": {
    "collapsed": true
   },
   "outputs": [],
   "source": [
    "reaction_system = EqSystem(equilibria, substances)"
   ]
  },
  {
   "cell_type": "code",
   "execution_count": 9,
   "metadata": {
    "collapsed": false
   },
   "outputs": [],
   "source": [
    "import sympy as sp\n",
    "#sp.init_printing()\n",
    "y = sp.symbols('y:'+str(len(substances)))\n",
    "s = sp.symbols('s')"
   ]
  },
  {
   "cell_type": "markdown",
   "metadata": {},
   "source": [
    "ys = []\n",
    "class LatexSymbol(sp.Symbol):\n",
    "    def _print_latex(self):\n",
    "        return self.name\n",
    "  \n",
    "for sbs in reaction_system.substances:\n",
    "    ys.append(LatexSymbol('[' + sbs.latex_name + ']'))\n",
    "    print(ys[-1].name)\n",
    "ys"
   ]
  },
  {
   "cell_type": "code",
   "execution_count": 10,
   "metadata": {
    "collapsed": false
   },
   "outputs": [
    {
     "data": {
      "text/plain": [
       "[-1.8018018018018e-16*s + y0*y1/y10,\n",
       " -5.49540873857625e-10*s + y0*y3/y2,\n",
       " -19952.6231496888*s + y3*y4/y5,\n",
       " -79432823.4724282*s**2 + y3**2*y4/y6,\n",
       " -63095734448.0194*s**3 + y3**3*y4/y7,\n",
       " -10000000000000.0*s**4 + y3**4*y4/y8,\n",
       " -2511886431509.58*s**5 + y3**5*y4/y9,\n",
       " y0**2*y11/(y10**2*y4**2) - 61459067.4568289/s,\n",
       " -1.58489319246111e-19*s**3/y12 + y1**2*y4/y12,\n",
       " -0.000251188643150958/y12 + y13/(y1*y12),\n",
       " y14/(y1**2*y12) - 0.00199526231496888/(s*y12)]"
      ]
     },
     "execution_count": 10,
     "metadata": {},
     "output_type": "execute_result"
    }
   ],
   "source": [
    "qk = reaction_system.qk(y, scaling=s)\n",
    "qk"
   ]
  },
  {
   "cell_type": "code",
   "execution_count": 11,
   "metadata": {
    "collapsed": false
   },
   "outputs": [
    {
     "data": {
      "text/plain": [
       "y0 - y1 + 2*y11 - y13 - 2*y14 + y2 + 2*y4 + 2*y5 + 2*y6 + 2*y7 + 2*y8 + 2*y9"
      ]
     },
     "execution_count": 11,
     "metadata": {},
     "output_type": "execute_result"
    }
   ],
   "source": [
    "charge_balance(substances, y)"
   ]
  },
  {
   "cell_type": "code",
   "execution_count": 12,
   "metadata": {
    "collapsed": false
   },
   "outputs": [
    {
     "data": {
      "text/plain": [
       "y0 + y1 + 2*y10 + 2*y11 + 2*y12 + 3*y13 + 4*y14 + 4*y2 + 3*y3 + 3*y5 + 6*y6 + 9*y7 + 12*y8 + 15*y9"
      ]
     },
     "execution_count": 12,
     "metadata": {},
     "output_type": "execute_result"
    }
   ],
   "source": [
    "atom_balance(substances, y, 1)"
   ]
  },
  {
   "cell_type": "code",
   "execution_count": 13,
   "metadata": {
    "collapsed": false
   },
   "outputs": [
    {
     "data": {
      "text/plain": [
       "[y0*y1/y10,\n",
       " y0*y3/y2,\n",
       " y3*y4/y5,\n",
       " y3**2*y4/y6,\n",
       " y3**3*y4/y7,\n",
       " y3**4*y4/y8,\n",
       " y3**5*y4/y9,\n",
       " y0**2*y11/(y10**2*y4**2),\n",
       " y1**2*y4/y12,\n",
       " y13/(y1*y12),\n",
       " y14/(y1**2*y12)]"
      ]
     },
     "execution_count": 13,
     "metadata": {},
     "output_type": "execute_result"
    }
   ],
   "source": [
    "reaction_system.equilibrium_quotients(y)"
   ]
  },
  {
   "cell_type": "code",
   "execution_count": 14,
   "metadata": {
    "collapsed": false
   },
   "outputs": [
    {
     "data": {
      "text/plain": [
       "((4, 15),\n",
       " [1, 7, 8, 29],\n",
       " array([[ 1,  1,  4,  3,  0,  3,  6,  9, 12, 15,  2,  2,  2,  3,  4],\n",
       "        [ 0,  0,  1,  1,  0,  1,  2,  3,  4,  5,  0,  0,  0,  0,  0],\n",
       "        [ 0,  1,  0,  0,  0,  0,  0,  0,  0,  0,  1,  2,  2,  3,  4],\n",
       "        [ 0,  0,  0,  0,  1,  1,  1,  1,  1,  1,  0,  2,  1,  1,  1]]),\n",
       " [1, -1, 1, 0, 2, 2, 2, 2, 2, 2, 0, 2, 0, -1, -2])"
      ]
     },
     "execution_count": 14,
     "metadata": {},
     "output_type": "execute_result"
    }
   ],
   "source": [
    "chg_vec = reaction_system.charge_balance_vector()\n",
    "atm_vecs, atm_nrs = reaction_system.atom_balance_vectors()\n",
    "import numpy as np\n",
    "arr = np.array(atm_vecs)\n",
    "arr.shape, atm_nrs, arr, chg_vec"
   ]
  },
  {
   "cell_type": "code",
   "execution_count": 15,
   "metadata": {
    "collapsed": false
   },
   "outputs": [
    {
     "data": {
      "text/plain": [
       "(Matrix([\n",
       " [1, -1, 1, 0, 2, 2, 2, 2,  2,  2, 0, 2, 0, -1, -2],\n",
       " [1,  1, 4, 3, 0, 3, 6, 9, 12, 15, 2, 2, 2,  3,  4],\n",
       " [0,  0, 1, 1, 0, 1, 2, 3,  4,  5, 0, 0, 0,  0,  0],\n",
       " [0,  1, 0, 0, 0, 0, 0, 0,  0,  0, 1, 2, 2,  3,  4],\n",
       " [0,  0, 0, 0, 1, 1, 1, 1,  1,  1, 0, 2, 1,  1,  1]]), Matrix([\n",
       " [1, 0, 0, -1, 0, -1, -2, -3, -4, -5, 1, 0, 0, 0, 0],\n",
       " [0, 1, 0,  0, 0,  0,  0,  0,  0,  0, 1, 2, 2, 3, 4],\n",
       " [0, 0, 1,  1, 0,  1,  2,  3,  4,  5, 0, 0, 0, 0, 0],\n",
       " [0, 0, 0,  0, 1,  1,  1,  1,  1,  1, 0, 2, 1, 1, 1],\n",
       " [0, 0, 0,  0, 0,  0,  0,  0,  0,  0, 0, 0, 0, 0, 0]]), [0, 1, 2, 4])"
      ]
     },
     "execution_count": 15,
     "metadata": {},
     "output_type": "execute_result"
    }
   ],
   "source": [
    "import sympy\n",
    "M = sympy.Matrix([chg_vec] + atm_vecs)\n",
    "rref, pivot = M.rref()\n",
    "M, rref, pivot"
   ]
  },
  {
   "cell_type": "code",
   "execution_count": 16,
   "metadata": {
    "collapsed": false
   },
   "outputs": [
    {
     "data": {
      "text/plain": [
       "([[1, 0, 0, -1, 0, -1, -2, -3, -4, -5, 1, 0, 0, 0, 0],\n",
       "  [0, 1, 0, 0, 0, 0, 0, 0, 0, 0, 1, 2, 2, 3, 4],\n",
       "  [0, 0, 1, 1, 0, 1, 2, 3, 4, 5, 0, 0, 0, 0, 0],\n",
       "  [0, 0, 0, 0, 1, 1, 1, 1, 1, 1, 0, 2, 1, 1, 1]],\n",
       " [0, 1, 2, 4],\n",
       " [0, 1, 7, 29])"
      ]
     },
     "execution_count": 16,
     "metadata": {},
     "output_type": "execute_result"
    }
   ],
   "source": [
    "rref, pivot = reaction_system.rref()\n",
    "rref, pivot, reaction_system.independent_atoms_from_pivot(pivot)"
   ]
  },
  {
   "cell_type": "code",
   "execution_count": 17,
   "metadata": {
    "collapsed": false
   },
   "outputs": [
    {
     "data": {
      "text/plain": [
       "[-1.8018018018018e-16*s + y0*y1/y10,\n",
       " -5.49540873857625e-10*s + y0*y3/y2,\n",
       " -19952.6231496888*s + y3*y4/y5,\n",
       " -79432823.4724282*s**2 + y3**2*y4/y6,\n",
       " -63095734448.0194*s**3 + y3**3*y4/y7,\n",
       " -10000000000000.0*s**4 + y3**4*y4/y8,\n",
       " -2511886431509.58*s**5 + y3**5*y4/y9,\n",
       " y0**2*y11/(y10**2*y4**2) - 61459067.4568289/s,\n",
       " -1.58489319246111e-19*s**3/y12 + y1**2*y4/y12,\n",
       " -0.000251188643150958/y12 + y13/(y1*y12),\n",
       " y14/(y1**2*y12) - 0.00199526231496888/(s*y12)]"
      ]
     },
     "execution_count": 17,
     "metadata": {},
     "output_type": "execute_result"
    }
   ],
   "source": [
    "qk"
   ]
  },
  {
   "cell_type": "code",
   "execution_count": 18,
   "metadata": {
    "collapsed": false
   },
   "outputs": [
    {
     "data": {
      "text/plain": [
       "array([  1.00000000e-07,   1.00000000e-07,   0.00000000e+00,\n",
       "         1.00000000e+00,   1.00000000e-02,   0.00000000e+00,\n",
       "         0.00000000e+00,   0.00000000e+00,   0.00000000e+00,\n",
       "         0.00000000e+00,   5.55000000e+01,   0.00000000e+00,\n",
       "         0.00000000e+00,   0.00000000e+00,   0.00000000e+00])"
      ]
     },
     "execution_count": 18,
     "metadata": {},
     "output_type": "execute_result"
    }
   ],
   "source": [
    "c0arr = np.array([init_conc[k] for k in reaction_system.substances])\n",
    "scaling = 1.0\n",
    "logC = False\n",
    "f, j = reaction_system.num_cb_factory(c0arr*scaling, True, scaling=scaling, logC=logC)\n",
    "c0arr"
   ]
  },
  {
   "cell_type": "code",
   "execution_count": 19,
   "metadata": {
    "collapsed": false
   },
   "outputs": [
    {
     "data": {
      "text/plain": [
       "[3.603622618233721e-26,\n",
       " 10000000001.0,\n",
       " 999999999980048.38,\n",
       " 999999920567177.5,\n",
       " 999936904265553.0,\n",
       " 990000000000001.0,\n",
       " 997488113568491.38,\n",
       " -61459067.4568289,\n",
       " 9.9841510700754004,\n",
       " -25118854315095.801,\n",
       " -99526231516887.984,\n",
       " 0.0,\n",
       " 0.0,\n",
       " 0.0,\n",
       " 1.1449174941446927e-16]"
      ]
     },
     "execution_count": 19,
     "metadata": {},
     "output_type": "execute_result"
    }
   ],
   "source": [
    "x0 = c0arr+1e-17\n",
    "f(np.log(x0) if logC else x0)"
   ]
  },
  {
   "cell_type": "code",
   "execution_count": 20,
   "metadata": {
    "collapsed": false
   },
   "outputs": [
    {
     "data": {
      "text/plain": [
       "[[1.801801801981982e-09, 1.801801801981982e-09, 0.0, 0.0],\n",
       " [1e+17, 0.0, -1.0000000000999999e+27, 10000000001.0],\n",
       " [0.0, 0.0, 0.0, 1000000000000001.0],\n",
       " [0.0, 0.0, 0.0, 2000000000000002.0],\n",
       " [0.0, 0.0, 0.0, 3000000000000003.0],\n",
       " [0.0, 0.0, 0.0, 4000000000000004.0],\n",
       " [0.0, 0.0, 0.0, 5000000000000005.0]]"
      ]
     },
     "execution_count": 20,
     "metadata": {},
     "output_type": "execute_result"
    },
    {
     "data": {
      "image/png": "[encoded data removed]",
      "text/plain": [
       "<matplotlib.figure.Figure at 0x7f2870ee2e50>"
      ]
     },
     "metadata": {},
     "output_type": "display_data"
    }
   ],
   "source": [
    "import matplotlib.pyplot as plt\n",
    "%matplotlib inline\n",
    "jmat = j(np.log(x0) if logC else x0)\n",
    "plt.imshow(jmat, cmap='binary', interpolation='None')\n",
    "jmat[:7, :4].tolist()"
   ]
  },
  {
   "cell_type": "code",
   "execution_count": 21,
   "metadata": {
    "collapsed": false
   },
   "outputs": [
    {
     "data": {
      "text/plain": [
       "15"
      ]
     },
     "execution_count": 21,
     "metadata": {},
     "output_type": "execute_result"
    }
   ],
   "source": [
    "len(substances)"
   ]
  },
  {
   "cell_type": "code",
   "execution_count": 22,
   "metadata": {
    "collapsed": false
   },
   "outputs": [
    {
     "data": {
      "text/plain": [
       "  status: 1\n",
       " success: True\n",
       "     qtf: array([ -1.80115885e+03,   2.16393943e+01,  -8.10622018e+04,\n",
       "         5.63927187e+12,  -8.62075028e+12,   2.00479626e+08,\n",
       "         7.03406415e+08,   8.62981176e+10,   9.06405256e+05,\n",
       "        -3.17536302e+05,  -1.08466885e+05,  -1.16791751e+05,\n",
       "         5.79285219e+04,   4.87840290e+04,   6.14585183e+07])\n",
       "    nfev: 4\n",
       "       r: array([  5.00816365e+01,  -1.65645006e-02,   9.08269205e+01,\n",
       "        -1.83396602e+00,   1.61553868e-09,  -1.99673986e-02,\n",
       "        -3.99347972e-02,  -5.99021958e-02,  -7.98695944e-02,\n",
       "        -9.98369931e-02,   1.32410958e-02,   1.31224758e-08,\n",
       "         0.00000000e+00,   0.00000000e+00,   0.00000000e+00,\n",
       "        -6.54109335e+01,  -2.30007813e-02,   4.64428949e-04,\n",
       "        -2.04853332e-01,   5.05649389e-06,   1.01129878e-05,\n",
       "         1.51694817e-05,   2.02259755e-05,   2.52824694e-05,\n",
       "        -4.12015917e-02,  -3.05759281e-02,  -1.04662749e+01,\n",
       "        -5.09319930e-02,   3.90207014e-02,  -2.19832695e+00,\n",
       "        -1.24505219e+00,   2.14341793e-03,  -1.27987215e+00,\n",
       "        -2.55974430e+00,  -3.83961645e+00,  -5.11948860e+00,\n",
       "        -6.39936075e+00,   5.47505287e-01,   3.20453747e-04,\n",
       "         1.09507141e-01,   5.32894177e-04,  -4.08268032e-04,\n",
       "         8.21073883e+08,   1.47767902e+08,   5.30595604e-02,\n",
       "        -1.64760040e-01,  -2.32212279e+02,  -1.89948753e+09,\n",
       "         3.28728301e+08,  -3.58097480e-10,   5.03250756e-13,\n",
       "         1.71973496e-10,   8.36873963e-13,  -6.41157101e-13,\n",
       "        -1.11506952e+07,  -2.72040360e+00,   3.13199365e+00,\n",
       "         1.91706336e+03,   5.46817366e+09,   1.14190351e+08,\n",
       "        -3.88328541e-09,  -1.78792564e-07,  -8.95315822e-08,\n",
       "        -8.87336250e-08,  -9.04059451e-08,  -1.18478958e+05,\n",
       "        -8.65308593e-05,  -4.41394137e-02,  -1.26405781e+05,\n",
       "        -2.47471510e+03,   2.52364342e-06,  -1.68840935e-05,\n",
       "        -9.62371578e-06,  -8.44607405e-06,  -8.43590324e-06,\n",
       "         3.56845032e+04,  -1.69242104e-01,  -4.88706393e+05,\n",
       "        -8.50459265e+03,  -1.67578977e-05,   5.60697493e-05,\n",
       "         3.58815813e-05,   2.80616171e-05,   2.79940797e-05,\n",
       "         7.68963813e+05,  -1.42060258e+07,  -1.85412356e+05,\n",
       "        -1.16649346e-06,   2.60296044e-06,   1.84768319e-06,\n",
       "         1.30334009e-06,   1.29864303e-06,  -5.22567324e+02,\n",
       "        -1.17048875e+01,   9.72820505e-03,  -1.99384167e+00,\n",
       "        -1.02193346e+00,  -9.90067131e-01,  -1.00736339e+00,\n",
       "         2.36132024e+00,  -4.96557474e-01,  -7.33713633e-04,\n",
       "         2.24645530e-01,   2.72821504e-03,  -5.08408477e-03,\n",
       "        -1.46284320e+00,  -1.37922889e+00,  -1.11447903e+00,\n",
       "        -2.05667706e+00,  -2.74062630e+00,   1.45649843e+00,\n",
       "         1.44553432e+00,   2.18865942e+00,   2.89235835e+00,\n",
       "         1.70445149e+00,  -6.38066126e-02,   1.29400647e+00,\n",
       "         7.96947270e-01,   1.50875344e-01,  -6.51195767e-04])\n",
       "     fun: array([ -1.29823406e+00,   1.60080725e+02,   1.24892466e+04,\n",
       "        -7.92655890e+07,  -6.31030263e+10,  -9.99405738e+12,\n",
       "        -2.49820047e+12,  -6.14590675e+07,  -2.07042724e+01,\n",
       "        -2.63005735e-01,  -1.65189307e+00,  -1.16496538e+02,\n",
       "        -4.24996393e+01,   6.39965368e+01,  -6.29118014e+01])\n",
       "       x: array([   3.19713815,   -0.63545859,   -1.7620717 ,  -88.2269396 ,\n",
       "       -100.68605011,    0.27381967,   -4.68647202,   -9.48272045,\n",
       "         -1.02658783,   39.32783702,    1.56493268,    6.19784754,\n",
       "          1.96373934,    0.32803867,   -1.30910075])\n",
       " message: 'The solution converged.'\n",
       "    fjac: array([[ -8.10798325e-03,   9.99767754e-01,   0.00000000e+00,\n",
       "          0.00000000e+00,   0.00000000e+00,   0.00000000e+00,\n",
       "          0.00000000e+00,   3.18730315e-05,   0.00000000e+00,\n",
       "          0.00000000e+00,   0.00000000e+00,   1.99673986e-02,\n",
       "          0.00000000e+00,   0.00000000e+00,   0.00000000e+00],\n",
       "       [ -3.12310513e-02,  -2.53178676e-04,   0.00000000e+00,\n",
       "          0.00000000e+00,   0.00000000e+00,   0.00000000e+00,\n",
       "          0.00000000e+00,  -8.07144646e-09,  -9.96213360e-01,\n",
       "          6.32435652e-03,   7.94341246e-02,  -5.05649389e-06,\n",
       "         -1.52879641e-02,   0.00000000e+00,   0.00000000e+00],\n",
       "       [ -3.34665783e-01,  -1.91906832e-02,   0.00000000e+00,\n",
       "          0.00000000e+00,   0.00000000e+00,   0.00000000e+00,\n",
       "          0.00000000e+00,   1.31687849e-03,   1.04232383e-02,\n",
       "         -6.61708400e-05,  -8.31107914e-04,   8.24980761e-01,\n",
       "          1.59955787e-04,  -4.54891389e-01,   0.00000000e+00],\n",
       "       [ -5.25569790e-10,  -5.81337191e-12,  -4.47839522e-07,\n",
       "         -4.61713140e-06,   3.01979811e-04,  -3.28136514e-01,\n",
       "         -9.44630265e-01,   2.06806787e-12,   1.63689848e-11,\n",
       "         -1.03916792e-13,  -1.30519830e-12,   7.76588299e-11,\n",
       "          2.51199655e-13,   5.28133325e-10,   0.00000000e+00],\n",
       "       [ -6.45537230e-09,  -7.60757334e-11,   2.29610688e-05,\n",
       "          8.77690157e-05,  -2.49303970e-03,   9.44627121e-01,\n",
       "         -3.28136219e-01,   2.31135030e-11,   7.95279216e-11,\n",
       "         -1.17576786e-10,  -1.47676827e-09,   1.18780009e-09,\n",
       "          2.84220168e-10,   6.91132971e-09,  -8.96805071e-08],\n",
       "       [  3.61660144e-06,   3.88158261e-08,   1.00000000e+00,\n",
       "         -2.01733820e-09,   5.73780964e-08,  -2.18366015e-05,\n",
       "          7.11131579e-06,  -1.42309877e-08,  -1.12639832e-07,\n",
       "          7.15084902e-10,   8.98148975e-09,  -4.74924849e-07,\n",
       "         -1.72858571e-09,  -3.52634093e-06,  -8.44031525e-06],\n",
       "       [ -2.40155308e-05,  -2.57751006e-07,   4.07548075e-10,\n",
       "          9.99999995e-01,   2.20205916e-07,  -8.44240403e-05,\n",
       "          2.44387103e-05,   9.44988632e-08,   7.47968916e-07,\n",
       "         -4.74839230e-09,  -5.96399626e-08,   3.15367126e-06,\n",
       "          1.14783616e-08,   2.34161685e-05,   2.80233768e-05],\n",
       "       [ -1.67168479e-06,  -1.79416410e-08,   2.28829370e-11,\n",
       "         -1.15499958e-10,  -9.99996847e-01,  -2.45409128e-03,\n",
       "          5.32799039e-04,   6.57792869e-09,   5.20652876e-08,\n",
       "         -3.30239178e-10,  -4.14781486e-09,   2.19521445e-07,\n",
       "          7.98292230e-10,   1.62996255e-06,   1.30068057e-06],\n",
       "       [  4.67033128e-03,  -2.03227878e-05,  -8.44815168e-06,\n",
       "          2.80793034e-05,  -1.30443149e-06,  -9.01000532e-08,\n",
       "          3.07465137e-08,  -4.23169497e-05,  -1.41712205e-03,\n",
       "         -1.21605851e-03,  -1.52737346e-02,   2.91406936e-03,\n",
       "          2.93959689e-03,   1.84628502e-03,  -9.99860425e-01],\n",
       "       [ -7.12788722e-01,  -7.64684278e-03,   5.06054503e-06,\n",
       "         -3.36513408e-05,   2.34352898e-06,  -4.15180138e-10,\n",
       "          1.84858309e-09,   2.79672444e-03,   2.17732821e-02,\n",
       "         -5.49263917e-04,  -6.89877275e-03,   9.34372430e-02,\n",
       "          1.32774409e-03,   6.94700522e-01,  -1.69517663e-03],\n",
       "       [ -4.49565046e-01,   4.46961831e-03,  -4.88046045e-08,\n",
       "          1.53870266e-07,  -6.76134923e-09,   8.47808035e-13,\n",
       "         -1.32650073e-11,   1.77284809e-03,   2.45596261e-02,\n",
       "         -2.45353726e-05,  -3.08165082e-04,  -4.06347506e-01,\n",
       "         -6.83540956e-01,  -4.06055971e-01,  -6.07385337e-03],\n",
       "       [ -4.20262623e-01,   4.19972379e-03,  -1.63261545e-08,\n",
       "          7.10496507e-08,  -4.07877104e-09,   6.45653757e-13,\n",
       "         -1.24672663e-11,   1.90465751e-03,   4.12163828e-04,\n",
       "         -1.55542683e-03,  -1.95362119e-02,  -3.80935523e-01,\n",
       "          7.29582065e-01,  -3.81536589e-01,  -1.33324005e-03],\n",
       "       [ -1.10614352e-02,   3.47271802e-05,  -1.04051981e-07,\n",
       "          2.59326844e-07,  -8.03667136e-09,   5.36545702e-13,\n",
       "         -9.16318375e-14,  -9.34760894e-04,   7.97564892e-02,\n",
       "          1.18062919e-01,   9.89471383e-01,  -6.22891622e-03,\n",
       "          1.54021834e-02,  -3.15489554e-03,  -1.54019910e-02],\n",
       "       [ -4.36537970e-04,   1.36177904e-06,  -4.07756808e-09,\n",
       "          1.01624546e-08,  -3.14940063e-10,   2.10261628e-14,\n",
       "         -3.59351332e-15,  -7.93457000e-04,   3.12566521e-03,\n",
       "         -9.92983631e-01,   1.18203699e-01,  -2.44178800e-04,\n",
       "          6.03733227e-04,  -1.23714929e-04,  -6.03569890e-04],\n",
       "       [ -4.02146020e-03,   1.09803850e-06,   2.62345414e-10,\n",
       "         -6.45256813e-10,   1.94661634e-11,  -1.19436078e-15,\n",
       "         -3.28896587e-15,  -9.99991084e-01,   4.19805810e-05,\n",
       "          6.72957291e-04,  -1.07621716e-03,  -9.16978809e-05,\n",
       "          1.66714481e-04,  -9.97546233e-05,   3.91391537e-05]])\n",
       "    njev: 2"
      ]
     },
     "execution_count": 22,
     "metadata": {},
     "output_type": "execute_result"
    }
   ],
   "source": [
    "from scipy.optimize import root\n",
    "x0 = [1]*len(substances)\n",
    "root(f, x0, jac=j)"
   ]
  },
  {
   "cell_type": "code",
   "execution_count": 23,
   "metadata": {
    "collapsed": false
   },
   "outputs": [
    {
     "name": "stderr",
     "output_type": "stream",
     "text": [
      "aqchem/equilibria.py:23: RuntimeWarning: divide by zero encountered in double_scalars\n",
      "  tot *= conc**nr\n",
      "/usr/local/lib/python2.7/dist-packages/scipy/optimize/minpack.py:237: RuntimeWarning: The iteration is not making good progress, as measured by the \n",
      "  improvement from the last ten iterations.\n",
      "  warnings.warn(msg, RuntimeWarning)\n"
     ]
    },
    {
     "data": {
      "text/plain": [
       "(None,\n",
       "   status: 5\n",
       " success: False\n",
       "     qtf: array([ -3.25091247e+08,   2.55208735e+12,  -4.51184261e+07,\n",
       "         1.05254776e+11,   1.76961872e+12,   3.86543415e+07,\n",
       "         1.06408771e+11,  -9.82935450e+12,  -2.20067404e+08,\n",
       "        -1.86186966e+04,  -7.92400745e+04,   1.18708443e+05,\n",
       "         6.14451594e+07,   1.29470178e+06,   5.57507332e+03])\n",
       "    nfev: 11\n",
       "       r: array([ -1.79487046e+02,  -4.14603306e+15,   9.62999327e+01,\n",
       "        -7.86090447e+11,  -1.25389677e+14,   1.13977450e+04,\n",
       "         7.24448306e+14,   7.46554830e+20,   1.19114282e+23,\n",
       "         2.97473602e+22,  -5.57143257e-03,  -1.04258769e-06,\n",
       "        -7.26536818e+14,  -2.71642490e+09,   3.18837322e+23,\n",
       "         3.26012002e+19,   1.22523040e-02,   6.17146790e+15,\n",
       "         9.84413901e+17,  -8.94830010e+07,  -5.68760259e+18,\n",
       "        -5.86108223e+24,  -9.35146807e+26,  -2.33541675e+26,\n",
       "        -1.93188930e-06,   7.97383117e-03,   5.70596082e+18,\n",
       "         2.13261285e+13,  -2.50352481e+27,  -1.13484629e+00,\n",
       "        -1.05156580e+11,  -1.67736318e+13,   1.51124572e+03,\n",
       "         9.60782689e+13,   9.98460337e+19,   1.59340870e+22,\n",
       "         3.97933141e+21,  -4.72776454e-01,  -2.42033515e-06,\n",
       "        -7.51786680e+13,  -3.64248127e+08,   3.84948219e+22,\n",
       "         2.45172882e+14,   3.91077726e+16,  -3.52442882e+06,\n",
       "        -2.24007118e+17,  -2.32791339e+23,  -3.71503714e+25,\n",
       "        -9.27782309e+24,  -2.02854293e-04,   3.16774087e-04,\n",
       "         1.75279289e+17,   8.49245815e+11,  -8.97507924e+25,\n",
       "        -2.34423443e+11,   1.45549007e+06,   6.37611646e+16,\n",
       "         9.19584983e+20,  -4.74347405e+20,  -1.76737710e+20,\n",
       "        -4.30168258e-09,   5.42242591e-09,   2.40144514e+13,\n",
       "        -6.76409322e+10,  -3.06139838e+21,  -6.68916927e+10,\n",
       "         1.38783514e+12,   2.00337754e+16,  -8.80489481e+15,\n",
       "        -3.46826292e+15,   1.77501471e-11,  -2.97938492e-11,\n",
       "         4.69024897e+08,  -1.52953111e+06,  -6.06001163e+16,\n",
       "        -1.06573834e+18,   5.51678164e+19,  -1.62436939e+19,\n",
       "        -7.56047998e+18,  -1.91381364e-10,   2.21697364e-10,\n",
       "         9.86073375e+11,  -4.27786591e+09,  -1.26247407e+20,\n",
       "         1.70571572e+20,  -3.15619799e+20,   1.53563590e+20,\n",
       "         7.70621869e-09,  -5.11041479e-09,  -2.16659253e+13,\n",
       "         4.03817483e+11,   2.27319160e+21,  -5.47544730e+15,\n",
       "         3.65226605e+15,  -1.49617751e-04,  -1.92086610e-06,\n",
       "        -3.47633116e+11,  -1.85831879e+16,   4.35325711e+18,\n",
       "        -3.60607908e+11,   8.81161674e-01,   4.40236932e-03,\n",
       "        -5.88951777e+07,  -3.15537594e+12,   7.23819612e+14,\n",
       "        -1.00000271e+00,  -1.99611431e+00,  -4.04352754e+02,\n",
       "        -2.15672377e+07,   4.49732833e+09,  -2.00387374e+00,\n",
       "         2.03638356e+05,   1.09027496e+10,  -2.51743099e+12,\n",
       "         2.20949268e+03,   1.25585861e+08,   1.22957970e+11,\n",
       "         7.84633651e+03,   8.48698393e+07,   3.37753719e+05])\n",
       "     fun: array([  7.40044887e-14,   5.59565889e-01,  -9.94998639e+03,\n",
       "        -3.93388088e+07,  -6.19003428e+10,  -9.99880414e+12,\n",
       "        -2.51065559e+12,  -6.14590675e+07,   7.68947972e-13,\n",
       "         1.24120662e+04,   2.10504721e+09,   1.11671326e-04,\n",
       "        -2.37696744e-03,  -1.09551075e-04,  -2.37832225e-03])\n",
       "       x: array([ -1.64872523e-03,  -2.49743906e-09,  -2.95481534e-03,\n",
       "         1.00284380e+00,   1.46027514e-02,   1.46404184e-06,\n",
       "         3.66287193e-10,   1.23203872e-11,   1.23505536e-11,\n",
       "         1.20336951e-11,   5.55046058e+01,  -3.49122522e-03,\n",
       "        -8.76639424e-08,   2.09011178e-12,  -1.15098044e-15])\n",
       " message: 'The iteration is not making good progress, as measured by the \\n  improvement from the last ten iterations.'\n",
       "    fjac: array([[ -2.01838544e-13,  -9.99984471e-01,  -1.30943691e-14,\n",
       "         -3.12855794e-09,   2.15432781e-06,   5.46596134e-07,\n",
       "          1.27255152e-04,  -2.07252403e-05,   7.75354425e-27,\n",
       "          2.99766303e-17,   4.31249749e-12,  -5.57143273e-03,\n",
       "         -4.80389396e-24,  -2.61928957e-21,   7.77829924e-23],\n",
       "       [ -2.03426702e-17,  -1.27172271e-04,   1.19400780e-10,\n",
       "          2.47121796e-05,  -1.69064758e-02,  -4.28349691e-03,\n",
       "         -9.99059593e-01,  -2.63571702e-09,  -1.20692230e-20,\n",
       "         -5.14416184e-09,  -3.96955244e-02,  -7.08542759e-07,\n",
       "          5.36251012e-19,   5.42158199e-16,  -8.20683403e-18],\n",
       "       [ -1.71283145e-11,   2.63412173e-03,   1.77485966e-13,\n",
       "          1.20528503e-09,   3.61618582e-07,   1.56697323e-07,\n",
       "          1.70215237e-05,  -1.75868688e-03,  -1.29645540e-22,\n",
       "         -5.55336170e-11,  -4.28569768e-04,  -4.72776455e-01,\n",
       "          5.38174232e-21,  -8.81176605e-01,  -8.20006667e-20],\n",
       "       [ -7.47904720e-15,  -3.92235276e-06,  -3.72893090e-10,\n",
       "         -2.48355363e-06,  -8.29044913e-04,  -3.46247199e-04,\n",
       "         -3.96860536e-02,  -7.54419359e-07,   3.02272761e-19,\n",
       "          1.29488400e-07,   9.99211702e-01,  -2.02805694e-04,\n",
       "         -1.25476941e-17,  -3.77943587e-04,   1.91187189e-16],\n",
       "       [  5.17161267e-16,  -6.27874800e-11,  -2.17736335e-05,\n",
       "         -5.97800802e-02,  -9.82550853e-01,  -1.75265251e-01,\n",
       "          1.73844605e-02,  -1.34802372e-11,  -1.19281674e-18,\n",
       "         -3.63953816e-06,  -1.85638066e-04,  -4.30084529e-09,\n",
       "          4.60700233e-17,  -6.06260738e-09,  -4.26653968e-12],\n",
       "       [  1.20209170e-21,  -1.00579150e-13,   1.00000000e+00,\n",
       "         -1.30103668e-06,  -2.13913507e-05,  -3.82953430e-06,\n",
       "          3.78645030e-07,   1.04729254e-14,  -2.69729378e-23,\n",
       "         -8.23003169e-11,  -3.66665763e-09,   1.77501580e-11,\n",
       "          1.04177508e-21,  -9.68626980e-12,  -1.49496323e-11],\n",
       "       [  3.27749609e-17,  -2.48320083e-12,  -5.94677576e-10,\n",
       "          9.98211570e-01,  -5.88322528e-02,  -1.05494814e-02,\n",
       "          1.06580893e-03,  -5.61270097e-13,  -7.54427136e-20,\n",
       "         -2.30186086e-07,  -7.65648164e-06,  -1.91347069e-10,\n",
       "          2.91382431e-18,  -2.39786735e-10,  -2.55282208e-13],\n",
       "       [ -3.08823178e-15,   3.94323972e-11,   1.35781311e-08,\n",
       "          5.41910109e-05,  -1.75630493e-01,   9.84455348e-01,\n",
       "         -1.25457632e-03,   1.50823125e-11,   7.12217409e-18,\n",
       "          2.17298505e-05,   1.45585056e-04,   7.70542403e-09,\n",
       "         -2.75082635e-16,   3.81230327e-09,   2.30865006e-11],\n",
       "       [  1.42121131e-10,   8.33600242e-07,  -2.75578578e-12,\n",
       "         -1.10254175e-08,  -2.26871040e-07,   2.20323582e-05,\n",
       "         -9.07780606e-08,  -9.60573005e-08,  -3.27792104e-13,\n",
       "         -9.99999985e-01,   1.33431488e-07,  -1.49617764e-04,\n",
       "          1.26548168e-11,   8.02768938e-05,  -9.60383252e-07],\n",
       "       [ -1.03579888e-09,  -4.90941999e-03,  -2.02085338e-11,\n",
       "         -2.19766976e-12,  -7.29031376e-11,  -1.33101049e-09,\n",
       "          6.94991219e-12,   5.19243305e-04,   2.52622756e-12,\n",
       "         -1.69797341e-04,   2.17342348e-11,   8.81161675e-01,\n",
       "         -8.64537944e-11,  -4.72784156e-01,   2.20084751e-03],\n",
       "       [ -9.04624094e-10,   3.49296901e-09,   2.90776999e-14,\n",
       "         -1.39922080e-17,  -4.05622805e-16,   1.17832208e-15,\n",
       "          1.80648806e-18,   1.28931447e-03,   2.22611596e-12,\n",
       "         -1.16057775e-09,   1.29501914e-16,  -5.42306953e-06,\n",
       "         -9.99997288e-01,   3.36377904e-07,   1.93929736e-03],\n",
       "       [  8.98845908e-10,  -1.07786983e-05,  -1.49939916e-11,\n",
       "          7.25082513e-15,   2.10168037e-13,  -6.10692575e-13,\n",
       "         -9.35566630e-16,  -1.93140480e-03,  -2.21194746e-12,\n",
       "          5.86699630e-07,  -7.59547589e-14,   1.94179133e-03,\n",
       "         -1.94179172e-03,  -1.03800404e-03,  -9.99993825e-01],\n",
       "       [  2.10663145e-02,   1.35610146e-05,   2.92332885e-14,\n",
       "         -6.76304107e-17,  -1.89125615e-15,   5.80564335e-15,\n",
       "          7.46152501e-18,  -9.99773703e-01,  -4.83144176e-05,\n",
       "          6.75803635e-09,   5.49735816e-15,   1.28508170e-03,\n",
       "         -1.28528094e-03,   1.30594507e-03,   1.93461508e-03],\n",
       "       [ -9.99776057e-01,   2.85747346e-07,   6.15434588e-16,\n",
       "         -1.36515928e-18,  -3.96818749e-17,   1.23445276e-16,\n",
       "          1.49584855e-19,  -2.10660824e-02,  -2.01310833e-03,\n",
       "          4.22134858e-13,   2.53892171e-18,   2.70768616e-05,\n",
       "         -2.70810598e-05,   2.75178775e-05,   4.07630824e-05],\n",
       "       [ -2.01164378e-03,   1.23044776e-09,   2.65148189e-18,\n",
       "         -5.96073633e-21,  -1.70908598e-19,   5.33017017e-19,\n",
       "          6.38484792e-22,  -9.07119740e-05,   9.99997973e-01,\n",
       "         -1.19828372e-18,   1.04591722e-20,   1.16594644e-07,\n",
       "         -1.16612722e-07,   1.18493876e-07,   1.75528436e-07]])\n",
       "    njev: 2)"
      ]
     },
     "execution_count": 23,
     "metadata": {},
     "output_type": "execute_result"
    }
   ],
   "source": [
    "reaction_system.root(init_conc, scaling=scaling, logC=logC, delta=1e-15)"
   ]
  },
  {
   "cell_type": "code",
   "execution_count": 36,
   "metadata": {
    "collapsed": false
   },
   "outputs": [
    {
     "name": "stdout",
     "output_type": "stream",
     "text": [
      "[i_0 i_1 i_2 i_3 i_4 i_5 i_6 i_7 i_8 i_9 i_10 i_11 i_12 i_13 i_14]\n"
     ]
    },
    {
     "data": {
      "text/plain": [
       "([-1.8018018018018e-16*s + (i_1*s + i_10*s + 2*i_11*s + 2*i_12*s + 3*i_13*s + 4*i_14*s - y10 - 2*y11 - 2*y12 - 3*y13 - 4*y14)*(i_0*s + i_10*s - i_3*s - i_5*s - 2*i_6*s - 3*i_7*s - 4*i_8*s - 5*i_9*s - y10 + y3 + y5 + 2*y6 + 3*y7 + 4*y8 + 5*y9)/y10,\n",
       "  -5.49540873857625e-10*s + y3*(i_0*s + i_10*s - i_3*s - i_5*s - 2*i_6*s - 3*i_7*s - 4*i_8*s - 5*i_9*s - y10 + y3 + y5 + 2*y6 + 3*y7 + 4*y8 + 5*y9)/(i_2*s + i_3*s + i_5*s + 2*i_6*s + 3*i_7*s + 4*i_8*s + 5*i_9*s - y3 - y5 - 2*y6 - 3*y7 - 4*y8 - 5*y9),\n",
       "  -19952.6231496888*s + y3*(2*i_11*s + i_12*s + i_13*s + i_14*s + i_4*s + i_5*s + i_6*s + i_7*s + i_8*s + i_9*s - 2*y11 - y12 - y13 - y14 - y5 - y6 - y7 - y8 - y9)/y5,\n",
       "  -79432823.4724282*s**2 + y3**2*(2*i_11*s + i_12*s + i_13*s + i_14*s + i_4*s + i_5*s + i_6*s + i_7*s + i_8*s + i_9*s - 2*y11 - y12 - y13 - y14 - y5 - y6 - y7 - y8 - y9)/y6,\n",
       "  -63095734448.0194*s**3 + y3**3*(2*i_11*s + i_12*s + i_13*s + i_14*s + i_4*s + i_5*s + i_6*s + i_7*s + i_8*s + i_9*s - 2*y11 - y12 - y13 - y14 - y5 - y6 - y7 - y8 - y9)/y7,\n",
       "  -10000000000000.0*s**4 + y3**4*(2*i_11*s + i_12*s + i_13*s + i_14*s + i_4*s + i_5*s + i_6*s + i_7*s + i_8*s + i_9*s - 2*y11 - y12 - y13 - y14 - y5 - y6 - y7 - y8 - y9)/y8,\n",
       "  -2511886431509.58*s**5 + y3**5*(2*i_11*s + i_12*s + i_13*s + i_14*s + i_4*s + i_5*s + i_6*s + i_7*s + i_8*s + i_9*s - 2*y11 - y12 - y13 - y14 - y5 - y6 - y7 - y8 - y9)/y9,\n",
       "  y11*(i_0*s + i_10*s - i_3*s - i_5*s - 2*i_6*s - 3*i_7*s - 4*i_8*s - 5*i_9*s - y10 + y3 + y5 + 2*y6 + 3*y7 + 4*y8 + 5*y9)**2/(y10**2*(2*i_11*s + i_12*s + i_13*s + i_14*s + i_4*s + i_5*s + i_6*s + i_7*s + i_8*s + i_9*s - 2*y11 - y12 - y13 - y14 - y5 - y6 - y7 - y8 - y9)**2) - 61459067.4568289/s,\n",
       "  -1.58489319246111e-19*s**3/y12 + (i_1*s + i_10*s + 2*i_11*s + 2*i_12*s + 3*i_13*s + 4*i_14*s - y10 - 2*y11 - 2*y12 - 3*y13 - 4*y14)**2*(2*i_11*s + i_12*s + i_13*s + i_14*s + i_4*s + i_5*s + i_6*s + i_7*s + i_8*s + i_9*s - 2*y11 - y12 - y13 - y14 - y5 - y6 - y7 - y8 - y9)/y12,\n",
       "  y13/(y12*(i_1*s + i_10*s + 2*i_11*s + 2*i_12*s + 3*i_13*s + 4*i_14*s - y10 - 2*y11 - 2*y12 - 3*y13 - 4*y14)) - 0.000251188643150958/y12,\n",
       "  y14/(y12*(i_1*s + i_10*s + 2*i_11*s + 2*i_12*s + 3*i_13*s + 4*i_14*s - y10 - 2*y11 - 2*y12 - 3*y13 - 4*y14)**2) - 0.00199526231496888/(s*y12)],\n",
       " [0, 1, 2, 4],\n",
       " [<function numpy.<lambda>>,\n",
       "  <function numpy.<lambda>>,\n",
       "  <function numpy.<lambda>>,\n",
       "  <function numpy.<lambda>>])"
      ]
     },
     "execution_count": 36,
     "metadata": {},
     "output_type": "execute_result"
    }
   ],
   "source": [
    "i = sp.symarray('i', len(y))\n",
    "print(i)\n",
    "reaction_system.f(y, i, scaling=s, reduced=True)"
   ]
  },
  {
   "cell_type": "code",
   "execution_count": 37,
   "metadata": {
    "collapsed": false
   },
   "outputs": [
    {
     "name": "stdout",
     "output_type": "stream",
     "text": [
      "[0, 1, 2, 4]\n"
     ]
    }
   ],
   "source": [
    "f_elim, j_elim, elim, elm_cbs = reaction_system.num_cb_factory(c0arr*scaling, True, scaling=scaling, logC=logC, reduced=True)\n",
    "print(elim)"
   ]
  },
  {
   "cell_type": "code",
   "execution_count": 38,
   "metadata": {
    "collapsed": false
   },
   "outputs": [
    {
     "data": {
      "text/plain": [
       "[5.5468955441440531e-22,\n",
       " -62507.525329639,\n",
       " 99999980037.386826,\n",
       " 99920567166.547546,\n",
       " 36904265542.010567,\n",
       " -9900000000009.9609,\n",
       " -2411886431519.5303,\n",
       " -61459067.4568289,\n",
       " 0.00099839125598603028,\n",
       " -2501886312.2538395,\n",
       " 99982432505888.438]"
      ]
     },
     "execution_count": 38,
     "metadata": {},
     "output_type": "execute_result"
    }
   ],
   "source": [
    "c0arr_elim = np.array([x for idx, x in enumerate(c0arr) if idx not in elim]) + 1e-13\n",
    "x0elim = np.log(c0arr_elim) if logC else c0arr_elim\n",
    "f_elim(x0elim)"
   ]
  },
  {
   "cell_type": "code",
   "execution_count": 39,
   "metadata": {
    "collapsed": false
   },
   "outputs": [
    {
     "data": {
      "text/plain": [
       "array([  1.00000000e+00,   1.00000000e-13,   1.00000000e-13,\n",
       "         1.00000000e-13,   1.00000000e-13,   1.00000000e-13,\n",
       "         5.55000000e+01,   1.00000000e-13,   1.00000000e-13,\n",
       "         1.00000000e-13,   1.00000000e-13])"
      ]
     },
     "execution_count": 39,
     "metadata": {},
     "output_type": "execute_result"
    },
    {
     "data": {
      "image/png": "[encoded data removed]",
      "text/plain": [
       "<matplotlib.figure.Figure at 0x7f28643b5690>"
      ]
     },
     "metadata": {},
     "output_type": "display_data"
    }
   ],
   "source": [
    "jmat = j_elim(x0elim)\n",
    "plt.imshow(jmat, cmap='binary', interpolation='None')\n",
    "x0elim"
   ]
  },
  {
   "cell_type": "code",
   "execution_count": 40,
   "metadata": {
    "collapsed": false
   },
   "outputs": [
    {
     "data": {
      "text/plain": [
       "matrix([[  1.80178031e-09,   1.80178031e-09,   3.60356063e-09,\n",
       "           5.40534094e-09,   7.20712126e-09,   9.00890157e-09,\n",
       "          -3.60360915e-09,  -3.60365767e-09,  -3.60365767e-09,\n",
       "          -5.40548651e-09,  -7.20731535e-09],\n",
       "        [  3.90706959e+16,   3.90706959e+16,   7.81413919e+16,\n",
       "           1.17212088e+17,   1.56282784e+17,   1.95353480e+17,\n",
       "           6.25065875e+11,   0.00000000e+00,   0.00000000e+00,\n",
       "           0.00000000e+00,   0.00000000e+00],\n",
       "        [  1.00000000e+11,  -1.00000000e+24,  -1.00000000e+13,\n",
       "          -1.00000000e+13,  -1.00000000e+13,  -1.00000000e+13,\n",
       "           0.00000000e+00,  -2.00000000e+13,  -1.00000000e+13,\n",
       "          -1.00000000e+13,  -1.00000000e+13],\n",
       "        [  2.00000000e+11,  -1.00000000e+13,  -1.00000000e+24,\n",
       "          -1.00000000e+13,  -1.00000000e+13,  -1.00000000e+13,\n",
       "           0.00000000e+00,  -2.00000000e+13,  -1.00000000e+13,\n",
       "          -1.00000000e+13,  -1.00000000e+13],\n",
       "        [  3.00000000e+11,  -1.00000000e+13,  -1.00000000e+13,\n",
       "          -1.00000000e+24,  -1.00000000e+13,  -1.00000000e+13,\n",
       "           0.00000000e+00,  -2.00000000e+13,  -1.00000000e+13,\n",
       "          -1.00000000e+13,  -1.00000000e+13],\n",
       "        [  4.00000000e+11,  -1.00000000e+13,  -1.00000000e+13,\n",
       "          -1.00000000e+13,  -1.00000000e+24,  -1.00000000e+13,\n",
       "           0.00000000e+00,  -2.00000000e+13,  -1.00000000e+13,\n",
       "          -1.00000000e+13,  -1.00000000e+13],\n",
       "        [  5.00000000e+11,  -1.00000000e+13,  -1.00000000e+13,\n",
       "          -1.00000000e+13,  -1.00000000e+13,  -1.00000000e+24,\n",
       "           0.00000000e+00,  -2.00000000e+13,  -1.00000000e+13,\n",
       "          -1.00000000e+13,  -1.00000000e+13],\n",
       "        [  6.49307689e-20,   6.49314182e-20,   1.29862187e-19,\n",
       "           1.94792974e-19,   2.59723725e-19,   3.24654494e-19,\n",
       "          -6.49307690e-20,   3.24658716e-14,   6.49317431e-25,\n",
       "           6.49317431e-25,   6.49317431e-25],\n",
       "        [  0.00000000e+00,  -9.99976149e-02,  -9.99976149e-02,\n",
       "          -9.99976149e-02,  -9.99976149e-02,  -9.99976149e-02,\n",
       "          -1.99997615e+04,  -3.99997230e+04,  -9.98395256e+09,\n",
       "          -5.99993859e+04,  -7.99991460e+04],\n",
       "        [  0.00000000e+00,   0.00000000e+00,   0.00000000e+00,\n",
       "           0.00000000e+00,   0.00000000e+00,   0.00000000e+00,\n",
       "           1.00002385e+14,   2.00004770e+14,   2.50188633e+22,\n",
       "           1.00001493e+20,   4.00009541e+14],\n",
       "        [  0.00000000e+00,   0.00000000e+00,   0.00000000e+00,\n",
       "           0.00000000e+00,   0.00000000e+00,   0.00000000e+00,\n",
       "           2.00007155e+21,   4.00014311e+21,  -9.99820325e+26,\n",
       "           6.00021466e+21,   1.00003185e+27]])"
      ]
     },
     "execution_count": 40,
     "metadata": {},
     "output_type": "execute_result"
    }
   ],
   "source": [
    "jmat"
   ]
  },
  {
   "cell_type": "code",
   "execution_count": 41,
   "metadata": {
    "collapsed": false
   },
   "outputs": [
    {
     "data": {
      "text/plain": [
       "(None,\n",
       "   status: 5\n",
       " success: False\n",
       "     qtf: array([ -2.13457346e+17,  -4.64182010e+19,  -1.53182466e+16,\n",
       "         2.47603622e+52,  -2.10477532e+45,  -5.50630210e+16,\n",
       "        -1.08444451e+38,   2.25890108e+36,  -2.03791778e+22,\n",
       "         5.47861453e+21,  -5.07650064e+17,  -2.98461303e+16,\n",
       "        -2.57056928e+16,   3.31381403e+14,  -1.12371182e+16])\n",
       "    nfev: 25\n",
       "       r: array([ -9.90849712e+01,  -3.64753563e-20,   7.19845293e-02,\n",
       "         1.15725805e+08,  -4.04747757e+12,   1.00923479e-02,\n",
       "         2.01846958e-02,   3.02770480e-02,   5.01682160e+08,\n",
       "        -8.90887568e+21,  -1.00923479e-02,  -1.45391766e-34,\n",
       "         1.09116595e-52,  -3.46672581e-68,  -6.27488864e-69,\n",
       "         2.63551887e+03,   8.47032947e-22,  -8.97533902e+15,\n",
       "        -3.49587137e+20,  -1.73472348e-18,   2.46614680e-15,\n",
       "        -3.20103621e-02,  -2.39657070e+15,   3.33178551e+31,\n",
       "         3.79431925e-04,   7.58863850e-04,   2.20998152e+09,\n",
       "        -1.00766806e-02,   6.13442657e-04,  -1.00000026e+00,\n",
       "         9.21998751e+06,  -1.24547246e+11,  -9.99023438e-01,\n",
       "        -1.99854649e+00,  -2.99781973e+00,  -9.34193953e+06,\n",
       "        -1.00877897e+21,  -7.26492721e-04,   1.25842259e-68,\n",
       "         3.67254838e-12,  -4.96308368e-24,  -1.65436123e-24,\n",
       "        -1.49031572e+43,   2.01534705e+47,  -1.13155256e-25,\n",
       "        -1.60572457e+13,  -5.45492263e+26,  -1.61347863e+44,\n",
       "         1.63012109e+57,  -2.28463701e-31,  -4.56744416e-31,\n",
       "        -1.44488575e-17,   6.07697019e-30,  -3.70471994e-31,\n",
       "        -1.86505725e+41,   1.65265808e-16,   5.13454583e+20,\n",
       "         9.21302521e+32,   1.30184185e+50,   4.36449668e+51,\n",
       "        -9.42193831e-25,  -1.88066968e-24,   7.91217240e-19,\n",
       "         2.53767013e-23,  -1.37615759e-24,  -5.52115010e+12,\n",
       "        -9.31322575e-09,  -2.15040000e+04,   3.78796514e+21,\n",
       "         2.37365600e+23,   1.81234801e-13,  -3.62243367e-13,\n",
       "        -1.81121480e-13,  -1.81121683e-13,  -1.81121683e-13,\n",
       "        -8.78889681e+27,  -3.50588488e+25,   7.60546723e+42,\n",
       "         4.63521802e+44,   1.29247525e-26,  -2.27309037e-28,\n",
       "        -3.71585041e-26,  -1.15075085e-28,  -1.13959586e-28,\n",
       "         2.06288371e+41,  -5.81414302e+41,  -1.76713270e+43,\n",
       "        -2.29626638e-20,  -4.35437316e-25,   6.58973435e-20,\n",
       "         1.61703248e-23,  -3.73224984e-25,   1.40304337e+27,\n",
       "         8.72822047e+28,   8.73507545e-02,   1.74501697e-01,\n",
       "        -7.34165081e+04,  -2.35462798e+00,   1.27689534e-01,\n",
       "        -1.59219774e+28,   9.95438017e-01,   1.99089435e+00,\n",
       "        -8.35935915e+05,  -2.64319711e+01,   1.60954900e+00,\n",
       "        -1.00068500e+00,  -2.94291400e-03,   1.66659349e-01,\n",
       "        -2.94968658e+01,  -2.38500599e+00,   2.00146936e+00,\n",
       "         1.15497581e+00,   3.04513028e+01,   3.38064461e+00,\n",
       "         4.05639963e+00,   7.67515417e+02,  -2.11688076e+02,\n",
       "        -3.26356074e+01,  -4.97482424e+03,   6.27469240e+02])\n",
       "     fun: array([  2.92224092e+12,  -1.06969791e+08,  -1.98938816e+12,\n",
       "        -7.94328235e+23,  -6.27556485e+34,  -9.99944319e+44,\n",
       "        -2.47603467e+52,  -3.96664795e+03,   4.78286233e+19,\n",
       "        -4.95437159e-18,  -3.29859387e-25,  -7.01872509e+15,\n",
       "        -2.74120444e+15,   5.09959312e+12,  -3.18366558e+14])\n",
       "       x: array([ -4.52346454e+12,   4.53129907e+15,   5.09954254e+12,\n",
       "         1.20592743e+08,   1.40900839e+02,   2.89260611e+00,\n",
       "         1.49937263e+07,   7.26588339e-07,   5.35167019e-07,\n",
       "         1.00232578e-08,  -7.01419602e+15,  -1.89320193e+14,\n",
       "         6.04882684e+13,  -2.19734995e+11,   5.27951125e+09])\n",
       " message: 'The iteration is not making good progress, as measured by the \\n  improvement from the last ten iterations.'\n",
       "    fjac: array([[ -2.78888024e-13,  -9.99949071e-01,   5.40301705e-66,\n",
       "          1.92418667e-50,   4.97823176e-52,   6.18914719e-42,\n",
       "          8.62379072e-36,  -4.49558155e-17,  -1.27968255e-64,\n",
       "          2.41340285e-71,  -3.35337777e-72,  -1.00923479e-02,\n",
       "         -2.09421036e-69,  -4.95289598e-72,  -2.43222189e-70],\n",
       "       [  4.96419319e-11,  -1.03575679e-20,  -9.60763107e-61,\n",
       "          3.20922004e-45,  -1.03837054e-46,  -1.09448617e-36,\n",
       "          3.80650179e-33,   4.56516156e-33,   9.99999928e-01,\n",
       "         -1.45681416e-05,  -1.80182914e-07,   1.02485514e-18,\n",
       "          3.79431925e-04,   9.82645781e-67,  -1.70279987e-64],\n",
       "       [ -2.00957550e-14,   7.33239070e-06,   8.02035094e-67,\n",
       "          2.04605145e-53,   8.05415928e-53,   9.16126361e-43,\n",
       "          6.18660017e-37,  -3.23612237e-18,  -2.34332716e-69,\n",
       "          1.29246971e-26,   2.01948392e-28,  -7.26492721e-04,\n",
       "         -4.13590306e-25,  -9.99999736e-01,   5.52240048e-71],\n",
       "       [  3.60461269e-36,  -7.05336365e-36,  -7.44744968e-32,\n",
       "         -6.96316430e-16,  -2.90947760e-16,  -1.25390720e-07,\n",
       "         -1.00000000e+00,  -2.13985067e-31,   3.89329476e-33,\n",
       "          8.77226059e-33,   1.08697126e-34,  -1.55641315e-34,\n",
       "         -2.28406918e-31,  -5.05639586e-37,   1.20476219e-35],\n",
       "       [  3.96687224e-28,   3.76761559e-30,  -3.92534019e-25,\n",
       "         -5.84208228e-08,  -4.46609050e-09,  -1.00000000e+00,\n",
       "          1.25390720e-07,  -1.19361293e-23,   3.58029568e-28,\n",
       "          3.66333478e-26,   4.76365408e-28,  -3.73295069e-28,\n",
       "         -9.42186868e-25,   2.71223848e-31,   1.85202816e-27],\n",
       "       [  6.16772265e-22,  -1.82917564e-15,   1.00000000e+00,\n",
       "         -7.52316385e-37,  -8.36252935e-31,  -2.99332213e-29,\n",
       "          3.43260675e-36,   5.02667743e-31,  -1.20695718e-28,\n",
       "         -1.05156036e-26,  -6.92761000e-29,   1.81234585e-13,\n",
       "          3.19338183e-25,  -2.22044605e-16,  -1.81121683e-13],\n",
       "       [ -1.47357248e-29,  -6.52220549e-29,  -4.74626175e-30,\n",
       "          1.00000000e+00,  -1.52655666e-16,  -5.84208228e-08,\n",
       "          6.73907834e-15,  -3.69778549e-31,   2.25694915e-36,\n",
       "          3.85185989e-34,  -4.51389831e-36,   6.46219634e-27,\n",
       "         -2.46519033e-32,  -4.69521807e-30,  -1.13779842e-28],\n",
       "       [  2.23121391e-30,  -8.14058684e-22,   1.11022273e-16,\n",
       "          2.22044605e-16,  -1.00000000e+00,   4.46609016e-09,\n",
       "         -2.69058541e-16,   3.23612237e-18,   9.62964972e-35,\n",
       "          6.16297582e-33,   1.68518870e-34,   8.06568733e-20,\n",
       "         -5.91645679e-31,  -5.86026158e-23,   1.63704045e-33],\n",
       "       [ -3.59660096e-05,   7.26062643e-07,  -1.80859037e-17,\n",
       "         -2.70434993e-28,  -1.33535940e-16,  -1.08929749e-23,\n",
       "          1.26330642e-30,   9.96165488e-01,  -3.32204895e-05,\n",
       "         -3.39909843e-03,  -4.42005170e-05,  -7.19382322e-05,\n",
       "          8.74226927e-02,   5.22679396e-08,  -1.71844136e-04],\n",
       "       [  3.31574715e-06,  -5.98622124e-08,   1.65632665e-18,\n",
       "         -2.93361355e-27,   1.16733411e-17,   1.05891529e-26,\n",
       "         -2.21723594e-31,  -8.74887536e-02,  -3.78255533e-04,\n",
       "         -3.82140529e-02,  -4.72670546e-04,   5.93114351e-06,\n",
       "          9.95432086e-01,  -4.30937266e-09,   1.50910505e-05],\n",
       "       [  1.58853905e-07,   1.00849242e-02,   1.81110700e-13,\n",
       "          6.19091786e-27,   5.51556054e-20,   5.09223503e-28,\n",
       "          8.12116966e-38,  -7.37739241e-05,   1.25405529e-10,\n",
       "         -3.83103977e-02,  -4.74050522e-04,  -9.99213533e-01,\n",
       "         -1.47146848e-03,   7.25995496e-04,   1.14825664e-08],\n",
       "       [ -1.62233370e-07,   1.48248808e-05,   1.81255003e-13,\n",
       "          3.38791950e-27,  -2.96119752e-20,   3.14874592e-29,\n",
       "         -3.76028217e-39,   1.73912336e-04,   2.05404695e-11,\n",
       "          3.82521757e-02,   4.73329871e-04,  -1.46884808e-03,\n",
       "          1.46884808e-03,   1.06721642e-06,   9.99265831e-01],\n",
       "       [  5.31146586e-03,   3.86091501e-04,   5.02562913e-18,\n",
       "         -2.68306491e-28,  -4.08301248e-21,   2.60356227e-29,\n",
       "          4.18428182e-39,   3.34131066e-05,   5.51820038e-10,\n",
       "          9.96895423e-01,  -4.22026801e-02,  -3.82539170e-02,\n",
       "          3.82539170e-02,   2.77940305e-05,  -3.82539170e-02],\n",
       "       [  1.24913237e-01,  -2.11783003e-05,  -2.75783466e-19,\n",
       "          1.83848222e-29,  -1.25364550e-22,  -3.35485995e-31,\n",
       "          1.08117977e-40,   5.54683526e-07,   5.28625089e-11,\n",
       "         -4.23878742e-02,  -9.91255135e-01,   2.09834440e-03,\n",
       "         -2.09834440e-03,  -1.52458762e-06,   2.09834440e-03],\n",
       "       [  9.92153451e-01,   5.97855721e-07,   7.27164670e-21,\n",
       "          1.34720848e-29,  -5.68961582e-21,   1.15977955e-29,\n",
       "          7.89701034e-42,   3.61551614e-05,   2.17071152e-13,\n",
       "         -1.53892709e-07,   1.25026069e-01,  -5.92355274e-05,\n",
       "          5.92355274e-05,   4.30385546e-08,  -5.92355274e-05]])\n",
       "    njev: 2)"
      ]
     },
     "execution_count": 41,
     "metadata": {},
     "output_type": "execute_result"
    }
   ],
   "source": [
    "reaction_system.root(init_conc, scaling=1e8, init_iter=100)"
   ]
  },
  {
   "cell_type": "code",
   "execution_count": null,
   "metadata": {
    "collapsed": true
   },
   "outputs": [],
   "source": []
  },
  {
   "cell_type": "code",
   "execution_count": null,
   "metadata": {
    "collapsed": true
   },
   "outputs": [],
   "source": []
  },
  {
   "cell_type": "code",
   "execution_count": null,
   "metadata": {
    "collapsed": true
   },
   "outputs": [],
   "source": []
  }
 ],
 "metadata": {
  "kernelspec": {
   "display_name": "Python 2",
   "language": "python",
   "name": "python2"
  },
  "language_info": {
   "codemirror_mode": {
    "name": "ipython",
    "version": 2
   },
   "file_extension": ".py",
   "mimetype": "text/x-python",
   "name": "python",
   "nbconvert_exporter": "python",
   "pygments_lexer": "ipython2",
   "version": "2.7.6"
  }
 },
 "nbformat": 4,
 "nbformat_minor": 0
}
