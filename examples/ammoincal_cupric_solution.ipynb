{
 "cells": [
  {
   "cell_type": "code",
   "execution_count": 1,
   "metadata": {
    "collapsed": false
   },
   "outputs": [],
   "source": [
    "from aqchem.chemistry import Solute, elements\n",
    "from aqchem.equilibria import Equilibrium, EqSystem, charge_balance, atom_balance\n",
    "from IPython.display import Latex, display\n",
    "import periodictable\n",
    "%matplotlib inline"
   ]
  },
  {
   "cell_type": "code",
   "execution_count": 2,
   "metadata": {
    "collapsed": false
   },
   "outputs": [],
   "source": [
    "def show(s): display(Latex('$'+s+'$'))"
   ]
  },
  {
   "cell_type": "code",
   "execution_count": 3,
   "metadata": {
    "collapsed": false
   },
   "outputs": [],
   "source": [
    "substances = Hp, OHm, NH4p, NH3, H2O, Cupp, CuNH31pp, CuNH32pp, CuNH33pp, CuNH34pp, CuNH35pp, Cu2OH2pp, CuOH3m, CuOH4mm, CuOH2 = [#, CuOHp, CuOH2, =\n",
    "    Solute(n, latex_name=l, formula=periodictable.formula(n)) for n, l in [\n",
    "        ('H{+}', 'H^+'), ('HO{-}', 'OH^-'), ('NH3 + H{+}', 'NH_4^+'),\n",
    "        ('NH3', 'NH_3'), ('H2O', 'H_2O'), ('Cu{2+}', 'Cu^{2+}'), ('Cu{2+}NH3', 'Cu(NH_3)^{2+}'),\n",
    "        ('Cu{2+}(NH3)2', 'Cu(NH_3)_2^{2+}'), ('Cu{2+}(NH3)3', 'Cu(NH_3)_3^{2+}'),\n",
    "        ('Cu{2+}(NH3)4', 'Cu(NH_3)_4^{2+}'), ('Cu{2+}(NH3)5', 'Cu(NH_3)_5^{2+}'), \n",
    "        ('2Cu{2+} + 2HO{-}', 'Cu_2(OH)_2^{2+}'),\n",
    "        ('Cu{2+} + 3HO{-}', 'Cu(OH)_3^-'), ('Cu{2+} + 4HO{-}', 'Cu(OH)_4^{2-}'),\n",
    "        ('Cu{2+} + 2HO{-}', 'Cu(OH_2)(s)'),\n",
    "    ]]\n",
    "CuOH2.solid = True"
   ]
  },
  {
   "cell_type": "code",
   "execution_count": 4,
   "metadata": {
    "collapsed": false
   },
   "outputs": [
    {
     "data": {
      "text/latex": [
       "$H^+, OH^-, NH_4^+, NH_3, H_2O, Cu^{2+}, Cu(NH_3)^{2+}, Cu(NH_3)_2^{2+}, Cu(NH_3)_3^{2+}, Cu(NH_3)_4^{2+}, Cu(NH_3)_5^{2+}, Cu_2(OH)_2^{2+}, Cu(OH)_3^-, Cu(OH)_4^{2-}, Cu(OH_2)(s)$"
      ],
      "text/plain": [
       "<IPython.core.display.Latex object>"
      ]
     },
     "metadata": {},
     "output_type": "display_data"
    }
   ],
   "source": [
    "show(', '.join([s.latex_name for s in substances])) # + r'(\\mathrm{%s})' % (str(s.formula.atoms) + ', ' + str(s.charge))"
   ]
  },
  {
   "cell_type": "code",
   "execution_count": 5,
   "metadata": {
    "collapsed": false
   },
   "outputs": [],
   "source": [
    "init_conc = {Hp: 1e-7, OHm: 1e-7, NH4p: 0, NH3: 1.0, Cupp: 1e-2, \n",
    "            CuNH31pp: 0, CuNH32pp: 0, CuNH33pp: 0, CuNH34pp: 0, CuNH35pp: 0,\n",
    "            H2O: 55.5, Cu2OH2pp: 0, CuOH2: 0, CuOH3m: 0, CuOH4mm: 0}"
   ]
  },
  {
   "cell_type": "code",
   "execution_count": 34,
   "metadata": {
    "collapsed": false
   },
   "outputs": [],
   "source": [
    "# Data från Jämviktskonstanttabell, Avdelningen för oorganisk kemi 2007\n",
    "H2O_c = init_conc[H2O]\n",
    "w_autop = Equilibrium({H2O: 1}, {Hp: 1, OHm: 1}, 10**-14/H2O_c)\n",
    "NH4p_pr = Equilibrium({NH4p: 1}, {Hp: 1, NH3: 1}, 10**-9.26)\n",
    "CuOH2_s = Equilibrium({CuOH2: 1}, {Cupp: 1, OHm: 2}, 10**-18.8)\n",
    "CuOH_B3 = Equilibrium({CuOH2: 1, OHm: 1}, {CuOH3m: 1}, 10**-3.6)\n",
    "CuOH_B4 = Equilibrium({CuOH2: 1, OHm: 2}, {CuOH4mm: 1}, 10**-2.7)\n",
    "Cu2OH2 = Equilibrium({Cupp: 2, H2O: 2}, {Cu2OH2pp: 1, Hp: 2}, 10**-10.6 / H2O_c**2)\n",
    "CuNH3_B1 = Equilibrium({CuNH31pp: 1}, {Cupp: 1, NH3: 1}, 10**-4.3)\n",
    "CuNH3_B2 = Equilibrium({CuNH32pp: 1}, {Cupp: 1, NH3: 2}, 10**-7.9)\n",
    "CuNH3_B3 = Equilibrium({CuNH33pp: 1}, {Cupp: 1, NH3: 3}, 10**-10.8)\n",
    "CuNH3_B4 = Equilibrium({CuNH34pp: 1}, {Cupp: 1, NH3: 4}, 10**-13.0)\n",
    "CuNH3_B5 = Equilibrium({CuNH35pp: 1}, {Cupp: 1, NH3: 5}, 10**-12.4)\n",
    "equilibria = w_autop, NH4p_pr, CuNH3_B1, CuNH3_B2, CuNH3_B3, CuNH3_B4, CuNH3_B5, Cu2OH2, CuOH_B3, CuOH_B4, CuOH2_s\n",
    "skip_subs, skip_eq = (4, 4) # (0, 0), (1, 1), (3, 3), (4, 4), (11, 9)\n",
    "simpl_subs = substances[:-skip_subs]\n",
    "simpl_eq = equilibria[:-skip_eq]\n",
    "simpl_c0 = {k: init_conc[k] for k in simpl_subs}"
   ]
  },
  {
   "cell_type": "code",
   "execution_count": 35,
   "metadata": {
    "collapsed": false
   },
   "outputs": [
    {
     "data": {
      "text/latex": [
       "$H^+, OH^-, NH_4^+, NH_3, H_2O, Cu^{2+}, Cu(NH_3)^{2+}, Cu(NH_3)_2^{2+}, Cu(NH_3)_3^{2+}, Cu(NH_3)_4^{2+}, Cu(NH_3)_5^{2+}$"
      ],
      "text/plain": [
       "<IPython.core.display.Latex object>"
      ]
     },
     "metadata": {},
     "output_type": "display_data"
    },
    {
     "data": {
      "text/latex": [
       "$~$"
      ],
      "text/plain": [
       "<IPython.core.display.Latex object>"
      ]
     },
     "metadata": {},
     "output_type": "display_data"
    },
    {
     "data": {
      "text/latex": [
       "$H_2O \\rightleftharpoons H^+ + OH^-~~~~~~~~~~~~~~~~~~~~~~~~~~~~~~~~~~~~~lgK =      -15.744$"
      ],
      "text/plain": [
       "<IPython.core.display.Latex object>"
      ]
     },
     "metadata": {},
     "output_type": "display_data"
    },
    {
     "data": {
      "text/latex": [
       "$NH_4^+ \\rightleftharpoons H^+ + NH_3~~~~~~~~~~~~~~~~~~~~~~~~~~~~~~~~~~~~~lgK =        -9.26$"
      ],
      "text/plain": [
       "<IPython.core.display.Latex object>"
      ]
     },
     "metadata": {},
     "output_type": "display_data"
    },
    {
     "data": {
      "text/latex": [
       "$Cu(NH_3)^{2+} \\rightleftharpoons Cu^{2+} + NH_3~~~~~~~~~~~~~~~~~~~~~~~~~~~~~~~~~~~~~lgK =         -4.3$"
      ],
      "text/plain": [
       "<IPython.core.display.Latex object>"
      ]
     },
     "metadata": {},
     "output_type": "display_data"
    },
    {
     "data": {
      "text/latex": [
       "$Cu(NH_3)_2^{2+} \\rightleftharpoons Cu^{2+} + 2 NH_3~~~~~~~~~~~~~~~~~~~~~~~~~~~~~~~~~~~~~lgK =         -7.9$"
      ],
      "text/plain": [
       "<IPython.core.display.Latex object>"
      ]
     },
     "metadata": {},
     "output_type": "display_data"
    },
    {
     "data": {
      "text/latex": [
       "$Cu(NH_3)_3^{2+} \\rightleftharpoons Cu^{2+} + 3 NH_3~~~~~~~~~~~~~~~~~~~~~~~~~~~~~~~~~~~~~lgK =        -10.8$"
      ],
      "text/plain": [
       "<IPython.core.display.Latex object>"
      ]
     },
     "metadata": {},
     "output_type": "display_data"
    },
    {
     "data": {
      "text/latex": [
       "$Cu(NH_3)_4^{2+} \\rightleftharpoons Cu^{2+} + 4 NH_3~~~~~~~~~~~~~~~~~~~~~~~~~~~~~~~~~~~~~lgK =          -13$"
      ],
      "text/plain": [
       "<IPython.core.display.Latex object>"
      ]
     },
     "metadata": {},
     "output_type": "display_data"
    },
    {
     "data": {
      "text/latex": [
       "$Cu(NH_3)_5^{2+} \\rightleftharpoons Cu^{2+} + 5 NH_3~~~~~~~~~~~~~~~~~~~~~~~~~~~~~~~~~~~~~lgK =        -12.4$"
      ],
      "text/plain": [
       "<IPython.core.display.Latex object>"
      ]
     },
     "metadata": {},
     "output_type": "display_data"
    },
    {
     "data": {
      "text/plain": [
       "[(0, 'H{+}', 1e-07),\n",
       " (1, 'HO{-}', 1e-07),\n",
       " (2, 'NH3 + H{+}', 0),\n",
       " (3, 'NH3', 1.0),\n",
       " (4, 'H2O', 55.5),\n",
       " (5, 'Cu{2+}', 0.01),\n",
       " (6, 'Cu{2+}NH3', 0),\n",
       " (7, 'Cu{2+}(NH3)2', 0),\n",
       " (8, 'Cu{2+}(NH3)3', 0),\n",
       " (9, 'Cu{2+}(NH3)4', 0),\n",
       " (10, 'Cu{2+}(NH3)5', 0)]"
      ]
     },
     "execution_count": 35,
     "metadata": {},
     "output_type": "execute_result"
    }
   ],
   "source": [
    "show(', '.join([s.latex_name for s in simpl_subs]))\n",
    "show('~')\n",
    "from math import log10\n",
    "for eq in simpl_eq:\n",
    "    ltx = eq.latex()\n",
    "    show(ltx + '~~~~~~~~~~~~~~~~~~~~~~~~~~~~~~~~~~~~~lgK = {0:12.5g}'.format(log10(eq.params)))\n",
    "[(idx, s.name, init_conc[s]) for idx, s in enumerate(simpl_subs)]"
   ]
  },
  {
   "cell_type": "code",
   "execution_count": 36,
   "metadata": {
    "collapsed": false
   },
   "outputs": [
    {
     "data": {
      "image/png": "[encoded data removed]",
      "text/latex": [
       "$$\\left [ \\frac{x_{0} x_{1}}{x_{4}} 5.55 \\cdot 10^{15} - 1, \\quad \\frac{1819700858.60998 x_{0}}{x_{2}} x_{3} - 1, \\quad \\frac{19952.6231496888 x_{3}}{x_{6}} x_{5} - 1, \\quad \\frac{79432823.4724282 x_{5}}{x_{7}} x_{3}^{2} - 1, \\quad \\frac{63095734448.0194 x_{5}}{x_{8}} x_{3}^{3} - 1, \\quad \\frac{10000000000000.0 x_{5}}{x_{9}} x_{3}^{4} - 1, \\quad -1 + \\frac{2511886431509.58 x_{5}}{x_{10}} x_{3}^{5}, \\quad - i_{0} + i_{1} - 2 i_{10} - i_{2} - 2 i_{5} - 2 i_{6} - 2 i_{7} - 2 i_{8} - 2 i_{9} + x_{0} - x_{1} + 2 x_{10} + x_{2} + 2 x_{5} + 2 x_{6} + 2 x_{7} + 2 x_{8} + 2 x_{9}, \\quad - i_{0} - i_{1} - 15 i_{10} - 4 i_{2} - 3 i_{3} - 2 i_{4} - 3 i_{6} - 6 i_{7} - 9 i_{8} - 12 i_{9} + x_{0} + x_{1} + 15 x_{10} + 4 x_{2} + 3 x_{3} + 2 x_{4} + 3 x_{6} + 6 x_{7} + 9 x_{8} + 12 x_{9}, \\quad - 5 i_{10} - i_{2} - i_{3} - i_{6} - 2 i_{7} - 3 i_{8} - 4 i_{9} + 5 x_{10} + x_{2} + x_{3} + x_{6} + 2 x_{7} + 3 x_{8} + 4 x_{9}, \\quad - i_{1} - i_{4} + x_{1} + x_{4}, \\quad - i_{10} - i_{5} - i_{6} - i_{7} - i_{8} - i_{9} + x_{10} + x_{5} + x_{6} + x_{7} + x_{8} + x_{9}\\right ]$$"
      ],
      "text/plain": [
       "⎡                                                                             \n",
       "⎢5.55e+15⋅x₀⋅x₁      1819700858.60998⋅x₀⋅x₃      19952.6231496888⋅x₃⋅x₅      7\n",
       "⎢────────────── - 1, ────────────────────── - 1, ────────────────────── - 1, ─\n",
       "⎣      x₄                      x₂                          x₆                 \n",
       "\n",
       "                  2                            3                            4 \n",
       "9432823.4724282⋅x₃ ⋅x₅      63095734448.0194⋅x₃ ⋅x₅      10000000000000.0⋅x₃ ⋅\n",
       "────────────────────── - 1, ─────────────────────── - 1, ─────────────────────\n",
       "          x₇                           x₈                           x₉        \n",
       "\n",
       "                                5                                             \n",
       "x₅           2511886431509.58⋅x₃ ⋅x₅                                          \n",
       "── - 1, -1 + ───────────────────────, -i₀ + i₁ - 2⋅i₁₀ - i₂ - 2⋅i₅ - 2⋅i₆ - 2⋅\n",
       "                       x₁₀                                                    \n",
       "\n",
       "                                                                              \n",
       "                                                                              \n",
       "i₇ - 2⋅i₈ - 2⋅i₉ + x₀ - x₁ + 2⋅x₁₀ + x₂ + 2⋅x₅ + 2⋅x₆ + 2⋅x₇ + 2⋅x₈ + 2⋅x₉, -i\n",
       "                                                                              \n",
       "\n",
       "                                                                              \n",
       "                                                                              \n",
       "₀ - i₁ - 15⋅i₁₀ - 4⋅i₂ - 3⋅i₃ - 2⋅i₄ - 3⋅i₆ - 6⋅i₇ - 9⋅i₈ - 12⋅i₉ + x₀ + x₁ + \n",
       "                                                                              \n",
       "\n",
       "                                                                              \n",
       "                                                                              \n",
       "15⋅x₁₀ + 4⋅x₂ + 3⋅x₃ + 2⋅x₄ + 3⋅x₆ + 6⋅x₇ + 9⋅x₈ + 12⋅x₉, -5⋅i₁₀ - i₂ - i₃ - i\n",
       "                                                                              \n",
       "\n",
       "                                                                              \n",
       "                                                                              \n",
       "₆ - 2⋅i₇ - 3⋅i₈ - 4⋅i₉ + 5⋅x₁₀ + x₂ + x₃ + x₆ + 2⋅x₇ + 3⋅x₈ + 4⋅x₉, -i₁ - i₄ +\n",
       "                                                                              \n",
       "\n",
       "                                                                      ⎤\n",
       "                                                                      ⎥\n",
       " x₁ + x₄, -i₁₀ - i₅ - i₆ - i₇ - i₈ - i₉ + x₁₀ + x₅ + x₆ + x₇ + x₈ + x₉⎥\n",
       "                                                                      ⎦"
      ]
     },
     "execution_count": 36,
     "metadata": {},
     "output_type": "execute_result"
    }
   ],
   "source": [
    "eqsys = EqSystem(simpl_eq, simpl_subs)\n",
    "import sympy as sp\n",
    "sp.init_printing()\n",
    "x, i = sp.symarray('x', eqsys.ns), sp.symarray('i', eqsys.ns)\n",
    "f, piv, cbs = eqsys.f(x, i, norm=True, rref=False)\n",
    "#subs = [(_, sp.exp(_)) for _ in x]\n",
    "#[_.subs(subs).powsimp() for _ in f]\n",
    "f"
   ]
  },
  {
   "cell_type": "code",
   "execution_count": 37,
   "metadata": {
    "collapsed": false
   },
   "outputs": [
    {
     "data": {
      "image/png": "[encoded data removed]",
      "text/latex": [
       "$$\\left[\\begin{array}{ccccccccccc}\\frac{x_{1}}{x_{4}} 5.55 \\cdot 10^{15} & \\frac{x_{0}}{x_{4}} 5.55 \\cdot 10^{15} & 0 & 0 & - \\frac{x_{0} x_{1}}{x_{4}^{2}} 5.55 \\cdot 10^{15} & 0 & 0 & 0 & 0 & 0 & 0\\\\\\frac{1819700858.60998 x_{3}}{x_{2}} & 0 & - \\frac{1819700858.60998 x_{0}}{x_{2}^{2}} x_{3} & \\frac{1819700858.60998 x_{0}}{x_{2}} & 0 & 0 & 0 & 0 & 0 & 0 & 0\\\\0 & 0 & 0 & \\frac{19952.6231496888 x_{5}}{x_{6}} & 0 & \\frac{19952.6231496888 x_{3}}{x_{6}} & - \\frac{19952.6231496888 x_{3}}{x_{6}^{2}} x_{5} & 0 & 0 & 0 & 0\\\\0 & 0 & 0 & \\frac{158865646.944856 x_{3}}{x_{7}} x_{5} & 0 & \\frac{79432823.4724282 x_{3}^{2}}{x_{7}} & 0 & - \\frac{79432823.4724282 x_{5}}{x_{7}^{2}} x_{3}^{2} & 0 & 0 & 0\\\\0 & 0 & 0 & \\frac{189287203344.058 x_{5}}{x_{8}} x_{3}^{2} & 0 & \\frac{63095734448.0194 x_{3}^{3}}{x_{8}} & 0 & 0 & - \\frac{63095734448.0194 x_{5}}{x_{8}^{2}} x_{3}^{3} & 0 & 0\\\\0 & 0 & 0 & \\frac{40000000000000.0 x_{5}}{x_{9}} x_{3}^{3} & 0 & \\frac{10000000000000.0 x_{3}^{4}}{x_{9}} & 0 & 0 & 0 & - \\frac{10000000000000.0 x_{5}}{x_{9}^{2}} x_{3}^{4} & 0\\\\0 & 0 & 0 & \\frac{12559432157547.9 x_{5}}{x_{10}} x_{3}^{4} & 0 & \\frac{2511886431509.58 x_{3}^{5}}{x_{10}} & 0 & 0 & 0 & 0 & - \\frac{2511886431509.58 x_{5}}{x_{10}^{2}} x_{3}^{5}\\\\1 & -1 & 1 & 0 & 0 & 2 & 2 & 2 & 2 & 2 & 2\\\\1 & 1 & 4 & 3 & 2 & 0 & 3 & 6 & 9 & 12 & 15\\\\0 & 0 & 1 & 1 & 0 & 0 & 1 & 2 & 3 & 4 & 5\\\\0 & 1 & 0 & 0 & 1 & 0 & 0 & 0 & 0 & 0 & 0\\\\0 & 0 & 0 & 0 & 0 & 1 & 1 & 1 & 1 & 1 & 1\\end{array}\\right]$$"
      ],
      "text/plain": [
       "⎡    5.55e+15⋅x₁      5.55e+15⋅x₀                                             \n",
       "⎢    ───────────      ───────────             0                         0     \n",
       "⎢         x₄               x₄                                                 \n",
       "⎢                                                                             \n",
       "⎢                                                                             \n",
       "⎢1819700858.60998⋅x₃               -1819700858.60998⋅x₀⋅x₃     1819700858.6099\n",
       "⎢───────────────────       0       ────────────────────────    ───────────────\n",
       "⎢         x₂                                   2                        x₂    \n",
       "⎢                                            x₂                               \n",
       "⎢                                                                             \n",
       "⎢                                                              19952.623149688\n",
       "⎢         0                0                  0                ───────────────\n",
       "⎢                                                                       x₆    \n",
       "⎢                                                                             \n",
       "⎢                                                                             \n",
       "⎢                                                                             \n",
       "⎢                                                            158865646.944856⋅\n",
       "⎢         0                0                  0              ─────────────────\n",
       "⎢                                                                      x₇     \n",
       "⎢                                                                             \n",
       "⎢                                                                             \n",
       "⎢                                                                             \n",
       "⎢                                                            189287203344.058⋅\n",
       "⎢         0                0                  0              ─────────────────\n",
       "⎢                                                                       x₈    \n",
       "⎢                                                                             \n",
       "⎢                                                                             \n",
       "⎢                                                                             \n",
       "⎢                                                            40000000000000.0⋅\n",
       "⎢         0                0                  0              ─────────────────\n",
       "⎢                                                                       x₉    \n",
       "⎢                                                                             \n",
       "⎢                                                                             \n",
       "⎢                                                                             \n",
       "⎢                                                            12559432157547.9⋅\n",
       "⎢         0                0                  0              ─────────────────\n",
       "⎢                                                                      x₁₀    \n",
       "⎢                                                                             \n",
       "⎢                                                                             \n",
       "⎢         1               -1                  1                         0     \n",
       "⎢                                                                             \n",
       "⎢         1                1                  4                         3     \n",
       "⎢                                                                             \n",
       "⎢         0                0                  1                         1     \n",
       "⎢                                                                             \n",
       "⎢         0                1                  0                         0     \n",
       "⎢                                                                             \n",
       "⎣         0                0                  0                         0     \n",
       "\n",
       "        -5.55e+15⋅x₀⋅x₁                                                       \n",
       "        ────────────────           0                       0                  \n",
       "                2                                                             \n",
       "              x₄                                                              \n",
       "                                                                              \n",
       "8⋅x₀                                                                          \n",
       "────           0                   0                       0                  \n",
       "                                                                              \n",
       "                                                                              \n",
       "                                                                              \n",
       "8⋅x₅                      19952.6231496888⋅x₃   -19952.6231496888⋅x₃⋅x₅       \n",
       "────           0          ───────────────────   ────────────────────────      \n",
       "                                   x₆                       2                 \n",
       "                                                          x₆                  \n",
       "                                                                              \n",
       "                                             2                                \n",
       "x₃⋅x₅                     79432823.4724282⋅x₃                             -794\n",
       "─────          0          ────────────────────             0              ────\n",
       "                                   x₇                                         \n",
       "                                                                              \n",
       "                                                                              \n",
       "  2                                          3                                \n",
       "x₃ ⋅x₅                    63095734448.0194⋅x₃                                 \n",
       "──────         0          ────────────────────             0                  \n",
       "                                   x₈                                         \n",
       "                                                                              \n",
       "                                                                              \n",
       "  3                                          4                                \n",
       "x₃ ⋅x₅                    10000000000000.0⋅x₃                                 \n",
       "──────         0          ────────────────────             0                  \n",
       "                                   x₉                                         \n",
       "                                                                              \n",
       "                                                                              \n",
       "  4                                          5                                \n",
       "x₃ ⋅x₅                    2511886431509.58⋅x₃                                 \n",
       "──────         0          ────────────────────             0                  \n",
       "                                  x₁₀                                         \n",
       "                                                                              \n",
       "                                                                              \n",
       "               0                   2                       2                  \n",
       "                                                                              \n",
       "               2                   0                       3                  \n",
       "                                                                              \n",
       "               0                   0                       1                  \n",
       "                                                                              \n",
       "               1                   0                       0                  \n",
       "                                                                              \n",
       "               0                   1                       1                  \n",
       "\n",
       "                                                                              \n",
       "        0                          0                          0               \n",
       "                                                                              \n",
       "                                                                              \n",
       "                                                                              \n",
       "                                                                              \n",
       "        0                          0                          0               \n",
       "                                                                              \n",
       "                                                                              \n",
       "                                                                              \n",
       "                                                                              \n",
       "        0                          0                          0               \n",
       "                                                                              \n",
       "                                                                              \n",
       "                                                                              \n",
       "                2                                                             \n",
       "32823.4724282⋅x₃ ⋅x₅                                                          \n",
       "─────────────────────              0                          0               \n",
       "         2                                                                    \n",
       "       x₇                                                                     \n",
       "                                                                              \n",
       "                                           3                                  \n",
       "                       -63095734448.0194⋅x₃ ⋅x₅                               \n",
       "        0              ─────────────────────────              0               \n",
       "                                    2                                         \n",
       "                                  x₈                                          \n",
       "                                                                              \n",
       "                                                                      4       \n",
       "                                                  -10000000000000.0⋅x₃ ⋅x₅    \n",
       "        0                          0              ─────────────────────────   \n",
       "                                                               2              \n",
       "                                                             x₉               \n",
       "                                                                              \n",
       "                                                                              \n",
       "                                                                             -\n",
       "        0                          0                          0              ─\n",
       "                                                                              \n",
       "                                                                              \n",
       "                                                                              \n",
       "        2                          2                          2               \n",
       "                                                                              \n",
       "        6                          9                         12               \n",
       "                                                                              \n",
       "        2                          3                          4               \n",
       "                                                                              \n",
       "        0                          0                          0               \n",
       "                                                                              \n",
       "        1                          1                          1               \n",
       "\n",
       "                        ⎤\n",
       "           0            ⎥\n",
       "                        ⎥\n",
       "                        ⎥\n",
       "                        ⎥\n",
       "                        ⎥\n",
       "           0            ⎥\n",
       "                        ⎥\n",
       "                        ⎥\n",
       "                        ⎥\n",
       "                        ⎥\n",
       "           0            ⎥\n",
       "                        ⎥\n",
       "                        ⎥\n",
       "                        ⎥\n",
       "                        ⎥\n",
       "                        ⎥\n",
       "           0            ⎥\n",
       "                        ⎥\n",
       "                        ⎥\n",
       "                        ⎥\n",
       "                        ⎥\n",
       "                        ⎥\n",
       "           0            ⎥\n",
       "                        ⎥\n",
       "                        ⎥\n",
       "                        ⎥\n",
       "                        ⎥\n",
       "                        ⎥\n",
       "           0            ⎥\n",
       "                        ⎥\n",
       "                        ⎥\n",
       "                        ⎥\n",
       "                   5    ⎥\n",
       "2511886431509.58⋅x₃ ⋅x₅ ⎥\n",
       "────────────────────────⎥\n",
       "             2          ⎥\n",
       "          x₁₀           ⎥\n",
       "                        ⎥\n",
       "           2            ⎥\n",
       "                        ⎥\n",
       "          15            ⎥\n",
       "                        ⎥\n",
       "           5            ⎥\n",
       "                        ⎥\n",
       "           0            ⎥\n",
       "                        ⎥\n",
       "           1            ⎦"
      ]
     },
     "execution_count": 37,
     "metadata": {},
     "output_type": "execute_result"
    }
   ],
   "source": [
    "sp.Matrix(1, len(f), lambda _, q: f[q]).jacobian(x)"
   ]
  },
  {
   "cell_type": "code",
   "execution_count": 38,
   "metadata": {
    "collapsed": false
   },
   "outputs": [
    {
     "data": {
      "image/png": "[encoded data removed]",
      "text/latex": [
       "$$\\left ( 12, \\quad 11\\right )$$"
      ],
      "text/plain": [
       "(12, 11)"
      ]
     },
     "execution_count": 38,
     "metadata": {},
     "output_type": "execute_result"
    }
   ],
   "source": [
    "len(f), eqsys.ns"
   ]
  },
  {
   "cell_type": "code",
   "execution_count": 39,
   "metadata": {
    "collapsed": false,
    "scrolled": true
   },
   "outputs": [
    {
     "name": "stderr",
     "output_type": "stream",
     "text": [
      "/home/bjorn/.local/lib/python2.7/site-packages/numpy/__init__.py:1: RuntimeWarning: overflow encountered in exp\n",
      "  \"\"\"\n"
     ]
    },
    {
     "data": {
      "text/plain": [
       "(array([  2.40003554e-12,   4.16629220e-03,   4.16629220e-03,\n",
       "          9.53964148e-01,   5.54958338e+01,   9.68874219e-16,\n",
       "          1.84416363e-11,   7.00376405e-08,   5.30717685e-05,\n",
       "          8.02408672e-03,   1.92277146e-03]),\n",
       "   status: 2\n",
       "   cov_x: array([[  1.23763559e+01,  -1.16106302e+01,   1.13791542e+01,\n",
       "         -4.98270544e-01,   2.64656875e-01,  -2.96915021e-01,\n",
       "         -7.95185565e-01,  -1.29345619e+00,  -1.79175954e+00,\n",
       "         -2.29078045e+00,  -2.78745151e+00],\n",
       "       [ -1.16106302e+01,   1.23583732e+01,  -1.06305270e+01,\n",
       "          4.81209478e-01,   2.48849266e-01,   3.68257710e-01,\n",
       "          8.49467188e-01,   1.33067675e+00,   1.81191903e+00,\n",
       "          2.29387882e+00,   2.77348893e+00],\n",
       "       [  1.13791542e+01,  -1.06305270e+01,   1.24688550e+01,\n",
       "          5.90807047e-01,   2.49733488e-01,  -4.89105376e+00,\n",
       "         -4.30024671e+00,  -3.70943958e+00,  -3.11859973e+00,\n",
       "         -2.52704237e+00,  -1.93783469e+00],\n",
       "       [ -4.98270544e-01,   4.81209478e-01,   5.90807047e-01,\n",
       "          1.09125272e+00,  -1.48859329e-02,  -4.60324592e+00,\n",
       "         -3.51199320e+00,  -2.42074032e+00,  -1.32942197e+00,\n",
       "         -2.36668575e-01,   8.51385305e-01],\n",
       "       [  2.64656875e-01,   2.48849266e-01,   2.49733488e-01,\n",
       "         -1.48859329e-02,   5.13543595e-01,   6.22355032e-02,\n",
       "          4.73495703e-02,   3.24636373e-02,   1.75777020e-02,\n",
       "          2.69171275e-03,  -1.21941001e-02],\n",
       "       [ -2.96915021e-01,   3.68257710e-01,  -4.89105376e+00,\n",
       "         -4.60324592e+00,   6.22355032e-02,   2.10977190e+01,\n",
       "          1.64944731e+01,   1.18912195e+01,   7.28239865e+00,\n",
       "          1.87576797e+00,  -2.10395301e+00],\n",
       "       [ -7.95185565e-01,   8.49467188e-01,  -4.30024671e+00,\n",
       "         -3.51199320e+00,   4.73495703e-02,   1.64944731e+01,\n",
       "          1.39824799e+01,   9.47047916e+00,   5.95297667e+00,\n",
       "          1.63909939e+00,  -1.25256771e+00],\n",
       "       [ -1.29345619e+00,   1.33067675e+00,  -3.70943958e+00,\n",
       "         -2.42074032e+00,   3.24636373e-02,   1.18912195e+01,\n",
       "          9.47047916e+00,   8.04973150e+00,   4.62354751e+00,\n",
       "          1.40242379e+00,  -4.01189273e-01],\n",
       "       [ -1.79175954e+00,   1.81191903e+00,  -3.11859973e+00,\n",
       "         -1.32942197e+00,   1.75777020e-02,   7.28239865e+00,\n",
       "          5.95297667e+00,   4.62354751e+00,   4.28874747e+00,\n",
       "          1.16044277e+00,   4.44949210e-01],\n",
       "       [ -2.29078045e+00,   2.29387882e+00,  -2.52704237e+00,\n",
       "         -2.36668575e-01,   2.69171275e-03,   1.87576797e+00,\n",
       "          1.63909939e+00,   1.40242379e+00,   1.16044277e+00,\n",
       "          1.12639214e+00,   5.00453134e-01],\n",
       "       [ -2.78745151e+00,   2.77348893e+00,  -1.93783469e+00,\n",
       "          8.51385305e-01,  -1.21941001e-02,  -2.10395301e+00,\n",
       "         -1.25256771e+00,  -4.01189273e-01,   4.44949210e-01,\n",
       "          5.00453134e-01,   2.95936916e+00]])\n",
       " success: True\n",
       "     qtf: array([ -3.07515800e-14,   1.01206596e-13,  -4.74829472e-15,\n",
       "         9.01481808e-14,   1.33053383e-14,   5.78909953e-15,\n",
       "         9.31387326e-15,   2.89130125e-14,  -1.03021310e-13,\n",
       "        -2.47684664e-14,  -1.02628018e-15])\n",
       "    nfev: 47\n",
       "    ipvt: array([ 4,  5, 10,  1,  6,  9,  8, 11,  3,  2,  7], dtype=int32)\n",
       "     fun: array([ -2.88657986e-15,   4.44089210e-16,   1.33226763e-15,\n",
       "         3.10862447e-15,  -1.21014310e-14,   6.88338275e-15,\n",
       "         1.42108547e-14,  -5.55111512e-16,   1.11022302e-15,\n",
       "         1.11022302e-15,   2.22044605e-16,  -9.99200722e-16])\n",
       "       x: array([  0.87548354,  22.15029232,  22.15029232,  27.58389193,\n",
       "        31.64732907,  -6.93937576,   2.91461095,  11.1567881 ,\n",
       "        17.78715568,  22.80571369,  21.37703345])\n",
       " message: 'The relative error between two consecutive iterates is at most 0.000000'\n",
       "    fjac: array([[ -7.54391661e+00,   1.32557139e-01,   1.32557139e-01,\n",
       "          2.65114277e-01,   3.97671416e-01,   5.30228555e-01,\n",
       "          6.62785693e-01,   0.00000000e+00,   3.32775678e-03,\n",
       "          1.26454758e-01,   0.00000000e+00,   0.00000000e+00],\n",
       "       [ -3.23994100e-03,  -1.71690360e+00,   7.69569480e-02,\n",
       "          1.53913896e-01,   2.30870844e-01,   3.07827792e-01,\n",
       "          3.84784740e-01,   0.00000000e+00,   5.69005791e-01,\n",
       "          7.34141694e-02,   5.82400159e-01,   0.00000000e+00],\n",
       "       [  5.26167008e-01,  -1.47189489e-03,  -1.41841332e+00,\n",
       "          9.11695264e-02,   1.36754290e-01,  -5.22674066e-01,\n",
       "          2.27923816e-01,   5.65708640e-01,  -2.46985249e-02,\n",
       "          6.61145754e-02,  -2.71529330e-02,   5.65708640e-01],\n",
       "       [ -1.32557139e-01,   5.82694029e-01,  -4.97773508e-02,\n",
       "          1.28078823e+00,   3.84168972e-01,   5.75106616e-01,\n",
       "          6.40281620e-01,  -5.04565164e-02,   1.15360548e-01,\n",
       "          1.20142881e-01,   1.15231296e-01,  -5.04565163e-02],\n",
       "       [ -1.98835708e+00,   3.75219646e-03,  -3.25810662e-02,\n",
       "         -2.08761371e-01,   1.00088921e+00,  -1.17881789e-01,\n",
       "          7.25385649e-01,   3.99894799e-01,  -9.33588377e-02,\n",
       "          3.45017498e-01,  -1.05206847e-01,   3.99894799e-01],\n",
       "       [  3.97651268e-01,  -7.52777242e-04,   1.41503129e-01,\n",
       "          4.69974681e-02,  -1.94729726e-01,  -8.84181936e-01,\n",
       "          7.91789028e-01,   3.55551178e-01,  -1.06784947e-01,\n",
       "          3.03565191e-01,  -1.17875492e-01,   3.55551178e-01],\n",
       "       [  2.65114260e-01,  -5.00294918e-04,   9.83379573e-02,\n",
       "          3.14878827e-02,  -4.62667491e-01,   2.38540744e-01,\n",
       "          8.05040027e-01,   5.84149736e-01,  -2.31996096e-01,\n",
       "          3.41353350e-01,  -2.47492027e-01,   5.84149736e-01],\n",
       "       [  6.61569133e-01,  -1.39190395e-03,   2.76502045e-02,\n",
       "          7.01779711e-02,   3.30698155e-01,   2.30548071e-01,\n",
       "         -1.02243433e-01,  -6.76535995e-01,  -2.18213541e-01,\n",
       "          3.42548687e-01,  -2.33369276e-01,   6.24732754e-01],\n",
       "       [  1.32029805e-01,  -3.32049388e-04,  -6.89623243e-02,\n",
       "         -7.69633701e-01,   9.95184974e-02,  -1.57349821e-02,\n",
       "          5.69058253e-02,   2.18755377e-02,  -6.44220620e-01,\n",
       "         -4.18570674e-04,   7.13403726e-01,  -9.20905960e-02],\n",
       "       [ -1.21617606e-07,   5.82379438e-01,   1.17240970e-01,\n",
       "          5.20372449e-01,   1.10170093e-01,   2.29136907e-02,\n",
       "          2.22119918e-02,   1.75080966e-01,  -5.42799157e-01,\n",
       "         -2.85054582e-01,   2.99229940e-02,   9.34163655e-01],\n",
       "       [  1.32557139e-01,  -2.50146431e-04,   4.91729435e-02,\n",
       "          1.57440959e-02,  -7.30889357e-01,   2.29291775e-01,\n",
       "         -5.38269389e-01,  -6.45137682e-02,  -1.65150785e-01,\n",
       "          1.73177087e-02,  -2.67428629e-01,   9.98649658e-01]])\n",
       "    njev: 43)"
      ]
     },
     "execution_count": 39,
     "metadata": {},
     "output_type": "execute_result"
    }
   ],
   "source": [
    "eqsys.root(simpl_c0, method='lm', rref=False, norm=True, pres_norm=True, scaling=1e12, delta=1e3, logC=True)\n",
    "#eqsys.root({H2O: 55.5, Hp: 1e-10, OHm: 1e-3, NH3: 1.0, NH4p: 1e-3}, delta=1e-6, method='lm')"
   ]
  },
  {
   "cell_type": "code",
   "execution_count": 40,
   "metadata": {
    "collapsed": false,
    "scrolled": true
   },
   "outputs": [
    {
     "name": "stderr",
     "output_type": "stream",
     "text": [
      "/home/bjorn/.local/lib/python2.7/site-packages/numpy/__init__.py:1: RuntimeWarning: overflow encountered in exp\n",
      "  \"\"\"\n",
      "/home/bjorn/.local/lib/python2.7/site-packages/numpy/__init__.py:1: RuntimeWarning: overflow encountered in exp\n",
      "  \"\"\"\n",
      "/home/bjorn/.local/lib/python2.7/site-packages/numpy/__init__.py:1: RuntimeWarning: overflow encountered in exp\n",
      "  \"\"\"\n",
      "/home/bjorn/.local/lib/python2.7/site-packages/numpy/__init__.py:1: RuntimeWarning: overflow encountered in exp\n",
      "  \"\"\"\n",
      "/home/bjorn/.local/lib/python2.7/site-packages/numpy/__init__.py:1: RuntimeWarning: overflow encountered in exp\n",
      "  \"\"\"\n",
      "/home/bjorn/.local/lib/python2.7/site-packages/numpy/__init__.py:1: RuntimeWarning: overflow encountered in exp\n",
      "  \"\"\"\n",
      "/home/bjorn/.local/lib/python2.7/site-packages/numpy/__init__.py:1: RuntimeWarning: overflow encountered in exp\n",
      "  \"\"\"\n"
     ]
    },
    {
     "data": {
      "text/plain": [
       "False"
      ]
     },
     "execution_count": 40,
     "metadata": {},
     "output_type": "execute_result"
    },
    {
     "data": {
      "image/png": "[encoded data removed]",
      "text/plain": [
       "<matplotlib.figure.Figure at 0x7ff2426c5410>"
      ]
     },
     "metadata": {},
     "output_type": "display_data"
    }
   ],
   "source": [
    "import numpy as np\n",
    "Cout_logC, inits_logC, success = eqsys.plot(simpl_c0, NH3, np.logspace(-3, 1, 20), norm=True, pres_norm=True, rref=False,\n",
    "                            scaling=1e12, method='lm', charge=False, logC=True, presw=1000)\n",
    "all(success)"
   ]
  },
  {
   "cell_type": "code",
   "execution_count": 42,
   "metadata": {
    "collapsed": false
   },
   "outputs": [
    {
     "ename": "ValueError",
     "evalue": "0-interval",
     "output_type": "error",
     "traceback": [
      "\u001b[1;31m---------------------------------------------------------------------------\u001b[0m",
      "\u001b[1;31mValueError\u001b[0m                                Traceback (most recent call last)",
      "\u001b[1;32m<ipython-input-42-91d1a7fa42fb>\u001b[0m in \u001b[0;36m<module>\u001b[1;34m()\u001b[0m\n\u001b[0;32m      1\u001b[0m \u001b[1;32mimport\u001b[0m \u001b[0mnumpy\u001b[0m \u001b[1;32mas\u001b[0m \u001b[0mnp\u001b[0m\u001b[1;33m\u001b[0m\u001b[0m\n\u001b[0;32m      2\u001b[0m _1, _2, success = eqsys.plot(simpl_c0, NH3, np.logspace(-3, 1, 10), norm=True, pres_norm=True, rref=False,\n\u001b[1;32m----> 3\u001b[1;33m                             scaling=1e6, init_guess=Cout_logC, init_iter=50, charge=False)\n\u001b[0m\u001b[0;32m      4\u001b[0m \u001b[0mall\u001b[0m\u001b[1;33m(\u001b[0m\u001b[0msuccess\u001b[0m\u001b[1;33m)\u001b[0m\u001b[1;33m\u001b[0m\u001b[0m\n",
      "\u001b[1;32m/home/bjorn/vc/aqchem/examples/aqchem/equilibria.py\u001b[0m in \u001b[0;36mplot\u001b[1;34m(self, init_concs, varied, values, ax, fail_vline, plot_kwargs, subplot_kwargs, **kwargs)\u001b[0m\n\u001b[0;32m    316\u001b[0m             \u001b[0mplot_kwargs\u001b[0m \u001b[1;33m=\u001b[0m \u001b[1;33m{\u001b[0m\u001b[1;33m}\u001b[0m\u001b[1;33m\u001b[0m\u001b[0m\n\u001b[0;32m    317\u001b[0m         x, new_init_concs, success = self.multiple_root(\n\u001b[1;32m--> 318\u001b[1;33m             init_concs, varied, values, **kwargs)\n\u001b[0m\u001b[0;32m    319\u001b[0m         \u001b[0mls\u001b[0m\u001b[1;33m,\u001b[0m \u001b[0mc\u001b[0m \u001b[1;33m=\u001b[0m \u001b[1;34m'- -- : ;'\u001b[0m\u001b[1;33m.\u001b[0m\u001b[0msplit\u001b[0m\u001b[1;33m(\u001b[0m\u001b[1;33m)\u001b[0m\u001b[1;33m,\u001b[0m \u001b[1;34m'krgbcmy'\u001b[0m\u001b[1;33m\u001b[0m\u001b[0m\n\u001b[0;32m    320\u001b[0m         \u001b[0mextra_kw\u001b[0m \u001b[1;33m=\u001b[0m \u001b[1;33m{\u001b[0m\u001b[1;33m}\u001b[0m\u001b[1;33m\u001b[0m\u001b[0m\n",
      "\u001b[1;32m/home/bjorn/vc/aqchem/examples/aqchem/equilibria.py\u001b[0m in \u001b[0;36mmultiple_root\u001b[1;34m(self, init_concs, varied, values, carry, init_guess, **kwargs)\u001b[0m\n\u001b[0;32m    301\u001b[0m                 \u001b[0mx0\u001b[0m \u001b[1;33m=\u001b[0m \u001b[0mres\u001b[0m\u001b[1;33m.\u001b[0m\u001b[0mx\u001b[0m\u001b[1;33m\u001b[0m\u001b[0m\n\u001b[0;32m    302\u001b[0m             resx, res = self.root(init_concs[idx, :], init_guess=g0,\n\u001b[1;32m--> 303\u001b[1;33m                                   x0=x0, **root_kw)\n\u001b[0m\u001b[0;32m    304\u001b[0m             \u001b[0msuccess\u001b[0m\u001b[1;33m[\u001b[0m\u001b[0midx\u001b[0m\u001b[1;33m]\u001b[0m \u001b[1;33m=\u001b[0m \u001b[0mresx\u001b[0m \u001b[1;32mis\u001b[0m \u001b[1;32mnot\u001b[0m \u001b[0mNone\u001b[0m\u001b[1;33m\u001b[0m\u001b[0m\n\u001b[0;32m    305\u001b[0m             \u001b[0mx\u001b[0m\u001b[1;33m[\u001b[0m\u001b[0midx\u001b[0m\u001b[1;33m,\u001b[0m \u001b[1;33m:\u001b[0m\u001b[1;33m]\u001b[0m \u001b[1;33m=\u001b[0m \u001b[0mresx\u001b[0m\u001b[1;33m\u001b[0m\u001b[0m\n",
      "\u001b[1;32m/home/bjorn/vc/aqchem/examples/aqchem/equilibria.py\u001b[0m in \u001b[0;36mroot\u001b[1;34m(self, init_concs, scaling, logC, square, tanh, delta, reduced, norm, init_iter, pres_norm, init_guess, x0, pres1st, presw, const, rref, charge, **kwargs)\u001b[0m\n\u001b[0;32m    542\u001b[0m                 \u001b[0minit_guess\u001b[0m \u001b[1;33m=\u001b[0m \u001b[0minit_concs\u001b[0m\u001b[1;33m\u001b[0m\u001b[0m\n\u001b[0;32m    543\u001b[0m             x0 = self.initial_guess(init_guess + delta, scaling=scaling,\n\u001b[1;32m--> 544\u001b[1;33m                                     repetitions=init_iter)\n\u001b[0m\u001b[0;32m    545\u001b[0m             \u001b[1;32mif\u001b[0m \u001b[0mreduced\u001b[0m \u001b[1;32mor\u001b[0m \u001b[0mlen\u001b[0m\u001b[1;33m(\u001b[0m\u001b[0mconst\u001b[0m\u001b[1;33m)\u001b[0m \u001b[1;33m>\u001b[0m \u001b[1;36m0\u001b[0m\u001b[1;33m:\u001b[0m\u001b[1;33m\u001b[0m\u001b[0m\n\u001b[0;32m    546\u001b[0m                 x0 = np.array([x for idx, x in enumerate(x0) if\n",
      "\u001b[1;32m/home/bjorn/vc/aqchem/examples/aqchem/equilibria.py\u001b[0m in \u001b[0;36minitial_guess\u001b[1;34m(self, init_concs, scaling, repetitions, steffensens)\u001b[0m\n\u001b[0;32m    606\u001b[0m         \u001b[0minit_concs\u001b[0m \u001b[1;33m=\u001b[0m \u001b[0minit_concs\u001b[0m\u001b[1;33m*\u001b[0m\u001b[0mscaling\u001b[0m\u001b[1;33m\u001b[0m\u001b[0m\n\u001b[0;32m    607\u001b[0m         \u001b[1;32mfor\u001b[0m \u001b[0m_\u001b[0m \u001b[1;32min\u001b[0m \u001b[0mrange\u001b[0m\u001b[1;33m(\u001b[0m\u001b[0mrepetitions\u001b[0m\u001b[1;33m)\u001b[0m\u001b[1;33m:\u001b[0m\u001b[1;33m\u001b[0m\u001b[0m\n\u001b[1;32m--> 608\u001b[1;33m             \u001b[0minit_concs\u001b[0m \u001b[1;33m=\u001b[0m \u001b[0mf\u001b[0m\u001b[1;33m(\u001b[0m\u001b[0minit_concs\u001b[0m\u001b[1;33m)\u001b[0m\u001b[1;33m\u001b[0m\u001b[0m\n\u001b[0m\u001b[0;32m    609\u001b[0m \u001b[1;33m\u001b[0m\u001b[0m\n\u001b[0;32m    610\u001b[0m         \u001b[1;32mfor\u001b[0m \u001b[0m_\u001b[0m \u001b[1;32min\u001b[0m \u001b[0mrange\u001b[0m\u001b[1;33m(\u001b[0m\u001b[0msteffensens\u001b[0m\u001b[1;33m)\u001b[0m\u001b[1;33m:\u001b[0m\u001b[1;33m\u001b[0m\u001b[0m\n",
      "\u001b[1;32m/home/bjorn/vc/aqchem/examples/aqchem/equilibria.py\u001b[0m in \u001b[0;36mf\u001b[1;34m(x)\u001b[0m\n\u001b[0;32m    602\u001b[0m                 xnew += solve_equilibrium(\n\u001b[0;32m    603\u001b[0m                     \u001b[0mx\u001b[0m\u001b[1;33m,\u001b[0m \u001b[0mself\u001b[0m\u001b[1;33m.\u001b[0m\u001b[0mstoichs\u001b[0m\u001b[1;33m[\u001b[0m\u001b[1;33m:\u001b[0m\u001b[1;33m,\u001b[0m \u001b[0mri\u001b[0m\u001b[1;33m]\u001b[0m\u001b[1;33m,\u001b[0m\u001b[1;33m\u001b[0m\u001b[0m\n\u001b[1;32m--> 604\u001b[1;33m                     eq.params * scaling**eq.dimensionality())\n\u001b[0m\u001b[0;32m    605\u001b[0m             \u001b[1;32mreturn\u001b[0m \u001b[0mxnew\u001b[0m\u001b[1;33m/\u001b[0m\u001b[0mself\u001b[0m\u001b[1;33m.\u001b[0m\u001b[0mnr\u001b[0m\u001b[1;33m\u001b[0m\u001b[0m\n\u001b[0;32m    606\u001b[0m         \u001b[0minit_concs\u001b[0m \u001b[1;33m=\u001b[0m \u001b[0minit_concs\u001b[0m\u001b[1;33m*\u001b[0m\u001b[0mscaling\u001b[0m\u001b[1;33m\u001b[0m\u001b[0m\n",
      "\u001b[1;32m/home/bjorn/vc/aqchem/examples/aqchem/equilibria.py\u001b[0m in \u001b[0;36msolve_equilibrium\u001b[1;34m(c0, stoich, K, activity_product)\u001b[0m\n\u001b[0;32m    105\u001b[0m     \u001b[0mstoich\u001b[0m \u001b[1;33m=\u001b[0m \u001b[0mnp\u001b[0m\u001b[1;33m.\u001b[0m\u001b[0marray\u001b[0m\u001b[1;33m(\u001b[0m\u001b[0mstoich\u001b[0m\u001b[1;33m)\u001b[0m\u001b[1;33m\u001b[0m\u001b[0m\n\u001b[0;32m    106\u001b[0m     \u001b[0mc0\u001b[0m \u001b[1;33m=\u001b[0m \u001b[0mnp\u001b[0m\u001b[1;33m.\u001b[0m\u001b[0marray\u001b[0m\u001b[1;33m(\u001b[0m\u001b[0mc0\u001b[0m\u001b[1;33m)\u001b[0m\u001b[1;33m\u001b[0m\u001b[0m\n\u001b[1;32m--> 107\u001b[1;33m     \u001b[0mrc\u001b[0m \u001b[1;33m=\u001b[0m \u001b[0m_solve_equilibrium_coord\u001b[0m\u001b[1;33m(\u001b[0m\u001b[0mc0\u001b[0m\u001b[1;33m,\u001b[0m \u001b[0mstoich\u001b[0m\u001b[1;33m,\u001b[0m \u001b[0mK\u001b[0m\u001b[1;33m,\u001b[0m \u001b[0mactivity_product\u001b[0m\u001b[1;33m)\u001b[0m\u001b[1;33m\u001b[0m\u001b[0m\n\u001b[0m\u001b[0;32m    108\u001b[0m     \u001b[1;32mreturn\u001b[0m \u001b[0mc0\u001b[0m \u001b[1;33m+\u001b[0m \u001b[0mrc\u001b[0m\u001b[1;33m*\u001b[0m\u001b[0mstoich\u001b[0m\u001b[1;33m\u001b[0m\u001b[0m\n\u001b[0;32m    109\u001b[0m \u001b[1;33m\u001b[0m\u001b[0m\n",
      "\u001b[1;32m/home/bjorn/vc/aqchem/examples/aqchem/equilibria.py\u001b[0m in \u001b[0;36m_solve_equilibrium_coord\u001b[1;34m(c0, stoich, K, activity_product)\u001b[0m\n\u001b[0;32m     74\u001b[0m     \u001b[0mstoich_m\u001b[0m \u001b[1;33m=\u001b[0m \u001b[0mstoich\u001b[0m\u001b[1;33m[\u001b[0m\u001b[0mmask\u001b[0m\u001b[1;33m]\u001b[0m\u001b[1;33m\u001b[0m\u001b[0m\n\u001b[0;32m     75\u001b[0m     \u001b[0mc0_m\u001b[0m \u001b[1;33m=\u001b[0m \u001b[0mc0\u001b[0m\u001b[1;33m[\u001b[0m\u001b[0mmask\u001b[0m\u001b[1;33m]\u001b[0m\u001b[1;33m\u001b[0m\u001b[0m\n\u001b[1;32m---> 76\u001b[1;33m     \u001b[0mlower\u001b[0m\u001b[1;33m,\u001b[0m \u001b[0mupper\u001b[0m \u001b[1;33m=\u001b[0m \u001b[0mget_rc_interval\u001b[0m\u001b[1;33m(\u001b[0m\u001b[0mstoich_m\u001b[0m\u001b[1;33m,\u001b[0m \u001b[0mc0_m\u001b[0m\u001b[1;33m)\u001b[0m\u001b[1;33m\u001b[0m\u001b[0m\n\u001b[0m\u001b[0;32m     77\u001b[0m     \u001b[1;31m# span = upper - lower\u001b[0m\u001b[1;33m\u001b[0m\u001b[1;33m\u001b[0m\u001b[0m\n\u001b[0;32m     78\u001b[0m     return brentq(\n",
      "\u001b[1;32m/home/bjorn/vc/aqchem/examples/aqchem/equilibria.py\u001b[0m in \u001b[0;36mget_rc_interval\u001b[1;34m(stoich, c0)\u001b[0m\n\u001b[0;32m     64\u001b[0m \u001b[1;33m\u001b[0m\u001b[0m\n\u001b[0;32m     65\u001b[0m     \u001b[1;32mif\u001b[0m \u001b[0mlower\u001b[0m \u001b[1;32mis\u001b[0m \u001b[1;36m0\u001b[0m \u001b[1;32mand\u001b[0m \u001b[0mupper\u001b[0m \u001b[1;32mis\u001b[0m \u001b[1;36m0\u001b[0m\u001b[1;33m:\u001b[0m\u001b[1;33m\u001b[0m\u001b[0m\n\u001b[1;32m---> 66\u001b[1;33m         \u001b[1;32mraise\u001b[0m \u001b[0mValueError\u001b[0m\u001b[1;33m(\u001b[0m\u001b[1;34m\"0-interval\"\u001b[0m\u001b[1;33m)\u001b[0m\u001b[1;33m\u001b[0m\u001b[0m\n\u001b[0m\u001b[0;32m     67\u001b[0m     \u001b[1;32melse\u001b[0m\u001b[1;33m:\u001b[0m\u001b[1;33m\u001b[0m\u001b[0m\n\u001b[0;32m     68\u001b[0m         \u001b[1;32mreturn\u001b[0m \u001b[0mlower\u001b[0m\u001b[1;33m,\u001b[0m \u001b[0mupper\u001b[0m\u001b[1;33m\u001b[0m\u001b[0m\n",
      "\u001b[1;31mValueError\u001b[0m: 0-interval"
     ]
    },
    {
     "data": {
      "image/png": "[encoded data removed]",
      "text/plain": [
       "<matplotlib.figure.Figure at 0x7ff241c9cf90>"
      ]
     },
     "metadata": {},
     "output_type": "display_data"
    }
   ],
   "source": [
    "import numpy as np\n",
    "_1, _2, success = eqsys.plot(simpl_c0, NH3, np.logspace(-3, 1, 10), norm=True, pres_norm=True, rref=False,\n",
    "                            scaling=1e6, init_guess=Cout_logC, init_iter=50, charge=False)\n",
    "all(success)"
   ]
  },
  {
   "cell_type": "code",
   "execution_count": 28,
   "metadata": {
    "collapsed": false,
    "scrolled": true
   },
   "outputs": [
    {
     "name": "stderr",
     "output_type": "stream",
     "text": [
      "/home/bjorn/.local/lib/python2.7/site-packages/numpy/__init__.py:1: RuntimeWarning: overflow encountered in exp\n",
      "  \"\"\"\n",
      "/home/bjorn/.local/lib/python2.7/site-packages/numpy/__init__.py:1: RuntimeWarning: overflow encountered in exp\n",
      "  \"\"\"\n",
      "/home/bjorn/.local/lib/python2.7/site-packages/numpy/__init__.py:1: RuntimeWarning: overflow encountered in exp\n",
      "  \"\"\"\n",
      "/home/bjorn/.local/lib/python2.7/site-packages/numpy/__init__.py:1: RuntimeWarning: overflow encountered in exp\n",
      "  \"\"\"\n",
      "/home/bjorn/.local/lib/python2.7/site-packages/numpy/__init__.py:1: RuntimeWarning: overflow encountered in exp\n",
      "  \"\"\"\n",
      "/home/bjorn/.local/lib/python2.7/site-packages/numpy/__init__.py:1: RuntimeWarning: overflow encountered in exp\n",
      "  \"\"\"\n",
      "/home/bjorn/.local/lib/python2.7/site-packages/numpy/__init__.py:1: RuntimeWarning: overflow encountered in exp\n",
      "  \"\"\"\n",
      "/home/bjorn/.local/lib/python2.7/site-packages/numpy/__init__.py:1: RuntimeWarning: overflow encountered in exp\n",
      "  \"\"\"\n",
      "/home/bjorn/.local/lib/python2.7/site-packages/numpy/__init__.py:1: RuntimeWarning: overflow encountered in exp\n",
      "  \"\"\"\n",
      "/home/bjorn/.local/lib/python2.7/site-packages/numpy/__init__.py:1: RuntimeWarning: overflow encountered in exp\n",
      "  \"\"\"\n"
     ]
    },
    {
     "data": {
      "text/plain": [
       "True"
      ]
     },
     "execution_count": 28,
     "metadata": {},
     "output_type": "execute_result"
    },
    {
     "data": {
      "image/png": "[encoded data removed]",
      "text/plain": [
       "<matplotlib.figure.Figure at 0x7faff9907e50>"
      ]
     },
     "metadata": {},
     "output_type": "display_data"
    }
   ],
   "source": [
    "import numpy as np\n",
    "x, inits_out, success = eqsys.plot(simpl_c0, NH3, np.logspace(-3, 1, 10), delta=1e-4, method='lm',\n",
    "                                   carry=False, logC=True, pres1st=True, presw=100) #, init_iter=50)#, pres1st=True, norm=True, scaling=1)\n",
    "all(success)"
   ]
  },
  {
   "cell_type": "code",
   "execution_count": 14,
   "metadata": {
    "collapsed": false
   },
   "outputs": [
    {
     "name": "stderr",
     "output_type": "stream",
     "text": [
      "aqchem/equilibria.py:25: RuntimeWarning: divide by zero encountered in reciprocal\n",
      "  tot *= conc**nr\n",
      "aqchem/equilibria.py:25: RuntimeWarning: invalid value encountered in multiply\n",
      "  tot *= conc**nr\n"
     ]
    },
    {
     "data": {
      "image/png": "[encoded data removed]",
      "text/plain": [
       "<matplotlib.figure.Figure at 0x7faff9e47dd0>"
      ]
     },
     "metadata": {},
     "output_type": "display_data"
    }
   ],
   "source": [
    "eqsys.plot_errors(x, inits_out, NH3)"
   ]
  },
  {
   "cell_type": "code",
   "execution_count": 15,
   "metadata": {
    "collapsed": false,
    "scrolled": false
   },
   "outputs": [
    {
     "data": {
      "text/latex": [
       "$H_2O \\rightleftharpoons H^+ + OH^-$"
      ],
      "text/plain": [
       "<IPython.core.display.Latex object>"
      ]
     },
     "metadata": {},
     "output_type": "display_data"
    },
    {
     "data": {
      "text/latex": [
       "$NH_4^+ \\rightleftharpoons H^+ + NH_3$"
      ],
      "text/plain": [
       "<IPython.core.display.Latex object>"
      ]
     },
     "metadata": {},
     "output_type": "display_data"
    },
    {
     "data": {
      "text/latex": [
       "$Cu(NH_3)^{2+} \\rightleftharpoons Cu^{2+} + NH_3$"
      ],
      "text/plain": [
       "<IPython.core.display.Latex object>"
      ]
     },
     "metadata": {},
     "output_type": "display_data"
    },
    {
     "data": {
      "text/latex": [
       "$Cu(NH_3)_2^{2+} \\rightleftharpoons Cu^{2+} + 2 NH_3$"
      ],
      "text/plain": [
       "<IPython.core.display.Latex object>"
      ]
     },
     "metadata": {},
     "output_type": "display_data"
    },
    {
     "data": {
      "text/latex": [
       "$Cu(NH_3)_3^{2+} \\rightleftharpoons Cu^{2+} + 3 NH_3$"
      ],
      "text/plain": [
       "<IPython.core.display.Latex object>"
      ]
     },
     "metadata": {},
     "output_type": "display_data"
    },
    {
     "data": {
      "text/latex": [
       "$Cu(NH_3)_4^{2+} \\rightleftharpoons Cu^{2+} + 4 NH_3$"
      ],
      "text/plain": [
       "<IPython.core.display.Latex object>"
      ]
     },
     "metadata": {},
     "output_type": "display_data"
    },
    {
     "data": {
      "text/latex": [
       "$Cu(NH_3)_5^{2+} \\rightleftharpoons Cu^{2+} + 5 NH_3$"
      ],
      "text/plain": [
       "<IPython.core.display.Latex object>"
      ]
     },
     "metadata": {},
     "output_type": "display_data"
    },
    {
     "data": {
      "text/latex": [
       "$2 Cu^{2+} + 2 H_2O \\rightleftharpoons Cu_2(OH)_2^{2+} + 2 H^+$"
      ],
      "text/plain": [
       "<IPython.core.display.Latex object>"
      ]
     },
     "metadata": {},
     "output_type": "display_data"
    },
    {
     "data": {
      "text/latex": [
       "$Cu(OH_2)(s) + OH^- \\rightleftharpoons Cu(OH)_3^-$"
      ],
      "text/plain": [
       "<IPython.core.display.Latex object>"
      ]
     },
     "metadata": {},
     "output_type": "display_data"
    },
    {
     "data": {
      "text/latex": [
       "$Cu(OH_2)(s) + 2 OH^- \\rightleftharpoons Cu(OH)_4^{2-}$"
      ],
      "text/plain": [
       "<IPython.core.display.Latex object>"
      ]
     },
     "metadata": {},
     "output_type": "display_data"
    },
    {
     "data": {
      "text/latex": [
       "$Cu(OH_2)(s) \\rightleftharpoons Cu^{2+} + 2 OH^-$"
      ],
      "text/plain": [
       "<IPython.core.display.Latex object>"
      ]
     },
     "metadata": {},
     "output_type": "display_data"
    }
   ],
   "source": [
    "for eq in equilibria:\n",
    "    show(eq.latex())"
   ]
  },
  {
   "cell_type": "code",
   "execution_count": 16,
   "metadata": {
    "collapsed": true
   },
   "outputs": [],
   "source": [
    "reaction_system = EqSystem(equilibria, substances)"
   ]
  },
  {
   "cell_type": "code",
   "execution_count": 17,
   "metadata": {
    "collapsed": false
   },
   "outputs": [],
   "source": [
    "import sympy as sp\n",
    "#sp.init_printing()\n",
    "y = sp.symarray('y', len(substances))\n",
    "s = sp.symbols('s')"
   ]
  },
  {
   "cell_type": "markdown",
   "metadata": {},
   "source": [
    "ys = []\n",
    "class LatexSymbol(sp.Symbol):\n",
    "    def _print_latex(self):\n",
    "        return self.name\n",
    "  \n",
    "for sbs in reaction_system.substances:\n",
    "    ys.append(LatexSymbol('[' + sbs.latex_name + ']'))\n",
    "    print(ys[-1].name)\n",
    "ys"
   ]
  },
  {
   "cell_type": "code",
   "execution_count": 29,
   "metadata": {
    "collapsed": false
   },
   "outputs": [
    {
     "data": {
      "image/png": "[encoded data removed]",
      "text/latex": [
       "$$\\left [ -1 + \\frac{5.55 \\cdot 10^{15} y_{0}}{s y_{4}} y_{1}, \\quad -1 + \\frac{1819700858.60998 y_{0} y_{3}}{s y_{2}}, \\quad -1 + \\frac{5.01187233627272 \\cdot 10^{-5} y_{3}}{s y_{6}} y_{5}, \\quad -1 + \\frac{1.25892541179417 \\cdot 10^{-8} y_{5}}{s^{2} y_{7}} y_{3}^{2}, \\quad -1 + \\frac{1.58489319246111 \\cdot 10^{-11} y_{5}}{s^{3} y_{8}} y_{3}^{3}, \\quad -1 + \\frac{1.0 \\cdot 10^{-13} y_{5}}{s^{4} y_{9}} y_{3}^{4}, \\quad -1 + \\frac{3.98107170553497 \\cdot 10^{-13} y_{5}}{s^{5} y_{10}} y_{3}^{5}, \\quad \\frac{1.62709920826969 \\cdot 10^{-8} s}{y_{4}^{2} y_{5}^{2}} y_{0}^{2} y_{11} - 1, \\quad -1 + \\frac{3981.07170553497 y_{12}}{y_{1}}, \\quad \\frac{501.187233627272 s}{y_{1}^{2}} y_{13} - 1, \\quad -1 + \\frac{y_{1}^{2} y_{5}}{s^{3}} 6.30957344480194 \\cdot 10^{18}\\right ]$$"
      ],
      "text/plain": [
       "⎡                                                                             \n",
       "⎢     5.55e+15⋅y₀⋅y₁       1819700858.60998⋅y₀⋅y₃       5.01187233627272e-5⋅y₃\n",
       "⎢-1 + ──────────────, -1 + ──────────────────────, -1 + ──────────────────────\n",
       "⎢          s⋅y₄                     s⋅y₂                           s⋅y₆       \n",
       "⎣                                                                             \n",
       "\n",
       "                                2                                 3           \n",
       "⋅y₅       1.25892541179417e-8⋅y₃ ⋅y₅       1.58489319246111e-11⋅y₃ ⋅y₅       1\n",
       "───, -1 + ──────────────────────────, -1 + ───────────────────────────, -1 + ─\n",
       "                     2                                 3                      \n",
       "                    s ⋅y₇                             s ⋅y₈                   \n",
       "\n",
       "         4                                 5                             2    \n",
       ".0e-13⋅y₃ ⋅y₅       3.98107170553497e-13⋅y₃ ⋅y₅  1.62709920826969e-8⋅s⋅y₀ ⋅y₁₁\n",
       "─────────────, -1 + ───────────────────────────, ─────────────────────────────\n",
       "    4                           5                             2   2           \n",
       "   s ⋅y₉                       s ⋅y₁₀                       y₄ ⋅y₅            \n",
       "\n",
       "                                                                              \n",
       "           3981.07170553497⋅y₁₂  501.187233627272⋅s⋅y₁₃           6.3095734448\n",
       " - 1, -1 + ────────────────────, ────────────────────── - 1, -1 + ────────────\n",
       "                    y₁                      2                                 \n",
       "                                          y₁                                  \n",
       "\n",
       "           2   ⎤\n",
       "0194e+18⋅y₁ ⋅y₅⎥\n",
       "───────────────⎥\n",
       "  3            ⎥\n",
       " s             ⎦"
      ]
     },
     "execution_count": 29,
     "metadata": {},
     "output_type": "execute_result"
    }
   ],
   "source": [
    "qk = reaction_system.qk(y, scaling=s, norm=True)\n",
    "qk"
   ]
  },
  {
   "cell_type": "code",
   "execution_count": 19,
   "metadata": {
    "collapsed": false
   },
   "outputs": [
    {
     "data": {
      "image/png": "[encoded data removed]",
      "text/latex": [
       "$$y_{0} - y_{1} + 2 y_{10} + 2 y_{11} - y_{12} - 2 y_{13} + y_{2} + 2 y_{5} + 2 y_{6} + 2 y_{7} + 2 y_{8} + 2 y_{9}$$"
      ],
      "text/plain": [
       "y₀ - y₁ + 2⋅y₁₀ + 2⋅y₁₁ - y₁₂ - 2⋅y₁₃ + y₂ + 2⋅y₅ + 2⋅y₆ + 2⋅y₇ + 2⋅y₈ + 2⋅y₉"
      ]
     },
     "execution_count": 19,
     "metadata": {},
     "output_type": "execute_result"
    }
   ],
   "source": [
    "charge_balance(substances, y)"
   ]
  },
  {
   "cell_type": "code",
   "execution_count": 20,
   "metadata": {
    "collapsed": false
   },
   "outputs": [
    {
     "data": {
      "image/png": "[encoded data removed]",
      "text/latex": [
       "$$y_{0} + y_{1} + 15 y_{10} + 2 y_{11} + 3 y_{12} + 4 y_{13} + 2 y_{14} + 4 y_{2} + 3 y_{3} + 2 y_{4} + 3 y_{6} + 6 y_{7} + 9 y_{8} + 12 y_{9}$$"
      ],
      "text/plain": [
       "y₀ + y₁ + 15⋅y₁₀ + 2⋅y₁₁ + 3⋅y₁₂ + 4⋅y₁₃ + 2⋅y₁₄ + 4⋅y₂ + 3⋅y₃ + 2⋅y₄ + 3⋅y₆ +\n",
       " 6⋅y₇ + 9⋅y₈ + 12⋅y₉"
      ]
     },
     "execution_count": 20,
     "metadata": {},
     "output_type": "execute_result"
    }
   ],
   "source": [
    "atom_balance(substances, y, 1)"
   ]
  },
  {
   "cell_type": "code",
   "execution_count": 21,
   "metadata": {
    "collapsed": false
   },
   "outputs": [
    {
     "data": {
      "image/png": "[encoded data removed]",
      "text/latex": [
       "$$\\left [ \\frac{y_{0} y_{1}}{y_{4}}, \\quad \\frac{y_{0} y_{3}}{y_{2}}, \\quad \\frac{y_{3} y_{5}}{y_{6}}, \\quad \\frac{y_{3}^{2} y_{5}}{y_{7}}, \\quad \\frac{y_{3}^{3} y_{5}}{y_{8}}, \\quad \\frac{y_{3}^{4} y_{5}}{y_{9}}, \\quad \\frac{y_{3}^{5} y_{5}}{y_{10}}, \\quad \\frac{y_{0}^{2} y_{11}}{y_{4}^{2} y_{5}^{2}}, \\quad \\frac{y_{12}}{y_{1} y_{14}}, \\quad \\frac{y_{13}}{y_{1}^{2} y_{14}}, \\quad \\frac{y_{1}^{2} y_{5}}{y_{14}}\\right ]$$"
      ],
      "text/plain": [
       "⎡                       2       3       4       5       2                     \n",
       "⎢y₀⋅y₁  y₀⋅y₃  y₃⋅y₅  y₃ ⋅y₅  y₃ ⋅y₅  y₃ ⋅y₅  y₃ ⋅y₅  y₀ ⋅y₁₁   y₁₂      y₁₃  \n",
       "⎢─────, ─────, ─────, ──────, ──────, ──────, ──────, ───────, ──────, ───────\n",
       "⎢  y₄     y₂     y₆     y₇      y₈      y₉     y₁₀      2   2  y₁⋅y₁₄    2    \n",
       "⎣                                                     y₄ ⋅y₅           y₁ ⋅y₁₄\n",
       "\n",
       "    2   ⎤\n",
       "  y₁ ⋅y₅⎥\n",
       ", ──────⎥\n",
       "   y₁₄  ⎥\n",
       "        ⎦"
      ]
     },
     "execution_count": 21,
     "metadata": {},
     "output_type": "execute_result"
    }
   ],
   "source": [
    "reaction_system.equilibrium_quotients(y)"
   ]
  },
  {
   "cell_type": "code",
   "execution_count": 22,
   "metadata": {
    "collapsed": false
   },
   "outputs": [
    {
     "data": {
      "text/plain": [
       "((4, 15),\n",
       " [1, 7, 8, 29],\n",
       " array([[ 1,  1,  4,  3,  2,  0,  3,  6,  9, 12, 15,  2,  3,  4,  2],\n",
       "        [ 0,  0,  1,  1,  0,  0,  1,  2,  3,  4,  5,  0,  0,  0,  0],\n",
       "        [ 0,  1,  0,  0,  1,  0,  0,  0,  0,  0,  0,  2,  3,  4,  2],\n",
       "        [ 0,  0,  0,  0,  0,  1,  1,  1,  1,  1,  1,  2,  1,  1,  1]]),\n",
       " [1, -1, 1, 0, 0, 2, 2, 2, 2, 2, 2, 2, -1, -2, 0])"
      ]
     },
     "execution_count": 22,
     "metadata": {},
     "output_type": "execute_result"
    }
   ],
   "source": [
    "chg_vec = reaction_system.charge_balance_vector()\n",
    "atm_vecs, atm_nrs = reaction_system.atom_balance_vectors()\n",
    "import numpy as np\n",
    "arr = np.array(atm_vecs)\n",
    "arr.shape, atm_nrs, arr, chg_vec"
   ]
  },
  {
   "cell_type": "code",
   "execution_count": 23,
   "metadata": {
    "collapsed": false
   },
   "outputs": [
    {
     "data": {
      "image/png": "[encoded data removed]",
      "text/latex": [
       "$$\\left ( \\left[\\begin{array}{ccccccccccccccc}1 & -1 & 1 & 0 & 0 & 2 & 2 & 2 & 2 & 2 & 2 & 2 & -1 & -2 & 0\\\\1 & 1 & 4 & 3 & 2 & 0 & 3 & 6 & 9 & 12 & 15 & 2 & 3 & 4 & 2\\\\0 & 0 & 1 & 1 & 0 & 0 & 1 & 2 & 3 & 4 & 5 & 0 & 0 & 0 & 0\\\\0 & 1 & 0 & 0 & 1 & 0 & 0 & 0 & 0 & 0 & 0 & 2 & 3 & 4 & 2\\\\0 & 0 & 0 & 0 & 0 & 1 & 1 & 1 & 1 & 1 & 1 & 2 & 1 & 1 & 1\\end{array}\\right], \\quad \\left[\\begin{array}{ccccccccccccccc}1 & 0 & 0 & -1 & 1 & 0 & -1 & -2 & -3 & -4 & -5 & 0 & 0 & 0 & 0\\\\0 & 1 & 0 & 0 & 1 & 0 & 0 & 0 & 0 & 0 & 0 & 2 & 3 & 4 & 2\\\\0 & 0 & 1 & 1 & 0 & 0 & 1 & 2 & 3 & 4 & 5 & 0 & 0 & 0 & 0\\\\0 & 0 & 0 & 0 & 0 & 1 & 1 & 1 & 1 & 1 & 1 & 2 & 1 & 1 & 1\\\\0 & 0 & 0 & 0 & 0 & 0 & 0 & 0 & 0 & 0 & 0 & 0 & 0 & 0 & 0\\end{array}\\right], \\quad \\left [ 0, \\quad 1, \\quad 2, \\quad 5\\right ]\\right )$$"
      ],
      "text/plain": [
       "⎛⎡1  -1  1  0  0  2  2  2  2  2   2   2  -1  -2  0⎤, ⎡1  0  0  -1  1  0  -1  -\n",
       "⎜⎢                                                ⎥  ⎢                        \n",
       "⎜⎢1  1   4  3  2  0  3  6  9  12  15  2  3   4   2⎥  ⎢0  1  0  0   1  0  0   0\n",
       "⎜⎢                                                ⎥  ⎢                        \n",
       "⎜⎢0  0   1  1  0  0  1  2  3  4   5   0  0   0   0⎥  ⎢0  0  1  1   0  0  1   2\n",
       "⎜⎢                                                ⎥  ⎢                        \n",
       "⎜⎢0  1   0  0  1  0  0  0  0  0   0   2  3   4   2⎥  ⎢0  0  0  0   0  1  1   1\n",
       "⎜⎢                                                ⎥  ⎢                        \n",
       "⎝⎣0  0   0  0  0  1  1  1  1  1   1   2  1   1   1⎦  ⎣0  0  0  0   0  0  0   0\n",
       "\n",
       "2  -3  -4  -5  0  0  0  0⎤, [0, 1, 2, 5]⎞\n",
       "                         ⎥              ⎟\n",
       "   0   0   0   2  3  4  2⎥              ⎟\n",
       "                         ⎥              ⎟\n",
       "   3   4   5   0  0  0  0⎥              ⎟\n",
       "                         ⎥              ⎟\n",
       "   1   1   1   2  1  1  1⎥              ⎟\n",
       "                         ⎥              ⎟\n",
       "   0   0   0   0  0  0  0⎦              ⎠"
      ]
     },
     "execution_count": 23,
     "metadata": {},
     "output_type": "execute_result"
    }
   ],
   "source": [
    "import sympy\n",
    "M = sympy.Matrix([chg_vec] + atm_vecs)\n",
    "rref, pivot = M.rref()\n",
    "M, rref, pivot"
   ]
  },
  {
   "cell_type": "code",
   "execution_count": 24,
   "metadata": {
    "collapsed": false
   },
   "outputs": [
    {
     "data": {
      "image/png": "[encoded data removed]",
      "text/latex": [
       "$$\\left [ 0, \\quad 1, \\quad 7, \\quad 8, \\quad 29\\right ]$$"
      ],
      "text/plain": [
       "[0, 1, 7, 8, 29]"
      ]
     },
     "execution_count": 24,
     "metadata": {},
     "output_type": "execute_result"
    }
   ],
   "source": [
    "rref, pivot = reaction_system.rref()\n",
    "atm_nrs = reaction_system.atom_balance_vectors()[1]\n",
    "[0] + atm_nrs\n",
    "#reaction_system.independent_atoms_from_pivot(pivot)"
   ]
  },
  {
   "cell_type": "code",
   "execution_count": 25,
   "metadata": {
    "collapsed": false
   },
   "outputs": [
    {
     "data": {
      "image/png": "[encoded data removed]",
      "text/latex": [
       "$$\\left [ - 1.8018018018018 \\cdot 10^{-16} s + \\frac{y_{0} y_{1}}{y_{4}}, \\quad - 5.49540873857625 \\cdot 10^{-10} s + \\frac{y_{0} y_{3}}{y_{2}}, \\quad - 19952.6231496888 s + \\frac{y_{3} y_{5}}{y_{6}}, \\quad - 79432823.4724282 s^{2} + \\frac{y_{3}^{2} y_{5}}{y_{7}}, \\quad - 63095734448.0194 s^{3} + \\frac{y_{3}^{3} y_{5}}{y_{8}}, \\quad - 10000000000000.0 s^{4} + \\frac{y_{3}^{4} y_{5}}{y_{9}}, \\quad - 2511886431509.58 s^{5} + \\frac{y_{3}^{5} y_{5}}{y_{10}}, \\quad \\frac{y_{0}^{2} y_{11}}{y_{4}^{2} y_{5}^{2}} - \\frac{61459067.4568289}{s}, \\quad - \\frac{0.000251188643150958}{y_{14}} + \\frac{y_{12}}{y_{1} y_{14}}, \\quad \\frac{y_{13}}{y_{1}^{2} y_{14}} - \\frac{0.00199526231496888}{s y_{14}}, \\quad - \\frac{s^{3}}{y_{14}} 1.58489319246111 \\cdot 10^{-19} + \\frac{y_{1}^{2} y_{5}}{y_{14}}\\right ]$$"
      ],
      "text/plain": [
       "⎡                                                                             \n",
       "⎢                         y₀⋅y₁                            y₀⋅y₃              \n",
       "⎢-1.8018018018018e-16⋅s + ─────, -5.49540873857625e-10⋅s + ─────, -19952.62314\n",
       "⎢                           y₄                               y₂               \n",
       "⎣                                                                             \n",
       "\n",
       "                                           2                               3  \n",
       "          y₃⋅y₅                      2   y₃ ⋅y₅                      3   y₃ ⋅y\n",
       "96888⋅s + ─────, - 79432823.4724282⋅s  + ──────, - 63095734448.0194⋅s  + ─────\n",
       "            y₆                             y₇                              y₈ \n",
       "                                                                              \n",
       "\n",
       "                             4                               5       2        \n",
       "₅                      4   y₃ ⋅y₅                      5   y₃ ⋅y₅  y₀ ⋅y₁₁   6\n",
       "─, - 10000000000000.0⋅s  + ──────, - 2511886431509.58⋅s  + ──────, ─────── - ─\n",
       "                             y₉                             y₁₀      2   2    \n",
       "                                                                   y₄ ⋅y₅     \n",
       "\n",
       "                                                                              \n",
       "1459067.4568289    0.000251188643150958    y₁₂      y₁₃     0.0019952623149688\n",
       "───────────────, - ──────────────────── + ──────, ─────── - ──────────────────\n",
       "      s                    y₁₄            y₁⋅y₁₄    2              s⋅y₁₄      \n",
       "                                                  y₁ ⋅y₁₄                     \n",
       "\n",
       "                           3     2   ⎤\n",
       "8    1.58489319246111e-19⋅s    y₁ ⋅y₅⎥\n",
       "─, - ─────────────────────── + ──────⎥\n",
       "               y₁₄              y₁₄  ⎥\n",
       "                                     ⎦"
      ]
     },
     "execution_count": 25,
     "metadata": {},
     "output_type": "execute_result"
    }
   ],
   "source": [
    "qk"
   ]
  },
  {
   "cell_type": "code",
   "execution_count": 26,
   "metadata": {
    "collapsed": false
   },
   "outputs": [
    {
     "ename": "ValueError",
     "evalue": "too many values to unpack",
     "output_type": "error",
     "traceback": [
      "\u001b[1;31m---------------------------------------------------------------------------\u001b[0m",
      "\u001b[1;31mValueError\u001b[0m                                Traceback (most recent call last)",
      "\u001b[1;32m<ipython-input-26-a0ca6caa4249>\u001b[0m in \u001b[0;36m<module>\u001b[1;34m()\u001b[0m\n\u001b[0;32m      2\u001b[0m \u001b[0mscaling\u001b[0m \u001b[1;33m=\u001b[0m \u001b[1;36m1.0\u001b[0m\u001b[1;33m\u001b[0m\u001b[0m\n\u001b[0;32m      3\u001b[0m \u001b[0mlogC\u001b[0m \u001b[1;33m=\u001b[0m \u001b[0mFalse\u001b[0m\u001b[1;33m\u001b[0m\u001b[0m\n\u001b[1;32m----> 4\u001b[1;33m \u001b[0mf\u001b[0m\u001b[1;33m,\u001b[0m \u001b[0mj\u001b[0m \u001b[1;33m=\u001b[0m \u001b[0mreaction_system\u001b[0m\u001b[1;33m.\u001b[0m\u001b[0mnum_cb_factory\u001b[0m\u001b[1;33m(\u001b[0m\u001b[0mc0arr\u001b[0m\u001b[1;33m*\u001b[0m\u001b[0mscaling\u001b[0m\u001b[1;33m,\u001b[0m \u001b[0mTrue\u001b[0m\u001b[1;33m,\u001b[0m \u001b[0mscaling\u001b[0m\u001b[1;33m=\u001b[0m\u001b[0mscaling\u001b[0m\u001b[1;33m,\u001b[0m \u001b[0mlogC\u001b[0m\u001b[1;33m=\u001b[0m\u001b[0mlogC\u001b[0m\u001b[1;33m)\u001b[0m\u001b[1;33m\u001b[0m\u001b[0m\n\u001b[0m\u001b[0;32m      5\u001b[0m \u001b[0mc0arr\u001b[0m\u001b[1;33m\u001b[0m\u001b[0m\n",
      "\u001b[1;31mValueError\u001b[0m: too many values to unpack"
     ]
    }
   ],
   "source": [
    "c0arr = np.array([init_conc[k] for k in reaction_system.substances])\n",
    "scaling = 1.0\n",
    "logC = False\n",
    "f, j = reaction_system.num_cb_factory(c0arr*scaling, True, scaling=scaling, logC=logC)\n",
    "c0arr"
   ]
  },
  {
   "cell_type": "code",
   "execution_count": null,
   "metadata": {
    "collapsed": false
   },
   "outputs": [],
   "source": [
    "x0 = c0arr+1e-17\n",
    "f(np.log(x0) if logC else x0)"
   ]
  },
  {
   "cell_type": "code",
   "execution_count": null,
   "metadata": {
    "collapsed": false
   },
   "outputs": [],
   "source": [
    "import matplotlib.pyplot as plt\n",
    "%matplotlib inline\n",
    "jmat = j(np.log(x0) if logC else x0)\n",
    "plt.imshow(jmat, cmap='binary', interpolation='None')\n",
    "jmat[:7, :4].tolist()"
   ]
  },
  {
   "cell_type": "code",
   "execution_count": null,
   "metadata": {
    "collapsed": false
   },
   "outputs": [],
   "source": [
    "len(substances)"
   ]
  },
  {
   "cell_type": "code",
   "execution_count": null,
   "metadata": {
    "collapsed": false
   },
   "outputs": [],
   "source": [
    "from scipy.optimize import root\n",
    "x0 = [1]*len(substances)\n",
    "root(f, x0, jac=j)"
   ]
  },
  {
   "cell_type": "code",
   "execution_count": null,
   "metadata": {
    "collapsed": false
   },
   "outputs": [],
   "source": [
    "reaction_system.root(init_conc, scaling=scaling, logC=logC, delta=1e-15)"
   ]
  },
  {
   "cell_type": "code",
   "execution_count": null,
   "metadata": {
    "collapsed": false
   },
   "outputs": [],
   "source": [
    "i = sp.symarray('i', len(y))\n",
    "print(i)\n",
    "reaction_system.f(y, i, scaling=s, reduced=True)"
   ]
  },
  {
   "cell_type": "code",
   "execution_count": null,
   "metadata": {
    "collapsed": false
   },
   "outputs": [],
   "source": [
    "f_elim, j_elim, elim, elm_cbs = reaction_system.num_cb_factory(c0arr*scaling, True, scaling=scaling, logC=logC, reduced=True)\n",
    "print(elim)"
   ]
  },
  {
   "cell_type": "code",
   "execution_count": null,
   "metadata": {
    "collapsed": false
   },
   "outputs": [],
   "source": [
    "c0arr_elim = np.array([x for idx, x in enumerate(c0arr) if idx not in elim]) + 1e-13\n",
    "x0elim = np.log(c0arr_elim) if logC else c0arr_elim\n",
    "f_elim(x0elim)"
   ]
  },
  {
   "cell_type": "code",
   "execution_count": null,
   "metadata": {
    "collapsed": false
   },
   "outputs": [],
   "source": [
    "jmat = j_elim(x0elim)\n",
    "plt.imshow(jmat, cmap='binary', interpolation='None')\n",
    "x0elim"
   ]
  },
  {
   "cell_type": "code",
   "execution_count": null,
   "metadata": {
    "collapsed": false
   },
   "outputs": [],
   "source": [
    "jmat"
   ]
  },
  {
   "cell_type": "code",
   "execution_count": null,
   "metadata": {
    "collapsed": false
   },
   "outputs": [],
   "source": [
    "reaction_system.root(init_conc, scaling=1e8, init_iter=100)"
   ]
  },
  {
   "cell_type": "code",
   "execution_count": null,
   "metadata": {
    "collapsed": true
   },
   "outputs": [],
   "source": []
  },
  {
   "cell_type": "code",
   "execution_count": null,
   "metadata": {
    "collapsed": true
   },
   "outputs": [],
   "source": []
  },
  {
   "cell_type": "code",
   "execution_count": null,
   "metadata": {
    "collapsed": true
   },
   "outputs": [],
   "source": []
  }
 ],
 "metadata": {
  "kernelspec": {
   "display_name": "Python 2",
   "language": "python",
   "name": "python2"
  },
  "language_info": {
   "codemirror_mode": {
    "name": "ipython",
    "version": 2
   },
   "file_extension": ".py",
   "mimetype": "text/x-python",
   "name": "python",
   "nbconvert_exporter": "python",
   "pygments_lexer": "ipython2",
   "version": "2.7.6"
  }
 },
 "nbformat": 4,
 "nbformat_minor": 0
}
