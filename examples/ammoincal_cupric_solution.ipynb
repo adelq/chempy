{
 "cells": [
  {
   "cell_type": "code",
   "execution_count": 6,
   "metadata": {
    "collapsed": false
   },
   "outputs": [],
   "source": [
    "from aqchem.chemistry import Solute, elements\n",
    "from aqchem.equilibria import Equilibrium, EqSystem, charge_balance, atom_balance\n",
    "from IPython.display import Latex, display\n",
    "import periodictable"
   ]
  },
  {
   "cell_type": "code",
   "execution_count": 7,
   "metadata": {
    "collapsed": false
   },
   "outputs": [],
   "source": [
    "def show(s): display(Latex('$'+s+'$'))"
   ]
  },
  {
   "cell_type": "code",
   "execution_count": 8,
   "metadata": {
    "collapsed": false
   },
   "outputs": [],
   "source": [
    "substances = Hp, OHm, NH4p, NH3, Cupp, CuNH31pp, CuNH32pp, CuNH33pp, CuNH34pp, CuNH35pp, H2O, Cu2OH2pp, CuOH2, CuOH3m, CuOH4mm = [#, CuOHp, CuOH2, =\n",
    "    Solute(n, latex_name=l, formula=periodictable.formula(n)) for n, l in [\n",
    "        ('H{+}', 'H^+'), ('HO{-}', 'OH^-'), ('NH3 + H{+}', 'NH_4^+'),\n",
    "        ('NH3', 'NH_3'), ('Cu{2+}', 'Cu^{2+}'), ('Cu{2+}NH3', 'Cu(NH_3)^{2+}'),\n",
    "        ('Cu{2+}(NH3)2', 'Cu(NH_3)_2^{2+}'), ('Cu{2+}(NH3)3', 'Cu(NH_3)_3^{2+}'),\n",
    "        ('Cu{2+}(NH3)4', 'Cu(NH_3)_4^{2+}'), ('Cu{2+}(NH3)5', 'Cu(NH_3)_5^{2+}'), \n",
    "        ('H2O', 'H_2O'), ('2Cu{2+} + 2HO{-}', 'Cu_2(OH)_2^{2+}'),\n",
    "        ('Cu{2+} + 2HO{-}', 'Cu(OH_2)(s)'),\n",
    "        ('Cu{2+} + 3HO{-}', 'Cu(OH)_3^-'), ('Cu{2+} + 4HO{-}', 'Cu(OH)_4^{2-}'),\n",
    "    ]]\n",
    "CuOH2.solid = True"
   ]
  },
  {
   "cell_type": "code",
   "execution_count": 9,
   "metadata": {
    "collapsed": false
   },
   "outputs": [
    {
     "data": {
      "text/latex": [
       "$H^+, OH^-, NH_4^+, NH_3, Cu^{2+}, Cu(NH_3)^{2+}, Cu(NH_3)_2^{2+}, Cu(NH_3)_3^{2+}, Cu(NH_3)_4^{2+}, Cu(NH_3)_5^{2+}, H_2O, Cu_2(OH)_2^{2+}, Cu(OH_2)(s), Cu(OH)_3^-, Cu(OH)_4^{2-}$"
      ],
      "text/plain": [
       "<IPython.core.display.Latex object>"
      ]
     },
     "metadata": {},
     "output_type": "display_data"
    }
   ],
   "source": [
    "show(', '.join([s.latex_name for s in substances])) # + r'(\\mathrm{%s})' % (str(s.formula.atoms) + ', ' + str(s.charge))"
   ]
  },
  {
   "cell_type": "code",
   "execution_count": 10,
   "metadata": {
    "collapsed": false
   },
   "outputs": [],
   "source": [
    "init_conc = {Hp: 1e-7, OHm: 1e-7, NH4p: 0, NH3: 1.0, Cupp: 1e-2, \n",
    "            CuNH31pp: 0, CuNH32pp: 0, CuNH33pp: 0, CuNH34pp: 0, CuNH35pp: 0,\n",
    "            H2O: 55.5, Cu2OH2pp: 0, CuOH2: 0, CuOH3m: 0, CuOH4mm: 0}"
   ]
  },
  {
   "cell_type": "code",
   "execution_count": 11,
   "metadata": {
    "collapsed": false
   },
   "outputs": [],
   "source": [
    "H2O_c = init_conc[H2O]\n",
    "w_autop = Equilibrium({H2O: 1}, {Hp: 1, OHm: 1}, 10**-14/H2O_c)\n",
    "NH4p_pr = Equilibrium({NH4p: 1}, {Hp: 1, NH3: 1}, 10**-9.26)\n",
    "CuOH2_s = Equilibrium({CuOH2: 1}, {Cupp: 1, OHm: 2}, 10**-18.8)\n",
    "CuOH_B3 = Equilibrium({CuOH2: 1, OHm: 1}, {CuOH3m: 1}, 10**-3.6)\n",
    "CuOH_B4 = Equilibrium({CuOH2: 1, OHm: 2}, {CuOH4mm: 1}, 10**-2.7)\n",
    "Cu2OH2 = Equilibrium({Cupp: 2, H2O: 2}, {Cu2OH2pp: 1, Hp: 2}, 10**4.3 * H2O_c**2)\n",
    "CuNH3_B1 = Equilibrium({CuNH31pp: 1}, {Cupp: 1, NH3: 1}, 10**4.3)\n",
    "CuNH3_B2 = Equilibrium({CuNH32pp: 1}, {Cupp: 1, NH3: 2}, 10**7.9)\n",
    "CuNH3_B3 = Equilibrium({CuNH33pp: 1}, {Cupp: 1, NH3: 3}, 10**10.8)\n",
    "CuNH3_B4 = Equilibrium({CuNH34pp: 1}, {Cupp: 1, NH3: 4}, 10**13.0)\n",
    "CuNH3_B5 = Equilibrium({CuNH35pp: 1}, {Cupp: 1, NH3: 5}, 10**12.4)\n",
    "equilibria = w_autop, NH4p_pr, CuNH3_B1, CuNH3_B2, CuNH3_B3, CuNH3_B4, CuNH3_B5, Cu2OH2, CuOH2_s, CuOH_B3, CuOH_B4"
   ]
  },
  {
   "cell_type": "code",
   "execution_count": 12,
   "metadata": {
    "collapsed": false
   },
   "outputs": [
    {
     "data": {
      "text/latex": [
       "$H_2O \\rightleftharpoons H^+ + OH^-$"
      ],
      "text/plain": [
       "<IPython.core.display.Latex object>"
      ]
     },
     "metadata": {},
     "output_type": "display_data"
    },
    {
     "data": {
      "text/latex": [
       "$NH_4^+ \\rightleftharpoons H^+ + NH_3$"
      ],
      "text/plain": [
       "<IPython.core.display.Latex object>"
      ]
     },
     "metadata": {},
     "output_type": "display_data"
    },
    {
     "data": {
      "text/latex": [
       "$Cu(NH_3)^{2+} \\rightleftharpoons Cu^{2+} + NH_3$"
      ],
      "text/plain": [
       "<IPython.core.display.Latex object>"
      ]
     },
     "metadata": {},
     "output_type": "display_data"
    },
    {
     "data": {
      "text/latex": [
       "$Cu(NH_3)_2^{2+} \\rightleftharpoons Cu^{2+} + 2 NH_3$"
      ],
      "text/plain": [
       "<IPython.core.display.Latex object>"
      ]
     },
     "metadata": {},
     "output_type": "display_data"
    },
    {
     "data": {
      "text/latex": [
       "$Cu(NH_3)_3^{2+} \\rightleftharpoons Cu^{2+} + 3 NH_3$"
      ],
      "text/plain": [
       "<IPython.core.display.Latex object>"
      ]
     },
     "metadata": {},
     "output_type": "display_data"
    },
    {
     "data": {
      "text/latex": [
       "$Cu(NH_3)_4^{2+} \\rightleftharpoons Cu^{2+} + 4 NH_3$"
      ],
      "text/plain": [
       "<IPython.core.display.Latex object>"
      ]
     },
     "metadata": {},
     "output_type": "display_data"
    },
    {
     "data": {
      "text/latex": [
       "$Cu(NH_3)_5^{2+} \\rightleftharpoons Cu^{2+} + 5 NH_3$"
      ],
      "text/plain": [
       "<IPython.core.display.Latex object>"
      ]
     },
     "metadata": {},
     "output_type": "display_data"
    },
    {
     "data": {
      "text/latex": [
       "$2 Cu^{2+} + 2 H_2O \\rightleftharpoons 2 H^+ + Cu_2(OH)_2^{2+}$"
      ],
      "text/plain": [
       "<IPython.core.display.Latex object>"
      ]
     },
     "metadata": {},
     "output_type": "display_data"
    },
    {
     "data": {
      "text/latex": [
       "$Cu(OH_2)(s) \\rightleftharpoons Cu^{2+} + 2 OH^-$"
      ],
      "text/plain": [
       "<IPython.core.display.Latex object>"
      ]
     },
     "metadata": {},
     "output_type": "display_data"
    },
    {
     "data": {
      "text/latex": [
       "$OH^- + Cu(OH_2)(s) \\rightleftharpoons Cu(OH)_3^-$"
      ],
      "text/plain": [
       "<IPython.core.display.Latex object>"
      ]
     },
     "metadata": {},
     "output_type": "display_data"
    },
    {
     "data": {
      "text/latex": [
       "$2 OH^- + Cu(OH_2)(s) \\rightleftharpoons Cu(OH)_4^{2-}$"
      ],
      "text/plain": [
       "<IPython.core.display.Latex object>"
      ]
     },
     "metadata": {},
     "output_type": "display_data"
    }
   ],
   "source": [
    "for eq in equilibria:\n",
    "    show(eq.latex())"
   ]
  },
  {
   "cell_type": "code",
   "execution_count": 13,
   "metadata": {
    "collapsed": true
   },
   "outputs": [],
   "source": [
    "reaction_system = EqSystem(equilibria, substances)"
   ]
  },
  {
   "cell_type": "code",
   "execution_count": 14,
   "metadata": {
    "collapsed": false
   },
   "outputs": [],
   "source": [
    "import sympy as sp\n",
    "#sp.init_printing()\n",
    "y = sp.symbols('y:'+str(len(substances)))\n",
    "s = sp.symbols('s')"
   ]
  },
  {
   "cell_type": "markdown",
   "metadata": {},
   "source": [
    "ys = []\n",
    "class LatexSymbol(sp.Symbol):\n",
    "    def _print_latex(self):\n",
    "        return self.name\n",
    "  \n",
    "for sbs in reaction_system.substances:\n",
    "    ys.append(LatexSymbol('[' + sbs.latex_name + ']'))\n",
    "    print(ys[-1].name)\n",
    "ys"
   ]
  },
  {
   "cell_type": "code",
   "execution_count": 15,
   "metadata": {
    "collapsed": false
   },
   "outputs": [
    {
     "data": {
      "text/plain": [
       "[-1.8018018018018e-16*s + y0*y1/y10,\n",
       " -5.49540873857625e-10*s + y0*y3/y2,\n",
       " -19952.6231496888*s + y3*y4/y5,\n",
       " -79432823.4724282*s**2 + y3**2*y4/y6,\n",
       " -63095734448.0194*s**3 + y3**3*y4/y7,\n",
       " -10000000000000.0*s**4 + y3**4*y4/y8,\n",
       " -2511886431509.58*s**5 + y3**5*y4/y9,\n",
       " y0**2*y11/(y10**2*y4**2) - 61459067.4568289/s,\n",
       " -1.58489319246111e-19*s**3/y12 + y1**2*y4/y12,\n",
       " -0.000251188643150958/y12 + y13/(y1*y12),\n",
       " y14/(y1**2*y12) - 0.00199526231496888/(s*y12)]"
      ]
     },
     "execution_count": 15,
     "metadata": {},
     "output_type": "execute_result"
    }
   ],
   "source": [
    "qk = reaction_system.qk(y, scaling=s)\n",
    "qk"
   ]
  },
  {
   "cell_type": "code",
   "execution_count": 16,
   "metadata": {
    "collapsed": false
   },
   "outputs": [
    {
     "data": {
      "text/plain": [
       "y0 - y1 + 2*y11 - y13 - 2*y14 + y2 + 2*y4 + 2*y5 + 2*y6 + 2*y7 + 2*y8 + 2*y9"
      ]
     },
     "execution_count": 16,
     "metadata": {},
     "output_type": "execute_result"
    }
   ],
   "source": [
    "charge_balance(substances, y)"
   ]
  },
  {
   "cell_type": "code",
   "execution_count": 17,
   "metadata": {
    "collapsed": false
   },
   "outputs": [
    {
     "data": {
      "text/plain": [
       "y0 + y1 + 2*y10 + 2*y11 + 2*y12 + 3*y13 + 4*y14 + 4*y2 + 3*y3 + 3*y5 + 6*y6 + 9*y7 + 12*y8 + 15*y9"
      ]
     },
     "execution_count": 17,
     "metadata": {},
     "output_type": "execute_result"
    }
   ],
   "source": [
    "atom_balance(substances, y, 1)"
   ]
  },
  {
   "cell_type": "code",
   "execution_count": 18,
   "metadata": {
    "collapsed": false
   },
   "outputs": [
    {
     "data": {
      "text/plain": [
       "[y0*y1/y10,\n",
       " y0*y3/y2,\n",
       " y3*y4/y5,\n",
       " y3**2*y4/y6,\n",
       " y3**3*y4/y7,\n",
       " y3**4*y4/y8,\n",
       " y3**5*y4/y9,\n",
       " y0**2*y11/(y10**2*y4**2),\n",
       " y1**2*y4/y12,\n",
       " y13/(y1*y12),\n",
       " y14/(y1**2*y12)]"
      ]
     },
     "execution_count": 18,
     "metadata": {},
     "output_type": "execute_result"
    }
   ],
   "source": [
    "reaction_system.equilibrium_quotients(y)"
   ]
  },
  {
   "cell_type": "code",
   "execution_count": 19,
   "metadata": {
    "collapsed": false
   },
   "outputs": [
    {
     "data": {
      "text/plain": [
       "((4, 15),\n",
       " [1, 7, 8, 29],\n",
       " array([[ 1,  1,  4,  3,  0,  3,  6,  9, 12, 15,  2,  2,  2,  3,  4],\n",
       "        [ 0,  0,  1,  1,  0,  1,  2,  3,  4,  5,  0,  0,  0,  0,  0],\n",
       "        [ 0,  1,  0,  0,  0,  0,  0,  0,  0,  0,  1,  2,  2,  3,  4],\n",
       "        [ 0,  0,  0,  0,  1,  1,  1,  1,  1,  1,  0,  2,  1,  1,  1]]),\n",
       " [1, -1, 1, 0, 2, 2, 2, 2, 2, 2, 0, 2, 0, -1, -2])"
      ]
     },
     "execution_count": 19,
     "metadata": {},
     "output_type": "execute_result"
    }
   ],
   "source": [
    "chg_vec = reaction_system.charge_balance_vector()\n",
    "atm_vecs, atm_nrs = reaction_system.atom_balance_vectors()\n",
    "import numpy as np\n",
    "arr = np.array(atm_vecs)\n",
    "arr.shape, atm_nrs, arr, chg_vec"
   ]
  },
  {
   "cell_type": "code",
   "execution_count": 20,
   "metadata": {
    "collapsed": false
   },
   "outputs": [
    {
     "data": {
      "text/plain": [
       "(Matrix([\n",
       " [1, -1, 1, 0, 2, 2, 2, 2,  2,  2, 0, 2, 0, -1, -2],\n",
       " [1,  1, 4, 3, 0, 3, 6, 9, 12, 15, 2, 2, 2,  3,  4],\n",
       " [0,  0, 1, 1, 0, 1, 2, 3,  4,  5, 0, 0, 0,  0,  0],\n",
       " [0,  1, 0, 0, 0, 0, 0, 0,  0,  0, 1, 2, 2,  3,  4],\n",
       " [0,  0, 0, 0, 1, 1, 1, 1,  1,  1, 0, 2, 1,  1,  1]]), Matrix([\n",
       " [1, 0, 0, -1, 0, -1, -2, -3, -4, -5, 1, 0, 0, 0, 0],\n",
       " [0, 1, 0,  0, 0,  0,  0,  0,  0,  0, 1, 2, 2, 3, 4],\n",
       " [0, 0, 1,  1, 0,  1,  2,  3,  4,  5, 0, 0, 0, 0, 0],\n",
       " [0, 0, 0,  0, 1,  1,  1,  1,  1,  1, 0, 2, 1, 1, 1],\n",
       " [0, 0, 0,  0, 0,  0,  0,  0,  0,  0, 0, 0, 0, 0, 0]]), [0, 1, 2, 4])"
      ]
     },
     "execution_count": 20,
     "metadata": {},
     "output_type": "execute_result"
    }
   ],
   "source": [
    "import sympy\n",
    "M = sympy.Matrix([chg_vec] + atm_vecs)\n",
    "rref, pivot = M.rref()\n",
    "M, rref, pivot"
   ]
  },
  {
   "cell_type": "code",
   "execution_count": 21,
   "metadata": {
    "collapsed": false
   },
   "outputs": [
    {
     "data": {
      "text/plain": [
       "([[1, 0, 0, -1, 0, -1, -2, -3, -4, -5, 1, 0, 0, 0, 0],\n",
       "  [0, 1, 0, 0, 0, 0, 0, 0, 0, 0, 1, 2, 2, 3, 4],\n",
       "  [0, 0, 1, 1, 0, 1, 2, 3, 4, 5, 0, 0, 0, 0, 0],\n",
       "  [0, 0, 0, 0, 1, 1, 1, 1, 1, 1, 0, 2, 1, 1, 1]],\n",
       " [0, 1, 2, 4],\n",
       " [0, 1, 7, 29])"
      ]
     },
     "execution_count": 21,
     "metadata": {},
     "output_type": "execute_result"
    }
   ],
   "source": [
    "rref, pivot = reaction_system.rref()\n",
    "rref, pivot, reaction_system.independent_atoms_from_pivot(pivot)"
   ]
  },
  {
   "cell_type": "code",
   "execution_count": 22,
   "metadata": {
    "collapsed": false
   },
   "outputs": [
    {
     "data": {
      "text/plain": [
       "[-1.8018018018018e-16*s + y0*y1/y10,\n",
       " -5.49540873857625e-10*s + y0*y3/y2,\n",
       " -19952.6231496888*s + y3*y4/y5,\n",
       " -79432823.4724282*s**2 + y3**2*y4/y6,\n",
       " -63095734448.0194*s**3 + y3**3*y4/y7,\n",
       " -10000000000000.0*s**4 + y3**4*y4/y8,\n",
       " -2511886431509.58*s**5 + y3**5*y4/y9,\n",
       " y0**2*y11/(y10**2*y4**2) - 61459067.4568289/s,\n",
       " -1.58489319246111e-19*s**3/y12 + y1**2*y4/y12,\n",
       " -0.000251188643150958/y12 + y13/(y1*y12),\n",
       " y14/(y1**2*y12) - 0.00199526231496888/(s*y12)]"
      ]
     },
     "execution_count": 22,
     "metadata": {},
     "output_type": "execute_result"
    }
   ],
   "source": [
    "qk"
   ]
  },
  {
   "cell_type": "code",
   "execution_count": 23,
   "metadata": {
    "collapsed": false
   },
   "outputs": [
    {
     "name": "stdout",
     "output_type": "stream",
     "text": [
      "(15, 15)\n",
      "Matrix([[y_1/y_10, y_0/y_10, 0, 0, 0, 0, 0, 0, 0, 0, -y_0*y_1/y_10**2, 0, 0, 0, 0], [y_3/y_2, 0, -y_0*y_3/y_2**2, y_0/y_2, 0, 0, 0, 0, 0, 0, 0, 0, 0, 0, 0], [0, 0, 0, y_4/y_5, y_3/y_5, -y_3*y_4/y_5**2, 0, 0, 0, 0, 0, 0, 0, 0, 0], [0, 0, 0, 2*y_3*y_4/y_6, y_3**2/y_6, 0, -y_3**2*y_4/y_6**2, 0, 0, 0, 0, 0, 0, 0, 0], [0, 0, 0, 3*y_3**2*y_4/y_7, y_3**3/y_7, 0, 0, -y_3**3*y_4/y_7**2, 0, 0, 0, 0, 0, 0, 0], [0, 0, 0, 4*y_3**3*y_4/y_8, y_3**4/y_8, 0, 0, 0, -y_3**4*y_4/y_8**2, 0, 0, 0, 0, 0, 0], [0, 0, 0, 5*y_3**4*y_4/y_9, y_3**5/y_9, 0, 0, 0, 0, -y_3**5*y_4/y_9**2, 0, 0, 0, 0, 0], [2*y_0*y_11/(y_10**2*y_4**2), 0, 0, 0, -2*y_0**2*y_11/(y_10**2*y_4**3), 0, 0, 0, 0, 0, -2*y_0**2*y_11/(y_10**3*y_4**2), y_0**2/(y_10**2*y_4**2), 0, 0, 0], [0, 2*y_1*y_4/y_12, 0, 0, y_1**2/y_12, 0, 0, 0, 0, 0, 0, 0, -y_1**2*y_4/y_12**2 + 1.58489319246111e-19/y_12**2, 0, 0], [0, -y_13/(y_1**2*y_12), 0, 0, 0, 0, 0, 0, 0, 0, 0, 0, 0.000251188643150958/y_12**2 - y_13/(y_1*y_12**2), 1/(y_1*y_12), 0], [0, -2*y_14/(y_1**3*y_12), 0, 0, 0, 0, 0, 0, 0, 0, 0, 0, 0.00199526231496888/y_12**2 - y_14/(y_1**2*y_12**2), 0, 1/(y_1**2*y_12)], [1, 0, 0, -1, 0, -1, -2, -3, -4, -5, 1, 0, 0, 0, 0], [0, 1, 0, 0, 0, 0, 0, 0, 0, 0, 1, 2, 2, 3, 4], [0, 0, 1, 1, 0, 1, 2, 3, 4, 5, 0, 0, 0, 0, 0], [0, 0, 0, 0, 1, 1, 1, 1, 1, 1, 0, 2, 1, 1, 1]])\n"
     ]
    },
    {
     "data": {
      "text/plain": [
       "array([  1.00000000e-07,   1.00000000e-07,   0.00000000e+00,\n",
       "         1.00000000e+00,   1.00000000e-02,   0.00000000e+00,\n",
       "         0.00000000e+00,   0.00000000e+00,   0.00000000e+00,\n",
       "         0.00000000e+00,   5.55000000e+01,   0.00000000e+00,\n",
       "         0.00000000e+00,   0.00000000e+00,   0.00000000e+00])"
      ]
     },
     "execution_count": 23,
     "metadata": {},
     "output_type": "execute_result"
    }
   ],
   "source": [
    "c0arr = np.array([init_conc[k] for k in reaction_system.substances])\n",
    "scaling = 1.0\n",
    "logC = False\n",
    "f, j = reaction_system.num_cb_factory(c0arr*scaling, True, scaling=scaling, logC=logC)\n",
    "c0arr"
   ]
  },
  {
   "cell_type": "code",
   "execution_count": 24,
   "metadata": {
    "collapsed": false
   },
   "outputs": [
    {
     "name": "stdout",
     "output_type": "stream",
     "text": [
      "[  1.00000000e-07   1.00000000e-07   1.00000000e-17   1.00000000e+00\n",
      "   1.00000000e-02   1.00000000e-17   1.00000000e-17   1.00000000e-17\n",
      "   1.00000000e-17   1.00000000e-17   5.55000000e+01   1.00000000e-17\n",
      "   1.00000000e-17   1.00000000e-17   1.00000000e-17]\n"
     ]
    },
    {
     "data": {
      "text/plain": [
       "[3.603622618233721e-26,\n",
       " 10000000001.0,\n",
       " 999999999980048.38,\n",
       " 999999920567177.5,\n",
       " 999936904265553.0,\n",
       " 990000000000001.0,\n",
       " 997488113568491.38,\n",
       " -61459067.4568289,\n",
       " 9.9841510700754004,\n",
       " -25118854315095.801,\n",
       " -99526231516887.984,\n",
       " 0.0,\n",
       " 0.0,\n",
       " 0.0,\n",
       " 1.1449174941446927e-16]"
      ]
     },
     "execution_count": 24,
     "metadata": {},
     "output_type": "execute_result"
    }
   ],
   "source": [
    "x0 = c0arr+1e-17\n",
    "f(np.log(x0) if logC else x0)"
   ]
  },
  {
   "cell_type": "code",
   "execution_count": 25,
   "metadata": {
    "collapsed": false
   },
   "outputs": [
    {
     "data": {
      "text/plain": [
       "[[1.801801801981982e-09, 1.801801801981982e-09, 0.0, 0.0],\n",
       " [1e+17, 0.0, -1.0000000000999999e+27, 10000000001.0],\n",
       " [0.0, 0.0, 0.0, 1000000000000001.0],\n",
       " [0.0, 0.0, 0.0, 2000000000000002.0],\n",
       " [0.0, 0.0, 0.0, 3000000000000003.0],\n",
       " [0.0, 0.0, 0.0, 4000000000000004.0],\n",
       " [0.0, 0.0, 0.0, 5000000000000005.0]]"
      ]
     },
     "execution_count": 25,
     "metadata": {},
     "output_type": "execute_result"
    },
    {
     "data": {
      "image/png": "[encoded data removed]",
      "text/plain": [
       "<matplotlib.figure.Figure at 0x7f5a751bba90>"
      ]
     },
     "metadata": {},
     "output_type": "display_data"
    }
   ],
   "source": [
    "import matplotlib.pyplot as plt\n",
    "%matplotlib inline\n",
    "jmat = j(np.log(x0) if logC else x0)\n",
    "plt.imshow(jmat, cmap='binary', interpolation='None')\n",
    "jmat[:7, :4].tolist()"
   ]
  },
  {
   "cell_type": "code",
   "execution_count": 26,
   "metadata": {
    "collapsed": false
   },
   "outputs": [
    {
     "data": {
      "text/plain": [
       "15"
      ]
     },
     "execution_count": 26,
     "metadata": {},
     "output_type": "execute_result"
    }
   ],
   "source": [
    "len(substances)"
   ]
  },
  {
   "cell_type": "code",
   "execution_count": 27,
   "metadata": {
    "collapsed": false
   },
   "outputs": [
    {
     "name": "stdout",
     "output_type": "stream",
     "text": [
      "[1 1 1 1 1 1 1 1 1 1 1 1 1 1 1]\n",
      "[ 1.  1.  1.  1.  1.  1.  1.  1.  1.  1.  1.  1.  1.  1.  1.]\n",
      "[ 1.  1.  1.  1.  1.  1.  1.  1.  1.  1.  1.  1.  1.  1.  1.]\n",
      "[   1.0035143     1.            1.          183.01446491  229.78832562\n",
      "    0.999999      0.99841028    0.36862021  -57.86291311   -8.66756999\n",
      "    0.99648571    1.00136667    1.            1.            1.        ]\n",
      "[   3.19713815   -0.63545859   -1.7620717   -88.22693939 -100.68604883\n",
      "    0.27381967   -4.68647209   -9.48271796   -1.02658788   39.32783724\n",
      "    1.56493355    6.19784745    1.96373934    0.32803867   -1.30910075]\n",
      "[   3.19713815   -0.63545859   -1.7620717   -88.2269396  -100.68605011\n",
      "    0.27381967   -4.68647202   -9.48272045   -1.02658783   39.32783702\n",
      "    1.56493268    6.19784754    1.96373934    0.32803867   -1.30910075]\n"
     ]
    },
    {
     "data": {
      "text/plain": [
       "  status: 1\n",
       " success: True\n",
       "     qtf: array([ -1.80115885e+03,   2.16393943e+01,  -8.10622018e+04,\n",
       "         5.63927187e+12,  -8.62075028e+12,   2.00479626e+08,\n",
       "         7.03406415e+08,   8.62981176e+10,   9.06405256e+05,\n",
       "        -3.17536302e+05,  -1.08466885e+05,  -1.16791751e+05,\n",
       "         5.79285219e+04,   4.87840290e+04,   6.14585183e+07])\n",
       "    nfev: 4\n",
       "       r: array([  5.00816365e+01,  -1.65645006e-02,   9.08269205e+01,\n",
       "        -1.83396602e+00,   1.61553868e-09,  -1.99673986e-02,\n",
       "        -3.99347972e-02,  -5.99021958e-02,  -7.98695944e-02,\n",
       "        -9.98369931e-02,   1.32410958e-02,   1.31224758e-08,\n",
       "         0.00000000e+00,   0.00000000e+00,   0.00000000e+00,\n",
       "        -6.54109335e+01,  -2.30007813e-02,   4.64428949e-04,\n",
       "        -2.04853332e-01,   5.05649389e-06,   1.01129878e-05,\n",
       "         1.51694817e-05,   2.02259755e-05,   2.52824694e-05,\n",
       "        -4.12015917e-02,  -3.05759281e-02,  -1.04662749e+01,\n",
       "        -5.09319930e-02,   3.90207014e-02,  -2.19832695e+00,\n",
       "        -1.24505219e+00,   2.14341793e-03,  -1.27987215e+00,\n",
       "        -2.55974430e+00,  -3.83961645e+00,  -5.11948860e+00,\n",
       "        -6.39936075e+00,   5.47505287e-01,   3.20453747e-04,\n",
       "         1.09507141e-01,   5.32894177e-04,  -4.08268032e-04,\n",
       "         8.21073883e+08,   1.47767902e+08,   5.30595604e-02,\n",
       "        -1.64760040e-01,  -2.32212279e+02,  -1.89948753e+09,\n",
       "         3.28728301e+08,  -3.58097480e-10,   5.03250756e-13,\n",
       "         1.71973496e-10,   8.36873963e-13,  -6.41157101e-13,\n",
       "        -1.11506952e+07,  -2.72040360e+00,   3.13199365e+00,\n",
       "         1.91706336e+03,   5.46817366e+09,   1.14190351e+08,\n",
       "        -3.88328541e-09,  -1.78792564e-07,  -8.95315822e-08,\n",
       "        -8.87336250e-08,  -9.04059451e-08,  -1.18478958e+05,\n",
       "        -8.65308593e-05,  -4.41394137e-02,  -1.26405781e+05,\n",
       "        -2.47471510e+03,   2.52364342e-06,  -1.68840935e-05,\n",
       "        -9.62371578e-06,  -8.44607405e-06,  -8.43590324e-06,\n",
       "         3.56845032e+04,  -1.69242104e-01,  -4.88706393e+05,\n",
       "        -8.50459265e+03,  -1.67578977e-05,   5.60697493e-05,\n",
       "         3.58815813e-05,   2.80616171e-05,   2.79940797e-05,\n",
       "         7.68963813e+05,  -1.42060258e+07,  -1.85412356e+05,\n",
       "        -1.16649346e-06,   2.60296044e-06,   1.84768319e-06,\n",
       "         1.30334009e-06,   1.29864303e-06,  -5.22567324e+02,\n",
       "        -1.17048875e+01,   9.72820505e-03,  -1.99384167e+00,\n",
       "        -1.02193346e+00,  -9.90067131e-01,  -1.00736339e+00,\n",
       "         2.36132024e+00,  -4.96557474e-01,  -7.33713633e-04,\n",
       "         2.24645530e-01,   2.72821504e-03,  -5.08408477e-03,\n",
       "        -1.46284320e+00,  -1.37922889e+00,  -1.11447903e+00,\n",
       "        -2.05667706e+00,  -2.74062630e+00,   1.45649843e+00,\n",
       "         1.44553432e+00,   2.18865942e+00,   2.89235835e+00,\n",
       "         1.70445149e+00,  -6.38066126e-02,   1.29400647e+00,\n",
       "         7.96947270e-01,   1.50875344e-01,  -6.51195767e-04])\n",
       "     fun: array([ -1.29823406e+00,   1.60080725e+02,   1.24892466e+04,\n",
       "        -7.92655890e+07,  -6.31030263e+10,  -9.99405738e+12,\n",
       "        -2.49820047e+12,  -6.14590675e+07,  -2.07042724e+01,\n",
       "        -2.63005735e-01,  -1.65189307e+00,  -1.16496538e+02,\n",
       "        -4.24996393e+01,   6.39965368e+01,  -6.29118014e+01])\n",
       "       x: array([   3.19713815,   -0.63545859,   -1.7620717 ,  -88.2269396 ,\n",
       "       -100.68605011,    0.27381967,   -4.68647202,   -9.48272045,\n",
       "         -1.02658783,   39.32783702,    1.56493268,    6.19784754,\n",
       "          1.96373934,    0.32803867,   -1.30910075])\n",
       " message: 'The solution converged.'\n",
       "    fjac: array([[ -8.10798325e-03,   9.99767754e-01,   0.00000000e+00,\n",
       "          0.00000000e+00,   0.00000000e+00,   0.00000000e+00,\n",
       "          0.00000000e+00,   3.18730315e-05,   0.00000000e+00,\n",
       "          0.00000000e+00,   0.00000000e+00,   1.99673986e-02,\n",
       "          0.00000000e+00,   0.00000000e+00,   0.00000000e+00],\n",
       "       [ -3.12310513e-02,  -2.53178676e-04,   0.00000000e+00,\n",
       "          0.00000000e+00,   0.00000000e+00,   0.00000000e+00,\n",
       "          0.00000000e+00,  -8.07144646e-09,  -9.96213360e-01,\n",
       "          6.32435652e-03,   7.94341246e-02,  -5.05649389e-06,\n",
       "         -1.52879641e-02,   0.00000000e+00,   0.00000000e+00],\n",
       "       [ -3.34665783e-01,  -1.91906832e-02,   0.00000000e+00,\n",
       "          0.00000000e+00,   0.00000000e+00,   0.00000000e+00,\n",
       "          0.00000000e+00,   1.31687849e-03,   1.04232383e-02,\n",
       "         -6.61708400e-05,  -8.31107914e-04,   8.24980761e-01,\n",
       "          1.59955787e-04,  -4.54891389e-01,   0.00000000e+00],\n",
       "       [ -5.25569790e-10,  -5.81337191e-12,  -4.47839522e-07,\n",
       "         -4.61713140e-06,   3.01979811e-04,  -3.28136514e-01,\n",
       "         -9.44630265e-01,   2.06806787e-12,   1.63689848e-11,\n",
       "         -1.03916792e-13,  -1.30519830e-12,   7.76588299e-11,\n",
       "          2.51199655e-13,   5.28133325e-10,   0.00000000e+00],\n",
       "       [ -6.45537230e-09,  -7.60757334e-11,   2.29610688e-05,\n",
       "          8.77690157e-05,  -2.49303970e-03,   9.44627121e-01,\n",
       "         -3.28136219e-01,   2.31135030e-11,   7.95279216e-11,\n",
       "         -1.17576786e-10,  -1.47676827e-09,   1.18780009e-09,\n",
       "          2.84220168e-10,   6.91132971e-09,  -8.96805071e-08],\n",
       "       [  3.61660144e-06,   3.88158261e-08,   1.00000000e+00,\n",
       "         -2.01733820e-09,   5.73780964e-08,  -2.18366015e-05,\n",
       "          7.11131579e-06,  -1.42309877e-08,  -1.12639832e-07,\n",
       "          7.15084902e-10,   8.98148975e-09,  -4.74924849e-07,\n",
       "         -1.72858571e-09,  -3.52634093e-06,  -8.44031525e-06],\n",
       "       [ -2.40155308e-05,  -2.57751006e-07,   4.07548075e-10,\n",
       "          9.99999995e-01,   2.20205916e-07,  -8.44240403e-05,\n",
       "          2.44387103e-05,   9.44988632e-08,   7.47968916e-07,\n",
       "         -4.74839230e-09,  -5.96399626e-08,   3.15367126e-06,\n",
       "          1.14783616e-08,   2.34161685e-05,   2.80233768e-05],\n",
       "       [ -1.67168479e-06,  -1.79416410e-08,   2.28829370e-11,\n",
       "         -1.15499958e-10,  -9.99996847e-01,  -2.45409128e-03,\n",
       "          5.32799039e-04,   6.57792869e-09,   5.20652876e-08,\n",
       "         -3.30239178e-10,  -4.14781486e-09,   2.19521445e-07,\n",
       "          7.98292230e-10,   1.62996255e-06,   1.30068057e-06],\n",
       "       [  4.67033128e-03,  -2.03227878e-05,  -8.44815168e-06,\n",
       "          2.80793034e-05,  -1.30443149e-06,  -9.01000532e-08,\n",
       "          3.07465137e-08,  -4.23169497e-05,  -1.41712205e-03,\n",
       "         -1.21605851e-03,  -1.52737346e-02,   2.91406936e-03,\n",
       "          2.93959689e-03,   1.84628502e-03,  -9.99860425e-01],\n",
       "       [ -7.12788722e-01,  -7.64684278e-03,   5.06054503e-06,\n",
       "         -3.36513408e-05,   2.34352898e-06,  -4.15180138e-10,\n",
       "          1.84858309e-09,   2.79672444e-03,   2.17732821e-02,\n",
       "         -5.49263917e-04,  -6.89877275e-03,   9.34372430e-02,\n",
       "          1.32774409e-03,   6.94700522e-01,  -1.69517663e-03],\n",
       "       [ -4.49565046e-01,   4.46961831e-03,  -4.88046045e-08,\n",
       "          1.53870266e-07,  -6.76134923e-09,   8.47808035e-13,\n",
       "         -1.32650073e-11,   1.77284809e-03,   2.45596261e-02,\n",
       "         -2.45353726e-05,  -3.08165082e-04,  -4.06347506e-01,\n",
       "         -6.83540956e-01,  -4.06055971e-01,  -6.07385337e-03],\n",
       "       [ -4.20262623e-01,   4.19972379e-03,  -1.63261545e-08,\n",
       "          7.10496507e-08,  -4.07877104e-09,   6.45653757e-13,\n",
       "         -1.24672663e-11,   1.90465751e-03,   4.12163828e-04,\n",
       "         -1.55542683e-03,  -1.95362119e-02,  -3.80935523e-01,\n",
       "          7.29582065e-01,  -3.81536589e-01,  -1.33324005e-03],\n",
       "       [ -1.10614352e-02,   3.47271802e-05,  -1.04051981e-07,\n",
       "          2.59326844e-07,  -8.03667136e-09,   5.36545702e-13,\n",
       "         -9.16318375e-14,  -9.34760894e-04,   7.97564892e-02,\n",
       "          1.18062919e-01,   9.89471383e-01,  -6.22891622e-03,\n",
       "          1.54021834e-02,  -3.15489554e-03,  -1.54019910e-02],\n",
       "       [ -4.36537970e-04,   1.36177904e-06,  -4.07756808e-09,\n",
       "          1.01624546e-08,  -3.14940063e-10,   2.10261628e-14,\n",
       "         -3.59351332e-15,  -7.93457000e-04,   3.12566521e-03,\n",
       "         -9.92983631e-01,   1.18203699e-01,  -2.44178800e-04,\n",
       "          6.03733227e-04,  -1.23714929e-04,  -6.03569890e-04],\n",
       "       [ -4.02146020e-03,   1.09803850e-06,   2.62345414e-10,\n",
       "         -6.45256813e-10,   1.94661634e-11,  -1.19436078e-15,\n",
       "         -3.28896587e-15,  -9.99991084e-01,   4.19805810e-05,\n",
       "          6.72957291e-04,  -1.07621716e-03,  -9.16978809e-05,\n",
       "          1.66714481e-04,  -9.97546233e-05,   3.91391537e-05]])\n",
       "    njev: 2"
      ]
     },
     "execution_count": 27,
     "metadata": {},
     "output_type": "execute_result"
    }
   ],
   "source": [
    "from scipy.optimize import root\n",
    "x0 = [1]*len(substances)\n",
    "root(f, x0, jac=j)"
   ]
  },
  {
   "cell_type": "code",
   "execution_count": 28,
   "metadata": {
    "collapsed": false
   },
   "outputs": [
    {
     "name": "stdout",
     "output_type": "stream",
     "text": [
      "(15, 15)\n",
      "Matrix([[y_1/y_10, y_0/y_10, 0, 0, 0, 0, 0, 0, 0, 0, -y_0*y_1/y_10**2, 0, 0, 0, 0], [y_3/y_2, 0, -y_0*y_3/y_2**2, y_0/y_2, 0, 0, 0, 0, 0, 0, 0, 0, 0, 0, 0], [0, 0, 0, y_4/y_5, y_3/y_5, -y_3*y_4/y_5**2, 0, 0, 0, 0, 0, 0, 0, 0, 0], [0, 0, 0, 2*y_3*y_4/y_6, y_3**2/y_6, 0, -y_3**2*y_4/y_6**2, 0, 0, 0, 0, 0, 0, 0, 0], [0, 0, 0, 3*y_3**2*y_4/y_7, y_3**3/y_7, 0, 0, -y_3**3*y_4/y_7**2, 0, 0, 0, 0, 0, 0, 0], [0, 0, 0, 4*y_3**3*y_4/y_8, y_3**4/y_8, 0, 0, 0, -y_3**4*y_4/y_8**2, 0, 0, 0, 0, 0, 0], [0, 0, 0, 5*y_3**4*y_4/y_9, y_3**5/y_9, 0, 0, 0, 0, -y_3**5*y_4/y_9**2, 0, 0, 0, 0, 0], [2*y_0*y_11/(y_10**2*y_4**2), 0, 0, 0, -2*y_0**2*y_11/(y_10**2*y_4**3), 0, 0, 0, 0, 0, -2*y_0**2*y_11/(y_10**3*y_4**2), y_0**2/(y_10**2*y_4**2), 0, 0, 0], [0, 2*y_1*y_4/y_12, 0, 0, y_1**2/y_12, 0, 0, 0, 0, 0, 0, 0, -y_1**2*y_4/y_12**2 + 1.58489319246111e-19/y_12**2, 0, 0], [0, -y_13/(y_1**2*y_12), 0, 0, 0, 0, 0, 0, 0, 0, 0, 0, 0.000251188643150958/y_12**2 - y_13/(y_1*y_12**2), 1/(y_1*y_12), 0], [0, -2*y_14/(y_1**3*y_12), 0, 0, 0, 0, 0, 0, 0, 0, 0, 0, 0.00199526231496888/y_12**2 - y_14/(y_1**2*y_12**2), 0, 1/(y_1**2*y_12)], [1, 0, 0, -1, 0, -1, -2, -3, -4, -5, 1, 0, 0, 0, 0], [0, 1, 0, 0, 0, 0, 0, 0, 0, 0, 1, 2, 2, 3, 4], [0, 0, 1, 1, 0, 1, 2, 3, 4, 5, 0, 0, 0, 0, 0], [0, 0, 0, 0, 1, 1, 1, 1, 1, 1, 0, 2, 1, 1, 1]])\n"
     ]
    },
    {
     "name": "stderr",
     "output_type": "stream",
     "text": [
      "aqchem/equilibria.py:40: RuntimeWarning: divide by zero encountered in true_divide\n",
      "  limits = c0/stoich\n"
     ]
    },
    {
     "ename": "ValueError",
     "evalue": "f(a) and f(b) must have different signs",
     "output_type": "error",
     "traceback": [
      "\u001b[1;31m---------------------------------------------------------------------------\u001b[0m",
      "\u001b[1;31mValueError\u001b[0m                                Traceback (most recent call last)",
      "\u001b[1;32m<ipython-input-28-92302a111127>\u001b[0m in \u001b[0;36m<module>\u001b[1;34m()\u001b[0m\n\u001b[1;32m----> 1\u001b[1;33m \u001b[0mreaction_system\u001b[0m\u001b[1;33m.\u001b[0m\u001b[0mroot\u001b[0m\u001b[1;33m(\u001b[0m\u001b[0minit_conc\u001b[0m\u001b[1;33m,\u001b[0m \u001b[0mscaling\u001b[0m\u001b[1;33m=\u001b[0m\u001b[0mscaling\u001b[0m\u001b[1;33m,\u001b[0m \u001b[0mlogC\u001b[0m\u001b[1;33m=\u001b[0m\u001b[0mlogC\u001b[0m\u001b[1;33m,\u001b[0m \u001b[0mdelta\u001b[0m\u001b[1;33m=\u001b[0m\u001b[1;36m1e-15\u001b[0m\u001b[1;33m)\u001b[0m\u001b[1;33m\u001b[0m\u001b[0m\n\u001b[0m",
      "\u001b[1;32m/home/bjorn/vc/aqchem/examples/aqchem/equilibria.pyc\u001b[0m in \u001b[0;36mroot\u001b[1;34m(self, init_concs, scaling, logC, square, delta, reduced, **kwargs)\u001b[0m\n\u001b[0;32m    267\u001b[0m         \u001b[1;32mif\u001b[0m \u001b[0mdelta\u001b[0m \u001b[1;32mis\u001b[0m \u001b[0mNone\u001b[0m\u001b[1;33m:\u001b[0m\u001b[1;33m\u001b[0m\u001b[0m\n\u001b[0;32m    268\u001b[0m             \u001b[0mdelta\u001b[0m \u001b[1;33m=\u001b[0m \u001b[0mkwargs\u001b[0m\u001b[1;33m.\u001b[0m\u001b[0mget\u001b[0m\u001b[1;33m(\u001b[0m\u001b[1;34m'tol'\u001b[0m\u001b[1;33m,\u001b[0m \u001b[1;36m1e-12\u001b[0m\u001b[1;33m)\u001b[0m\u001b[1;33m\u001b[0m\u001b[0m\n\u001b[1;32m--> 269\u001b[1;33m         \u001b[0mx0\u001b[0m \u001b[1;33m=\u001b[0m \u001b[0mself\u001b[0m\u001b[1;33m.\u001b[0m\u001b[0minitial_guess\u001b[0m\u001b[1;33m(\u001b[0m\u001b[0minit_concs\u001b[0m\u001b[1;33m*\u001b[0m\u001b[0mscaling\u001b[0m \u001b[1;33m+\u001b[0m \u001b[0mdelta\u001b[0m\u001b[1;33m)\u001b[0m\u001b[1;33m\u001b[0m\u001b[0m\n\u001b[0m\u001b[0;32m    270\u001b[0m         \u001b[1;32mif\u001b[0m \u001b[0mreduced\u001b[0m\u001b[1;33m:\u001b[0m\u001b[1;33m\u001b[0m\u001b[0m\n\u001b[0;32m    271\u001b[0m             \u001b[0mx0\u001b[0m \u001b[1;33m=\u001b[0m \u001b[0mnp\u001b[0m\u001b[1;33m.\u001b[0m\u001b[0marray\u001b[0m\u001b[1;33m(\u001b[0m\u001b[1;33m[\u001b[0m\u001b[0mx\u001b[0m \u001b[1;32mfor\u001b[0m \u001b[0midx\u001b[0m\u001b[1;33m,\u001b[0m \u001b[0mx\u001b[0m \u001b[1;32min\u001b[0m \u001b[0menumerate\u001b[0m\u001b[1;33m(\u001b[0m\u001b[0mx0\u001b[0m\u001b[1;33m)\u001b[0m \u001b[1;32mif\u001b[0m \u001b[0midx\u001b[0m \u001b[1;32mnot\u001b[0m \u001b[1;32min\u001b[0m \u001b[0melim\u001b[0m\u001b[1;33m]\u001b[0m\u001b[1;33m)\u001b[0m\u001b[1;33m\u001b[0m\u001b[0m\n",
      "\u001b[1;32m/home/bjorn/vc/aqchem/examples/aqchem/equilibria.pyc\u001b[0m in \u001b[0;36minitial_guess\u001b[1;34m(self, init_concs, weights)\u001b[0m\n\u001b[0;32m    293\u001b[0m             \u001b[1;32mfor\u001b[0m \u001b[0meq\u001b[0m \u001b[1;32min\u001b[0m \u001b[0mself\u001b[0m\u001b[1;33m.\u001b[0m\u001b[0mrxns\u001b[0m\u001b[1;33m:\u001b[0m\u001b[1;33m\u001b[0m\u001b[0m\n\u001b[0;32m    294\u001b[0m                 new_init_concs = solve_equilibrium(\n\u001b[1;32m--> 295\u001b[1;33m                     init_concs, eq.net_stoich(self.substances), eq.params)\n\u001b[0m\u001b[0;32m    296\u001b[0m                 \u001b[0minit_concs\u001b[0m \u001b[1;33m=\u001b[0m \u001b[1;33m(\u001b[0m\u001b[0mw\u001b[0m\u001b[1;33m*\u001b[0m\u001b[0minit_concs\u001b[0m \u001b[1;33m+\u001b[0m \u001b[0mnew_init_concs\u001b[0m\u001b[1;33m)\u001b[0m\u001b[1;33m/\u001b[0m\u001b[1;33m(\u001b[0m\u001b[0mw\u001b[0m\u001b[1;33m+\u001b[0m\u001b[1;36m1\u001b[0m\u001b[1;33m)\u001b[0m\u001b[1;33m\u001b[0m\u001b[0m\n\u001b[0;32m    297\u001b[0m         \u001b[1;32mreturn\u001b[0m \u001b[0minit_concs\u001b[0m\u001b[1;33m\u001b[0m\u001b[0m\n",
      "\u001b[1;32m/home/bjorn/vc/aqchem/examples/aqchem/equilibria.pyc\u001b[0m in \u001b[0;36msolve_equilibrium\u001b[1;34m(c0, stoich, K, activity_product, delta_frac)\u001b[0m\n\u001b[0;32m     79\u001b[0m         \u001b[0mlower\u001b[0m \u001b[1;33m+\u001b[0m \u001b[0mdelta_frac\u001b[0m\u001b[1;33m*\u001b[0m\u001b[0mspan\u001b[0m\u001b[1;33m,\u001b[0m\u001b[1;33m\u001b[0m\u001b[0m\n\u001b[0;32m     80\u001b[0m         \u001b[0mupper\u001b[0m \u001b[1;33m-\u001b[0m \u001b[0mdelta_frac\u001b[0m\u001b[1;33m*\u001b[0m\u001b[0mspan\u001b[0m\u001b[1;33m,\u001b[0m\u001b[1;33m\u001b[0m\u001b[0m\n\u001b[1;32m---> 81\u001b[1;33m         \u001b[1;33m(\u001b[0m\u001b[0mnp\u001b[0m\u001b[1;33m.\u001b[0m\u001b[0marray\u001b[0m\u001b[1;33m(\u001b[0m\u001b[0mc0\u001b[0m\u001b[1;33m)\u001b[0m\u001b[1;33m,\u001b[0m \u001b[0mnp\u001b[0m\u001b[1;33m.\u001b[0m\u001b[0marray\u001b[0m\u001b[1;33m(\u001b[0m\u001b[0mstoich\u001b[0m\u001b[1;33m)\u001b[0m\u001b[1;33m,\u001b[0m \u001b[0mK\u001b[0m\u001b[1;33m,\u001b[0m \u001b[0mactivity_product\u001b[0m\u001b[1;33m)\u001b[0m\u001b[1;33m\u001b[0m\u001b[0m\n\u001b[0m\u001b[0;32m     82\u001b[0m     )\n\u001b[0;32m     83\u001b[0m     \u001b[1;32mreturn\u001b[0m \u001b[0mnp\u001b[0m\u001b[1;33m.\u001b[0m\u001b[0marray\u001b[0m\u001b[1;33m(\u001b[0m\u001b[0mc0\u001b[0m\u001b[1;33m)\u001b[0m \u001b[1;33m+\u001b[0m \u001b[0mrc\u001b[0m\u001b[1;33m*\u001b[0m\u001b[0mnp\u001b[0m\u001b[1;33m.\u001b[0m\u001b[0marray\u001b[0m\u001b[1;33m(\u001b[0m\u001b[0mstoich\u001b[0m\u001b[1;33m)\u001b[0m\u001b[1;33m\u001b[0m\u001b[0m\n",
      "\u001b[1;32m/usr/local/lib/python2.7/dist-packages/scipy/optimize/zeros.pyc\u001b[0m in \u001b[0;36mbrentq\u001b[1;34m(f, a, b, args, xtol, rtol, maxiter, full_output, disp)\u001b[0m\n\u001b[0;32m    413\u001b[0m     \u001b[1;32mif\u001b[0m \u001b[0mrtol\u001b[0m \u001b[1;33m<\u001b[0m \u001b[0m_rtol\u001b[0m\u001b[1;33m:\u001b[0m\u001b[1;33m\u001b[0m\u001b[0m\n\u001b[0;32m    414\u001b[0m         \u001b[1;32mraise\u001b[0m \u001b[0mValueError\u001b[0m\u001b[1;33m(\u001b[0m\u001b[1;34m\"rtol too small (%g < %g)\"\u001b[0m \u001b[1;33m%\u001b[0m \u001b[1;33m(\u001b[0m\u001b[0mrtol\u001b[0m\u001b[1;33m,\u001b[0m \u001b[0m_rtol\u001b[0m\u001b[1;33m)\u001b[0m\u001b[1;33m)\u001b[0m\u001b[1;33m\u001b[0m\u001b[0m\n\u001b[1;32m--> 415\u001b[1;33m     \u001b[0mr\u001b[0m \u001b[1;33m=\u001b[0m \u001b[0m_zeros\u001b[0m\u001b[1;33m.\u001b[0m\u001b[0m_brentq\u001b[0m\u001b[1;33m(\u001b[0m\u001b[0mf\u001b[0m\u001b[1;33m,\u001b[0m\u001b[0ma\u001b[0m\u001b[1;33m,\u001b[0m\u001b[0mb\u001b[0m\u001b[1;33m,\u001b[0m\u001b[0mxtol\u001b[0m\u001b[1;33m,\u001b[0m\u001b[0mrtol\u001b[0m\u001b[1;33m,\u001b[0m\u001b[0mmaxiter\u001b[0m\u001b[1;33m,\u001b[0m\u001b[0margs\u001b[0m\u001b[1;33m,\u001b[0m\u001b[0mfull_output\u001b[0m\u001b[1;33m,\u001b[0m\u001b[0mdisp\u001b[0m\u001b[1;33m)\u001b[0m\u001b[1;33m\u001b[0m\u001b[0m\n\u001b[0m\u001b[0;32m    416\u001b[0m     \u001b[1;32mreturn\u001b[0m \u001b[0mresults_c\u001b[0m\u001b[1;33m(\u001b[0m\u001b[0mfull_output\u001b[0m\u001b[1;33m,\u001b[0m \u001b[0mr\u001b[0m\u001b[1;33m)\u001b[0m\u001b[1;33m\u001b[0m\u001b[0m\n\u001b[0;32m    417\u001b[0m \u001b[1;33m\u001b[0m\u001b[0m\n",
      "\u001b[1;31mValueError\u001b[0m: f(a) and f(b) must have different signs"
     ]
    }
   ],
   "source": [
    "reaction_system.root(init_conc, scaling=scaling, logC=logC, delta=1e-15)"
   ]
  },
  {
   "cell_type": "code",
   "execution_count": null,
   "metadata": {
    "collapsed": false
   },
   "outputs": [],
   "source": [
    "i = sp.symbols('i:'+str(len(y)))\n",
    "reaction_system.f(y, i, scaling=s, reduced=True)"
   ]
  },
  {
   "cell_type": "code",
   "execution_count": null,
   "metadata": {
    "collapsed": false
   },
   "outputs": [],
   "source": [
    "f_elim, j_elim, elim = reaction_system.num_cb_factory(c0arr*scaling, True, scaling=scaling, logC=logC, reduced=True)\n",
    "print(elim)"
   ]
  },
  {
   "cell_type": "code",
   "execution_count": null,
   "metadata": {
    "collapsed": false
   },
   "outputs": [],
   "source": [
    "c0arr_elim = np.array([x for idx, x in enumerate(c0arr) if idx not in elim]) + 1e-13\n",
    "x0elim = np.log(c0arr_elim) if logC else c0arr_elim\n",
    "f_elim(x0elim)"
   ]
  },
  {
   "cell_type": "code",
   "execution_count": null,
   "metadata": {
    "collapsed": false
   },
   "outputs": [],
   "source": [
    "jmat = j_elim(x0elim)\n",
    "plt.imshow(jmat, cmap='binary', interpolation='None')\n",
    "x0elim"
   ]
  },
  {
   "cell_type": "code",
   "execution_count": null,
   "metadata": {
    "collapsed": false
   },
   "outputs": [],
   "source": [
    "jmat"
   ]
  },
  {
   "cell_type": "code",
   "execution_count": null,
   "metadata": {
    "collapsed": false
   },
   "outputs": [],
   "source": [
    "reaction_system.root(init_conc, scaling=1e8, logC=False, delta=1e-8, reduced=True, square=True, tol=1e-5)"
   ]
  },
  {
   "cell_type": "code",
   "execution_count": null,
   "metadata": {
    "collapsed": true
   },
   "outputs": [],
   "source": []
  }
 ],
 "metadata": {
  "kernelspec": {
   "display_name": "Python 2",
   "language": "python",
   "name": "python2"
  },
  "language_info": {
   "codemirror_mode": {
    "name": "ipython",
    "version": 2
   },
   "file_extension": ".py",
   "mimetype": "text/x-python",
   "name": "python",
   "nbconvert_exporter": "python",
   "pygments_lexer": "ipython2",
   "version": "2.7.6"
  }
 },
 "nbformat": 4,
 "nbformat_minor": 0
}
