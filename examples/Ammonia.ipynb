{
 "cells": [
  {
   "cell_type": "code",
   "execution_count": 1,
   "metadata": {
    "collapsed": false
   },
   "outputs": [],
   "source": [
    "from __future__ import division\n",
    "from aqchem.chemistry import Solute\n",
    "from aqchem.equilibria import Equilibrium, EqSystem, charge_balance, atom_balance, REqSystem\n",
    "import periodictable\n",
    "import numpy as np"
   ]
  },
  {
   "cell_type": "code",
   "execution_count": 2,
   "metadata": {
    "collapsed": false
   },
   "outputs": [],
   "source": [
    "substances = Hp, OHm, NH4p, NH3, H2O = [\n",
    "    Solute(n, formula=periodictable.formula(n)) for n in [\n",
    "        'H{+}', 'HO{-}', 'NH3 + H{+}', 'NH3', 'H2O']]\n",
    "assert (Hp.charge, OHm.charge, NH4p.charge, NH3.charge, H2O.charge) == (1, -1, 1, 0, 0)\n",
    "init_conc = {Hp: 1e-7, OHm: 1e-7, NH4p: 1e-7, NH3: 1.0, H2O: 55.5}\n",
    "x0 = [init_conc[k] for k in substances]\n",
    "H2O_c = init_conc[H2O]\n",
    "w_autop = Equilibrium({H2O: 1}, {Hp: 1, OHm: 1}, 10**-14/H2O_c)\n",
    "NH4p_pr = Equilibrium({NH4p: 1}, {Hp: 1, NH3: 1}, 10**-9.26)\n",
    "equilibria = w_autop, NH4p_pr"
   ]
  },
  {
   "cell_type": "code",
   "execution_count": 3,
   "metadata": {
    "collapsed": false
   },
   "outputs": [
    {
     "name": "stdout",
     "output_type": "stream",
     "text": [
      "[ 0.  0.]\n",
      "[ -5.00001675e-08  -5.00001675e-08]\n",
      "[ -5.00001675e-08  -5.00001675e-08]\n",
      "[ -5.00001675e-08  -5.00001675e-08]\n",
      "[ -5.00001675e-08  -5.00001675e-08]\n",
      "[ -5.00001675e-08  -5.00001675e-08]\n",
      "[ -5.00001675e-08  -5.00001675e-08]\n",
      "[ -5.00001675e-08  -5.00001675e-08]\n",
      "[ -5.00001675e-08  -5.00001675e-08]\n",
      "[ -5.00001675e-08  -5.00001675e-08]\n",
      "[ -5.00001675e-08  -5.00001675e-08]\n"
     ]
    },
    {
     "name": "stderr",
     "output_type": "stream",
     "text": [
      "aqchem/equilibria.py:20: RuntimeWarning: divide by zero encountered in double_scalars\n",
      "  tot *= c[idx]**nr\n"
     ]
    },
    {
     "data": {
      "text/plain": [
       "(array([  2.34917093e-12,   4.25649277e-03,   4.25659277e-03,\n",
       "          9.95743507e-01,   5.54957436e+01]),\n",
       "   status: 1\n",
       " success: True\n",
       "     qtf: array([  1.89913751e-18,  -7.13301256e-23])\n",
       "    nfev: 54\n",
       "       r: array([ -2.33929709e+02,  -2.33929709e+02,  -1.13686838e-13])\n",
       "     fun: array([ -7.19528032e-23,  -1.89913751e-18])\n",
       "       x: array([ 0.00425639, -0.00425649])\n",
       " message: 'The solution converged.'\n",
       "    fjac: array([[ -3.27873899e-07,  -1.00000000e+00],\n",
       "       [  1.00000000e+00,  -3.27873899e-07]])\n",
       "    njev: 6)"
      ]
     },
     "execution_count": 3,
     "metadata": {},
     "output_type": "execute_result"
    }
   ],
   "source": [
    "reqsys = REqSystem(equilibria, substances)\n",
    "reqsys.root(init_conc, scaling=1.0)"
   ]
  },
  {
   "cell_type": "code",
   "execution_count": 4,
   "metadata": {
    "collapsed": true
   },
   "outputs": [],
   "source": [
    "reaction_system = EqSystem(equilibria, substances)"
   ]
  },
  {
   "cell_type": "code",
   "execution_count": 5,
   "metadata": {
    "collapsed": false
   },
   "outputs": [
    {
     "data": {
      "image/png": "[encoded data removed]",
      "text/latex": [
       "$$\\left [ - K_{w} \\sigma + \\frac{y_{0} y_{1}}{y_{4}}, \\quad - K_{a} \\sigma + \\frac{y_{0} y_{3}}{y_{2}}, \\quad - i_{0} \\sigma + i_{3} \\sigma - i_{4} \\sigma + y_{0} - y_{3} + y_{4}, \\quad - i_{1} \\sigma - i_{4} \\sigma + y_{1} + y_{4}, \\quad - i_{2} \\sigma - i_{3} \\sigma + y_{2} + y_{3}\\right ]$$"
      ],
      "text/plain": [
       "⎡         y₀⋅y₁          y₀⋅y₃                                                \n",
       "⎢-K_w⋅σ + ─────, -Kₐ⋅σ + ─────, -i₀⋅σ + i₃⋅σ - i₄⋅σ + y₀ - y₃ + y₄, -i₁⋅σ - i₄\n",
       "⎣           y₄             y₂                                                 \n",
       "\n",
       "                                    ⎤\n",
       "⋅σ + y₁ + y₄, -i₂⋅σ - i₃⋅σ + y₂ + y₃⎥\n",
       "                                    ⎦"
      ]
     },
     "execution_count": 5,
     "metadata": {},
     "output_type": "execute_result"
    }
   ],
   "source": [
    "import sympy as sp\n",
    "sp.init_printing()\n",
    "ny = len(substances)\n",
    "y = sp.symarray('y', ny)\n",
    "i = sp.symarray('i', ny)\n",
    "Kw, Ka, sigma = sp.symbols('K_w K_a sigma')\n",
    "w_autop.params = Kw\n",
    "NH4p_pr.params = Ka\n",
    "rs = EqSystem(equilibria, substances)\n",
    "f = rs.f(y, i, scaling=sigma)\n",
    "f"
   ]
  },
  {
   "cell_type": "code",
   "execution_count": 6,
   "metadata": {
    "collapsed": false
   },
   "outputs": [
    {
     "data": {
      "text/plain": [
       "array([[  1.85000006e+08,   3.33333311e-08,   3.33333345e-01,\n",
       "         -3.33333344e-01,   3.33333311e-01],\n",
       "       [  3.69999993e+08,  -3.33333311e-08,  -3.33333344e-01,\n",
       "          3.33333345e-01,  -3.33333311e-01],\n",
       "       [  1.84999987e+08,  -6.66666622e-08,   3.33333311e-01,\n",
       "         -3.33333311e-01,   3.33333378e-01],\n",
       "       [ -1.84999987e+08,   6.66666622e-08,  -3.33333311e-01,\n",
       "          3.33333311e-01,   6.66666622e-01],\n",
       "       [ -3.69999993e+08,   3.33333311e-08,   3.33333344e-01,\n",
       "          6.66666655e-01,   3.33333311e-01]])"
      ]
     },
     "execution_count": 6,
     "metadata": {},
     "output_type": "execute_result"
    }
   ],
   "source": [
    "j = sp.Matrix(1, len(y), lambda _, q: f[q]).jacobian(y)\n",
    "jarr = np.array(j.subs(zip(y,x0)))\n",
    "jarr = np.asarray(jarr, dtype=np.float64)\n",
    "np.linalg.inv(jarr)"
   ]
  },
  {
   "cell_type": "code",
   "execution_count": 7,
   "metadata": {
    "collapsed": false
   },
   "outputs": [
    {
     "data": {
      "image/png": "[encoded data removed]",
      "text/latex": [
       "$$\\left[\\begin{matrix}\\frac{y_{1}}{y_{4}} & \\frac{y_{0}}{y_{4}} & 0 & 0 & - \\frac{y_{0} y_{1}}{y_{4}^{2}}\\\\\\frac{y_{3}}{y_{2}} & 0 & - \\frac{y_{0} y_{3}}{y_{2}^{2}} & \\frac{y_{0}}{y_{2}} & 0\\\\1 & 0 & 0 & -1 & 1\\\\0 & 1 & 0 & 0 & 1\\\\0 & 0 & 1 & 1 & 0\\end{matrix}\\right]$$"
      ],
      "text/plain": [
       "⎡y₁  y₀               -y₀⋅y₁ ⎤\n",
       "⎢──  ──     0     0   ───────⎥\n",
       "⎢y₄  y₄                   2  ⎥\n",
       "⎢                       y₄   ⎥\n",
       "⎢                            ⎥\n",
       "⎢y₃      -y₀⋅y₃   y₀         ⎥\n",
       "⎢──  0   ───────  ──     0   ⎥\n",
       "⎢y₂          2    y₂         ⎥\n",
       "⎢          y₂                ⎥\n",
       "⎢                            ⎥\n",
       "⎢1   0      0     -1     1   ⎥\n",
       "⎢                            ⎥\n",
       "⎢0   1      0     0      1   ⎥\n",
       "⎢                            ⎥\n",
       "⎣0   0      1     1      0   ⎦"
      ]
     },
     "execution_count": 7,
     "metadata": {},
     "output_type": "execute_result"
    }
   ],
   "source": [
    "j"
   ]
  },
  {
   "cell_type": "code",
   "execution_count": 8,
   "metadata": {
    "collapsed": false
   },
   "outputs": [
    {
     "data": {
      "text/plain": [
       "['H{+}', 'HO{-}', 'NH3 + H{+}', 'NH3', 'H2O']"
      ]
     },
     "execution_count": 8,
     "metadata": {},
     "output_type": "execute_result"
    }
   ],
   "source": [
    "[s.name for s in rs.substances]"
   ]
  },
  {
   "cell_type": "code",
   "execution_count": 9,
   "metadata": {
    "collapsed": false
   },
   "outputs": [
    {
     "data": {
      "image/png": "[encoded data removed]",
      "text/latex": [
       "$$\\left ( \\left [ 1, \\quad -1, \\quad 1, \\quad 0, \\quad 0\\right ], \\quad \\left ( \\left [ \\left [ 1, \\quad 1, \\quad 4, \\quad 3, \\quad 2\\right ], \\quad \\left [ 0, \\quad 0, \\quad 1, \\quad 1, \\quad 0\\right ], \\quad \\left [ 0, \\quad 1, \\quad 0, \\quad 0, \\quad 1\\right ]\\right ], \\quad \\left [ 1, \\quad 7, \\quad 8\\right ]\\right )\\right )$$"
      ],
      "text/plain": [
       "([1, -1, 1, 0, 0], ([[1, 1, 4, 3, 2], [0, 0, 1, 1, 0], [0, 1, 0, 0, 1]], [1, 7\n",
       ", 8]))"
      ]
     },
     "execution_count": 9,
     "metadata": {},
     "output_type": "execute_result"
    }
   ],
   "source": [
    "rs.charge_balance_vector(), rs.atom_balance_vectors()"
   ]
  },
  {
   "cell_type": "code",
   "execution_count": 10,
   "metadata": {
    "collapsed": false
   },
   "outputs": [
    {
     "data": {
      "image/png": "[encoded data removed]",
      "text/latex": [
       "$$\\left ( \\left [ \\left [ 1, \\quad 0, \\quad 0, \\quad -1, \\quad 1\\right ], \\quad \\left [ 0, \\quad 1, \\quad 0, \\quad 0, \\quad 1\\right ], \\quad \\left [ 0, \\quad 0, \\quad 1, \\quad 1, \\quad 0\\right ]\\right ], \\quad \\left [ 0, \\quad 1, \\quad 2\\right ]\\right )$$"
      ],
      "text/plain": [
       "([[1, 0, 0, -1, 1], [0, 1, 0, 0, 1], [0, 0, 1, 1, 0]], [0, 1, 2])"
      ]
     },
     "execution_count": 10,
     "metadata": {},
     "output_type": "execute_result"
    }
   ],
   "source": [
    "rs.rref()"
   ]
  },
  {
   "cell_type": "code",
   "execution_count": 11,
   "metadata": {
    "collapsed": false
   },
   "outputs": [],
   "source": [
    "np.set_printoptions(4, linewidth=120)\n",
    "scaling = 1e8\n",
    "for rxn in rs.rxns:\n",
    "    rxn.params = rxn.params.subs({Kw: 1e-14, Ka: 10**-9.26})"
   ]
  },
  {
   "cell_type": "code",
   "execution_count": 12,
   "metadata": {
    "collapsed": false
   },
   "outputs": [
    {
     "data": {
      "text/plain": [
       "True"
      ]
     },
     "execution_count": 12,
     "metadata": {},
     "output_type": "execute_result"
    }
   ],
   "source": [
    "x, res = rs.root(x0, scaling=1, logC=False, square=False)\n",
    "res.success"
   ]
  },
  {
   "cell_type": "code",
   "execution_count": 13,
   "metadata": {
    "collapsed": false
   },
   "outputs": [
    {
     "data": {
      "text/plain": [
       "True"
      ]
     },
     "execution_count": 13,
     "metadata": {},
     "output_type": "execute_result"
    }
   ],
   "source": [
    "x, res = rs.root({Hp: 1e-11, OHm: 1e-3, NH4p: 1e-3, NH3: 1.0, H2O: 55.5}, scaling=1, logC=False, square=False)\n",
    "res.success"
   ]
  },
  {
   "cell_type": "code",
   "execution_count": 14,
   "metadata": {
    "collapsed": false
   },
   "outputs": [
    {
     "data": {
      "text/plain": [
       "True"
      ]
     },
     "execution_count": 14,
     "metadata": {},
     "output_type": "execute_result"
    }
   ],
   "source": [
    "x, res = rs.root({Hp: 1.7e-11, OHm: 3e-2, NH4p: 3e-2, NH3: 0.97, H2O: 55.5}, scaling=1e8, logC=False, square=False)\n",
    "res.success"
   ]
  },
  {
   "cell_type": "code",
   "execution_count": 15,
   "metadata": {
    "collapsed": false
   },
   "outputs": [
    {
     "data": {
      "text/plain": [
       "array([  1.7748e-11,   3.0000e-02,   3.0000e-02,   9.7000e-01,   5.5500e+01])"
      ]
     },
     "execution_count": 15,
     "metadata": {},
     "output_type": "execute_result"
    }
   ],
   "source": [
    "x, res = rs.root({Hp: 1.7e-11, OHm: 3e-2, NH4p: 3e-2, NH3: 0.97, H2O: 55.5}, scaling=1e16, logC=True, square=False)\n",
    "x"
   ]
  },
  {
   "cell_type": "code",
   "execution_count": 16,
   "metadata": {
    "collapsed": false
   },
   "outputs": [
    {
     "data": {
      "text/plain": [
       "(array([  1.7739e-11,   3.1270e-02,   3.1270e-02,   9.6873e-01,   5.5469e+01]),\n",
       "   status: 1\n",
       " success: True\n",
       "     qtf: array([ -2.2150e-10,   2.1725e-23,   1.2001e-19,  -2.7206e-12,   2.1104e-15])\n",
       "    nfev: 57\n",
       "       r: array([ -8.1420e+01,   9.7792e-14,   2.0581e-09,   1.2282e-02,  -1.2282e-02,   1.0000e+00,   1.1051e-04,  -2.8704e-13,\n",
       "         1.0000e+00,  -1.0000e+00,  -1.0000e+00,  -4.4108e-08,  -9.9992e-01,   9.9992e-01,   2.4729e-13])\n",
       "     fun: array([  5.3638e-19,  -3.7755e-14,   0.0000e+00,   0.0000e+00,   0.0000e+00])\n",
       "       x: array([  1.7739e-11,   3.1270e-02,   3.1270e-02,   9.6873e-01,   5.5469e+01])\n",
       " message: 'The solution converged.'\n",
       "    fjac: array([[ -2.6858e-06,  -9.9992e-01,  -1.2282e-02,   9.8086e-14,  -8.4699e-22],\n",
       "       [  6.1356e-13,   9.8079e-14,   1.2042e-15,   1.0000e+00,   4.9982e-26],\n",
       "       [  3.7521e-13,   5.4178e-10,  -4.4108e-08,  -3.3875e-23,  -1.0000e+00],\n",
       "       [ -3.2990e-08,  -1.2282e-02,   9.9992e-01,  -1.2123e-19,  -4.4111e-08],\n",
       "       [ -1.0000e+00,   2.6860e-06,  -3.6635e-13,   6.1362e-13,  -3.7375e-13]])\n",
       "    njev: 4)"
      ]
     },
     "execution_count": 16,
     "metadata": {},
     "output_type": "execute_result"
    }
   ],
   "source": [
    "rs.root(x0, scaling=1e8, logC=False, square=False)"
   ]
  },
  {
   "cell_type": "code",
   "execution_count": 17,
   "metadata": {
    "collapsed": false
   },
   "outputs": [
    {
     "data": {
      "text/plain": [
       "(array([  1.7739e-11,   3.1270e-02,   3.1270e-02,   9.6873e-01,   5.5469e+01]),\n",
       "   status: 1\n",
       " success: True\n",
       "     qtf: array([  2.1511e-19,   4.0318e-34,  -1.6481e-29,   6.9426e-21,  -3.8340e-24])\n",
       "    nfev: 54\n",
       "       r: array([ -3.1000e+01,  -1.8596e-15,   1.7521e-08,   3.2258e-02,  -3.2258e-02,   1.0000e+00,   1.8075e-09,  -1.6653e-16,\n",
       "         1.0000e+00,  -1.0000e+00,  -1.0000e+00,  -2.3727e-09,  -9.9948e-01,   9.9948e-01,   6.5002e-13])\n",
       "     fun: array([  2.4612e-28,  -1.3648e-23,   0.0000e+00,   0.0000e+00,   0.0000e+00])\n",
       "       x: array([  1.7739e-11,   3.1270e-02,   3.1270e-02,   9.6873e-01,   5.5469e+01])\n",
       " message: 'The solution converged.'\n",
       "    fjac: array([[ -1.8183e-05,  -9.9948e-01,  -3.2258e-02,  -1.8874e-15,   0.0000e+00],\n",
       "       [  3.1191e-13,  -1.8735e-15,   5.5728e-17,   1.0000e+00,   0.0000e+00],\n",
       "       [ -3.2678e-13,   7.6579e-11,  -2.3727e-09,   2.7162e-22,  -1.0000e+00],\n",
       "       [ -5.8686e-07,  -3.2258e-02,   9.9948e-01,   3.0361e-18,  -2.3739e-09],\n",
       "       [ -1.0000e+00,   1.8192e-05,   3.3826e-13,   3.1197e-13,   3.2818e-13]])\n",
       "    njev: 5)"
      ]
     },
     "execution_count": 17,
     "metadata": {},
     "output_type": "execute_result"
    }
   ],
   "source": [
    "rs.root(x0, scaling=1, logC=False, square=False)"
   ]
  },
  {
   "cell_type": "code",
   "execution_count": 18,
   "metadata": {
    "collapsed": false
   },
   "outputs": [
    {
     "name": "stdout",
     "output_type": "stream",
     "text": [
      "('elim: ', [0, 1, 2])\n"
     ]
    },
    {
     "data": {
      "text/plain": [
       "(array([  3.1270e-02,   3.1270e-02,   1.7742e-11,   9.6873e-01,   5.5469e+01]),\n",
       "   status: 1\n",
       " success: True\n",
       "     qtf: array([ -1.0803e-13,   1.8943e-23])\n",
       "    nfev: 52\n",
       "       r: array([ -3.0983e+01,   3.0977e+01,  -6.5011e-13])\n",
       "     fun: array([  1.9658e-18,   1.0803e-13])\n",
       "       x: array([  0.9687,  55.4687])\n",
       " message: 'The solution converged.'\n",
       "    fjac: array([[ -1.8197e-05,  -1.0000e+00],\n",
       "       [  1.0000e+00,  -1.8197e-05]])\n",
       "    njev: 5)"
      ]
     },
     "execution_count": 18,
     "metadata": {},
     "output_type": "execute_result"
    }
   ],
   "source": [
    "rs.root(x0, scaling=1.0, logC=False, reduced=True)"
   ]
  },
  {
   "cell_type": "code",
   "execution_count": 19,
   "metadata": {
    "collapsed": false
   },
   "outputs": [
    {
     "name": "stderr",
     "output_type": "stream",
     "text": [
      "/usr/local/lib/python2.7/dist-packages/scipy/optimize/minpack.py:237: RuntimeWarning: The iteration is not making good progress, as measured by the \n",
      "  improvement from the last ten iterations.\n",
      "  warnings.warn(msg, RuntimeWarning)\n",
      "/usr/local/lib/python2.7/dist-packages/scipy/optimize/minpack.py:237: RuntimeWarning: The iteration is not making good progress, as measured by the \n",
      "  improvement from the last five Jacobian evaluations.\n",
      "  warnings.warn(msg, RuntimeWarning)\n",
      "/home/bjorn/.local/lib/python2.7/site-packages/matplotlib/scale.py:93: RuntimeWarning: invalid value encountered in less_equal\n",
      "  mask = a <= 0.0\n"
     ]
    },
    {
     "data": {
      "image/png": "[encoded data removed]",
      "text/plain": [
       "<matplotlib.figure.Figure at 0x7efdf02d56d0>"
      ]
     },
     "metadata": {},
     "output_type": "display_data"
    }
   ],
   "source": [
    "import matplotlib.pyplot as plt\n",
    "%matplotlib inline\n",
    "ny = len(rs.substances)\n",
    "nc = 100\n",
    "x = np.empty((nc, ny))\n",
    "Hparr = np.logspace(-4, 0, nc)\n",
    "success = []\n",
    "for idx in range(nc):\n",
    "    x00 = x0[:]\n",
    "    x00[0] = Hparr[idx]\n",
    "    resx, res = rs.root(x00, scaling=1e12)\n",
    "    success.append(res.success)\n",
    "    x[idx, :] = resx\n",
    "for idx_s in range(ny):\n",
    "    plt.loglog(Hparr, x[:, idx_s], label=rs.substances[idx_s].name)\n",
    "plt.legend(loc='best')\n",
    "for i, s in enumerate(success):\n",
    "    if s is False:\n",
    "        plt.axvline(Hparr[i], c='k', ls='--')"
   ]
  },
  {
   "cell_type": "code",
   "execution_count": 20,
   "metadata": {
    "collapsed": false
   },
   "outputs": [
    {
     "data": {
      "text/plain": [
       "{<aqchem.chemistry.Solute at 0x7efdf8b53750>: 1e-07,\n",
       " <aqchem.chemistry.Solute at 0x7efdf8b53dd0>: 1e-07,\n",
       " <aqchem.chemistry.Solute at 0x7efdf8b5b450>: 55.5,\n",
       " <aqchem.chemistry.Solute at 0x7efdf8b5b610>: 1e-07,\n",
       " <aqchem.chemistry.Solute at 0x7efdf8b5b710>: 1.0}"
      ]
     },
     "execution_count": 20,
     "metadata": {},
     "output_type": "execute_result"
    }
   ],
   "source": [
    "init_conc"
   ]
  },
  {
   "cell_type": "code",
   "execution_count": 21,
   "metadata": {
    "collapsed": false
   },
   "outputs": [
    {
     "data": {
      "text/plain": [
       "False"
      ]
     },
     "execution_count": 21,
     "metadata": {},
     "output_type": "execute_result"
    },
    {
     "data": {
      "image/png": "[encoded data removed]",
      "text/plain": [
       "<matplotlib.figure.Figure at 0x7efe11836710>"
      ]
     },
     "metadata": {},
     "output_type": "display_data"
    }
   ],
   "source": [
    "Cout_14, success = rs.plot(init_conc, Hp, np.logspace(-4, 0, nc), scaling=1e14)\n",
    "all(success)"
   ]
  },
  {
   "cell_type": "code",
   "execution_count": 22,
   "metadata": {
    "collapsed": false,
    "scrolled": true
   },
   "outputs": [
    {
     "data": {
      "text/plain": [
       "True"
      ]
     },
     "execution_count": 22,
     "metadata": {},
     "output_type": "execute_result"
    },
    {
     "data": {
      "image/png": "[encoded data removed]",
      "text/plain": [
       "<matplotlib.figure.Figure at 0x7efdf0405310>"
      ]
     },
     "metadata": {},
     "output_type": "display_data"
    }
   ],
   "source": [
    "Cout_14, success = rs.plot(init_conc, Hp, np.logspace(-4, 0, nc), scaling=1e14, carry=True)\n",
    "all(success)"
   ]
  },
  {
   "cell_type": "code",
   "execution_count": 23,
   "metadata": {
    "collapsed": false
   },
   "outputs": [
    {
     "data": {
      "text/plain": [
       "False"
      ]
     },
     "execution_count": 23,
     "metadata": {},
     "output_type": "execute_result"
    },
    {
     "data": {
      "image/png": "[encoded data removed]",
      "text/plain": [
       "<matplotlib.figure.Figure at 0x7efe118369d0>"
      ]
     },
     "metadata": {},
     "output_type": "display_data"
    }
   ],
   "source": [
    "_, success = rs.plot(init_conc, Hp, np.logspace(-4, 0, nc), scaling=1e-4, tol=1e-12, init_iter=100)\n",
    "all(success)"
   ]
  },
  {
   "cell_type": "code",
   "execution_count": 30,
   "metadata": {
    "collapsed": false
   },
   "outputs": [
    {
     "data": {
      "text/plain": [
       "True"
      ]
     },
     "execution_count": 30,
     "metadata": {},
     "output_type": "execute_result"
    },
    {
     "data": {
      "image/png": "[encoded data removed]",
      "text/plain": [
       "<matplotlib.figure.Figure at 0x7efdee58d310>"
      ]
     },
     "metadata": {},
     "output_type": "display_data"
    }
   ],
   "source": [
    "_, success = rs.plot(init_conc, Hp, np.logspace(-4, 0, nc), scaling=1e-8)\n",
    "all(success)"
   ]
  },
  {
   "cell_type": "code",
   "execution_count": 31,
   "metadata": {
    "collapsed": false
   },
   "outputs": [
    {
     "ename": "ValueError",
     "evalue": "f(a) and f(b) must have different signs",
     "output_type": "error",
     "traceback": [
      "\u001b[1;31m---------------------------------------------------------------------------\u001b[0m",
      "\u001b[1;31mValueError\u001b[0m                                Traceback (most recent call last)",
      "\u001b[1;32m<ipython-input-31-667de9330072>\u001b[0m in \u001b[0;36m<module>\u001b[1;34m()\u001b[0m\n\u001b[1;32m----> 1\u001b[1;33m \u001b[0m_\u001b[0m\u001b[1;33m,\u001b[0m \u001b[0msuccess\u001b[0m \u001b[1;33m=\u001b[0m \u001b[0mrs\u001b[0m\u001b[1;33m.\u001b[0m\u001b[0mplot\u001b[0m\u001b[1;33m(\u001b[0m\u001b[0minit_conc\u001b[0m\u001b[1;33m,\u001b[0m \u001b[0mHp\u001b[0m\u001b[1;33m,\u001b[0m \u001b[0mnp\u001b[0m\u001b[1;33m.\u001b[0m\u001b[0mlogspace\u001b[0m\u001b[1;33m(\u001b[0m\u001b[1;33m-\u001b[0m\u001b[1;36m4\u001b[0m\u001b[1;33m,\u001b[0m \u001b[1;36m0\u001b[0m\u001b[1;33m,\u001b[0m \u001b[0mnc\u001b[0m\u001b[1;33m)\u001b[0m\u001b[1;33m,\u001b[0m \u001b[0mscaling\u001b[0m\u001b[1;33m=\u001b[0m\u001b[1;36m1e-8\u001b[0m\u001b[1;33m,\u001b[0m \u001b[0mcarry\u001b[0m\u001b[1;33m=\u001b[0m\u001b[0mTrue\u001b[0m\u001b[1;33m)\u001b[0m\u001b[1;33m\u001b[0m\u001b[0m\n\u001b[0m\u001b[0;32m      2\u001b[0m \u001b[0mall\u001b[0m\u001b[1;33m(\u001b[0m\u001b[0msuccess\u001b[0m\u001b[1;33m)\u001b[0m\u001b[1;33m\u001b[0m\u001b[0m\n",
      "\u001b[1;32m/home/bjorn/vc/aqchem/examples/aqchem/equilibria.py\u001b[0m in \u001b[0;36mplot\u001b[1;34m(self, init_concs, varied, values, ax, fail_vline, plot_kwargs, **kwargs)\u001b[0m\n\u001b[0;32m    245\u001b[0m         \u001b[1;32mif\u001b[0m \u001b[0mplot_kwargs\u001b[0m \u001b[1;32mis\u001b[0m \u001b[0mNone\u001b[0m\u001b[1;33m:\u001b[0m\u001b[1;33m\u001b[0m\u001b[0m\n\u001b[0;32m    246\u001b[0m             \u001b[0mplot_kwargs\u001b[0m \u001b[1;33m=\u001b[0m \u001b[1;33m{\u001b[0m\u001b[1;33m}\u001b[0m\u001b[1;33m\u001b[0m\u001b[0m\n\u001b[1;32m--> 247\u001b[1;33m         \u001b[0mx\u001b[0m\u001b[1;33m,\u001b[0m \u001b[0msuccess\u001b[0m \u001b[1;33m=\u001b[0m \u001b[0mself\u001b[0m\u001b[1;33m.\u001b[0m\u001b[0mmultiple_root\u001b[0m\u001b[1;33m(\u001b[0m\u001b[0minit_concs\u001b[0m\u001b[1;33m,\u001b[0m \u001b[0mvaried\u001b[0m\u001b[1;33m,\u001b[0m \u001b[0mvalues\u001b[0m\u001b[1;33m,\u001b[0m \u001b[1;33m**\u001b[0m\u001b[0mkwargs\u001b[0m\u001b[1;33m)\u001b[0m\u001b[1;33m\u001b[0m\u001b[0m\n\u001b[0m\u001b[0;32m    248\u001b[0m         \u001b[1;32mif\u001b[0m \u001b[1;32mnot\u001b[0m \u001b[0misinstance\u001b[0m\u001b[1;33m(\u001b[0m\u001b[0mvaried\u001b[0m\u001b[1;33m,\u001b[0m \u001b[0mint\u001b[0m\u001b[1;33m)\u001b[0m\u001b[1;33m:\u001b[0m\u001b[1;33m\u001b[0m\u001b[0m\n\u001b[0;32m    249\u001b[0m             \u001b[0mvaried\u001b[0m \u001b[1;33m=\u001b[0m \u001b[0mself\u001b[0m\u001b[1;33m.\u001b[0m\u001b[0msubstances\u001b[0m\u001b[1;33m.\u001b[0m\u001b[0mindex\u001b[0m\u001b[1;33m(\u001b[0m\u001b[0mvaried\u001b[0m\u001b[1;33m)\u001b[0m\u001b[1;33m\u001b[0m\u001b[0m\n",
      "\u001b[1;32m/home/bjorn/vc/aqchem/examples/aqchem/equilibria.py\u001b[0m in \u001b[0;36mmultiple_root\u001b[1;34m(self, init_concs, varied, values, carry, **kwargs)\u001b[0m\n\u001b[0;32m    233\u001b[0m                     \u001b[0mx0\u001b[0m \u001b[1;33m=\u001b[0m \u001b[0mx\u001b[0m\u001b[1;33m[\u001b[0m\u001b[0midx\u001b[0m\u001b[1;33m-\u001b[0m\u001b[1;36m1\u001b[0m\u001b[1;33m,\u001b[0m \u001b[1;33m:\u001b[0m\u001b[1;33m]\u001b[0m\u001b[1;33m\u001b[0m\u001b[0m\n\u001b[0;32m    234\u001b[0m             \u001b[0mx0\u001b[0m\u001b[1;33m[\u001b[0m\u001b[0mvaried\u001b[0m\u001b[1;33m]\u001b[0m \u001b[1;33m=\u001b[0m \u001b[0mvalues\u001b[0m\u001b[1;33m[\u001b[0m\u001b[0midx\u001b[0m\u001b[1;33m]\u001b[0m\u001b[1;33m\u001b[0m\u001b[0m\n\u001b[1;32m--> 235\u001b[1;33m             \u001b[0mresx\u001b[0m\u001b[1;33m,\u001b[0m \u001b[0mres\u001b[0m \u001b[1;33m=\u001b[0m \u001b[0mself\u001b[0m\u001b[1;33m.\u001b[0m\u001b[0mroot\u001b[0m\u001b[1;33m(\u001b[0m\u001b[0mx0\u001b[0m\u001b[1;33m,\u001b[0m \u001b[1;33m**\u001b[0m\u001b[0mkwargs\u001b[0m\u001b[1;33m)\u001b[0m\u001b[1;33m\u001b[0m\u001b[0m\n\u001b[0m\u001b[0;32m    236\u001b[0m             \u001b[0msuccess\u001b[0m\u001b[1;33m[\u001b[0m\u001b[0midx\u001b[0m\u001b[1;33m]\u001b[0m \u001b[1;33m=\u001b[0m \u001b[0mresx\u001b[0m \u001b[1;32mis\u001b[0m \u001b[1;32mnot\u001b[0m \u001b[0mNone\u001b[0m\u001b[1;33m\u001b[0m\u001b[0m\n\u001b[0;32m    237\u001b[0m             \u001b[0mx\u001b[0m\u001b[1;33m[\u001b[0m\u001b[0midx\u001b[0m\u001b[1;33m,\u001b[0m \u001b[1;33m:\u001b[0m\u001b[1;33m]\u001b[0m \u001b[1;33m=\u001b[0m \u001b[0mresx\u001b[0m\u001b[1;33m\u001b[0m\u001b[0m\n",
      "\u001b[1;32m/home/bjorn/vc/aqchem/examples/aqchem/equilibria.py\u001b[0m in \u001b[0;36mroot\u001b[1;34m(self, init_concs, scaling, logC, square, delta, reduced, init_iter, **kwargs)\u001b[0m\n\u001b[0;32m    350\u001b[0m             \u001b[0mdelta\u001b[0m \u001b[1;33m=\u001b[0m \u001b[0mkwargs\u001b[0m\u001b[1;33m.\u001b[0m\u001b[0mget\u001b[0m\u001b[1;33m(\u001b[0m\u001b[1;34m'tol'\u001b[0m\u001b[1;33m,\u001b[0m \u001b[1;36m1e-12\u001b[0m\u001b[1;33m)\u001b[0m\u001b[1;33m\u001b[0m\u001b[0m\n\u001b[0;32m    351\u001b[0m         x0 = self.initial_guess(init_concs + delta, scaling=scaling,\n\u001b[1;32m--> 352\u001b[1;33m                                 repetitions=init_iter)\n\u001b[0m\u001b[0;32m    353\u001b[0m         \u001b[1;32mif\u001b[0m \u001b[0mreduced\u001b[0m\u001b[1;33m:\u001b[0m\u001b[1;33m\u001b[0m\u001b[0m\n\u001b[0;32m    354\u001b[0m             \u001b[0mx0\u001b[0m \u001b[1;33m=\u001b[0m \u001b[0mnp\u001b[0m\u001b[1;33m.\u001b[0m\u001b[0marray\u001b[0m\u001b[1;33m(\u001b[0m\u001b[1;33m[\u001b[0m\u001b[0mx\u001b[0m \u001b[1;32mfor\u001b[0m \u001b[0midx\u001b[0m\u001b[1;33m,\u001b[0m \u001b[0mx\u001b[0m \u001b[1;32min\u001b[0m \u001b[0menumerate\u001b[0m\u001b[1;33m(\u001b[0m\u001b[0mx0\u001b[0m\u001b[1;33m)\u001b[0m \u001b[1;32mif\u001b[0m \u001b[0midx\u001b[0m \u001b[1;32mnot\u001b[0m \u001b[1;32min\u001b[0m \u001b[0melim\u001b[0m\u001b[1;33m]\u001b[0m\u001b[1;33m)\u001b[0m\u001b[1;33m\u001b[0m\u001b[0m\n",
      "\u001b[1;32m/home/bjorn/vc/aqchem/examples/aqchem/equilibria.py\u001b[0m in \u001b[0;36minitial_guess\u001b[1;34m(self, init_concs, scaling, repetitions, steffensens)\u001b[0m\n\u001b[0;32m    396\u001b[0m         \u001b[0minit_concs\u001b[0m \u001b[1;33m*=\u001b[0m \u001b[0mscaling\u001b[0m\u001b[1;33m\u001b[0m\u001b[0m\n\u001b[0;32m    397\u001b[0m         \u001b[1;32mfor\u001b[0m \u001b[0m_\u001b[0m \u001b[1;32min\u001b[0m \u001b[0mrange\u001b[0m\u001b[1;33m(\u001b[0m\u001b[0mrepetitions\u001b[0m\u001b[1;33m)\u001b[0m\u001b[1;33m:\u001b[0m\u001b[1;33m\u001b[0m\u001b[0m\n\u001b[1;32m--> 398\u001b[1;33m             \u001b[0minit_concs\u001b[0m \u001b[1;33m=\u001b[0m \u001b[0mf\u001b[0m\u001b[1;33m(\u001b[0m\u001b[0minit_concs\u001b[0m\u001b[1;33m)\u001b[0m\u001b[1;33m\u001b[0m\u001b[0m\n\u001b[0m\u001b[0;32m    399\u001b[0m \u001b[1;33m\u001b[0m\u001b[0m\n\u001b[0;32m    400\u001b[0m         \u001b[1;32mfor\u001b[0m \u001b[0m_\u001b[0m \u001b[1;32min\u001b[0m \u001b[0mrange\u001b[0m\u001b[1;33m(\u001b[0m\u001b[0msteffensens\u001b[0m\u001b[1;33m)\u001b[0m\u001b[1;33m:\u001b[0m\u001b[1;33m\u001b[0m\u001b[0m\n",
      "\u001b[1;32m/home/bjorn/vc/aqchem/examples/aqchem/equilibria.py\u001b[0m in \u001b[0;36mf\u001b[1;34m(x)\u001b[0m\n\u001b[0;32m    392\u001b[0m                 xnew += solve_equilibrium(\n\u001b[0;32m    393\u001b[0m                     \u001b[0mx\u001b[0m\u001b[1;33m,\u001b[0m \u001b[0mself\u001b[0m\u001b[1;33m.\u001b[0m\u001b[0mstoichs\u001b[0m\u001b[1;33m[\u001b[0m\u001b[1;33m:\u001b[0m\u001b[1;33m,\u001b[0m \u001b[0mri\u001b[0m\u001b[1;33m]\u001b[0m\u001b[1;33m,\u001b[0m\u001b[1;33m\u001b[0m\u001b[0m\n\u001b[1;32m--> 394\u001b[1;33m                     eq.params * scaling**eq.dimensionality())\n\u001b[0m\u001b[0;32m    395\u001b[0m             \u001b[1;32mreturn\u001b[0m \u001b[0mxnew\u001b[0m\u001b[1;33m/\u001b[0m\u001b[0mself\u001b[0m\u001b[1;33m.\u001b[0m\u001b[0mnr\u001b[0m\u001b[1;33m\u001b[0m\u001b[0m\n\u001b[0;32m    396\u001b[0m         \u001b[0minit_concs\u001b[0m \u001b[1;33m*=\u001b[0m \u001b[0mscaling\u001b[0m\u001b[1;33m\u001b[0m\u001b[0m\n",
      "\u001b[1;32m/home/bjorn/vc/aqchem/examples/aqchem/equilibria.py\u001b[0m in \u001b[0;36msolve_equilibrium\u001b[1;34m(c0, stoich, K, activity_product)\u001b[0m\n\u001b[0;32m     98\u001b[0m     \u001b[0mstoich\u001b[0m \u001b[1;33m=\u001b[0m \u001b[0mnp\u001b[0m\u001b[1;33m.\u001b[0m\u001b[0marray\u001b[0m\u001b[1;33m(\u001b[0m\u001b[0mstoich\u001b[0m\u001b[1;33m)\u001b[0m\u001b[1;33m\u001b[0m\u001b[0m\n\u001b[0;32m     99\u001b[0m     \u001b[0mc0\u001b[0m \u001b[1;33m=\u001b[0m \u001b[0mnp\u001b[0m\u001b[1;33m.\u001b[0m\u001b[0marray\u001b[0m\u001b[1;33m(\u001b[0m\u001b[0mc0\u001b[0m\u001b[1;33m)\u001b[0m\u001b[1;33m\u001b[0m\u001b[0m\n\u001b[1;32m--> 100\u001b[1;33m     \u001b[0mrc\u001b[0m \u001b[1;33m=\u001b[0m \u001b[0m_solve_equilibrium_coord\u001b[0m\u001b[1;33m(\u001b[0m\u001b[0mc0\u001b[0m\u001b[1;33m,\u001b[0m \u001b[0mstoich\u001b[0m\u001b[1;33m,\u001b[0m \u001b[0mK\u001b[0m\u001b[1;33m,\u001b[0m \u001b[0mactivity_product\u001b[0m\u001b[1;33m)\u001b[0m\u001b[1;33m\u001b[0m\u001b[0m\n\u001b[0m\u001b[0;32m    101\u001b[0m     \u001b[1;32mreturn\u001b[0m \u001b[0mc0\u001b[0m \u001b[1;33m+\u001b[0m \u001b[0mrc\u001b[0m\u001b[1;33m*\u001b[0m\u001b[0mstoich\u001b[0m\u001b[1;33m\u001b[0m\u001b[0m\n\u001b[0;32m    102\u001b[0m \u001b[1;33m\u001b[0m\u001b[0m\n",
      "\u001b[1;32m/home/bjorn/vc/aqchem/examples/aqchem/equilibria.py\u001b[0m in \u001b[0;36m_solve_equilibrium_coord\u001b[1;34m(c0, stoich, K, activity_product)\u001b[0m\n\u001b[0;32m     74\u001b[0m         \u001b[0mlower\u001b[0m\u001b[1;33m,\u001b[0m  \u001b[1;31m# + delta_frac*span,\u001b[0m\u001b[1;33m\u001b[0m\u001b[0m\n\u001b[0;32m     75\u001b[0m         \u001b[0mupper\u001b[0m\u001b[1;33m,\u001b[0m  \u001b[1;31m# - delta_frac*span,\u001b[0m\u001b[1;33m\u001b[0m\u001b[0m\n\u001b[1;32m---> 76\u001b[1;33m         \u001b[1;33m(\u001b[0m\u001b[0mc0_m\u001b[0m\u001b[1;33m,\u001b[0m \u001b[0mstoich_m\u001b[0m\u001b[1;33m,\u001b[0m \u001b[0mK\u001b[0m\u001b[1;33m,\u001b[0m \u001b[0mactivity_product\u001b[0m\u001b[1;33m)\u001b[0m\u001b[1;33m\u001b[0m\u001b[0m\n\u001b[0m\u001b[0;32m     77\u001b[0m     )\n\u001b[0;32m     78\u001b[0m \u001b[1;33m\u001b[0m\u001b[0m\n",
      "\u001b[1;32m/usr/local/lib/python2.7/dist-packages/scipy/optimize/zeros.pyc\u001b[0m in \u001b[0;36mbrentq\u001b[1;34m(f, a, b, args, xtol, rtol, maxiter, full_output, disp)\u001b[0m\n\u001b[0;32m    413\u001b[0m     \u001b[1;32mif\u001b[0m \u001b[0mrtol\u001b[0m \u001b[1;33m<\u001b[0m \u001b[0m_rtol\u001b[0m\u001b[1;33m:\u001b[0m\u001b[1;33m\u001b[0m\u001b[0m\n\u001b[0;32m    414\u001b[0m         \u001b[1;32mraise\u001b[0m \u001b[0mValueError\u001b[0m\u001b[1;33m(\u001b[0m\u001b[1;34m\"rtol too small (%g < %g)\"\u001b[0m \u001b[1;33m%\u001b[0m \u001b[1;33m(\u001b[0m\u001b[0mrtol\u001b[0m\u001b[1;33m,\u001b[0m \u001b[0m_rtol\u001b[0m\u001b[1;33m)\u001b[0m\u001b[1;33m)\u001b[0m\u001b[1;33m\u001b[0m\u001b[0m\n\u001b[1;32m--> 415\u001b[1;33m     \u001b[0mr\u001b[0m \u001b[1;33m=\u001b[0m \u001b[0m_zeros\u001b[0m\u001b[1;33m.\u001b[0m\u001b[0m_brentq\u001b[0m\u001b[1;33m(\u001b[0m\u001b[0mf\u001b[0m\u001b[1;33m,\u001b[0m\u001b[0ma\u001b[0m\u001b[1;33m,\u001b[0m\u001b[0mb\u001b[0m\u001b[1;33m,\u001b[0m\u001b[0mxtol\u001b[0m\u001b[1;33m,\u001b[0m\u001b[0mrtol\u001b[0m\u001b[1;33m,\u001b[0m\u001b[0mmaxiter\u001b[0m\u001b[1;33m,\u001b[0m\u001b[0margs\u001b[0m\u001b[1;33m,\u001b[0m\u001b[0mfull_output\u001b[0m\u001b[1;33m,\u001b[0m\u001b[0mdisp\u001b[0m\u001b[1;33m)\u001b[0m\u001b[1;33m\u001b[0m\u001b[0m\n\u001b[0m\u001b[0;32m    416\u001b[0m     \u001b[1;32mreturn\u001b[0m \u001b[0mresults_c\u001b[0m\u001b[1;33m(\u001b[0m\u001b[0mfull_output\u001b[0m\u001b[1;33m,\u001b[0m \u001b[0mr\u001b[0m\u001b[1;33m)\u001b[0m\u001b[1;33m\u001b[0m\u001b[0m\n\u001b[0;32m    417\u001b[0m \u001b[1;33m\u001b[0m\u001b[0m\n",
      "\u001b[1;31mValueError\u001b[0m: f(a) and f(b) must have different signs"
     ]
    },
    {
     "data": {
      "image/png": "[encoded data removed]",
      "text/plain": [
       "<matplotlib.figure.Figure at 0x7efdf03c4050>"
      ]
     },
     "metadata": {},
     "output_type": "display_data"
    }
   ],
   "source": [
    "_, success = rs.plot(init_conc, Hp, np.logspace(-4, 0, nc), scaling=1e-8, carry=True)\n",
    "all(success)"
   ]
  },
  {
   "cell_type": "code",
   "execution_count": null,
   "metadata": {
    "collapsed": false
   },
   "outputs": [
    {
     "name": "stdout",
     "output_type": "stream",
     "text": [
      "> \u001b[1;32m/usr/local/lib/python2.7/dist-packages/scipy/optimize/zeros.py\u001b[0m(415)\u001b[0;36mbrentq\u001b[1;34m()\u001b[0m\n",
      "\u001b[1;32m    414 \u001b[1;33m        \u001b[1;32mraise\u001b[0m \u001b[0mValueError\u001b[0m\u001b[1;33m(\u001b[0m\u001b[1;34m\"rtol too small (%g < %g)\"\u001b[0m \u001b[1;33m%\u001b[0m \u001b[1;33m(\u001b[0m\u001b[0mrtol\u001b[0m\u001b[1;33m,\u001b[0m \u001b[0m_rtol\u001b[0m\u001b[1;33m)\u001b[0m\u001b[1;33m)\u001b[0m\u001b[1;33m\u001b[0m\u001b[0m\n",
      "\u001b[0m\u001b[1;32m--> 415 \u001b[1;33m    \u001b[0mr\u001b[0m \u001b[1;33m=\u001b[0m \u001b[0m_zeros\u001b[0m\u001b[1;33m.\u001b[0m\u001b[0m_brentq\u001b[0m\u001b[1;33m(\u001b[0m\u001b[0mf\u001b[0m\u001b[1;33m,\u001b[0m\u001b[0ma\u001b[0m\u001b[1;33m,\u001b[0m\u001b[0mb\u001b[0m\u001b[1;33m,\u001b[0m\u001b[0mxtol\u001b[0m\u001b[1;33m,\u001b[0m\u001b[0mrtol\u001b[0m\u001b[1;33m,\u001b[0m\u001b[0mmaxiter\u001b[0m\u001b[1;33m,\u001b[0m\u001b[0margs\u001b[0m\u001b[1;33m,\u001b[0m\u001b[0mfull_output\u001b[0m\u001b[1;33m,\u001b[0m\u001b[0mdisp\u001b[0m\u001b[1;33m)\u001b[0m\u001b[1;33m\u001b[0m\u001b[0m\n",
      "\u001b[0m\u001b[1;32m    416 \u001b[1;33m    \u001b[1;32mreturn\u001b[0m \u001b[0mresults_c\u001b[0m\u001b[1;33m(\u001b[0m\u001b[0mfull_output\u001b[0m\u001b[1;33m,\u001b[0m \u001b[0mr\u001b[0m\u001b[1;33m)\u001b[0m\u001b[1;33m\u001b[0m\u001b[0m\n",
      "\u001b[0m\n",
      "ipdb> u\n",
      "> \u001b[1;32m/home/bjorn/vc/aqchem/examples/aqchem/equilibria.py\u001b[0m(76)\u001b[0;36m_solve_equilibrium_coord\u001b[1;34m()\u001b[0m\n",
      "\u001b[1;32m     75 \u001b[1;33m        \u001b[0mupper\u001b[0m\u001b[1;33m,\u001b[0m  \u001b[1;31m# - delta_frac*span,\u001b[0m\u001b[1;33m\u001b[0m\u001b[0m\n",
      "\u001b[0m\u001b[1;32m---> 76 \u001b[1;33m        \u001b[1;33m(\u001b[0m\u001b[0mc0_m\u001b[0m\u001b[1;33m,\u001b[0m \u001b[0mstoich_m\u001b[0m\u001b[1;33m,\u001b[0m \u001b[0mK\u001b[0m\u001b[1;33m,\u001b[0m \u001b[0mactivity_product\u001b[0m\u001b[1;33m)\u001b[0m\u001b[1;33m\u001b[0m\u001b[0m\n",
      "\u001b[0m\u001b[1;32m     77 \u001b[1;33m    )\n",
      "\u001b[0m\n",
      "ipdb> c0\n",
      "array([ -1.2882e-14,   3.1156e-10,   3.2099e-10,   9.6790e-09,   5.5469e-07])\n",
      "ipdb> stoichh\n",
      "*** NameError: name 'stoichh' is not defined\n",
      "ipdb> stoich\n",
      "array([ 1,  1,  0,  0, -1])\n",
      "ipdb> K\n",
      "1.00000000000000e-22\n"
     ]
    }
   ],
   "source": [
    "%debug"
   ]
  },
  {
   "cell_type": "code",
   "execution_count": null,
   "metadata": {
    "collapsed": false
   },
   "outputs": [],
   "source": [
    "Cout, success = rs.plot(Cout_14, Hp, np.logspace(-4, 0, nc), scaling=1e-8, init_iter=0, method='lm')\n",
    "all(success), Cout.shape"
   ]
  },
  {
   "cell_type": "code",
   "execution_count": 26,
   "metadata": {
    "collapsed": false,
    "scrolled": false
   },
   "outputs": [
    {
     "data": {
      "text/plain": [
       "True"
      ]
     },
     "execution_count": 26,
     "metadata": {},
     "output_type": "execute_result"
    },
    {
     "data": {
      "image/png": "[encoded data removed]",
      "text/plain": [
       "<matplotlib.figure.Figure at 0x7efdee4f8410>"
      ]
     },
     "metadata": {},
     "output_type": "display_data"
    }
   ],
   "source": [
    "Cout, success = rs.plot(Cout_14, Hp, np.logspace(-4, 0, nc), scaling=1, logC=True, init_iter=0, method='lm')\n",
    "all(success)"
   ]
  },
  {
   "cell_type": "code",
   "execution_count": 27,
   "metadata": {
    "collapsed": false
   },
   "outputs": [],
   "source": [
    "#Cout, success = reqsys.plot(init_conc, Hp, np.logspace(-4, 0, 20), scaling=1e2)"
   ]
  },
  {
   "cell_type": "code",
   "execution_count": 28,
   "metadata": {
    "collapsed": false
   },
   "outputs": [
    {
     "data": {
      "image/png": "[encoded data removed]",
      "text/latex": [
       "$$\\left [ 1e-07, \\quad 1e-07, \\quad 1e-07, \\quad 1.0, \\quad 55.5\\right ]$$"
      ],
      "text/plain": [
       "[1e-07, 1e-07, 1e-07, 1.0, 55.5]"
      ]
     },
     "execution_count": 28,
     "metadata": {},
     "output_type": "execute_result"
    }
   ],
   "source": [
    "x0"
   ]
  },
  {
   "cell_type": "code",
   "execution_count": 29,
   "metadata": {
    "collapsed": false
   },
   "outputs": [
    {
     "name": "stdout",
     "output_type": "stream",
     "text": [
      "[1e-07, 1e-07, 1e-07, 1.0, 55.5]\n",
      "[  4.2249e-07   4.2249e-07   1.0000e-07   1.0000e+00   5.5500e+01]\n",
      "[  2.1125e-07   4.2249e-07   3.1125e-07   1.0000e+00   5.5500e+01]\n",
      "[  3.5643e-07   5.6768e-07   3.1125e-07   1.0000e+00   5.5500e+01]\n",
      "[  2.3762e-07   5.6768e-07   4.3006e-07   1.0000e+00   5.5500e+01]\n",
      "[  3.2772e-07   6.5778e-07   4.3006e-07   1.0000e+00   5.5500e+01]\n",
      "[  2.4579e-07   6.5778e-07   5.1199e-07   1.0000e+00   5.5500e+01]\n",
      "[  3.1002e-07   7.2201e-07   5.1199e-07   1.0000e+00   5.5500e+01]\n",
      "[  2.4802e-07   7.2201e-07   5.7399e-07   1.0000e+00   5.5500e+01]\n"
     ]
    }
   ],
   "source": [
    "from aqchem.equilibria import solve_equilibrium\n",
    "print(x0)\n",
    "for w in range(1,5):\n",
    "    for eq in rs.rxns:\n",
    "        new_x0 = solve_equilibrium(x0, eq.net_stoich(rs.substances), eq.params)\n",
    "        x0 = (w*x0 + new_x0)/(w+1)\n",
    "        print(x0)"
   ]
  }
 ],
 "metadata": {
  "kernelspec": {
   "display_name": "Python 2",
   "language": "python",
   "name": "python2"
  },
  "language_info": {
   "codemirror_mode": {
    "name": "ipython",
    "version": 2
   },
   "file_extension": ".py",
   "mimetype": "text/x-python",
   "name": "python",
   "nbconvert_exporter": "python",
   "pygments_lexer": "ipython2",
   "version": "2.7.6"
  }
 },
 "nbformat": 4,
 "nbformat_minor": 0
}
