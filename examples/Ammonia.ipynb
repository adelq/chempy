{
 "cells": [
  {
   "cell_type": "code",
   "execution_count": 1,
   "metadata": {
    "collapsed": false
   },
   "outputs": [],
   "source": [
    "from __future__ import division"
   ]
  },
  {
   "cell_type": "code",
   "execution_count": 2,
   "metadata": {
    "collapsed": false
   },
   "outputs": [],
   "source": [
    "from aqchem.chemistry import Solute\n",
    "from aqchem.equilibria import Equilibrium, EqSystem, charge_balance, atom_balance\n",
    "import periodictable\n",
    "import numpy as np"
   ]
  },
  {
   "cell_type": "code",
   "execution_count": 3,
   "metadata": {
    "collapsed": false
   },
   "outputs": [],
   "source": [
    "substances = Hp, OHm, NH4p, NH3, H2O = [\n",
    "    Solute(n, formula=periodictable.formula(n)) for n in [\n",
    "        'H{+}', 'HO{-}', 'NH3 + H{+}', 'NH3', 'H2O']]\n",
    "assert (Hp.charge, OHm.charge, NH4p.charge, NH3.charge, H2O.charge) == (1, -1, 1, 0, 0)"
   ]
  },
  {
   "cell_type": "code",
   "execution_count": 4,
   "metadata": {
    "collapsed": false
   },
   "outputs": [],
   "source": [
    "init_conc = {Hp: 1e-7, OHm: 1e-7, NH4p: 1e-7, NH3: 1.0, H2O: 55.5}\n",
    "x0 = [init_conc[k] for k in substances]\n",
    "H2O_c = init_conc[H2O]\n",
    "w_autop = Equilibrium({H2O: 1}, {Hp: 1, OHm: 1}, 10**-14/H2O_c)\n",
    "NH4p_pr = Equilibrium({NH4p: 1}, {Hp: 1, NH3: 1}, 10**-9.26)\n",
    "equilibria = w_autop, NH4p_pr"
   ]
  },
  {
   "cell_type": "code",
   "execution_count": 5,
   "metadata": {
    "collapsed": true
   },
   "outputs": [],
   "source": [
    "reaction_system = EqSystem(equilibria, substances)"
   ]
  },
  {
   "cell_type": "code",
   "execution_count": 6,
   "metadata": {
    "collapsed": false
   },
   "outputs": [
    {
     "data": {
      "image/png": "[encoded data removed]",
      "text/latex": [
       "$$\\left [ - K_{w} \\sigma + \\frac{y_{0} y_{1}}{y_{4}}, \\quad - K_{a} \\sigma + \\frac{y_{0} y_{3}}{y_{2}}, \\quad - i_{0} + i_{3} - i_{4} + y_{0} - y_{3} + y_{4}, \\quad - i_{1} - i_{4} + y_{1} + y_{4}, \\quad - i_{2} - i_{3} + y_{2} + y_{3}\\right ]$$"
      ],
      "text/plain": [
       "⎡         y₀⋅y₁          y₀⋅y₃                                                \n",
       "⎢-K_w⋅σ + ─────, -Kₐ⋅σ + ─────, -i₀ + i₃ - i₄ + y₀ - y₃ + y₄, -i₁ - i₄ + y₁ + \n",
       "⎣           y₄             y₂                                                 \n",
       "\n",
       "                      ⎤\n",
       "y₄, -i₂ - i₃ + y₂ + y₃⎥\n",
       "                      ⎦"
      ]
     },
     "execution_count": 6,
     "metadata": {},
     "output_type": "execute_result"
    }
   ],
   "source": [
    "import sympy as sp\n",
    "sp.init_printing()\n",
    "ny = len(substances)\n",
    "y = sp.symarray('y', ny)\n",
    "i = sp.symarray('i', ny)\n",
    "Kw, Ka, sigma = sp.symbols('K_w K_a sigma')\n",
    "w_autop.params = Kw\n",
    "NH4p_pr.params = Ka\n",
    "rs = EqSystem(equilibria, substances)\n",
    "f = rs.f(y, i, scaling=sigma)\n",
    "f"
   ]
  },
  {
   "cell_type": "code",
   "execution_count": 7,
   "metadata": {
    "collapsed": false
   },
   "outputs": [
    {
     "data": {
      "text/plain": [
       "array([[  1.85000006e+08,   3.33333311e-08,   3.33333345e-01,\n",
       "         -3.33333344e-01,   3.33333311e-01],\n",
       "       [  3.69999993e+08,  -3.33333311e-08,  -3.33333344e-01,\n",
       "          3.33333345e-01,  -3.33333311e-01],\n",
       "       [  1.84999987e+08,  -6.66666622e-08,   3.33333311e-01,\n",
       "         -3.33333311e-01,   3.33333378e-01],\n",
       "       [ -1.84999987e+08,   6.66666622e-08,  -3.33333311e-01,\n",
       "          3.33333311e-01,   6.66666622e-01],\n",
       "       [ -3.69999993e+08,   3.33333311e-08,   3.33333344e-01,\n",
       "          6.66666655e-01,   3.33333311e-01]])"
      ]
     },
     "execution_count": 7,
     "metadata": {},
     "output_type": "execute_result"
    }
   ],
   "source": [
    "j = sp.Matrix(1, len(y), lambda _, q: f[q]).jacobian(y)\n",
    "jarr = np.array(j.subs(zip(y,x0)))\n",
    "jarr = np.asarray(jarr, dtype=np.float64)\n",
    "np.linalg.inv(jarr)"
   ]
  },
  {
   "cell_type": "code",
   "execution_count": 8,
   "metadata": {
    "collapsed": false
   },
   "outputs": [
    {
     "data": {
      "image/png": "[encoded data removed]",
      "text/latex": [
       "$$\\left[\\begin{matrix}\\frac{y_{1}}{y_{4}} & \\frac{y_{0}}{y_{4}} & 0 & 0 & - \\frac{y_{0} y_{1}}{y_{4}^{2}}\\\\\\frac{y_{3}}{y_{2}} & 0 & - \\frac{y_{0} y_{3}}{y_{2}^{2}} & \\frac{y_{0}}{y_{2}} & 0\\\\1 & 0 & 0 & -1 & 1\\\\0 & 1 & 0 & 0 & 1\\\\0 & 0 & 1 & 1 & 0\\end{matrix}\\right]$$"
      ],
      "text/plain": [
       "⎡y₁  y₀               -y₀⋅y₁ ⎤\n",
       "⎢──  ──     0     0   ───────⎥\n",
       "⎢y₄  y₄                   2  ⎥\n",
       "⎢                       y₄   ⎥\n",
       "⎢                            ⎥\n",
       "⎢y₃      -y₀⋅y₃   y₀         ⎥\n",
       "⎢──  0   ───────  ──     0   ⎥\n",
       "⎢y₂          2    y₂         ⎥\n",
       "⎢          y₂                ⎥\n",
       "⎢                            ⎥\n",
       "⎢1   0      0     -1     1   ⎥\n",
       "⎢                            ⎥\n",
       "⎢0   1      0     0      1   ⎥\n",
       "⎢                            ⎥\n",
       "⎣0   0      1     1      0   ⎦"
      ]
     },
     "execution_count": 8,
     "metadata": {},
     "output_type": "execute_result"
    }
   ],
   "source": [
    "j"
   ]
  },
  {
   "cell_type": "code",
   "execution_count": 9,
   "metadata": {
    "collapsed": false
   },
   "outputs": [
    {
     "data": {
      "text/plain": [
       "['H{+}', 'HO{-}', 'NH3 + H{+}', 'NH3', 'H2O']"
      ]
     },
     "execution_count": 9,
     "metadata": {},
     "output_type": "execute_result"
    }
   ],
   "source": [
    "[s.name for s in rs.substances]"
   ]
  },
  {
   "cell_type": "code",
   "execution_count": 10,
   "metadata": {
    "collapsed": false
   },
   "outputs": [
    {
     "data": {
      "image/png": "[encoded data removed]",
      "text/latex": [
       "$$\\left ( \\left [ 1, \\quad -1, \\quad 1, \\quad 0, \\quad 0\\right ], \\quad \\left ( \\left [ \\left [ 1, \\quad 1, \\quad 4, \\quad 3, \\quad 2\\right ], \\quad \\left [ 0, \\quad 0, \\quad 1, \\quad 1, \\quad 0\\right ], \\quad \\left [ 0, \\quad 1, \\quad 0, \\quad 0, \\quad 1\\right ]\\right ], \\quad \\left [ 1, \\quad 7, \\quad 8\\right ]\\right )\\right )$$"
      ],
      "text/plain": [
       "([1, -1, 1, 0, 0], ([[1, 1, 4, 3, 2], [0, 0, 1, 1, 0], [0, 1, 0, 0, 1]], [1, 7\n",
       ", 8]))"
      ]
     },
     "execution_count": 10,
     "metadata": {},
     "output_type": "execute_result"
    }
   ],
   "source": [
    "rs.charge_balance_vector(), rs.atom_balance_vectors()"
   ]
  },
  {
   "cell_type": "code",
   "execution_count": 11,
   "metadata": {
    "collapsed": false
   },
   "outputs": [
    {
     "data": {
      "image/png": "[encoded data removed]",
      "text/latex": [
       "$$\\left ( \\left [ \\left [ 1, \\quad 0, \\quad 0, \\quad -1, \\quad 1\\right ], \\quad \\left [ 0, \\quad 1, \\quad 0, \\quad 0, \\quad 1\\right ], \\quad \\left [ 0, \\quad 0, \\quad 1, \\quad 1, \\quad 0\\right ]\\right ], \\quad \\left [ 0, \\quad 1, \\quad 2\\right ]\\right )$$"
      ],
      "text/plain": [
       "([[1, 0, 0, -1, 1], [0, 1, 0, 0, 1], [0, 0, 1, 1, 0]], [0, 1, 2])"
      ]
     },
     "execution_count": 11,
     "metadata": {},
     "output_type": "execute_result"
    }
   ],
   "source": [
    "rs.rref()"
   ]
  },
  {
   "cell_type": "code",
   "execution_count": 12,
   "metadata": {
    "collapsed": false
   },
   "outputs": [],
   "source": [
    "np.set_printoptions(4, linewidth=120)\n",
    "scaling = 1e8\n",
    "for rxn in rs.rxns:\n",
    "    rxn.params = rxn.params.subs({Kw: 1e-14, Ka: 10**-9.26})"
   ]
  },
  {
   "cell_type": "code",
   "execution_count": 13,
   "metadata": {
    "collapsed": false
   },
   "outputs": [
    {
     "name": "stderr",
     "output_type": "stream",
     "text": [
      "aqchem/equilibria.py:20: RuntimeWarning: divide by zero encountered in double_scalars\n",
      "  tot *= c[idx]**nr\n"
     ]
    },
    {
     "data": {
      "text/plain": [
       "True"
      ]
     },
     "execution_count": 13,
     "metadata": {},
     "output_type": "execute_result"
    }
   ],
   "source": [
    "x, res = rs.root(x0, scaling=1, logC=False, square=False)\n",
    "res.success"
   ]
  },
  {
   "cell_type": "code",
   "execution_count": 14,
   "metadata": {
    "collapsed": false
   },
   "outputs": [
    {
     "data": {
      "text/plain": [
       "True"
      ]
     },
     "execution_count": 14,
     "metadata": {},
     "output_type": "execute_result"
    }
   ],
   "source": [
    "x, res = rs.root({Hp: 1e-11, OHm: 1e-3, NH4p: 1e-3, NH3: 1.0, H2O: 55.5}, scaling=1, logC=False, square=False)\n",
    "res.success"
   ]
  },
  {
   "cell_type": "code",
   "execution_count": 15,
   "metadata": {
    "collapsed": false
   },
   "outputs": [
    {
     "data": {
      "text/plain": [
       "True"
      ]
     },
     "execution_count": 15,
     "metadata": {},
     "output_type": "execute_result"
    }
   ],
   "source": [
    "x, res = rs.root({Hp: 1.7e-11, OHm: 3e-2, NH4p: 3e-2, NH3: 0.97, H2O: 55.5}, scaling=1e8, logC=False, square=False)\n",
    "res.success"
   ]
  },
  {
   "cell_type": "code",
   "execution_count": null,
   "metadata": {
    "collapsed": false
   },
   "outputs": [],
   "source": []
  },
  {
   "cell_type": "code",
   "execution_count": 16,
   "metadata": {
    "collapsed": false
   },
   "outputs": [
    {
     "data": {
      "text/plain": [
       "array([  1.7748e-11,   3.0000e-02,   3.0000e-02,   9.7000e-01,   5.5500e+01])"
      ]
     },
     "execution_count": 16,
     "metadata": {},
     "output_type": "execute_result"
    }
   ],
   "source": [
    "x, res = rs.root({Hp: 1.7e-11, OHm: 3e-2, NH4p: 3e-2, NH3: 0.97, H2O: 55.5}, scaling=1e16, logC=True, square=False)\n",
    "x"
   ]
  },
  {
   "cell_type": "code",
   "execution_count": 17,
   "metadata": {
    "collapsed": false
   },
   "outputs": [
    {
     "data": {
      "image/png": "[encoded data removed]",
      "text/latex": [
       "$$\\left[\\begin{matrix}\\frac{2 y_{0}}{y_{4}^{2}} y_{1}^{2} & \\frac{2 y_{1}}{y_{4}^{2}} y_{0}^{2} & 0 & 0 & - \\frac{2 y_{0}^{2}}{y_{4}^{3}} y_{1}^{2}\\\\\\frac{2 y_{0}}{y_{2}^{2}} y_{3}^{2} & 0 & - \\frac{2 y_{0}^{2}}{y_{2}^{3}} y_{3}^{2} & \\frac{2 y_{3}}{y_{2}^{2}} y_{0}^{2} & 0\\\\2 y_{0} & 0 & 0 & - 2 y_{3} & 2 y_{4}\\\\0 & 2 y_{1} & 0 & 0 & 2 y_{4}\\\\0 & 0 & 2 y_{2} & 2 y_{3} & 0\\end{matrix}\\right]$$"
      ],
      "text/plain": [
       "⎡       2      2                                 2   2 ⎤\n",
       "⎢2⋅y₀⋅y₁   2⋅y₀ ⋅y₁                         -2⋅y₀ ⋅y₁  ⎥\n",
       "⎢────────  ────────       0          0      ───────────⎥\n",
       "⎢    2         2                                  3    ⎥\n",
       "⎢  y₄        y₄                                 y₄     ⎥\n",
       "⎢                                                      ⎥\n",
       "⎢       2                 2   2       2                ⎥\n",
       "⎢2⋅y₀⋅y₃             -2⋅y₀ ⋅y₃    2⋅y₀ ⋅y₃             ⎥\n",
       "⎢────────     0      ───────────  ────────       0     ⎥\n",
       "⎢    2                     3          2                ⎥\n",
       "⎢  y₂                    y₂         y₂                 ⎥\n",
       "⎢                                                      ⎥\n",
       "⎢  2⋅y₀       0           0        -2⋅y₃       2⋅y₄    ⎥\n",
       "⎢                                                      ⎥\n",
       "⎢   0        2⋅y₁         0          0         2⋅y₄    ⎥\n",
       "⎢                                                      ⎥\n",
       "⎣   0         0         2⋅y₂        2⋅y₃         0     ⎦"
      ]
     },
     "execution_count": 17,
     "metadata": {},
     "output_type": "execute_result"
    }
   ],
   "source": [
    "y_0, y_1, y_2, y_3, y_4 = y\n",
    "sp.Matrix([[2*y_0*y_1**2/y_4**2, 2*y_0**2*y_1/y_4**2, 0, 0, -2*y_0**2*y_1**2/y_4**3], [2*y_0*y_3**2/y_2**2, 0, -2*y_0**2*y_3**2/y_2**3, 2*y_0**2*y_3/y_2**2, 0], [2*y_0, 0, 0, -2*y_3, 2*y_4], [0, 2*y_1, 0, 0, 2*y_4], [0, 0, 2*y_2, 2*y_3, 0]])"
   ]
  },
  {
   "cell_type": "code",
   "execution_count": 18,
   "metadata": {
    "collapsed": false
   },
   "outputs": [
    {
     "data": {
      "image/png": "[encoded data removed]",
      "text/latex": [
       "$$\\left [ 1e-07, \\quad 1e-07, \\quad 1e-07, \\quad 1.0, \\quad 55.5\\right ]$$"
      ],
      "text/plain": [
       "[1e-07, 1e-07, 1e-07, 1.0, 55.5]"
      ]
     },
     "execution_count": 18,
     "metadata": {},
     "output_type": "execute_result"
    }
   ],
   "source": [
    "x0"
   ]
  },
  {
   "cell_type": "code",
   "execution_count": 19,
   "metadata": {
    "collapsed": false
   },
   "outputs": [
    {
     "name": "stdout",
     "output_type": "stream",
     "text": [
      "[1e-07, 1e-07, 1e-07, 1.0, 55.5]\n",
      "[  4.2249e-07   4.2249e-07   1.0000e-07   1.0000e+00   5.5500e+01]\n",
      "[  2.1125e-07   4.2249e-07   3.1125e-07   1.0000e+00   5.5500e+01]\n",
      "[  3.5643e-07   5.6768e-07   3.1125e-07   1.0000e+00   5.5500e+01]\n",
      "[  2.3762e-07   5.6768e-07   4.3006e-07   1.0000e+00   5.5500e+01]\n",
      "[  3.2772e-07   6.5778e-07   4.3006e-07   1.0000e+00   5.5500e+01]\n",
      "[  2.4579e-07   6.5778e-07   5.1199e-07   1.0000e+00   5.5500e+01]\n",
      "[  3.1002e-07   7.2201e-07   5.1199e-07   1.0000e+00   5.5500e+01]\n",
      "[  2.4802e-07   7.2201e-07   5.7399e-07   1.0000e+00   5.5500e+01]\n"
     ]
    }
   ],
   "source": [
    "from aqchem.equilibria import solve_equilibrium\n",
    "print(x0)\n",
    "for w in range(1,5):\n",
    "    for eq in rs.rxns:\n",
    "        new_x0 = solve_equilibrium(x0, eq.net_stoich(rs.substances), eq.params)\n",
    "        x0 = (w*x0 + new_x0)/(w+1)\n",
    "        print(x0)"
   ]
  },
  {
   "cell_type": "code",
   "execution_count": 20,
   "metadata": {
    "collapsed": false
   },
   "outputs": [
    {
     "data": {
      "text/plain": [
       "(array([  1.7739e-11,   3.1270e-02,   3.1270e-02,   9.6873e-01,   5.5469e+01]),\n",
       "   status: 1\n",
       " success: True\n",
       "     qtf: array([ -9.3072e-11,  -3.1931e-28,  -4.4499e-23,  -9.6845e-13,   7.2040e-16])\n",
       "    nfev: 71\n",
       "       r: array([ -9.6109e+01,  -7.4994e-16,  -4.3670e-09,   1.0405e-02,  -1.0405e-02,   1.0000e+00,   5.6821e-10,   4.8578e-17,\n",
       "         1.0000e+00,  -1.0000e+00,  -1.0000e+00,   4.5946e-11,  -9.9995e-01,   9.9995e-01,   2.0936e-13])\n",
       "     fun: array([  6.1622e-19,  -1.0594e-13,   0.0000e+00,   0.0000e+00,   0.0000e+00])\n",
       "       x: array([  1.7739e-11,   3.1270e-02,   3.1270e-02,   9.6873e-01,   5.5469e+01])\n",
       " message: 'The solution converged.'\n",
       "    fjac: array([[ -1.9310e-06,  -9.9995e-01,  -1.0405e-02,  -9.8608e-32,   1.0588e-22],\n",
       "       [  6.8393e-13,   5.4216e-19,  -3.4700e-17,   1.0000e+00,  -1.9059e-21],\n",
       "       [  4.8208e-13,  -4.7809e-13,   4.5946e-11,   3.0024e-21,  -1.0000e+00],\n",
       "       [ -2.0093e-08,  -1.0405e-02,   9.9995e-01,   1.2472e-17,   4.5949e-11],\n",
       "       [ -1.0000e+00,   1.9311e-06,  -4.7478e-13,   6.8401e-13,  -4.8208e-13]])\n",
       "    njev: 4)"
      ]
     },
     "execution_count": 20,
     "metadata": {},
     "output_type": "execute_result"
    }
   ],
   "source": [
    "rs.root(x0, scaling=1e8, logC=False, square=False)"
   ]
  },
  {
   "cell_type": "code",
   "execution_count": 21,
   "metadata": {
    "collapsed": false
   },
   "outputs": [
    {
     "data": {
      "text/plain": [
       "(array([  1.7739e-11,   3.1270e-02,   3.1270e-02,   9.6873e-01,   5.5469e+01]),\n",
       "   status: 1\n",
       " success: True\n",
       "     qtf: array([  1.4571e-23,   1.0203e-34,  -2.6664e-34,   4.7036e-25,   1.4895e-25])\n",
       "    nfev: 89\n",
       "       r: array([ -3.0996e+01,  -7.0053e-12,   1.7565e-08,   3.2262e-02,  -3.2262e-02,   1.0000e+00,   9.2946e-04,  -3.7323e-12,\n",
       "         1.0000e+00,  -1.0000e+00,  -1.0000e+00,  -5.6669e-10,  -9.9948e-01,   9.9948e-01,   6.4980e-13])\n",
       "     fun: array([ -1.4922e-25,  -1.4579e-23,   0.0000e+00,   0.0000e+00,   0.0000e+00])\n",
       "       x: array([  1.7739e-11,   3.1270e-02,   3.1270e-02,   9.6873e-01,   5.5469e+01])\n",
       " message: 'The solution converged.'\n",
       "    fjac: array([[ -1.8188e-05,  -9.9948e-01,  -3.2262e-02,  -7.0053e-12,  -5.0565e-25],\n",
       "       [  3.1956e-13,  -7.0017e-12,  -2.2601e-13,   1.0000e+00,   1.4188e-25],\n",
       "       [ -3.1945e-13,   1.8292e-11,  -5.6669e-10,   2.4204e-25,  -1.0000e+00],\n",
       "       [ -5.8708e-07,  -3.2262e-02,   9.9948e-01,  -2.1272e-24,  -5.6698e-10],\n",
       "       [ -1.0000e+00,   1.8197e-05,   3.3011e-13,   3.1974e-13,   3.1978e-13]])\n",
       "    njev: 9)"
      ]
     },
     "execution_count": 21,
     "metadata": {},
     "output_type": "execute_result"
    }
   ],
   "source": [
    "rs.root(x0, scaling=1, logC=False, square=False)"
   ]
  },
  {
   "cell_type": "code",
   "execution_count": 22,
   "metadata": {
    "collapsed": false
   },
   "outputs": [
    {
     "name": "stdout",
     "output_type": "stream",
     "text": [
      "('elim: ', [0, 1, 2])\n"
     ]
    },
    {
     "data": {
      "text/plain": [
       "(array([  6.4492e-03,   6.4491e-03,   3.5669e-12,   9.9355e-01,   5.5494e+01]),\n",
       "   status: 1\n",
       " success: True\n",
       "     qtf: array([  2.5068e-14,  -9.5855e-15])\n",
       "    nfev: 59\n",
       "       r: array([ -1.5407e+02,   1.5407e+02,  -1.2897e-13])\n",
       "     fun: array([ -9.5855e-15,  -2.5068e-14])\n",
       "       x: array([  0.9936,  55.4936])\n",
       " message: 'The solution converged.'\n",
       "    fjac: array([[ -7.5419e-07,  -1.0000e+00],\n",
       "       [  1.0000e+00,  -7.5419e-07]])\n",
       "    njev: 8)"
      ]
     },
     "execution_count": 22,
     "metadata": {},
     "output_type": "execute_result"
    }
   ],
   "source": [
    "rs.root(x0, scaling=1.0, logC=False, reduced=True)"
   ]
  },
  {
   "cell_type": "code",
   "execution_count": 23,
   "metadata": {
    "collapsed": false
   },
   "outputs": [
    {
     "name": "stderr",
     "output_type": "stream",
     "text": [
      "/usr/local/lib/python2.7/dist-packages/scipy/optimize/minpack.py:237: RuntimeWarning: The iteration is not making good progress, as measured by the \n",
      "  improvement from the last five Jacobian evaluations.\n",
      "  warnings.warn(msg, RuntimeWarning)\n",
      "/home/bjorn/.local/lib/python2.7/site-packages/matplotlib/scale.py:93: RuntimeWarning: invalid value encountered in less_equal\n",
      "  mask = a <= 0.0\n"
     ]
    },
    {
     "data": {
      "image/png": "[encoded data removed]",
      "text/plain": [
       "<matplotlib.figure.Figure at 0x7fe7ef0f0390>"
      ]
     },
     "metadata": {},
     "output_type": "display_data"
    }
   ],
   "source": [
    "import matplotlib.pyplot as plt\n",
    "%matplotlib inline\n",
    "ny = len(rs.substances)\n",
    "nc = 100\n",
    "x = np.empty((nc, ny))\n",
    "Hparr = np.logspace(-4, 0, nc)\n",
    "success = []\n",
    "for idx in range(nc):\n",
    "    x00 = x0[:]\n",
    "    x00[0] = Hparr[idx]\n",
    "    resx, res = rs.root(x00, scaling=1e12)\n",
    "    success.append(res.success)\n",
    "    x[idx, :] = resx\n",
    "for idx_s in range(ny):\n",
    "    plt.loglog(Hparr, x[:, idx_s], label=rs.substances[idx_s].name)\n",
    "plt.legend(loc='best')\n",
    "for i, s in enumerate(success):\n",
    "    if s is False:\n",
    "        plt.axvline(Hparr[i], c='k', ls='--')"
   ]
  },
  {
   "cell_type": "code",
   "execution_count": 24,
   "metadata": {
    "collapsed": false
   },
   "outputs": [
    {
     "name": "stderr",
     "output_type": "stream",
     "text": [
      "/usr/local/lib/python2.7/dist-packages/scipy/optimize/minpack.py:237: RuntimeWarning: The iteration is not making good progress, as measured by the \n",
      "  improvement from the last ten iterations.\n",
      "  warnings.warn(msg, RuntimeWarning)\n"
     ]
    },
    {
     "data": {
      "text/plain": [
       "False"
      ]
     },
     "execution_count": 24,
     "metadata": {},
     "output_type": "execute_result"
    },
    {
     "data": {
      "image/png": "[encoded data removed]",
      "text/plain": [
       "<matplotlib.figure.Figure at 0x7fe7ef2603d0>"
      ]
     },
     "metadata": {},
     "output_type": "display_data"
    }
   ],
   "source": [
    "success = rs.plot(init_conc, Hp, np.logspace(-4, 0, nc), scaling=1e14)\n",
    "all(success)"
   ]
  },
  {
   "cell_type": "code",
   "execution_count": 26,
   "metadata": {
    "collapsed": false
   },
   "outputs": [
    {
     "data": {
      "text/plain": [
       "True"
      ]
     },
     "execution_count": 26,
     "metadata": {},
     "output_type": "execute_result"
    },
    {
     "data": {
      "image/png": "[encoded data removed]",
      "text/plain": [
       "<matplotlib.figure.Figure at 0x7fe7ef269510>"
      ]
     },
     "metadata": {},
     "output_type": "display_data"
    }
   ],
   "source": [
    "success = rs.plot(init_conc, Hp, np.logspace(-4, 0, nc), scaling=1e14, logC=True, init_iter=100)\n",
    "all(success)"
   ]
  },
  {
   "cell_type": "code",
   "execution_count": null,
   "metadata": {
    "collapsed": true
   },
   "outputs": [],
   "source": []
  }
 ],
 "metadata": {
  "kernelspec": {
   "display_name": "Python 2",
   "language": "python",
   "name": "python2"
  },
  "language_info": {
   "codemirror_mode": {
    "name": "ipython",
    "version": 2
   },
   "file_extension": ".py",
   "mimetype": "text/x-python",
   "name": "python",
   "nbconvert_exporter": "python",
   "pygments_lexer": "ipython2",
   "version": "2.7.6"
  }
 },
 "nbformat": 4,
 "nbformat_minor": 0
}
