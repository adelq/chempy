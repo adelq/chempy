{
 "cells": [
  {
   "cell_type": "code",
   "execution_count": 1,
   "metadata": {
    "collapsed": false
   },
   "outputs": [],
   "source": [
    "from __future__ import division"
   ]
  },
  {
   "cell_type": "code",
   "execution_count": 2,
   "metadata": {
    "collapsed": false
   },
   "outputs": [],
   "source": [
    "from aqchem.chemistry import Solute\n",
    "from aqchem.equilibria import Equilibrium, EqSystem, charge_balance, atom_balance\n",
    "import periodictable\n",
    "import numpy as np"
   ]
  },
  {
   "cell_type": "code",
   "execution_count": 3,
   "metadata": {
    "collapsed": false
   },
   "outputs": [],
   "source": [
    "substances = Hp, OHm, NH4p, NH3, H2O = [\n",
    "    Solute(n, formula=periodictable.formula(n)) for n in [\n",
    "        'H{+}', 'HO{-}', 'NH3 + H{+}', 'NH3', 'H2O']]\n",
    "assert (Hp.charge, OHm.charge, NH4p.charge, NH3.charge, H2O.charge) == (1, -1, 1, 0, 0)"
   ]
  },
  {
   "cell_type": "code",
   "execution_count": 4,
   "metadata": {
    "collapsed": false
   },
   "outputs": [],
   "source": [
    "init_conc = {Hp: 1e-7, OHm: 1e-7, NH4p: 1e-7, NH3: 1.0, H2O: 55.5}\n",
    "x0 = [init_conc[k] for k in substances]\n",
    "H2O_c = init_conc[H2O]\n",
    "w_autop = Equilibrium({H2O: 1}, {Hp: 1, OHm: 1}, 10**-14/H2O_c)\n",
    "NH4p_pr = Equilibrium({NH4p: 1}, {Hp: 1, NH3: 1}, 10**-9.26)\n",
    "equilibria = w_autop, NH4p_pr"
   ]
  },
  {
   "cell_type": "code",
   "execution_count": 5,
   "metadata": {
    "collapsed": true
   },
   "outputs": [],
   "source": [
    "reaction_system = EqSystem(equilibria, substances)"
   ]
  },
  {
   "cell_type": "code",
   "execution_count": 6,
   "metadata": {
    "collapsed": false
   },
   "outputs": [
    {
     "data": {
      "image/png": "[encoded data removed]",
      "text/latex": [
       "$$\\left [ - K_{w} \\sigma + \\frac{y_{0} y_{1}}{y_{4}}, \\quad - K_{a} \\sigma + \\frac{y_{0} y_{3}}{y_{2}}, \\quad - i_{0} + i_{3} - i_{4} + y_{0} - y_{3} + y_{4}, \\quad - i_{1} - i_{4} + y_{1} + y_{4}, \\quad - i_{2} - i_{3} + y_{2} + y_{3}\\right ]$$"
      ],
      "text/plain": [
       "⎡         y₀⋅y₁          y₀⋅y₃                                                \n",
       "⎢-K_w⋅σ + ─────, -Kₐ⋅σ + ─────, -i₀ + i₃ - i₄ + y₀ - y₃ + y₄, -i₁ - i₄ + y₁ + \n",
       "⎣           y₄             y₂                                                 \n",
       "\n",
       "                      ⎤\n",
       "y₄, -i₂ - i₃ + y₂ + y₃⎥\n",
       "                      ⎦"
      ]
     },
     "execution_count": 6,
     "metadata": {},
     "output_type": "execute_result"
    }
   ],
   "source": [
    "import sympy as sp\n",
    "sp.init_printing()\n",
    "ny = len(substances)\n",
    "y = sp.symarray('y', ny)\n",
    "i = sp.symarray('i', ny)\n",
    "Kw, Ka, sigma = sp.symbols('K_w K_a sigma')\n",
    "w_autop.params = Kw\n",
    "NH4p_pr.params = Ka\n",
    "rs = EqSystem(equilibria, substances)\n",
    "f = rs.f(y, i, scaling=sigma)\n",
    "f"
   ]
  },
  {
   "cell_type": "code",
   "execution_count": 7,
   "metadata": {
    "collapsed": false
   },
   "outputs": [
    {
     "data": {
      "text/plain": [
       "array([[  1.85000006e+08,   3.33333311e-08,   3.33333345e-01,\n",
       "         -3.33333344e-01,   3.33333311e-01],\n",
       "       [  3.69999993e+08,  -3.33333311e-08,  -3.33333344e-01,\n",
       "          3.33333345e-01,  -3.33333311e-01],\n",
       "       [  1.84999987e+08,  -6.66666622e-08,   3.33333311e-01,\n",
       "         -3.33333311e-01,   3.33333378e-01],\n",
       "       [ -1.84999987e+08,   6.66666622e-08,  -3.33333311e-01,\n",
       "          3.33333311e-01,   6.66666622e-01],\n",
       "       [ -3.69999993e+08,   3.33333311e-08,   3.33333344e-01,\n",
       "          6.66666655e-01,   3.33333311e-01]])"
      ]
     },
     "execution_count": 7,
     "metadata": {},
     "output_type": "execute_result"
    }
   ],
   "source": [
    "j = sp.Matrix(1, len(y), lambda _, q: f[q]).jacobian(y)\n",
    "jarr = np.array(j.subs(zip(y,x0)))\n",
    "jarr = np.asarray(jarr, dtype=np.float64)\n",
    "np.linalg.inv(jarr)"
   ]
  },
  {
   "cell_type": "code",
   "execution_count": 8,
   "metadata": {
    "collapsed": false
   },
   "outputs": [
    {
     "data": {
      "image/png": "[encoded data removed]",
      "text/latex": [
       "$$\\left[\\begin{matrix}\\frac{y_{1}}{y_{4}} & \\frac{y_{0}}{y_{4}} & 0 & 0 & - \\frac{y_{0} y_{1}}{y_{4}^{2}}\\\\\\frac{y_{3}}{y_{2}} & 0 & - \\frac{y_{0} y_{3}}{y_{2}^{2}} & \\frac{y_{0}}{y_{2}} & 0\\\\1 & 0 & 0 & -1 & 1\\\\0 & 1 & 0 & 0 & 1\\\\0 & 0 & 1 & 1 & 0\\end{matrix}\\right]$$"
      ],
      "text/plain": [
       "⎡y₁  y₀               -y₀⋅y₁ ⎤\n",
       "⎢──  ──     0     0   ───────⎥\n",
       "⎢y₄  y₄                   2  ⎥\n",
       "⎢                       y₄   ⎥\n",
       "⎢                            ⎥\n",
       "⎢y₃      -y₀⋅y₃   y₀         ⎥\n",
       "⎢──  0   ───────  ──     0   ⎥\n",
       "⎢y₂          2    y₂         ⎥\n",
       "⎢          y₂                ⎥\n",
       "⎢                            ⎥\n",
       "⎢1   0      0     -1     1   ⎥\n",
       "⎢                            ⎥\n",
       "⎢0   1      0     0      1   ⎥\n",
       "⎢                            ⎥\n",
       "⎣0   0      1     1      0   ⎦"
      ]
     },
     "execution_count": 8,
     "metadata": {},
     "output_type": "execute_result"
    }
   ],
   "source": [
    "j"
   ]
  },
  {
   "cell_type": "code",
   "execution_count": 9,
   "metadata": {
    "collapsed": false
   },
   "outputs": [
    {
     "data": {
      "text/plain": [
       "['H{+}', 'HO{-}', 'NH3 + H{+}', 'NH3', 'H2O']"
      ]
     },
     "execution_count": 9,
     "metadata": {},
     "output_type": "execute_result"
    }
   ],
   "source": [
    "[s.name for s in rs.substances]"
   ]
  },
  {
   "cell_type": "code",
   "execution_count": 10,
   "metadata": {
    "collapsed": false
   },
   "outputs": [
    {
     "data": {
      "image/png": "[encoded data removed]",
      "text/latex": [
       "$$\\left ( \\left [ 1, \\quad -1, \\quad 1, \\quad 0, \\quad 0\\right ], \\quad \\left ( \\left [ \\left [ 1, \\quad 1, \\quad 4, \\quad 3, \\quad 2\\right ], \\quad \\left [ 0, \\quad 0, \\quad 1, \\quad 1, \\quad 0\\right ], \\quad \\left [ 0, \\quad 1, \\quad 0, \\quad 0, \\quad 1\\right ]\\right ], \\quad \\left [ 1, \\quad 7, \\quad 8\\right ]\\right )\\right )$$"
      ],
      "text/plain": [
       "([1, -1, 1, 0, 0], ([[1, 1, 4, 3, 2], [0, 0, 1, 1, 0], [0, 1, 0, 0, 1]], [1, 7\n",
       ", 8]))"
      ]
     },
     "execution_count": 10,
     "metadata": {},
     "output_type": "execute_result"
    }
   ],
   "source": [
    "rs.charge_balance_vector(), rs.atom_balance_vectors()"
   ]
  },
  {
   "cell_type": "code",
   "execution_count": 11,
   "metadata": {
    "collapsed": false
   },
   "outputs": [
    {
     "data": {
      "image/png": "[encoded data removed]",
      "text/latex": [
       "$$\\left ( \\left [ \\left [ 1, \\quad 0, \\quad 0, \\quad -1, \\quad 1\\right ], \\quad \\left [ 0, \\quad 1, \\quad 0, \\quad 0, \\quad 1\\right ], \\quad \\left [ 0, \\quad 0, \\quad 1, \\quad 1, \\quad 0\\right ]\\right ], \\quad \\left [ 0, \\quad 1, \\quad 2\\right ]\\right )$$"
      ],
      "text/plain": [
       "([[1, 0, 0, -1, 1], [0, 1, 0, 0, 1], [0, 0, 1, 1, 0]], [0, 1, 2])"
      ]
     },
     "execution_count": 11,
     "metadata": {},
     "output_type": "execute_result"
    }
   ],
   "source": [
    "rs.rref()"
   ]
  },
  {
   "cell_type": "code",
   "execution_count": 12,
   "metadata": {
    "collapsed": false
   },
   "outputs": [],
   "source": [
    "np.set_printoptions(4, linewidth=120)\n",
    "scaling = 1e8\n",
    "for rxn in rs.rxns:\n",
    "    rxn.params = rxn.params.subs({Kw: 1e-14, Ka: 10**-9.26})"
   ]
  },
  {
   "cell_type": "code",
   "execution_count": 13,
   "metadata": {
    "collapsed": false
   },
   "outputs": [
    {
     "name": "stdout",
     "output_type": "stream",
     "text": [
      "(5, 5)\n",
      "Matrix([[y_1/y_4, y_0/y_4, 0, 0, -y_0*y_1/y_4**2], [y_3/y_2, 0, -y_0*y_3/y_2**2, y_0/y_2, 0], [1, 0, 0, -1, 1], [0, 1, 0, 0, 1], [0, 0, 1, 1, 0]])\n",
      "[  2.4802e-07   7.2201e-07   5.7399e-07   1.0000e+00   5.5500e+01]\n",
      "[  2.4802e-07   7.2201e-07   5.7399e-07   1.0000e+00   5.5500e+01]\n",
      "[  2.4802e-07   7.2201e-07   5.7399e-07   1.0000e+00   5.5500e+01]\n",
      "[  3.9894e-07   1.7962e-06   1.4973e-06   1.0000e+00   5.5500e+01]\n",
      "[  2.5840e-07   1.6367e-06   1.4783e-06   1.0000e+00   5.5500e+01]\n",
      "[  2.5479e-07   1.9571e-06   1.8023e-06   1.0000e+00   5.5500e+01]\n",
      "[  1.7216e-07   2.7521e-06   2.6799e-06   1.0000e+00   5.5500e+01]\n",
      "[  1.1913e-07   3.8401e-06   3.8210e-06   1.0000e+00   5.5500e+01]\n",
      "[  6.9423e-08   6.0794e-06   6.1135e-06   9.9906e-01   5.5500e+01]\n",
      "[  1.8582e-08   1.0602e-05   1.0703e-05   9.9667e-01   5.5499e+01]\n",
      "[  8.4665e-08   2.0657e-06   2.0810e-06   1.0000e+00   5.5500e+01]\n",
      "[  1.2557e-08   6.6364e-04   1.5293e-05   9.9902e-01   5.5499e+01]\n",
      "[  1.3758e-08   1.0605e-05   1.0692e-05   9.9999e-01   5.5500e+01]\n",
      "[  1.1798e-08   1.0591e-05   1.0679e-05   9.9999e-01   5.5500e+01]\n",
      "[  7.4597e-08   1.1142e-05   1.1168e-05   9.9999e-01   5.5500e+01]\n",
      "[  6.8295e-08   1.1180e-05   1.1212e-05   9.9999e-01   5.5500e+01]\n",
      "[  3.1574e-09   1.2893e-05   1.2980e-05   9.9982e-01   5.5500e+01]\n",
      "[  4.1423e-09   1.7495e-05   1.7582e-05   9.9993e-01   5.5500e+01]\n",
      "[  5.9506e-09   6.3359e-05   2.6785e-05   9.9994e-01   5.5500e+01]\n",
      "[  1.0987e-09   2.6267e-05   8.3783e-06   9.9998e-01   5.5500e+01]\n",
      "[  8.4181e-09   5.9379e-05   4.5192e-05   9.9995e-01   5.5500e+01]\n",
      "[  3.9884e-09   4.0435e-05   2.6785e-05   9.9997e-01   5.5500e+01]\n",
      "[  2.2193e-09   3.7295e-05   1.7582e-05   9.9997e-01   5.5500e+01]\n",
      "[  3.2696e-09   3.7137e-05   2.6785e-05   9.9997e-01   5.5500e+01]\n",
      "[  5.2185e-09   5.6086e-05   4.5192e-05   9.9995e-01   5.5500e+01]\n",
      "[  7.7419e-09   7.7160e-05   7.7253e-05   9.9992e-01   5.5500e+01]\n",
      "[  6.7341e-09   7.5125e-05   7.5218e-05   9.9992e-01   5.5500e+01]\n",
      "[  6.6930e-09   7.6696e-05   7.6789e-05   9.9992e-01   5.5500e+01]\n",
      "[  5.8001e-09   8.8721e-05   8.8816e-05   9.9991e-01   5.5500e+01]\n",
      "[  3.3610e-09   1.2078e-04   1.2088e-04   9.9988e-01   5.5500e+01]\n",
      "[  6.4124e-09   7.1229e-05   7.1323e-05   9.9993e-01   5.5500e+01]\n",
      "[  4.9588e-09   8.8721e-05   8.8816e-05   9.9991e-01   5.5500e+01]\n",
      "[  3.1544e-09   1.3681e-04   1.3691e-04   9.9986e-01   5.5500e+01]\n",
      "[  2.7402e-09   1.6896e-04   1.6897e-04   9.9983e-01   5.5500e+01]\n",
      "[  2.0037e-09   2.3300e-04   2.3309e-04   9.9977e-01   5.5500e+01]\n",
      "[  1.3067e-09   3.5169e-04   3.5179e-04   9.9965e-01   5.5500e+01]\n",
      "[  6.6935e-10   5.8910e-04   5.8920e-04   9.9941e-01   5.5499e+01]\n",
      "[  1.2781e-09   1.1429e-04   1.1439e-04   9.9989e-01   5.5500e+01]\n",
      "[  8.0361e-10   8.0228e-04   8.0238e-04   9.9920e-01   5.5499e+01]\n",
      "[  6.3789e-10   7.3882e-04   7.3892e-04   9.9926e-01   5.5499e+01]\n",
      "[  6.1739e-10   7.7447e-04   7.7457e-04   9.9923e-01   5.5499e+01]\n",
      "[  4.5328e-10   1.0119e-03   1.0120e-03   9.9899e-01   5.5499e+01]\n",
      "[  6.8200e-10   5.3707e-04   5.3716e-04   9.9946e-01   5.5499e+01]\n",
      "[  3.6116e-10   1.2493e-03   1.2494e-03   9.9875e-01   5.5499e+01]\n",
      "[  5.0369e-10   7.7448e-04   7.7457e-04   9.9923e-01   5.5499e+01]\n",
      "[  3.0101e-10   1.4867e-03   1.4868e-03   9.9851e-01   5.5499e+01]\n",
      "[  3.9930e-10   1.0119e-03   1.0120e-03   9.9899e-01   5.5499e+01]\n",
      "[  2.5837e-10   1.7241e-03   1.7242e-03   9.9828e-01   5.5498e+01]\n",
      "[  3.3053e-10   1.2493e-03   1.2494e-03   9.9875e-01   5.5499e+01]\n",
      "[  2.2646e-10   1.9615e-03   1.9616e-03   9.9804e-01   5.5498e+01]\n",
      "[  2.8178e-10   1.4867e-03   1.4868e-03   9.9851e-01   5.5499e+01]\n",
      "[  2.0164e-10   2.1989e-03   2.1990e-03   9.9780e-01   5.5498e+01]\n",
      "[  2.4545e-10   1.7241e-03   1.7242e-03   9.9828e-01   5.5498e+01]\n",
      "[  1.8178e-10   2.4363e-03   2.4364e-03   9.9756e-01   5.5498e+01]\n",
      "[  2.1734e-10   1.9615e-03   1.9616e-03   9.9804e-01   5.5498e+01]\n",
      "[  1.6551e-10   2.6737e-03   2.6738e-03   9.9733e-01   5.5497e+01]\n",
      "[  1.9496e-10   2.1989e-03   2.1990e-03   9.9780e-01   5.5498e+01]\n",
      "[  1.5194e-10   2.9111e-03   2.9112e-03   9.9709e-01   5.5497e+01]\n",
      "[  1.7673e-10   2.4363e-03   2.4364e-03   9.9756e-01   5.5498e+01]\n",
      "[  1.4044e-10   3.1485e-03   3.1486e-03   9.9685e-01   5.5497e+01]\n",
      "[  1.6161e-10   2.6737e-03   2.6738e-03   9.9733e-01   5.5497e+01]\n",
      "[  1.3057e-10   3.3859e-03   3.3860e-03   9.9661e-01   5.5497e+01]\n",
      "[  1.1230e-10   3.8607e-03   3.8608e-03   9.9614e-01   5.5496e+01]\n",
      "[  1.4609e-10   2.9111e-03   2.9112e-03   9.9709e-01   5.5497e+01]\n",
      "[  9.6551e-11   4.3355e-03   4.3356e-03   9.9566e-01   5.5496e+01]\n",
      "[  1.2583e-10   3.3859e-03   3.3860e-03   9.9661e-01   5.5497e+01]\n",
      "[  1.1022e-10   3.8607e-03   3.8608e-03   9.9614e-01   5.5496e+01]\n",
      "[  9.3917e-11   4.5729e-03   4.5730e-03   9.9543e-01   5.5495e+01]\n",
      "[  8.8659e-11   5.0477e-03   5.0478e-03   9.9495e-01   5.5495e+01]\n",
      "[  7.8413e-11   5.9974e-03   5.9975e-03   9.9400e-01   5.5494e+01]\n",
      "[  6.0539e-11   7.8966e-03   7.8967e-03   9.9210e-01   5.5492e+01]\n",
      "[  4.0546e-11   1.1539e-02   1.1539e-02   9.8846e-01   5.5488e+01]\n",
      "[  2.4405e-11   1.8823e-02   1.8823e-02   9.8118e-01   5.5481e+01]\n",
      "[  9.3824e-12   3.3391e-02   3.3391e-02   9.6661e-01   5.5467e+01]\n",
      "[  3.0410e-11   6.3236e-03   6.3237e-03   9.9368e-01   5.5494e+01]\n",
      "[  9.1963e-12   4.7960e-02   4.7960e-02   9.5204e-01   5.5452e+01]\n",
      "[  1.7778e-11   2.9242e-02   2.9242e-02   9.7076e-01   5.5471e+01]\n",
      "[  1.7699e-11   3.1349e-02   3.1349e-02   9.6865e-01   5.5469e+01]\n",
      "[  1.7737e-11   3.1269e-02   3.1269e-02   9.6873e-01   5.5469e+01]\n",
      "[  1.7739e-11   3.1270e-02   3.1270e-02   9.6873e-01   5.5469e+01]\n",
      "[  1.7739e-11   3.1270e-02   3.1270e-02   9.6873e-01   5.5469e+01]\n",
      "[  1.7739e-11   3.1270e-02   3.1270e-02   9.6873e-01   5.5469e+01]\n",
      "[  1.7739e-11   3.1270e-02   3.1270e-02   9.6873e-01   5.5469e+01]\n",
      "[  1.7739e-11   3.1270e-02   3.1270e-02   9.6873e-01   5.5469e+01]\n",
      "[  1.7739e-11   3.1270e-02   3.1270e-02   9.6873e-01   5.5469e+01]\n",
      "[  1.7739e-11   3.1270e-02   3.1270e-02   9.6873e-01   5.5469e+01]\n",
      "[  1.7739e-11   3.1270e-02   3.1270e-02   9.6873e-01   5.5469e+01]\n",
      "[  1.7739e-11   3.1270e-02   3.1270e-02   9.6873e-01   5.5469e+01]\n",
      "[  1.7739e-11   3.1270e-02   3.1270e-02   9.6873e-01   5.5469e+01]\n",
      "[  1.7739e-11   3.1270e-02   3.1270e-02   9.6873e-01   5.5469e+01]\n",
      "[  1.7739e-11   3.1270e-02   3.1270e-02   9.6873e-01   5.5469e+01]\n",
      "('Success: ', array([  1.7739e-11,   3.1270e-02,   3.1270e-02,   9.6873e-01,   5.5469e+01]))\n"
     ]
    },
    {
     "name": "stderr",
     "output_type": "stream",
     "text": [
      "aqchem/equilibria.py:40: RuntimeWarning: divide by zero encountered in true_divide\n",
      "  limits = c0/stoich\n"
     ]
    },
    {
     "data": {
      "text/plain": [
       "True"
      ]
     },
     "execution_count": 13,
     "metadata": {},
     "output_type": "execute_result"
    }
   ],
   "source": [
    "res = rs.root(x0, scaling=1, logC=False, square=False)\n",
    "res.success"
   ]
  },
  {
   "cell_type": "code",
   "execution_count": 14,
   "metadata": {
    "collapsed": false
   },
   "outputs": [
    {
     "name": "stdout",
     "output_type": "stream",
     "text": [
      "(5, 5)\n",
      "Matrix([[y_1/y_4, y_0/y_4, 0, 0, -y_0*y_1/y_4**2], [y_3/y_2, 0, -y_0*y_3/y_2**2, y_0/y_2, 0], [1, 0, 0, -1, 1], [0, 1, 0, 0, 1], [0, 0, 1, 1, 0]])\n",
      "[  2.2300e-10   1.0000e-03   1.0000e-03   1.0000e+00   5.5500e+01]\n",
      "[  2.2300e-10   1.0000e-03   1.0000e-03   1.0000e+00   5.5500e+01]\n",
      "[  2.2300e-10   1.0000e-03   1.0000e-03   1.0000e+00   5.5500e+01]\n",
      "[  2.7791e-10   2.2425e-03   2.2425e-03   9.9876e-01   5.5499e+01]\n",
      "[  1.7166e-10   2.3793e-03   2.3793e-03   9.9862e-01   5.5499e+01]\n",
      "[  1.7307e-10   2.1965e-03   2.1964e-03   9.9880e-01   5.5499e+01]\n",
      "[  1.3287e-10   3.5207e-03   3.5207e-03   9.9748e-01   5.5497e+01]\n",
      "[  8.9958e-11   5.0335e-03   5.0335e-03   9.9597e-01   5.5496e+01]\n",
      "[  2.6578e-11   8.0592e-03   8.0592e-03   9.9294e-01   5.5493e+01]\n",
      "[  9.8742e-11   3.4211e-03   3.4211e-03   9.9758e-01   5.5498e+01]\n",
      "[  5.4283e-11   5.0335e-03   5.0335e-03   9.9597e-01   5.5496e+01]\n",
      "[  1.3898e-11   9.5721e-03   9.5721e-03   9.9143e-01   5.5491e+01]\n",
      "[  1.7110e-11   1.2598e-02   1.2598e-02   9.8840e-01   5.5488e+01]\n",
      "[  2.2050e-11   1.8649e-02   1.8649e-02   9.8235e-01   5.5482e+01]\n",
      "[  2.2754e-11   2.4004e-02   2.4004e-02   9.7700e-01   5.5477e+01]\n",
      "[  2.0275e-11   2.5187e-02   2.5187e-02   9.7581e-01   5.5476e+01]\n",
      "[  2.1385e-11   2.2513e-02   2.2513e-02   9.7849e-01   5.5478e+01]\n",
      "[  1.8449e-11   2.9305e-02   2.9305e-02   9.7169e-01   5.5472e+01]\n",
      "[  1.7763e-11   3.1109e-02   3.1109e-02   9.6989e-01   5.5470e+01]\n",
      "[  1.7695e-11   3.1385e-02   3.1385e-02   9.6962e-01   5.5470e+01]\n",
      "[  1.7721e-11   3.1313e-02   3.1313e-02   9.6969e-01   5.5470e+01]\n",
      "[  1.7731e-11   3.1284e-02   3.1284e-02   9.6972e-01   5.5470e+01]\n",
      "[  1.7730e-11   3.1286e-02   3.1286e-02   9.6971e-01   5.5470e+01]\n",
      "[  1.7730e-11   3.1286e-02   3.1286e-02   9.6971e-01   5.5470e+01]\n",
      "('Success: ', array([  1.7730e-11,   3.1286e-02,   3.1286e-02,   9.6971e-01,   5.5470e+01]))\n"
     ]
    },
    {
     "name": "stderr",
     "output_type": "stream",
     "text": [
      "aqchem/equilibria.py:11: RuntimeWarning: divide by zero encountered in double_scalars\n",
      "  tot *= c[idx]**nr\n"
     ]
    },
    {
     "data": {
      "text/plain": [
       "True"
      ]
     },
     "execution_count": 14,
     "metadata": {},
     "output_type": "execute_result"
    }
   ],
   "source": [
    "res = rs.root({Hp: 1e-11, OHm: 1e-3, NH4p: 1e-3, NH3: 1.0, H2O: 55.5}, scaling=1, logC=False, square=False)\n",
    "res.success"
   ]
  },
  {
   "cell_type": "code",
   "execution_count": 15,
   "metadata": {
    "collapsed": false
   },
   "outputs": [
    {
     "name": "stdout",
     "output_type": "stream",
     "text": [
      "(5, 5)\n",
      "Matrix([[y_1/y_4, y_0/y_4, 0, 0, -y_0*y_1/y_4**2], [y_3/y_2, 0, -y_0*y_3/y_2**2, y_0/y_2, 0], [1, 0, 0, -1, 1], [0, 1, 0, 0, 1], [0, 0, 1, 1, 0]])\n"
     ]
    },
    {
     "ename": "ValueError",
     "evalue": "f(a) and f(b) must have different signs",
     "output_type": "error",
     "traceback": [
      "\u001b[1;31m---------------------------------------------------------------------------\u001b[0m",
      "\u001b[1;31mValueError\u001b[0m                                Traceback (most recent call last)",
      "\u001b[1;32m<ipython-input-15-d5d1c63dc1a4>\u001b[0m in \u001b[0;36m<module>\u001b[1;34m()\u001b[0m\n\u001b[1;32m----> 1\u001b[1;33m \u001b[0mres\u001b[0m \u001b[1;33m=\u001b[0m \u001b[0mrs\u001b[0m\u001b[1;33m.\u001b[0m\u001b[0mroot\u001b[0m\u001b[1;33m(\u001b[0m\u001b[1;33m{\u001b[0m\u001b[0mHp\u001b[0m\u001b[1;33m:\u001b[0m \u001b[1;36m1.7e-11\u001b[0m\u001b[1;33m,\u001b[0m \u001b[0mOHm\u001b[0m\u001b[1;33m:\u001b[0m \u001b[1;36m3e-2\u001b[0m\u001b[1;33m,\u001b[0m \u001b[0mNH4p\u001b[0m\u001b[1;33m:\u001b[0m \u001b[1;36m3e-2\u001b[0m\u001b[1;33m,\u001b[0m \u001b[0mNH3\u001b[0m\u001b[1;33m:\u001b[0m \u001b[1;36m0.97\u001b[0m\u001b[1;33m,\u001b[0m \u001b[0mH2O\u001b[0m\u001b[1;33m:\u001b[0m \u001b[1;36m55.5\u001b[0m\u001b[1;33m}\u001b[0m\u001b[1;33m,\u001b[0m \u001b[0mscaling\u001b[0m\u001b[1;33m=\u001b[0m\u001b[1;36m1e8\u001b[0m\u001b[1;33m,\u001b[0m \u001b[0mlogC\u001b[0m\u001b[1;33m=\u001b[0m\u001b[0mFalse\u001b[0m\u001b[1;33m,\u001b[0m \u001b[0msquare\u001b[0m\u001b[1;33m=\u001b[0m\u001b[0mFalse\u001b[0m\u001b[1;33m)\u001b[0m\u001b[1;33m\u001b[0m\u001b[0m\n\u001b[0m",
      "\u001b[1;32m/home/bjorn/vc/aqchem/examples/aqchem/equilibria.py\u001b[0m in \u001b[0;36mroot\u001b[1;34m(self, init_concs, scaling, logC, square, delta, reduced, **kwargs)\u001b[0m\n\u001b[0;32m    267\u001b[0m         \u001b[1;32mif\u001b[0m \u001b[0mdelta\u001b[0m \u001b[1;32mis\u001b[0m \u001b[0mNone\u001b[0m\u001b[1;33m:\u001b[0m\u001b[1;33m\u001b[0m\u001b[0m\n\u001b[0;32m    268\u001b[0m             \u001b[0mdelta\u001b[0m \u001b[1;33m=\u001b[0m \u001b[0mkwargs\u001b[0m\u001b[1;33m.\u001b[0m\u001b[0mget\u001b[0m\u001b[1;33m(\u001b[0m\u001b[1;34m'tol'\u001b[0m\u001b[1;33m,\u001b[0m \u001b[1;36m1e-12\u001b[0m\u001b[1;33m)\u001b[0m\u001b[1;33m\u001b[0m\u001b[0m\n\u001b[1;32m--> 269\u001b[1;33m         \u001b[0mx0\u001b[0m \u001b[1;33m=\u001b[0m \u001b[0mself\u001b[0m\u001b[1;33m.\u001b[0m\u001b[0minitial_guess\u001b[0m\u001b[1;33m(\u001b[0m\u001b[0minit_concs\u001b[0m\u001b[1;33m*\u001b[0m\u001b[0mscaling\u001b[0m \u001b[1;33m+\u001b[0m \u001b[0mdelta\u001b[0m\u001b[1;33m)\u001b[0m\u001b[1;33m\u001b[0m\u001b[0m\n\u001b[0m\u001b[0;32m    270\u001b[0m         \u001b[1;32mif\u001b[0m \u001b[0mreduced\u001b[0m\u001b[1;33m:\u001b[0m\u001b[1;33m\u001b[0m\u001b[0m\n\u001b[0;32m    271\u001b[0m             \u001b[0mx0\u001b[0m \u001b[1;33m=\u001b[0m \u001b[0mnp\u001b[0m\u001b[1;33m.\u001b[0m\u001b[0marray\u001b[0m\u001b[1;33m(\u001b[0m\u001b[1;33m[\u001b[0m\u001b[0mx\u001b[0m \u001b[1;32mfor\u001b[0m \u001b[0midx\u001b[0m\u001b[1;33m,\u001b[0m \u001b[0mx\u001b[0m \u001b[1;32min\u001b[0m \u001b[0menumerate\u001b[0m\u001b[1;33m(\u001b[0m\u001b[0mx0\u001b[0m\u001b[1;33m)\u001b[0m \u001b[1;32mif\u001b[0m \u001b[0midx\u001b[0m \u001b[1;32mnot\u001b[0m \u001b[1;32min\u001b[0m \u001b[0melim\u001b[0m\u001b[1;33m]\u001b[0m\u001b[1;33m)\u001b[0m\u001b[1;33m\u001b[0m\u001b[0m\n",
      "\u001b[1;32m/home/bjorn/vc/aqchem/examples/aqchem/equilibria.py\u001b[0m in \u001b[0;36minitial_guess\u001b[1;34m(self, init_concs, weights)\u001b[0m\n\u001b[0;32m    293\u001b[0m             \u001b[1;32mfor\u001b[0m \u001b[0meq\u001b[0m \u001b[1;32min\u001b[0m \u001b[0mself\u001b[0m\u001b[1;33m.\u001b[0m\u001b[0mrxns\u001b[0m\u001b[1;33m:\u001b[0m\u001b[1;33m\u001b[0m\u001b[0m\n\u001b[0;32m    294\u001b[0m                 new_init_concs = solve_equilibrium(\n\u001b[1;32m--> 295\u001b[1;33m                     init_concs, eq.net_stoich(self.substances), eq.params)\n\u001b[0m\u001b[0;32m    296\u001b[0m                 \u001b[0minit_concs\u001b[0m \u001b[1;33m=\u001b[0m \u001b[1;33m(\u001b[0m\u001b[0mw\u001b[0m\u001b[1;33m*\u001b[0m\u001b[0minit_concs\u001b[0m \u001b[1;33m+\u001b[0m \u001b[0mnew_init_concs\u001b[0m\u001b[1;33m)\u001b[0m\u001b[1;33m/\u001b[0m\u001b[1;33m(\u001b[0m\u001b[0mw\u001b[0m\u001b[1;33m+\u001b[0m\u001b[1;36m1\u001b[0m\u001b[1;33m)\u001b[0m\u001b[1;33m\u001b[0m\u001b[0m\n\u001b[0;32m    297\u001b[0m         \u001b[1;32mreturn\u001b[0m \u001b[0minit_concs\u001b[0m\u001b[1;33m\u001b[0m\u001b[0m\n",
      "\u001b[1;32m/home/bjorn/vc/aqchem/examples/aqchem/equilibria.py\u001b[0m in \u001b[0;36msolve_equilibrium\u001b[1;34m(c0, stoich, K, activity_product, delta_frac)\u001b[0m\n\u001b[0;32m     79\u001b[0m         \u001b[0mlower\u001b[0m \u001b[1;33m+\u001b[0m \u001b[0mdelta_frac\u001b[0m\u001b[1;33m*\u001b[0m\u001b[0mspan\u001b[0m\u001b[1;33m,\u001b[0m\u001b[1;33m\u001b[0m\u001b[0m\n\u001b[0;32m     80\u001b[0m         \u001b[0mupper\u001b[0m \u001b[1;33m-\u001b[0m \u001b[0mdelta_frac\u001b[0m\u001b[1;33m*\u001b[0m\u001b[0mspan\u001b[0m\u001b[1;33m,\u001b[0m\u001b[1;33m\u001b[0m\u001b[0m\n\u001b[1;32m---> 81\u001b[1;33m         \u001b[1;33m(\u001b[0m\u001b[0mnp\u001b[0m\u001b[1;33m.\u001b[0m\u001b[0marray\u001b[0m\u001b[1;33m(\u001b[0m\u001b[0mc0\u001b[0m\u001b[1;33m)\u001b[0m\u001b[1;33m,\u001b[0m \u001b[0mnp\u001b[0m\u001b[1;33m.\u001b[0m\u001b[0marray\u001b[0m\u001b[1;33m(\u001b[0m\u001b[0mstoich\u001b[0m\u001b[1;33m)\u001b[0m\u001b[1;33m,\u001b[0m \u001b[0mK\u001b[0m\u001b[1;33m,\u001b[0m \u001b[0mactivity_product\u001b[0m\u001b[1;33m)\u001b[0m\u001b[1;33m\u001b[0m\u001b[0m\n\u001b[0m\u001b[0;32m     82\u001b[0m     )\n\u001b[0;32m     83\u001b[0m     \u001b[1;32mreturn\u001b[0m \u001b[0mnp\u001b[0m\u001b[1;33m.\u001b[0m\u001b[0marray\u001b[0m\u001b[1;33m(\u001b[0m\u001b[0mc0\u001b[0m\u001b[1;33m)\u001b[0m \u001b[1;33m+\u001b[0m \u001b[0mrc\u001b[0m\u001b[1;33m*\u001b[0m\u001b[0mnp\u001b[0m\u001b[1;33m.\u001b[0m\u001b[0marray\u001b[0m\u001b[1;33m(\u001b[0m\u001b[0mstoich\u001b[0m\u001b[1;33m)\u001b[0m\u001b[1;33m\u001b[0m\u001b[0m\n",
      "\u001b[1;32m/usr/local/lib/python2.7/dist-packages/scipy/optimize/zeros.pyc\u001b[0m in \u001b[0;36mbrentq\u001b[1;34m(f, a, b, args, xtol, rtol, maxiter, full_output, disp)\u001b[0m\n\u001b[0;32m    413\u001b[0m     \u001b[1;32mif\u001b[0m \u001b[0mrtol\u001b[0m \u001b[1;33m<\u001b[0m \u001b[0m_rtol\u001b[0m\u001b[1;33m:\u001b[0m\u001b[1;33m\u001b[0m\u001b[0m\n\u001b[0;32m    414\u001b[0m         \u001b[1;32mraise\u001b[0m \u001b[0mValueError\u001b[0m\u001b[1;33m(\u001b[0m\u001b[1;34m\"rtol too small (%g < %g)\"\u001b[0m \u001b[1;33m%\u001b[0m \u001b[1;33m(\u001b[0m\u001b[0mrtol\u001b[0m\u001b[1;33m,\u001b[0m \u001b[0m_rtol\u001b[0m\u001b[1;33m)\u001b[0m\u001b[1;33m)\u001b[0m\u001b[1;33m\u001b[0m\u001b[0m\n\u001b[1;32m--> 415\u001b[1;33m     \u001b[0mr\u001b[0m \u001b[1;33m=\u001b[0m \u001b[0m_zeros\u001b[0m\u001b[1;33m.\u001b[0m\u001b[0m_brentq\u001b[0m\u001b[1;33m(\u001b[0m\u001b[0mf\u001b[0m\u001b[1;33m,\u001b[0m\u001b[0ma\u001b[0m\u001b[1;33m,\u001b[0m\u001b[0mb\u001b[0m\u001b[1;33m,\u001b[0m\u001b[0mxtol\u001b[0m\u001b[1;33m,\u001b[0m\u001b[0mrtol\u001b[0m\u001b[1;33m,\u001b[0m\u001b[0mmaxiter\u001b[0m\u001b[1;33m,\u001b[0m\u001b[0margs\u001b[0m\u001b[1;33m,\u001b[0m\u001b[0mfull_output\u001b[0m\u001b[1;33m,\u001b[0m\u001b[0mdisp\u001b[0m\u001b[1;33m)\u001b[0m\u001b[1;33m\u001b[0m\u001b[0m\n\u001b[0m\u001b[0;32m    416\u001b[0m     \u001b[1;32mreturn\u001b[0m \u001b[0mresults_c\u001b[0m\u001b[1;33m(\u001b[0m\u001b[0mfull_output\u001b[0m\u001b[1;33m,\u001b[0m \u001b[0mr\u001b[0m\u001b[1;33m)\u001b[0m\u001b[1;33m\u001b[0m\u001b[0m\n\u001b[0;32m    417\u001b[0m \u001b[1;33m\u001b[0m\u001b[0m\n",
      "\u001b[1;31mValueError\u001b[0m: f(a) and f(b) must have different signs"
     ]
    }
   ],
   "source": [
    "res = rs.root({Hp: 1.7e-11, OHm: 3e-2, NH4p: 3e-2, NH3: 0.97, H2O: 55.5}, scaling=1e8, logC=False, square=False)"
   ]
  },
  {
   "cell_type": "code",
   "execution_count": null,
   "metadata": {
    "collapsed": false
   },
   "outputs": [
    {
     "name": "stdout",
     "output_type": "stream",
     "text": [
      "> \u001b[1;32m/usr/local/lib/python2.7/dist-packages/scipy/optimize/zeros.py\u001b[0m(415)\u001b[0;36mbrentq\u001b[1;34m()\u001b[0m\n",
      "\u001b[1;32m    414 \u001b[1;33m        \u001b[1;32mraise\u001b[0m \u001b[0mValueError\u001b[0m\u001b[1;33m(\u001b[0m\u001b[1;34m\"rtol too small (%g < %g)\"\u001b[0m \u001b[1;33m%\u001b[0m \u001b[1;33m(\u001b[0m\u001b[0mrtol\u001b[0m\u001b[1;33m,\u001b[0m \u001b[0m_rtol\u001b[0m\u001b[1;33m)\u001b[0m\u001b[1;33m)\u001b[0m\u001b[1;33m\u001b[0m\u001b[0m\n",
      "\u001b[0m\u001b[1;32m--> 415 \u001b[1;33m    \u001b[0mr\u001b[0m \u001b[1;33m=\u001b[0m \u001b[0m_zeros\u001b[0m\u001b[1;33m.\u001b[0m\u001b[0m_brentq\u001b[0m\u001b[1;33m(\u001b[0m\u001b[0mf\u001b[0m\u001b[1;33m,\u001b[0m\u001b[0ma\u001b[0m\u001b[1;33m,\u001b[0m\u001b[0mb\u001b[0m\u001b[1;33m,\u001b[0m\u001b[0mxtol\u001b[0m\u001b[1;33m,\u001b[0m\u001b[0mrtol\u001b[0m\u001b[1;33m,\u001b[0m\u001b[0mmaxiter\u001b[0m\u001b[1;33m,\u001b[0m\u001b[0margs\u001b[0m\u001b[1;33m,\u001b[0m\u001b[0mfull_output\u001b[0m\u001b[1;33m,\u001b[0m\u001b[0mdisp\u001b[0m\u001b[1;33m)\u001b[0m\u001b[1;33m\u001b[0m\u001b[0m\n",
      "\u001b[0m\u001b[1;32m    416 \u001b[1;33m    \u001b[1;32mreturn\u001b[0m \u001b[0mresults_c\u001b[0m\u001b[1;33m(\u001b[0m\u001b[0mfull_output\u001b[0m\u001b[1;33m,\u001b[0m \u001b[0mr\u001b[0m\u001b[1;33m)\u001b[0m\u001b[1;33m\u001b[0m\u001b[0m\n",
      "\u001b[0m\n",
      "ipdb> print(a, b)\n",
      "(-0.0016994450009999997, 5549999999.999999)\n",
      "ipdb> f(a)\n",
      "*** TypeError: equilibrium_residual() takes at least 4 arguments (1 given)\n"
     ]
    }
   ],
   "source": [
    "%debug"
   ]
  },
  {
   "cell_type": "code",
   "execution_count": null,
   "metadata": {
    "collapsed": false
   },
   "outputs": [],
   "source": [
    "res = rs.root({Hp: 1.7e-11, OHm: 3e-2, NH4p: 3e-2, NH3: 0.97, H2O: 55.5}, scaling=1e16, logC=True, square=False)"
   ]
  },
  {
   "cell_type": "code",
   "execution_count": null,
   "metadata": {
    "collapsed": false
   },
   "outputs": [],
   "source": [
    "y_0, y_1, y_2, y_3, y_4 = y\n",
    "sp.Matrix([[2*y_0*y_1**2/y_4**2, 2*y_0**2*y_1/y_4**2, 0, 0, -2*y_0**2*y_1**2/y_4**3], [2*y_0*y_3**2/y_2**2, 0, -2*y_0**2*y_3**2/y_2**3, 2*y_0**2*y_3/y_2**2, 0], [2*y_0, 0, 0, -2*y_3, 2*y_4], [0, 2*y_1, 0, 0, 2*y_4], [0, 0, 2*y_2, 2*y_3, 0]])"
   ]
  },
  {
   "cell_type": "code",
   "execution_count": null,
   "metadata": {
    "collapsed": false
   },
   "outputs": [],
   "source": [
    "x0"
   ]
  },
  {
   "cell_type": "code",
   "execution_count": null,
   "metadata": {
    "collapsed": false
   },
   "outputs": [],
   "source": [
    "from aqchem.equilibria import solve_equilibrium\n",
    "print(x0)\n",
    "for w in range(1,5):\n",
    "    for eq in rs.rxns:\n",
    "        new_x0 = solve_equilibrium(x0, eq.net_stoich(rs.substances), eq.params)\n",
    "        x0 = (w*x0 + new_x0)/(w+1)\n",
    "        print(x0)"
   ]
  },
  {
   "cell_type": "code",
   "execution_count": null,
   "metadata": {
    "collapsed": false
   },
   "outputs": [],
   "source": [
    "rs.root(x0, scaling=1e8, logC=False, square=False)"
   ]
  },
  {
   "cell_type": "code",
   "execution_count": null,
   "metadata": {
    "collapsed": true
   },
   "outputs": [],
   "source": []
  }
 ],
 "metadata": {
  "kernelspec": {
   "display_name": "Python 2",
   "language": "python",
   "name": "python2"
  },
  "language_info": {
   "codemirror_mode": {
    "name": "ipython",
    "version": 2
   },
   "file_extension": ".py",
   "mimetype": "text/x-python",
   "name": "python",
   "nbconvert_exporter": "python",
   "pygments_lexer": "ipython2",
   "version": "2.7.6"
  }
 },
 "nbformat": 4,
 "nbformat_minor": 0
}
