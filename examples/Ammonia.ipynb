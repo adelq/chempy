{
 "cells": [
  {
   "cell_type": "code",
   "execution_count": 1,
   "metadata": {
    "collapsed": true
   },
   "outputs": [],
   "source": [
    "from aqchem.chemistry import Solute, Equilibrium, EqSystem, charge_balance, atom_balance, elements\n",
    "import periodictable\n",
    "import numpy as np"
   ]
  },
  {
   "cell_type": "code",
   "execution_count": 13,
   "metadata": {
    "collapsed": false
   },
   "outputs": [],
   "source": [
    "substances = Hp, OHm, NH4p, NH3, H2O = [\n",
    "    Solute(n, formula=periodictable.formula(n)) for n in [\n",
    "        'H{+}', 'HO{-}', 'NH3 + H{+}', 'NH3', 'H2O']]\n",
    "assert (Hp.charge, OHm.charge, NH4p.charge, NH3.charge, H2O.charge) == (1, -1, 1, 0, 0)"
   ]
  },
  {
   "cell_type": "code",
   "execution_count": 3,
   "metadata": {
    "collapsed": false
   },
   "outputs": [],
   "source": [
    "init_conc = {Hp: 1e-7, OHm: 1e-7, NH4p: 0, NH3: 1.0, H2O: 55.5}\n",
    "H2O_c = init_conc[H2O]\n",
    "w_autop = Equilibrium({H2O: 1}, {Hp: 1, OHm: 1}, 10**-14/H2O_c)\n",
    "NH4p_pr = Equilibrium({NH4p: 1}, {Hp: 1, NH3: 1}, 10**-9.26)\n",
    "equilibria = w_autop, NH4p_pr"
   ]
  },
  {
   "cell_type": "code",
   "execution_count": 4,
   "metadata": {
    "collapsed": true
   },
   "outputs": [],
   "source": [
    "reaction_system = EqSystem(equilibria, substances)"
   ]
  },
  {
   "cell_type": "code",
   "execution_count": 11,
   "metadata": {
    "collapsed": false
   },
   "outputs": [
    {
     "data": {
      "image/png": "[encoded data removed]",
      "text/latex": [
       "$$\\left [ - K_{w} \\sigma + \\frac{y_{0} y_{1}}{y_{4}}, \\quad - K_{a} \\sigma + \\frac{y_{0} y_{3}}{y_{2}}, \\quad - i_{0} + i_{3} - i_{4} + y_{0} - y_{3} + y_{4}, \\quad - i_{1} - i_{4} + y_{1} + y_{4}, \\quad - i_{2} - i_{3} + y_{2} + y_{3}\\right ]$$"
      ],
      "text/plain": [
       "⎡         y₀⋅y₁          y₀⋅y₃                                                \n",
       "⎢-K_w⋅σ + ─────, -Kₐ⋅σ + ─────, -i₀ + i₃ - i₄ + y₀ - y₃ + y₄, -i₁ - i₄ + y₁ + \n",
       "⎣           y₄             y₂                                                 \n",
       "\n",
       "                      ⎤\n",
       "y₄, -i₂ - i₃ + y₂ + y₃⎥\n",
       "                      ⎦"
      ]
     },
     "execution_count": 11,
     "metadata": {},
     "output_type": "execute_result"
    }
   ],
   "source": [
    "import sympy as sp\n",
    "sp.init_printing()\n",
    "ny = len(substances)\n",
    "y = sp.symarray('y', ny)\n",
    "i = sp.symarray('i', ny)\n",
    "Kw, Ka, sigma = sp.symbols('K_w K_a sigma')\n",
    "w_autop.params = Kw\n",
    "NH4p_pr.params = Ka\n",
    "srs = EqSystem(equilibria, substances)\n",
    "srs.f(y, i, scaling=sigma)"
   ]
  },
  {
   "cell_type": "code",
   "execution_count": null,
   "metadata": {
    "collapsed": true
   },
   "outputs": [],
   "source": []
  },
  {
   "cell_type": "code",
   "execution_count": 8,
   "metadata": {
    "collapsed": false
   },
   "outputs": [
    {
     "name": "stdout",
     "output_type": "stream",
     "text": [
      "(5, 5)\n",
      "[  2.3026   2.3026 -27.631   18.4207  22.4371]\n",
      "[  2.3026   2.3026 -27.631   18.4207  22.4371]\n",
      "[  2.3026   2.3026 -27.631   18.4207  22.4371]\n",
      "[  2.3026   2.3026 -26.631   18.4207  22.4371]\n",
      "[  2.3026   2.3026 -26.049   18.4207  22.4371]\n",
      "[  2.3026   2.3026 -25.312   18.4207  22.4371]\n",
      "[  2.3026   2.3026 -24.6356  18.4207  22.4371]\n",
      "[  2.3026   2.3026 -23.936   18.4207  22.4371]\n",
      "[  2.3026   2.3026 -23.2453  18.4207  22.4371]\n",
      "[  2.3026   2.3026 -22.5516  18.4207  22.4371]\n",
      "[  2.3026   2.3026 -21.8564  18.4207  22.4371]\n",
      "[  2.3026   2.3026 -21.175   18.4207  22.4371]\n",
      "[  2.3026   2.3026 -20.421   18.4207  22.4371]\n",
      "[  2.3025   2.3025 -19.963   18.4207  22.4371]\n",
      "[  2.3017   2.3018 -21.963   18.4206  22.4371]\n",
      "[  2.3026   2.3026 -19.6588  18.4207  22.4371]\n",
      "[  2.3025   2.3025 -19.3687  18.4207  22.4371]\n",
      "[  2.3023   2.3023 -20.3493  18.4207  22.4371]\n",
      "[  2.3025   2.3026 -18.8687  18.4207  22.4371]\n",
      "[  2.3025   2.3025 -18.2426  18.4207  22.4371]\n",
      "[  2.3026   2.3026 -17.1124  18.4207  22.4371]\n",
      "[  2.3026   2.3026 -17.4352  18.4207  22.4371]\n",
      "[  2.3026   2.3026 -17.2618  18.4207  22.4371]\n",
      "[   1.9764  726.3252  -16.7861   18.0944   22.4397]\n",
      "[ nan  nan  nan  nan  nan]\n",
      "[ nan  nan  nan  nan  nan]\n",
      "[ nan  nan  nan  nan  nan]\n",
      "[ nan  nan  nan  nan  nan]\n",
      "[ nan  nan  nan  nan  nan]\n",
      "[ nan  nan  nan  nan  nan]\n",
      "[ nan  nan  nan  nan  nan]\n"
     ]
    },
    {
     "name": "stderr",
     "output_type": "stream",
     "text": [
      "/home/bjorn/.local/lib/python2.7/site-packages/numpy/__init__.py:1: RuntimeWarning: overflow encountered in exp\n",
      "  \"\"\"\n"
     ]
    },
    {
     "data": {
      "text/plain": [
       "False"
      ]
     },
     "execution_count": 8,
     "metadata": {},
     "output_type": "execute_result"
    }
   ],
   "source": [
    "np.set_printoptions(4, linewidth=120)\n",
    "scaling = 1e8\n",
    "res = reaction_system.root(init_conc, scaling=1e8, logC=True, square=False)\n",
    "res.success"
   ]
  },
  {
   "cell_type": "code",
   "execution_count": 7,
   "metadata": {
    "collapsed": false
   },
   "outputs": [
    {
     "data": {
      "text/plain": [
       "array([  5.8661e-13,   1.3422e-07,   6.4339e-11,   8.4595e-11,   1.2586e-10])"
      ]
     },
     "execution_count": 7,
     "metadata": {},
     "output_type": "execute_result"
    }
   ],
   "source": [
    "res.x**2/1e12"
   ]
  },
  {
   "cell_type": "code",
   "execution_count": null,
   "metadata": {
    "collapsed": true
   },
   "outputs": [],
   "source": []
  }
 ],
 "metadata": {
  "kernelspec": {
   "display_name": "Python 2",
   "language": "python",
   "name": "python2"
  },
  "language_info": {
   "codemirror_mode": {
    "name": "ipython",
    "version": 2
   },
   "file_extension": ".py",
   "mimetype": "text/x-python",
   "name": "python",
   "nbconvert_exporter": "python",
   "pygments_lexer": "ipython2",
   "version": "2.7.6"
  }
 },
 "nbformat": 4,
 "nbformat_minor": 0
}
