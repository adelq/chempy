{
 "cells": [
  {
   "cell_type": "code",
   "execution_count": 1,
   "metadata": {
    "collapsed": false
   },
   "outputs": [],
   "source": [
    "from __future__ import division\n",
    "from aqchem.chemistry import Solute\n",
    "from aqchem.equilibria import Equilibrium, EqSystem, charge_balance, atom_balance, REqSystem\n",
    "import periodictable\n",
    "import numpy as np"
   ]
  },
  {
   "cell_type": "code",
   "execution_count": 2,
   "metadata": {
    "collapsed": false
   },
   "outputs": [],
   "source": [
    "substances = Hp, OHm, NH4p, NH3, H2O = [\n",
    "    Solute(n, formula=periodictable.formula(n)) for n in [\n",
    "        'H{+}', 'HO{-}', 'NH3 + H{+}', 'NH3', 'H2O']]\n",
    "#substances = substances[::-1]\n",
    "assert (Hp.charge, OHm.charge, NH4p.charge, NH3.charge, H2O.charge) == (1, -1, 1, 0, 0)\n",
    "init_conc = {Hp: 1e-7, OHm: 1e-7, NH4p: 1e-7, NH3: 1.0, H2O: 55.5}\n",
    "x0 = [init_conc[k] for k in substances]\n",
    "H2O_c = init_conc[H2O]\n",
    "w_autop = Equilibrium({H2O: 1}, {Hp: 1, OHm: 1}, 10**-14/H2O_c)\n",
    "NH4p_pr = Equilibrium({NH4p: 1}, {Hp: 1, NH3: 1}, 10**-9.26)\n",
    "equilibria = w_autop, NH4p_pr"
   ]
  },
  {
   "cell_type": "code",
   "execution_count": 3,
   "metadata": {
    "collapsed": false
   },
   "outputs": [
    {
     "name": "stderr",
     "output_type": "stream",
     "text": [
      "aqchem/equilibria.py:25: RuntimeWarning: divide by zero encountered in double_scalars\n",
      "  tot *= conc**nr\n"
     ]
    },
    {
     "data": {
      "text/plain": [
       "(array([  2.34917093e-12,   4.25649360e-03,   4.25659359e-03,\n",
       "          9.95743506e-01,   5.54957436e+01]),\n",
       "   status: 1\n",
       " success: True\n",
       "     qtf: array([  4.48412144e-17,  -1.36424870e-24])\n",
       "    nfev: 54\n",
       "       r: array([ -2.33929662e+02,  -2.33929670e+02,  -8.48444822e-14])\n",
       "     fun: array([ -1.60665182e-23,  -4.48412144e-17])\n",
       "       x: array([ 0.00425639, -0.00425649])\n",
       " message: 'The solution converged.'\n",
       "    fjac: array([[ -3.27874026e-07,  -1.00000000e+00],\n",
       "       [  1.00000000e+00,  -3.27874027e-07]])\n",
       "    njev: 6)"
      ]
     },
     "execution_count": 3,
     "metadata": {},
     "output_type": "execute_result"
    }
   ],
   "source": [
    "reqsys = REqSystem(equilibria, substances)\n",
    "reqsys.root(init_conc, scaling=1.0)"
   ]
  },
  {
   "cell_type": "code",
   "execution_count": null,
   "metadata": {
    "collapsed": false
   },
   "outputs": [],
   "source": []
  },
  {
   "cell_type": "code",
   "execution_count": 4,
   "metadata": {
    "collapsed": true
   },
   "outputs": [],
   "source": [
    "reaction_system = EqSystem(equilibria, substances)"
   ]
  },
  {
   "cell_type": "code",
   "execution_count": 5,
   "metadata": {
    "collapsed": false
   },
   "outputs": [
    {
     "data": {
      "image/png": "[encoded data removed]",
      "text/latex": [
       "$$\\left [ -1 + \\frac{y_{0} y_{1}}{K_{w} y_{4}}, \\quad -1 + \\frac{y_{0} y_{3}}{K_{a} y_{2}}, \\quad -1 + \\frac{y_{0} - y_{1} + y_{2}}{i_{0} - i_{1} + i_{2}}, \\quad -1 + \\frac{y_{0} + y_{1} + 4 y_{2} + 3 y_{3} + 2 y_{4}}{i_{0} + i_{1} + 4 i_{2} + 3 i_{3} + 2 i_{4}}, \\quad -1 + \\frac{y_{2} + y_{3}}{i_{2} + i_{3}}, \\quad -1 + \\frac{y_{1} + y_{4}}{i_{1} + i_{4}}\\right ]$$"
      ],
      "text/plain": [
       "⎡     y₀⋅y₁        y₀⋅y₃       y₀ - y₁ + y₂       y₀ + y₁ + 4⋅y₂ + 3⋅y₃ + 2⋅y₄\n",
       "⎢-1 + ──────, -1 + ─────, -1 + ────────────, -1 + ────────────────────────────\n",
       "⎣     K_w⋅y₄       Kₐ⋅y₂       i₀ - i₁ + i₂       i₀ + i₁ + 4⋅i₂ + 3⋅i₃ + 2⋅i₄\n",
       "\n",
       "       y₂ + y₃       y₁ + y₄⎤\n",
       ", -1 + ───────, -1 + ───────⎥\n",
       "       i₂ + i₃       i₁ + i₄⎦"
      ]
     },
     "execution_count": 5,
     "metadata": {},
     "output_type": "execute_result"
    }
   ],
   "source": [
    "import sympy as sp\n",
    "sp.init_printing()\n",
    "ny = len(substances)\n",
    "y = sp.symarray('y', ny)\n",
    "i = sp.symarray('i', ny)\n",
    "Kw, Ka, sigma = sp.symbols('K_w K_a sigma')\n",
    "w_autop.params = Kw\n",
    "NH4p_pr.params = Ka\n",
    "rs = EqSystem(equilibria, substances)\n",
    "#f, elim, red_cbs = rs.f(y, i, scaling=sigma, pres1st=True, presw=1000, norm=True, const_indices=(4,))\n",
    "ss = sp.symarray('s', ny)\n",
    "ms = sp.symarray('m', ny)\n",
    "f, elim, red_cbs = rs.f(y, i, norm=True)\n",
    "#tanh_subs = [(yi, m + s*sp.tanh((yi - m)/s)) for\n",
    "#             yi, m, s in zip(y, ms, ss)]\n",
    "#f = [_.subs(tanh_subs) for _ in f]\n",
    "f"
   ]
  },
  {
   "cell_type": "code",
   "execution_count": 6,
   "metadata": {
    "collapsed": false
   },
   "outputs": [],
   "source": [
    "j = sp.Matrix(1, len(f), lambda _, q: f[q]).jacobian(y[:-1])\n",
    "jarr = np.array(j.subs(zip(y,x0)).subs({sigma: 1e1, Kw: 1e-14, Ka: 10**-9.26}).subs(\n",
    "            zip(i, reaction_system.as_per_substance_array(init_conc))))\n",
    "#jarr = np.asarray(jarr, dtype=np.float64)\n",
    "#np.log10(np.linalg.cond(jarr))"
   ]
  },
  {
   "cell_type": "code",
   "execution_count": 7,
   "metadata": {
    "collapsed": false
   },
   "outputs": [
    {
     "data": {
      "image/png": "[encoded data removed]",
      "text/latex": [
       "$$\\left[\\begin{matrix}\\frac{y_{1}}{K_{w} y_{4}} & \\frac{y_{0}}{K_{w} y_{4}} & 0 & 0\\\\\\frac{y_{3}}{K_{a} y_{2}} & 0 & - \\frac{y_{0} y_{3}}{K_{a} y_{2}^{2}} & \\frac{y_{0}}{K_{a} y_{2}}\\\\\\frac{1}{i_{0} - i_{1} + i_{2}} & - \\frac{1}{i_{0} - i_{1} + i_{2}} & \\frac{1}{i_{0} - i_{1} + i_{2}} & 0\\\\\\frac{1}{i_{0} + i_{1} + 4 i_{2} + 3 i_{3} + 2 i_{4}} & \\frac{1}{i_{0} + i_{1} + 4 i_{2} + 3 i_{3} + 2 i_{4}} & \\frac{4}{i_{0} + i_{1} + 4 i_{2} + 3 i_{3} + 2 i_{4}} & \\frac{3}{i_{0} + i_{1} + 4 i_{2} + 3 i_{3} + 2 i_{4}}\\\\0 & 0 & \\frac{1}{i_{2} + i_{3}} & \\frac{1}{i_{2} + i_{3}}\\\\0 & \\frac{1}{i_{1} + i_{4}} & 0 & 0\\end{matrix}\\right]$$"
      ],
      "text/plain": [
       "⎡             y₁                            y₀                                \n",
       "⎢           ──────                        ──────                          0   \n",
       "⎢           K_w⋅y₄                        K_w⋅y₄                              \n",
       "⎢                                                                             \n",
       "⎢             y₃                                                       -y₀⋅y₃ \n",
       "⎢           ─────                           0                          ───────\n",
       "⎢           Kₐ⋅y₂                                                            2\n",
       "⎢                                                                       Kₐ⋅y₂ \n",
       "⎢                                                                             \n",
       "⎢             1                            -1                             1   \n",
       "⎢        ────────────                  ────────────                  ─────────\n",
       "⎢        i₀ - i₁ + i₂                  i₀ - i₁ + i₂                  i₀ - i₁ +\n",
       "⎢                                                                             \n",
       "⎢             1                             1                             4   \n",
       "⎢────────────────────────────  ────────────────────────────  ─────────────────\n",
       "⎢i₀ + i₁ + 4⋅i₂ + 3⋅i₃ + 2⋅i₄  i₀ + i₁ + 4⋅i₂ + 3⋅i₃ + 2⋅i₄  i₀ + i₁ + 4⋅i₂ + \n",
       "⎢                                                                             \n",
       "⎢                                                                         1   \n",
       "⎢             0                             0                          ───────\n",
       "⎢                                                                      i₂ + i₃\n",
       "⎢                                                                             \n",
       "⎢                                           1                                 \n",
       "⎢             0                          ───────                          0   \n",
       "⎣                                        i₁ + i₄                              \n",
       "\n",
       "                                         ⎤\n",
       "                          0              ⎥\n",
       "                                         ⎥\n",
       "                                         ⎥\n",
       "                          y₀             ⎥\n",
       "                        ─────            ⎥\n",
       "                        Kₐ⋅y₂            ⎥\n",
       "                                         ⎥\n",
       "                                         ⎥\n",
       "                                         ⎥\n",
       "───                       0              ⎥\n",
       " i₂                                      ⎥\n",
       "                                         ⎥\n",
       "                          3              ⎥\n",
       "───────────  ────────────────────────────⎥\n",
       "3⋅i₃ + 2⋅i₄  i₀ + i₁ + 4⋅i₂ + 3⋅i₃ + 2⋅i₄⎥\n",
       "                                         ⎥\n",
       "                          1              ⎥\n",
       "                       ───────           ⎥\n",
       "                       i₂ + i₃           ⎥\n",
       "                                         ⎥\n",
       "                                         ⎥\n",
       "                          0              ⎥\n",
       "                                         ⎦"
      ]
     },
     "execution_count": 7,
     "metadata": {},
     "output_type": "execute_result"
    }
   ],
   "source": [
    "j"
   ]
  },
  {
   "cell_type": "code",
   "execution_count": 8,
   "metadata": {
    "collapsed": false
   },
   "outputs": [
    {
     "data": {
      "text/plain": [
       "['H{+}', 'HO{-}', 'NH3 + H{+}', 'NH3', 'H2O']"
      ]
     },
     "execution_count": 8,
     "metadata": {},
     "output_type": "execute_result"
    }
   ],
   "source": [
    "[s.name for s in rs.substances]"
   ]
  },
  {
   "cell_type": "code",
   "execution_count": 9,
   "metadata": {
    "collapsed": false
   },
   "outputs": [
    {
     "data": {
      "image/png": "[encoded data removed]",
      "text/latex": [
       "$$\\left ( \\left [ 1, \\quad -1, \\quad 1, \\quad 0, \\quad 0\\right ], \\quad \\left ( \\left [ \\left [ 1, \\quad 1, \\quad 4, \\quad 3, \\quad 2\\right ], \\quad \\left [ 0, \\quad 0, \\quad 1, \\quad 1, \\quad 0\\right ], \\quad \\left [ 0, \\quad 1, \\quad 0, \\quad 0, \\quad 1\\right ]\\right ], \\quad \\left [ 1, \\quad 7, \\quad 8\\right ]\\right )\\right )$$"
      ],
      "text/plain": [
       "([1, -1, 1, 0, 0], ([[1, 1, 4, 3, 2], [0, 0, 1, 1, 0], [0, 1, 0, 0, 1]], [1, 7\n",
       ", 8]))"
      ]
     },
     "execution_count": 9,
     "metadata": {},
     "output_type": "execute_result"
    }
   ],
   "source": [
    "rs.charge_balance_vector(), rs.atom_balance_vectors()"
   ]
  },
  {
   "cell_type": "code",
   "execution_count": 10,
   "metadata": {
    "collapsed": false
   },
   "outputs": [
    {
     "data": {
      "image/png": "[encoded data removed]",
      "text/latex": [
       "$$\\left ( \\left [ \\left [ 1, \\quad 0, \\quad 0, \\quad -1, \\quad 1\\right ], \\quad \\left [ 0, \\quad 1, \\quad 0, \\quad 0, \\quad 1\\right ], \\quad \\left [ 0, \\quad 0, \\quad 1, \\quad 1, \\quad 0\\right ]\\right ], \\quad \\left [ 0, \\quad 1, \\quad 2\\right ]\\right )$$"
      ],
      "text/plain": [
       "([[1, 0, 0, -1, 1], [0, 1, 0, 0, 1], [0, 0, 1, 1, 0]], [0, 1, 2])"
      ]
     },
     "execution_count": 10,
     "metadata": {},
     "output_type": "execute_result"
    }
   ],
   "source": [
    "rs.rref()"
   ]
  },
  {
   "cell_type": "code",
   "execution_count": 11,
   "metadata": {
    "collapsed": false
   },
   "outputs": [],
   "source": [
    "np.set_printoptions(4, linewidth=120)\n",
    "scaling = 1e8\n",
    "for rxn in rs.rxns:\n",
    "    rxn.params = rxn.params.subs({Kw: 1e-14, Ka: 10**-9.26})"
   ]
  },
  {
   "cell_type": "code",
   "execution_count": 12,
   "metadata": {
    "collapsed": false
   },
   "outputs": [
    {
     "data": {
      "text/plain": [
       "True"
      ]
     },
     "execution_count": 12,
     "metadata": {},
     "output_type": "execute_result"
    }
   ],
   "source": [
    "x, res = rs.root(x0, scaling=1, logC=False, square=False)\n",
    "res.success"
   ]
  },
  {
   "cell_type": "code",
   "execution_count": 13,
   "metadata": {
    "collapsed": false
   },
   "outputs": [
    {
     "data": {
      "text/plain": [
       "True"
      ]
     },
     "execution_count": 13,
     "metadata": {},
     "output_type": "execute_result"
    }
   ],
   "source": [
    "x, res = rs.root({Hp: 1e-11, OHm: 1e-3, NH4p: 1e-3, NH3: 1.0, H2O: 55.5}, scaling=1, logC=False, square=False)\n",
    "res.success"
   ]
  },
  {
   "cell_type": "code",
   "execution_count": 14,
   "metadata": {
    "collapsed": false
   },
   "outputs": [
    {
     "data": {
      "text/plain": [
       "True"
      ]
     },
     "execution_count": 14,
     "metadata": {},
     "output_type": "execute_result"
    }
   ],
   "source": [
    "x, res = rs.root({Hp: 1.7e-11, OHm: 3e-2, NH4p: 3e-2, NH3: 0.97, H2O: 55.5}, scaling=1e8, logC=False, square=False)\n",
    "res.success"
   ]
  },
  {
   "cell_type": "code",
   "execution_count": 15,
   "metadata": {
    "collapsed": false
   },
   "outputs": [
    {
     "data": {
      "text/plain": [
       "array([  1.7748e-11,   3.0000e-02,   3.0000e-02,   9.7000e-01,   5.5500e+01])"
      ]
     },
     "execution_count": 15,
     "metadata": {},
     "output_type": "execute_result"
    }
   ],
   "source": [
    "x, res = rs.root({Hp: 1.7e-11, OHm: 3e-2, NH4p: 3e-2, NH3: 0.97, H2O: 55.5}, scaling=1e16, logC=True, square=False)\n",
    "x"
   ]
  },
  {
   "cell_type": "code",
   "execution_count": 16,
   "metadata": {
    "collapsed": false
   },
   "outputs": [
    {
     "data": {
      "text/plain": [
       "(array([  1.7739e-11,   3.1270e-02,   3.1270e-02,   9.6873e-01,   5.5469e+01]),\n",
       "   status: 1\n",
       " success: True\n",
       "     qtf: array([  6.9353e-18,  -3.2796e-31,  -1.5506e-27,   2.2387e-19,   8.5491e-23])\n",
       "    nfev: 59\n",
       "       r: array([ -3.0996e+01,   4.7350e-14,   7.0152e-08,   3.2262e-02,  -3.2262e-02,   1.0000e+00,   1.8157e-05,  -4.8463e-14,\n",
       "         1.0000e+00,  -1.0000e+00,  -1.0000e+00,  -6.9229e-09,  -9.9948e-01,   9.9948e-01,  -5.4210e-20])\n",
       "     fun: array([ -2.1176e-22,  -6.9389e-18,   0.0000e+00,   0.0000e+00,   0.0000e+00])\n",
       "       x: array([  1.7739e-03,   3.1270e+06,   3.1270e+06,   9.6873e+07,   5.5469e+09])\n",
       " message: 'The solution converged.'\n",
       "    fjac: array([[ -1.8188e-05,  -9.9948e-01,  -3.2262e-02,   4.7289e-14,  -2.7756e-17],\n",
       "       [  3.1969e-13,   4.7254e-14,   1.5565e-15,   1.0000e+00,  -6.7762e-21],\n",
       "       [  3.3419e-13,   2.2347e-10,  -6.9229e-09,  -1.2082e-21,  -1.0000e+00],\n",
       "       [ -5.8708e-07,  -3.2262e-02,   9.9948e-01,  -1.1322e-16,  -6.9265e-09],\n",
       "       [ -1.0000e+00,   1.8197e-05,  -3.1974e-13,   3.1974e-13,  -3.3012e-13]])\n",
       "    njev: 5)"
      ]
     },
     "execution_count": 16,
     "metadata": {},
     "output_type": "execute_result"
    }
   ],
   "source": [
    "rs.root(x0, scaling=1e8, logC=False, square=False)"
   ]
  },
  {
   "cell_type": "code",
   "execution_count": 17,
   "metadata": {
    "collapsed": false
   },
   "outputs": [
    {
     "data": {
      "text/plain": [
       "(array([  1.7739e-11,   3.1270e-02,   3.1270e-02,   9.6873e-01,   5.5469e+01]),\n",
       "   status: 1\n",
       " success: True\n",
       "     qtf: array([  2.0670e-25,  -2.5521e-37,  -3.5277e-36,   6.6722e-27,   7.9827e-25])\n",
       "    nfev: 67\n",
       "       r: array([ -3.0996e+01,  -5.8163e-18,   1.7565e-08,   3.2262e-02,  -3.2262e-02,   1.0000e+00,   1.0017e-25,   0.0000e+00,\n",
       "         1.0000e+00,  -1.0000e+00,  -1.0000e+00,  -5.6669e-10,  -9.9948e-01,   9.9948e-01,   6.4981e-13])\n",
       "     fun: array([  3.5025e-28,   0.0000e+00,   0.0000e+00,   0.0000e+00,   0.0000e+00])\n",
       "       x: array([  1.7739e-11,   3.1270e-02,   3.1270e-02,   9.6873e-01,   5.5469e+01])\n",
       " message: 'The solution converged.'\n",
       "    fjac: array([[ -1.8188e-05,  -9.9948e-01,  -3.2262e-02,   0.0000e+00,   0.0000e+00],\n",
       "       [  3.1969e-13,  -5.6980e-18,  -3.6993e-18,   1.0000e+00,   0.0000e+00],\n",
       "       [ -3.1947e-13,   1.8292e-11,  -5.6669e-10,   1.0017e-25,  -1.0000e+00],\n",
       "       [ -5.8708e-07,  -3.2262e-02,   9.9948e-01,   0.0000e+00,  -5.6698e-10],\n",
       "       [ -1.0000e+00,   1.8197e-05,   3.2996e-13,   3.1974e-13,   3.1980e-13]])\n",
       "    njev: 7)"
      ]
     },
     "execution_count": 17,
     "metadata": {},
     "output_type": "execute_result"
    }
   ],
   "source": [
    "rs.root(x0, scaling=1, logC=False, square=False)"
   ]
  },
  {
   "cell_type": "code",
   "execution_count": 18,
   "metadata": {
    "collapsed": false
   },
   "outputs": [
    {
     "data": {
      "text/plain": [
       "(array([  3.1270e-02,   3.1270e-02,   1.7739e-11,   9.6873e-01,   5.5469e+01]),\n",
       "   status: 1\n",
       " success: True\n",
       "     qtf: array([ -8.2825e-15,  -2.3461e-27])\n",
       "    nfev: 50\n",
       "       r: array([ -3.0980e+01,   3.0980e+01,  -6.4659e-13])\n",
       "     fun: array([  1.5072e-19,   8.2825e-15])\n",
       "       x: array([  0.9687,  55.4687])\n",
       " message: 'The solution converged.'\n",
       "    fjac: array([[ -1.8197e-05,  -1.0000e+00],\n",
       "       [  1.0000e+00,  -1.8197e-05]])\n",
       "    njev: 7)"
      ]
     },
     "execution_count": 18,
     "metadata": {},
     "output_type": "execute_result"
    }
   ],
   "source": [
    "rs.root(x0, scaling=1.0, logC=False, reduced=True)"
   ]
  },
  {
   "cell_type": "code",
   "execution_count": 19,
   "metadata": {
    "collapsed": false
   },
   "outputs": [
    {
     "name": "stderr",
     "output_type": "stream",
     "text": [
      "/usr/lib/python2.7/dist-packages/scipy/optimize/minpack.py:236: RuntimeWarning: The iteration is not making good progress, as measured by the \n",
      "  improvement from the last five Jacobian evaluations.\n",
      "  warnings.warn(msg, RuntimeWarning)\n",
      "/home/bjorn/.local/lib/python2.7/site-packages/matplotlib/scale.py:93: RuntimeWarning: invalid value encountered in less_equal\n",
      "  mask = a <= 0.0\n"
     ]
    },
    {
     "data": {
      "image/png": "[encoded data removed]",
      "text/plain": [
       "<matplotlib.figure.Figure at 0x7f9bc39aaed0>"
      ]
     },
     "metadata": {},
     "output_type": "display_data"
    }
   ],
   "source": [
    "import matplotlib.pyplot as plt\n",
    "%matplotlib inline\n",
    "ny = len(rs.substances)\n",
    "nc = 10\n",
    "x = np.empty((nc, ny))\n",
    "Hparr = np.logspace(-4, 0, nc)\n",
    "success = []\n",
    "for idx in range(nc):\n",
    "    x00 = x0[:]\n",
    "    x00[0] = Hparr[idx]\n",
    "    resx, res = rs.root(x00, scaling=1e12)\n",
    "    success.append(res.success)\n",
    "    x[idx, :] = resx\n",
    "for idx_s in range(ny):\n",
    "    plt.loglog(Hparr, x[:, idx_s], label=rs.substances[idx_s].name)\n",
    "plt.legend(loc='best')\n",
    "for i, s in enumerate(success):\n",
    "    if s is False:\n",
    "        plt.axvline(Hparr[i], c='k', ls='--')"
   ]
  },
  {
   "cell_type": "code",
   "execution_count": 20,
   "metadata": {
    "collapsed": false
   },
   "outputs": [
    {
     "data": {
      "text/plain": [
       "{<aqchem.chemistry.Solute at 0x7f9bfa1db9d0>: 1e-07,\n",
       " <aqchem.chemistry.Solute at 0x7f9bfa1dbf90>: 1e-07,\n",
       " <aqchem.chemistry.Solute at 0x7f9bfa1de090>: 1.0,\n",
       " <aqchem.chemistry.Solute at 0x7f9bfa1de6d0>: 1e-07,\n",
       " <aqchem.chemistry.Solute at 0x7f9bfa1dea10>: 55.5}"
      ]
     },
     "execution_count": 20,
     "metadata": {},
     "output_type": "execute_result"
    }
   ],
   "source": [
    "init_conc"
   ]
  },
  {
   "cell_type": "code",
   "execution_count": 21,
   "metadata": {
    "collapsed": false
   },
   "outputs": [
    {
     "name": "stderr",
     "output_type": "stream",
     "text": [
      "/usr/lib/python2.7/dist-packages/scipy/optimize/minpack.py:236: RuntimeWarning: The iteration is not making good progress, as measured by the \n",
      "  improvement from the last ten iterations.\n",
      "  warnings.warn(msg, RuntimeWarning)\n",
      "/usr/lib/python2.7/dist-packages/scipy/optimize/minpack.py:236: RuntimeWarning: The number of calls to function has reached maxfev = 500.\n",
      "  warnings.warn(msg, RuntimeWarning)\n"
     ]
    },
    {
     "data": {
      "text/plain": [
       "True"
      ]
     },
     "execution_count": 21,
     "metadata": {},
     "output_type": "execute_result"
    },
    {
     "data": {
      "image/png": "[encoded data removed]",
      "text/plain": [
       "<matplotlib.figure.Figure at 0x7f9bc36da4d0>"
      ]
     },
     "metadata": {},
     "output_type": "display_data"
    }
   ],
   "source": [
    "nc=30\n",
    "fig = plt.figure(figsize=(16, 6))\n",
    "ax1 = plt.subplot(1, 3, 1, xscale='log', yscale='log')\n",
    "Cout_14, ic, success = rs.plot(init_conc, Hp, np.logspace(-4, 0, nc), scaling=1e14, ax=ax1)\n",
    "ax2 = plt.subplot(1, 3, 2, xscale='log', yscale='log')\n",
    "Cout_14, ic, success = rs.plot(init_conc, Hp, np.logspace(-4, 0, nc), scaling=1e14, const=(H2O,), ax=ax2)\n",
    "ax3 = plt.subplot(1, 3, 3, xscale='log', yscale='log')\n",
    "Cout_14, ic, success = rs.plot(init_conc, Hp, np.logspace(-4, 0, nc), scaling=1e14, method='lm', ax=ax3)\n",
    "all(success)"
   ]
  },
  {
   "cell_type": "code",
   "execution_count": 22,
   "metadata": {
    "collapsed": false
   },
   "outputs": [
    {
     "data": {
      "image/png": "[encoded data removed]",
      "text/plain": [
       "<matplotlib.figure.Figure at 0x7f9bca201550>"
      ]
     },
     "metadata": {},
     "output_type": "display_data"
    }
   ],
   "source": [
    "rs.plot_errors(Cout_14, ic, Hp)"
   ]
  },
  {
   "cell_type": "code",
   "execution_count": 23,
   "metadata": {
    "collapsed": false
   },
   "outputs": [
    {
     "data": {
      "text/plain": [
       "False"
      ]
     },
     "execution_count": 23,
     "metadata": {},
     "output_type": "execute_result"
    },
    {
     "data": {
      "image/png": "[encoded data removed]",
      "text/plain": [
       "<matplotlib.figure.Figure at 0x7f9bc0ec0a10>"
      ]
     },
     "metadata": {},
     "output_type": "display_data"
    }
   ],
   "source": [
    "Cout_14, ic, success = rs.plot(init_conc, Hp, np.logspace(-4, 0, nc), scaling=1e6, pres1st=True)\n",
    "all(success)"
   ]
  },
  {
   "cell_type": "code",
   "execution_count": 25,
   "metadata": {
    "collapsed": false
   },
   "outputs": [
    {
     "data": {
      "text/plain": [
       "True"
      ]
     },
     "execution_count": 25,
     "metadata": {},
     "output_type": "execute_result"
    },
    {
     "data": {
      "image/png": "[encoded data removed]",
      "text/plain": [
       "<matplotlib.figure.Figure at 0x7f9bc0b6e250>"
      ]
     },
     "metadata": {},
     "output_type": "display_data"
    }
   ],
   "source": [
    "Cout_14, ic, success = rs.plot(init_conc, Hp, np.logspace(-4, 0, nc), scaling=1e6, pres1st=True, norm=True, method='lm')\n",
    "all(success)"
   ]
  },
  {
   "cell_type": "code",
   "execution_count": null,
   "metadata": {
    "collapsed": false
   },
   "outputs": [],
   "source": []
  },
  {
   "cell_type": "code",
   "execution_count": null,
   "metadata": {
    "collapsed": false
   },
   "outputs": [],
   "source": [
    "Cout_14, ic, success = rs.plot(init_conc, Hp, np.logspace(-4, 0, nc), scaling=1e6, pres1st=True, norm=True, init_iter=15)\n",
    "all(success)"
   ]
  },
  {
   "cell_type": "code",
   "execution_count": null,
   "metadata": {
    "collapsed": false
   },
   "outputs": [],
   "source": [
    "nc = 40\n",
    "Cout_14, ic, success = rs.plot(init_conc, Hp, np.logspace(-4, 0, nc), scaling=1e3,\n",
    "                                pres1st=True, norm=True, init_iter=10, presw=10000)#, carry=True)\n",
    "all(success)"
   ]
  },
  {
   "cell_type": "code",
   "execution_count": null,
   "metadata": {
    "collapsed": false
   },
   "outputs": [],
   "source": [
    "Cout, inits, success = rs.plot(init_conc, Hp, np.logspace(-4, 0, nc), scaling=1e6, pres1st=True, presw=1, norm=True, init_iter=15)\n",
    "all(success)"
   ]
  },
  {
   "cell_type": "code",
   "execution_count": null,
   "metadata": {
    "collapsed": false
   },
   "outputs": [],
   "source": [
    "subst = tuple(rs.substances)\n",
    "import random\n",
    "random.shuffle(rs.substances)\n",
    "Cout_14, ic, success = rs.plot(init_conc, Hp, np.logspace(-4, 0, 30), scaling=1e14)\n",
    "rs.substances = list(subst)\n",
    "all(success)"
   ]
  },
  {
   "cell_type": "code",
   "execution_count": null,
   "metadata": {
    "collapsed": false
   },
   "outputs": [],
   "source": []
  },
  {
   "cell_type": "code",
   "execution_count": null,
   "metadata": {
    "collapsed": false
   },
   "outputs": [],
   "source": [
    "Cout_14, ic, success = rs.plot(init_conc, Hp, np.logspace(-4, 0, nc), scaling=1e14, norm=True)\n",
    "all(success)"
   ]
  },
  {
   "cell_type": "code",
   "execution_count": null,
   "metadata": {
    "collapsed": false,
    "scrolled": true
   },
   "outputs": [],
   "source": [
    "Cout_logC, inits_out, success = rs.plot(init_conc, Hp, np.logspace(-4, 0, nc), scaling=1e3, logC=True,\n",
    "                                        presw=10000)\n",
    "all(success)"
   ]
  },
  {
   "cell_type": "code",
   "execution_count": null,
   "metadata": {
    "collapsed": false
   },
   "outputs": [],
   "source": [
    "rs.plot_errors(Cout_logC, inits_out, Hp)"
   ]
  },
  {
   "cell_type": "code",
   "execution_count": null,
   "metadata": {
    "collapsed": false,
    "scrolled": true
   },
   "outputs": [],
   "source": [
    "Cout_logC, inits_out, success = rs.plot(init_conc, Hp, np.logspace(-4, 0, nc), logC=True, init_guess=Cout_14, init_iter=0)\n",
    "all(success)"
   ]
  },
  {
   "cell_type": "code",
   "execution_count": null,
   "metadata": {
    "collapsed": false,
    "scrolled": true
   },
   "outputs": [],
   "source": [
    "Cout_14, ic14, success = rs.plot(init_conc, Hp, np.logspace(-4, 0, nc), scaling=1e14, carry=True)\n",
    "all(success)"
   ]
  },
  {
   "cell_type": "code",
   "execution_count": null,
   "metadata": {
    "collapsed": false
   },
   "outputs": [],
   "source": [
    "_1, _2, success = rs.plot(init_conc, Hp, np.logspace(-4, 0, nc), scaling=1e-4, tol=1e-12, init_iter=100)\n",
    "all(success)"
   ]
  },
  {
   "cell_type": "code",
   "execution_count": null,
   "metadata": {
    "collapsed": false
   },
   "outputs": [],
   "source": [
    "_1, _2, success = rs.plot(init_conc, Hp, np.logspace(-4, 0, nc), scaling=1e-8)\n",
    "all(success)"
   ]
  },
  {
   "cell_type": "code",
   "execution_count": null,
   "metadata": {
    "collapsed": false
   },
   "outputs": [],
   "source": [
    "_1, _2, success = rs.plot(init_conc, Hp, np.logspace(-4, 0, nc), scaling=1e-8, carry=True)\n",
    "all(success)"
   ]
  },
  {
   "cell_type": "code",
   "execution_count": null,
   "metadata": {
    "collapsed": false
   },
   "outputs": [],
   "source": []
  },
  {
   "cell_type": "code",
   "execution_count": null,
   "metadata": {
    "collapsed": false
   },
   "outputs": [],
   "source": [
    "Cout, inits_out, success = rs.plot(Cout_14, Hp, np.logspace(-4, 0, nc), scaling=1, init_iter=0, method='lm')\n",
    "all(success), Cout.shape"
   ]
  },
  {
   "cell_type": "code",
   "execution_count": null,
   "metadata": {
    "collapsed": false,
    "scrolled": false
   },
   "outputs": [],
   "source": [
    "Cout, inits_out, success = rs.plot(Cout_14, Hp, np.logspace(-4, 0, nc), scaling=1, logC=True, init_iter=0, method='lm')\n",
    "all(success)"
   ]
  },
  {
   "cell_type": "code",
   "execution_count": null,
   "metadata": {
    "collapsed": false
   },
   "outputs": [],
   "source": [
    "rs.plot_errors(Cout, inits_out, Hp)"
   ]
  },
  {
   "cell_type": "code",
   "execution_count": null,
   "metadata": {
    "collapsed": false
   },
   "outputs": [],
   "source": [
    "Cout, inits_out, success = reqsys.plot(init_conc, Hp, np.logspace(-7, 0, 20), scaling=1, carry=True)"
   ]
  },
  {
   "cell_type": "code",
   "execution_count": null,
   "metadata": {
    "collapsed": false
   },
   "outputs": [],
   "source": []
  },
  {
   "cell_type": "code",
   "execution_count": null,
   "metadata": {
    "collapsed": false
   },
   "outputs": [],
   "source": [
    "x0"
   ]
  },
  {
   "cell_type": "code",
   "execution_count": null,
   "metadata": {
    "collapsed": false
   },
   "outputs": [],
   "source": [
    "from aqchem.equilibria import solve_equilibrium\n",
    "print(x0)\n",
    "for w in range(1,5):\n",
    "    for eq in rs.rxns:\n",
    "        new_x0 = solve_equilibrium(x0, eq.net_stoich(rs.substances), eq.params)\n",
    "        x0 = (w*x0 + new_x0)/(w+1)\n",
    "        print(x0)"
   ]
  },
  {
   "cell_type": "code",
   "execution_count": null,
   "metadata": {
    "collapsed": true
   },
   "outputs": [],
   "source": []
  }
 ],
 "metadata": {
  "kernelspec": {
   "display_name": "Python 2",
   "language": "python",
   "name": "python2"
  },
  "language_info": {
   "codemirror_mode": {
    "name": "ipython",
    "version": 2
   },
   "file_extension": ".py",
   "mimetype": "text/x-python",
   "name": "python",
   "nbconvert_exporter": "python",
   "pygments_lexer": "ipython2",
   "version": "2.7.6"
  }
 },
 "nbformat": 4,
 "nbformat_minor": 0
}
